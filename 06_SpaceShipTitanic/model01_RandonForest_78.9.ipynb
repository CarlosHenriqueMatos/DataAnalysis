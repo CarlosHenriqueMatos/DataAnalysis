{
 "cells": [
  {
   "cell_type": "code",
   "execution_count": 1,
   "id": "bef2bf62",
   "metadata": {},
   "outputs": [],
   "source": [
    "#Explore dataframe\n",
    "import numpy\n",
    "import pandas\n",
    "\n",
    "# Datavisualization\n",
    "from matplotlib import pyplot as plt\n",
    "import seaborn\n",
    "\n",
    "#Dataset treatment\n",
    "from sklearn.preprocessing import OrdinalEncoder\n",
    "\n",
    "#Machine learning\n",
    "from sklearn.model_selection import train_test_split\n",
    "from sklearn.metrics import accuracy_score\n",
    "from sklearn.model_selection import KFold\n",
    "from sklearn.model_selection import cross_val_score\n",
    "from sklearn.model_selection import cross_val_predict\n",
    "from sklearn.metrics import confusion_matrix\n",
    "\n",
    "# ML 2 model\n",
    "import xgboost as xg"
   ]
  },
  {
   "cell_type": "markdown",
   "id": "58f6cf23",
   "metadata": {},
   "source": [
    "# About the data\n",
    "\n",
    "PassengerId - A unique Id for each passenger. Each Id takes the form gggg_pp where gggg indicates a group the passenger is travelling with and pp is their number within the group. People in a group are often family members, but not always.\n",
    "\n",
    "HomePlanet - The planet the passenger departed from, typically their planet of permanent residence.\n",
    "\n",
    "CryoSleep - Indicates whether the passenger elected to be put into suspended animation for the duration of the voyage. Passengers in cryosleep are confined to their cabins.\n",
    "\n",
    "Cabin - The cabin number where the passenger is staying. Takes the form deck/num/side, where side can be either P for Port or S for Starboard.\n",
    "\n",
    "Destination - The planet the passenger will be debarking to.\n",
    "\n",
    "Age - The age of the passenger.\n",
    "\n",
    "VIP - Whether the passenger has paid for special VIP service during the voyage.\n",
    "\n",
    "RoomService, FoodCourt, ShoppingMall, Spa, VRDeck - Amount the passenger has billed at each of the Spaceship Titanic's many luxury amenities.\n",
    "\n",
    "Name - The first and last names of the passenger.\n",
    "\n",
    "Transported - Whether the passenger was transported to another dimension. This is the target, the column you are trying to predict."
   ]
  },
  {
   "cell_type": "code",
   "execution_count": 2,
   "id": "b02fc3a1",
   "metadata": {},
   "outputs": [],
   "source": [
    "def nanValues(dataframe):\n",
    "    missingValuesColumnsCount = dataframe.isnull().sum()\n",
    "    totalCels = numpy.product(dataframe.shape)\n",
    "    totalMissing = missingValuesColumnsCount.sum()\n",
    "    percentValuesMissing = (totalMissing/totalCels)*100\n",
    "    print(\"Percent of nan values:\",percentValuesMissing)\n",
    "    print(\"\\nQuantite of nan values:\\n\",missingValuesColumnsCount)"
   ]
  },
  {
   "cell_type": "code",
   "execution_count": 3,
   "id": "071ede9d",
   "metadata": {},
   "outputs": [],
   "source": [
    "def percentColumnNullValues(dataframe):\n",
    "    columns = dataframe.columns\n",
    "    nanColumns = []\n",
    "    for column in columns:\n",
    "        if (dataframe[column].isnull().sum() / dataframe[column].shape[0] )*100 > 0:\n",
    "            print(column)\n",
    "            print((dataframe[column].isnull().sum() / dataframe[column].shape[0] )*100)\n",
    "            if column not in nanColumns:\n",
    "                nanColumns.append(column)"
   ]
  },
  {
   "cell_type": "code",
   "execution_count": 4,
   "id": "691fb53b",
   "metadata": {},
   "outputs": [],
   "source": [
    "def replaceNanValuesToMean(dataframe):\n",
    "    # found nan values\n",
    "    # replace nan values\n",
    "    dataframe.fillna(dataframe.mean(), inplace = True)\n",
    "    return dataframe"
   ]
  },
  {
   "cell_type": "code",
   "execution_count": 56,
   "id": "a123b1e5",
   "metadata": {},
   "outputs": [],
   "source": [
    "train_dataframe = pandas.read_csv(\"train.csv\")\n",
    "test_dataframe = pandas.read_csv(\"test.csv\")"
   ]
  },
  {
   "cell_type": "code",
   "execution_count": 57,
   "id": "41603f62",
   "metadata": {},
   "outputs": [
    {
     "data": {
      "text/html": [
       "<div>\n",
       "<style scoped>\n",
       "    .dataframe tbody tr th:only-of-type {\n",
       "        vertical-align: middle;\n",
       "    }\n",
       "\n",
       "    .dataframe tbody tr th {\n",
       "        vertical-align: top;\n",
       "    }\n",
       "\n",
       "    .dataframe thead th {\n",
       "        text-align: right;\n",
       "    }\n",
       "</style>\n",
       "<table border=\"1\" class=\"dataframe\">\n",
       "  <thead>\n",
       "    <tr style=\"text-align: right;\">\n",
       "      <th></th>\n",
       "      <th>PassengerId</th>\n",
       "      <th>HomePlanet</th>\n",
       "      <th>CryoSleep</th>\n",
       "      <th>Cabin</th>\n",
       "      <th>Destination</th>\n",
       "      <th>Age</th>\n",
       "      <th>VIP</th>\n",
       "      <th>RoomService</th>\n",
       "      <th>FoodCourt</th>\n",
       "      <th>ShoppingMall</th>\n",
       "      <th>Spa</th>\n",
       "      <th>VRDeck</th>\n",
       "      <th>Name</th>\n",
       "      <th>Transported</th>\n",
       "    </tr>\n",
       "  </thead>\n",
       "  <tbody>\n",
       "    <tr>\n",
       "      <th>0</th>\n",
       "      <td>0001_01</td>\n",
       "      <td>Europa</td>\n",
       "      <td>False</td>\n",
       "      <td>B/0/P</td>\n",
       "      <td>TRAPPIST-1e</td>\n",
       "      <td>39.0</td>\n",
       "      <td>False</td>\n",
       "      <td>0.0</td>\n",
       "      <td>0.0</td>\n",
       "      <td>0.0</td>\n",
       "      <td>0.0</td>\n",
       "      <td>0.0</td>\n",
       "      <td>Maham Ofracculy</td>\n",
       "      <td>False</td>\n",
       "    </tr>\n",
       "    <tr>\n",
       "      <th>1</th>\n",
       "      <td>0002_01</td>\n",
       "      <td>Earth</td>\n",
       "      <td>False</td>\n",
       "      <td>F/0/S</td>\n",
       "      <td>TRAPPIST-1e</td>\n",
       "      <td>24.0</td>\n",
       "      <td>False</td>\n",
       "      <td>109.0</td>\n",
       "      <td>9.0</td>\n",
       "      <td>25.0</td>\n",
       "      <td>549.0</td>\n",
       "      <td>44.0</td>\n",
       "      <td>Juanna Vines</td>\n",
       "      <td>True</td>\n",
       "    </tr>\n",
       "    <tr>\n",
       "      <th>2</th>\n",
       "      <td>0003_01</td>\n",
       "      <td>Europa</td>\n",
       "      <td>False</td>\n",
       "      <td>A/0/S</td>\n",
       "      <td>TRAPPIST-1e</td>\n",
       "      <td>58.0</td>\n",
       "      <td>True</td>\n",
       "      <td>43.0</td>\n",
       "      <td>3576.0</td>\n",
       "      <td>0.0</td>\n",
       "      <td>6715.0</td>\n",
       "      <td>49.0</td>\n",
       "      <td>Altark Susent</td>\n",
       "      <td>False</td>\n",
       "    </tr>\n",
       "    <tr>\n",
       "      <th>3</th>\n",
       "      <td>0003_02</td>\n",
       "      <td>Europa</td>\n",
       "      <td>False</td>\n",
       "      <td>A/0/S</td>\n",
       "      <td>TRAPPIST-1e</td>\n",
       "      <td>33.0</td>\n",
       "      <td>False</td>\n",
       "      <td>0.0</td>\n",
       "      <td>1283.0</td>\n",
       "      <td>371.0</td>\n",
       "      <td>3329.0</td>\n",
       "      <td>193.0</td>\n",
       "      <td>Solam Susent</td>\n",
       "      <td>False</td>\n",
       "    </tr>\n",
       "    <tr>\n",
       "      <th>4</th>\n",
       "      <td>0004_01</td>\n",
       "      <td>Earth</td>\n",
       "      <td>False</td>\n",
       "      <td>F/1/S</td>\n",
       "      <td>TRAPPIST-1e</td>\n",
       "      <td>16.0</td>\n",
       "      <td>False</td>\n",
       "      <td>303.0</td>\n",
       "      <td>70.0</td>\n",
       "      <td>151.0</td>\n",
       "      <td>565.0</td>\n",
       "      <td>2.0</td>\n",
       "      <td>Willy Santantines</td>\n",
       "      <td>True</td>\n",
       "    </tr>\n",
       "  </tbody>\n",
       "</table>\n",
       "</div>"
      ],
      "text/plain": [
       "  PassengerId HomePlanet CryoSleep  Cabin  Destination   Age    VIP  \\\n",
       "0     0001_01     Europa     False  B/0/P  TRAPPIST-1e  39.0  False   \n",
       "1     0002_01      Earth     False  F/0/S  TRAPPIST-1e  24.0  False   \n",
       "2     0003_01     Europa     False  A/0/S  TRAPPIST-1e  58.0   True   \n",
       "3     0003_02     Europa     False  A/0/S  TRAPPIST-1e  33.0  False   \n",
       "4     0004_01      Earth     False  F/1/S  TRAPPIST-1e  16.0  False   \n",
       "\n",
       "   RoomService  FoodCourt  ShoppingMall     Spa  VRDeck               Name  \\\n",
       "0          0.0        0.0           0.0     0.0     0.0    Maham Ofracculy   \n",
       "1        109.0        9.0          25.0   549.0    44.0       Juanna Vines   \n",
       "2         43.0     3576.0           0.0  6715.0    49.0      Altark Susent   \n",
       "3          0.0     1283.0         371.0  3329.0   193.0       Solam Susent   \n",
       "4        303.0       70.0         151.0   565.0     2.0  Willy Santantines   \n",
       "\n",
       "   Transported  \n",
       "0        False  \n",
       "1         True  \n",
       "2        False  \n",
       "3        False  \n",
       "4         True  "
      ]
     },
     "execution_count": 57,
     "metadata": {},
     "output_type": "execute_result"
    }
   ],
   "source": [
    "train_dataframe.head()"
   ]
  },
  {
   "cell_type": "code",
   "execution_count": 58,
   "id": "e46c50ea",
   "metadata": {},
   "outputs": [],
   "source": [
    "columns_train_qualitative = [i for i in train_dataframe.columns if train_dataframe.dtypes[i] == 'object']\n",
    "columns_train_quantitative = [i for i in train_dataframe.columns if train_dataframe.dtypes[i] != 'object']"
   ]
  },
  {
   "cell_type": "code",
   "execution_count": 59,
   "id": "608a1532",
   "metadata": {},
   "outputs": [
    {
     "data": {
      "text/plain": [
       "['PassengerId',\n",
       " 'HomePlanet',\n",
       " 'CryoSleep',\n",
       " 'Cabin',\n",
       " 'Destination',\n",
       " 'VIP',\n",
       " 'Name']"
      ]
     },
     "execution_count": 59,
     "metadata": {},
     "output_type": "execute_result"
    }
   ],
   "source": [
    "columns_train_qualitative"
   ]
  },
  {
   "cell_type": "code",
   "execution_count": 60,
   "id": "09823a09",
   "metadata": {},
   "outputs": [
    {
     "data": {
      "text/plain": [
       "['Age',\n",
       " 'RoomService',\n",
       " 'FoodCourt',\n",
       " 'ShoppingMall',\n",
       " 'Spa',\n",
       " 'VRDeck',\n",
       " 'Transported']"
      ]
     },
     "execution_count": 60,
     "metadata": {},
     "output_type": "execute_result"
    }
   ],
   "source": [
    "columns_train_quantitative"
   ]
  },
  {
   "cell_type": "code",
   "execution_count": 61,
   "id": "ef1eca28",
   "metadata": {},
   "outputs": [
    {
     "name": "stdout",
     "output_type": "stream",
     "text": [
      "Percent of nan values: 1.9095824226389047\n",
      "\n",
      "Quantite of nan values:\n",
      " PassengerId       0\n",
      "HomePlanet      201\n",
      "CryoSleep       217\n",
      "Cabin           199\n",
      "Destination     182\n",
      "Age             179\n",
      "VIP             203\n",
      "RoomService     181\n",
      "FoodCourt       183\n",
      "ShoppingMall    208\n",
      "Spa             183\n",
      "VRDeck          188\n",
      "Name            200\n",
      "Transported       0\n",
      "dtype: int64\n"
     ]
    }
   ],
   "source": [
    "nanValues(train_dataframe)"
   ]
  },
  {
   "cell_type": "code",
   "execution_count": 62,
   "id": "d99e83af",
   "metadata": {},
   "outputs": [
    {
     "data": {
      "text/plain": [
       "<AxesSubplot:>"
      ]
     },
     "execution_count": 62,
     "metadata": {},
     "output_type": "execute_result"
    },
    {
     "data": {
      "image/png": "[encoded data removed]",
      "text/plain": [
       "<Figure size 2500x1000 with 2 Axes>"
      ]
     },
     "metadata": {},
     "output_type": "display_data"
    }
   ],
   "source": [
    "fig, ax = plt.subplots(figsize=(25,10))\n",
    "seaborn.heatmap(data=train_dataframe.isnull(), yticklabels=False, ax=ax)"
   ]
  },
  {
   "cell_type": "code",
   "execution_count": 63,
   "id": "813ed24d",
   "metadata": {},
   "outputs": [
    {
     "name": "stdout",
     "output_type": "stream",
     "text": [
      "Percent of nan values: 1.9095824226389047\n",
      "\n",
      "Quantite of nan values:\n",
      " PassengerId       0\n",
      "HomePlanet      201\n",
      "CryoSleep       217\n",
      "Cabin           199\n",
      "Destination     182\n",
      "Age             179\n",
      "VIP             203\n",
      "RoomService     181\n",
      "FoodCourt       183\n",
      "ShoppingMall    208\n",
      "Spa             183\n",
      "VRDeck          188\n",
      "Name            200\n",
      "Transported       0\n",
      "dtype: int64\n"
     ]
    }
   ],
   "source": [
    "nanValues(train_dataframe)"
   ]
  },
  {
   "cell_type": "markdown",
   "id": "ae5558fb",
   "metadata": {},
   "source": [
    "# Tentar reaproveitar variaveis\n",
    "\n",
    "Name\n",
    "\n",
    "Ticket"
   ]
  },
  {
   "cell_type": "code",
   "execution_count": 64,
   "id": "1212752a",
   "metadata": {},
   "outputs": [],
   "source": [
    "def getLastName(dfresult):\n",
    "    index = dfresult.index\n",
    "    for i in index:\n",
    "        dfresult['Name'][i] = dfresult['Name'][i].split()[1]\n",
    "    return dfresult"
   ]
  },
  {
   "cell_type": "code",
   "execution_count": 65,
   "id": "fa8b69a6",
   "metadata": {
    "scrolled": true
   },
   "outputs": [],
   "source": [
    "train_last_name = train_dataframe[['Name']].dropna()\n",
    "train_dataframe[['Name']]=getLastName(train_last_name)\n",
    "##\n",
    "test_last_name = test_dataframe[['Name']].dropna()\n",
    "test_dataframe[['Name']]=getLastName(test_last_name)"
   ]
  },
  {
   "cell_type": "code",
   "execution_count": 66,
   "id": "831de830",
   "metadata": {},
   "outputs": [
    {
     "name": "stderr",
     "output_type": "stream",
     "text": [
      "/home/carlos/Apps/Anaconda/lib/python3.9/site-packages/seaborn/_decorators.py:36: FutureWarning: Pass the following variable as a keyword arg: x. From version 0.12, the only valid positional argument will be `data`, and passing other arguments without an explicit keyword will result in an error or misinterpretation.\n",
      "  warnings.warn(\n"
     ]
    },
    {
     "data": {
      "text/plain": [
       "<AxesSubplot:xlabel='RoomService'>"
      ]
     },
     "execution_count": 66,
     "metadata": {},
     "output_type": "execute_result"
    },
    {
     "data": {
      "image/png": "[encoded data removed]",
      "text/plain": [
       "<Figure size 640x480 with 1 Axes>"
      ]
     },
     "metadata": {},
     "output_type": "display_data"
    }
   ],
   "source": [
    "seaborn.boxplot(train_dataframe['RoomService'] , x='RoomService')"
   ]
  },
  {
   "cell_type": "code",
   "execution_count": 69,
   "id": "a1a90b2a",
   "metadata": {},
   "outputs": [
    {
     "data": {
      "text/html": [
       "<div>\n",
       "<style scoped>\n",
       "    .dataframe tbody tr th:only-of-type {\n",
       "        vertical-align: middle;\n",
       "    }\n",
       "\n",
       "    .dataframe tbody tr th {\n",
       "        vertical-align: top;\n",
       "    }\n",
       "\n",
       "    .dataframe thead th {\n",
       "        text-align: right;\n",
       "    }\n",
       "</style>\n",
       "<table border=\"1\" class=\"dataframe\">\n",
       "  <thead>\n",
       "    <tr style=\"text-align: right;\">\n",
       "      <th></th>\n",
       "      <th>PassengerId</th>\n",
       "      <th>HomePlanet</th>\n",
       "      <th>CryoSleep</th>\n",
       "      <th>Cabin</th>\n",
       "      <th>Destination</th>\n",
       "      <th>Age</th>\n",
       "      <th>VIP</th>\n",
       "      <th>RoomService</th>\n",
       "      <th>FoodCourt</th>\n",
       "      <th>ShoppingMall</th>\n",
       "      <th>Spa</th>\n",
       "      <th>VRDeck</th>\n",
       "      <th>Name</th>\n",
       "      <th>Transported</th>\n",
       "    </tr>\n",
       "  </thead>\n",
       "  <tbody>\n",
       "    <tr>\n",
       "      <th>4416</th>\n",
       "      <td>4690_02</td>\n",
       "      <td>Europa</td>\n",
       "      <td>False</td>\n",
       "      <td>NaN</td>\n",
       "      <td>TRAPPIST-1e</td>\n",
       "      <td>27.0</td>\n",
       "      <td>False</td>\n",
       "      <td>14327.0</td>\n",
       "      <td>1487.0</td>\n",
       "      <td>0.0</td>\n",
       "      <td>1.0</td>\n",
       "      <td>0.0</td>\n",
       "      <td>Dishocatal</td>\n",
       "      <td>False</td>\n",
       "    </tr>\n",
       "    <tr>\n",
       "      <th>5105</th>\n",
       "      <td>5455_01</td>\n",
       "      <td>Mars</td>\n",
       "      <td>False</td>\n",
       "      <td>E/344/P</td>\n",
       "      <td>55 Cancri e</td>\n",
       "      <td>13.0</td>\n",
       "      <td>False</td>\n",
       "      <td>9920.0</td>\n",
       "      <td>0.0</td>\n",
       "      <td>180.0</td>\n",
       "      <td>130.0</td>\n",
       "      <td>571.0</td>\n",
       "      <td>Nate</td>\n",
       "      <td>False</td>\n",
       "    </tr>\n",
       "  </tbody>\n",
       "</table>\n",
       "</div>"
      ],
      "text/plain": [
       "     PassengerId HomePlanet CryoSleep    Cabin  Destination   Age    VIP  \\\n",
       "4416     4690_02     Europa     False      NaN  TRAPPIST-1e  27.0  False   \n",
       "5105     5455_01       Mars     False  E/344/P  55 Cancri e  13.0  False   \n",
       "\n",
       "      RoomService  FoodCourt  ShoppingMall    Spa  VRDeck        Name  \\\n",
       "4416      14327.0     1487.0           0.0    1.0     0.0  Dishocatal   \n",
       "5105       9920.0        0.0         180.0  130.0   571.0        Nate   \n",
       "\n",
       "      Transported  \n",
       "4416        False  \n",
       "5105        False  "
      ]
     },
     "execution_count": 69,
     "metadata": {},
     "output_type": "execute_result"
    }
   ],
   "source": [
    "train_dataframe[train_dataframe['RoomService'] > 9000]"
   ]
  },
  {
   "cell_type": "markdown",
   "id": "5262777e",
   "metadata": {},
   "source": [
    "## Fim da tratativa"
   ]
  },
  {
   "cell_type": "code",
   "execution_count": 15,
   "id": "dcd0501d",
   "metadata": {},
   "outputs": [
    {
     "data": {
      "text/plain": [
       "224.687617481203"
      ]
     },
     "execution_count": 15,
     "metadata": {},
     "output_type": "execute_result"
    }
   ],
   "source": [
    "train_dataframe['RoomService'].mean()"
   ]
  },
  {
   "cell_type": "code",
   "execution_count": 16,
   "id": "daf9dde5",
   "metadata": {},
   "outputs": [],
   "source": [
    "drop_column = ['Cabin']\n",
    "\n",
    "train_dataframe.drop(drop_column, axis=1, inplace = True)\n",
    "train_dataframe['VIP'].fillna(False, inplace=True)\n",
    "train_dataframe['HomePlanet'].fillna(train_dataframe['HomePlanet'].mode()[0], inplace=True)\n",
    "train_dataframe['Destination'].fillna(train_dataframe['Destination'].mode()[0], inplace=True)\n",
    "train_dataframe['CryoSleep'].fillna(False, inplace=True)\n",
    "train_dataframe['Age'] = replaceNanValuesToMean(train_dataframe['Age'])\n",
    "\n",
    "train_dataframe['RoomService'].fillna(train_dataframe['RoomService'].mean(), inplace=True)\n",
    "\n",
    "train_dataframe['FoodCourt'] = replaceNanValuesToMean(train_dataframe['FoodCourt'])\n",
    "train_dataframe['ShoppingMall'] = replaceNanValuesToMean(train_dataframe['ShoppingMall'])\n",
    "train_dataframe['Spa'] = replaceNanValuesToMean(train_dataframe['Spa'])\n",
    "train_dataframe['VRDeck'] = replaceNanValuesToMean(train_dataframe['VRDeck'])\n",
    "train_dataframe['CryoSleep'] = pandas.get_dummies(train_dataframe['CryoSleep'])[1]\n",
    "train_dataframe['VIP'] = pandas.get_dummies(train_dataframe['VIP'])[1]\n",
    "\n",
    "train_dataframe['Name'].fillna(train_dataframe['Name'].mode()[0], inplace=True)\n",
    "#train_dataframe['Transported'] = pandas.get_dummies(train_dataframe['Transported'])[1]\n",
    "#fazer o mesmo tratamento para os dados de test\n",
    "\n",
    "test_dataframe\n",
    "test_dataframe.drop(drop_column, axis=1, inplace = True)\n",
    "test_dataframe['VIP'].fillna(False, inplace=True)\n",
    "test_dataframe['HomePlanet'].fillna(test_dataframe['HomePlanet'].mode()[0], inplace=True)\n",
    "test_dataframe['Destination'].fillna(test_dataframe['Destination'].mode()[0], inplace=True)\n",
    "test_dataframe['CryoSleep'].fillna(False, inplace=True)\n",
    "test_dataframe['Age'] = replaceNanValuesToMean(test_dataframe['Age'])\n",
    "\n",
    "test_dataframe['RoomService'].fillna(test_dataframe['RoomService'].mean(), inplace=True)\n",
    "\n",
    "test_dataframe['FoodCourt'] = replaceNanValuesToMean(test_dataframe['FoodCourt'])\n",
    "test_dataframe['ShoppingMall'] = replaceNanValuesToMean(test_dataframe['ShoppingMall'])\n",
    "test_dataframe['Spa'] = replaceNanValuesToMean(test_dataframe['Spa'])\n",
    "test_dataframe['VRDeck'] = replaceNanValuesToMean(test_dataframe['VRDeck'])\n",
    "test_dataframe['CryoSleep'] = pandas.get_dummies(test_dataframe['CryoSleep'])[1]\n",
    "test_dataframe['VIP'] = pandas.get_dummies(test_dataframe['VIP'])[1]\n",
    "\n",
    "test_dataframe['Name'].fillna(test_dataframe['Name'].mode()[0], inplace=True)"
   ]
  },
  {
   "cell_type": "code",
   "execution_count": 17,
   "id": "7812ad01",
   "metadata": {},
   "outputs": [
    {
     "data": {
      "text/plain": [
       "array([0, 1], dtype=uint8)"
      ]
     },
     "execution_count": 17,
     "metadata": {},
     "output_type": "execute_result"
    }
   ],
   "source": [
    "train_dataframe['VIP'].unique()"
   ]
  },
  {
   "cell_type": "code",
   "execution_count": 18,
   "id": "299ca05c",
   "metadata": {},
   "outputs": [
    {
     "name": "stdout",
     "output_type": "stream",
     "text": [
      "Percent of nan values: 0.0\n",
      "\n",
      "Quantite of nan values:\n",
      " PassengerId     0\n",
      "HomePlanet      0\n",
      "CryoSleep       0\n",
      "Destination     0\n",
      "Age             0\n",
      "VIP             0\n",
      "RoomService     0\n",
      "FoodCourt       0\n",
      "ShoppingMall    0\n",
      "Spa             0\n",
      "VRDeck          0\n",
      "Name            0\n",
      "Transported     0\n",
      "dtype: int64\n"
     ]
    }
   ],
   "source": [
    "nanValues(train_dataframe)"
   ]
  },
  {
   "cell_type": "code",
   "execution_count": 19,
   "id": "38698e9e",
   "metadata": {},
   "outputs": [
    {
     "name": "stdout",
     "output_type": "stream",
     "text": [
      "Percent of nan values: 0.0\n",
      "\n",
      "Quantite of nan values:\n",
      " PassengerId     0\n",
      "HomePlanet      0\n",
      "CryoSleep       0\n",
      "Destination     0\n",
      "Age             0\n",
      "VIP             0\n",
      "RoomService     0\n",
      "FoodCourt       0\n",
      "ShoppingMall    0\n",
      "Spa             0\n",
      "VRDeck          0\n",
      "Name            0\n",
      "dtype: int64\n"
     ]
    }
   ],
   "source": [
    "nanValues(test_dataframe)"
   ]
  },
  {
   "cell_type": "code",
   "execution_count": 20,
   "id": "5f9bd070",
   "metadata": {},
   "outputs": [
    {
     "data": {
      "text/plain": [
       "<AxesSubplot:>"
      ]
     },
     "execution_count": 20,
     "metadata": {},
     "output_type": "execute_result"
    },
    {
     "data": {
      "image/png": "[encoded data removed]",
      "text/plain": [
       "<Figure size 2500x1000 with 2 Axes>"
      ]
     },
     "metadata": {},
     "output_type": "display_data"
    }
   ],
   "source": [
    "fig, ax = plt.subplots(figsize=(25,10))\n",
    "seaborn.heatmap(data=train_dataframe.isnull(), yticklabels=False, ax=ax)"
   ]
  },
  {
   "cell_type": "code",
   "execution_count": 21,
   "id": "4eb6804d",
   "metadata": {},
   "outputs": [
    {
     "data": {
      "text/plain": [
       "Transported     1.000000\n",
       "CryoSleep       0.460132\n",
       "VIP            -0.037261\n",
       "Age            -0.069664\n",
       "FoodCourt      -0.176139\n",
       "ShoppingMall   -0.215192\n",
       "VRDeck         -0.341068\n",
       "Spa            -0.363079\n",
       "RoomService    -0.364071\n",
       "Name: Transported, dtype: float64"
      ]
     },
     "execution_count": 21,
     "metadata": {},
     "output_type": "execute_result"
    }
   ],
   "source": [
    "train_dataframe.corr(method='spearman').Transported.sort_values(ascending=False)"
   ]
  },
  {
   "cell_type": "markdown",
   "id": "c875d720",
   "metadata": {},
   "source": [
    "Transported     1.000000\n",
    "\n",
    "CryoSleep       0.460132\n",
    "\n",
    "VIP            -0.037261\n",
    "\n",
    "Age            -0.069664\n",
    "\n",
    "FoodCourt      -0.176139\n",
    "\n",
    "ShoppingMall   -0.215192\n",
    "\n",
    "VRDeck         -0.341068\n",
    "\n",
    "Spa            -0.363079\n",
    "\n",
    "RoomService    -0.364071\n"
   ]
  },
  {
   "cell_type": "code",
   "execution_count": 22,
   "id": "a944e82b",
   "metadata": {},
   "outputs": [
    {
     "data": {
      "text/plain": [
       "array([  0.,   2.,  44.,  49., 193.])"
      ]
     },
     "execution_count": 22,
     "metadata": {},
     "output_type": "execute_result"
    }
   ],
   "source": [
    "numpy.unique(train_dataframe[['VRDeck']][0:5])"
   ]
  },
  {
   "cell_type": "code",
   "execution_count": 23,
   "id": "a6499c88",
   "metadata": {},
   "outputs": [],
   "source": [
    "#\n",
    "ordinal_encoder = OrdinalEncoder(categories=[['Earth', 'Europa', 'Mars']])\n",
    "train_dataframe['HomePlanet'] = ordinal_encoder.fit_transform(train_dataframe[['HomePlanet']])\n",
    "#\n",
    "ordinal_encoder = OrdinalEncoder(categories=[['55 Cancri e', 'PSO J318.5-22', 'TRAPPIST-1e']])\n",
    "train_dataframe['Destination'] = ordinal_encoder.fit_transform(train_dataframe[['Destination']])\n",
    "#\n",
    "unique_last_name=train_dataframe['Name'].unique()\n",
    "ordinal_encoder = OrdinalEncoder(categories=[unique_last_name])\n",
    "train_dataframe['Name'] = ordinal_encoder.fit_transform(train_dataframe[['Name']])\n",
    "#\n",
    "\n",
    "#\n",
    "ordinal_encoder = OrdinalEncoder(categories=[['Earth', 'Europa', 'Mars']])\n",
    "test_dataframe['HomePlanet'] = ordinal_encoder.fit_transform(test_dataframe[['HomePlanet']])\n",
    "#\n",
    "ordinal_encoder = OrdinalEncoder(categories=[['55 Cancri e', 'PSO J318.5-22', 'TRAPPIST-1e']])\n",
    "test_dataframe['Destination'] = ordinal_encoder.fit_transform(test_dataframe[['Destination']])\n",
    "#\n",
    "unique_last_name=test_dataframe['Name'].unique()\n",
    "ordinal_encoder = OrdinalEncoder(categories=[unique_last_name])\n",
    "test_dataframe['Name'] = ordinal_encoder.fit_transform(test_dataframe[['Name']])"
   ]
  },
  {
   "cell_type": "code",
   "execution_count": 24,
   "id": "d8efaf37",
   "metadata": {},
   "outputs": [
    {
     "data": {
      "text/plain": [
       "array([0., 1., 2.])"
      ]
     },
     "execution_count": 24,
     "metadata": {},
     "output_type": "execute_result"
    }
   ],
   "source": [
    "numpy.unique(train_dataframe[['Destination']])"
   ]
  },
  {
   "cell_type": "code",
   "execution_count": 25,
   "id": "638c8d02",
   "metadata": {},
   "outputs": [],
   "source": [
    "def CategorizeRoomService(price):\n",
    "    for i in range(len(price)):\n",
    "        if price[i] > 0:\n",
    "            price[i] = 1\n",
    "        else:\n",
    "            price[i] = 0\n",
    "    return price"
   ]
  },
  {
   "cell_type": "code",
   "execution_count": 26,
   "id": "2e6d5f88",
   "metadata": {},
   "outputs": [
    {
     "name": "stderr",
     "output_type": "stream",
     "text": [
      "/tmp/ipykernel_11112/1585811776.py:6: SettingWithCopyWarning: \n",
      "A value is trying to be set on a copy of a slice from a DataFrame\n",
      "\n",
      "See the caveats in the documentation: https://pandas.pydata.org/pandas-docs/stable/user_guide/indexing.html#returning-a-view-versus-a-copy\n",
      "  price[i] = 0\n",
      "/tmp/ipykernel_11112/1585811776.py:4: SettingWithCopyWarning: \n",
      "A value is trying to be set on a copy of a slice from a DataFrame\n",
      "\n",
      "See the caveats in the documentation: https://pandas.pydata.org/pandas-docs/stable/user_guide/indexing.html#returning-a-view-versus-a-copy\n",
      "  price[i] = 1\n"
     ]
    }
   ],
   "source": [
    "train_dataframe['RoomService'] = CategorizeRoomService(train_dataframe['RoomService'])"
   ]
  },
  {
   "cell_type": "code",
   "execution_count": 52,
   "id": "75680e07",
   "metadata": {},
   "outputs": [
    {
     "data": {
      "text/plain": [
       "0       0.0\n",
       "1       1.0\n",
       "2       1.0\n",
       "3       0.0\n",
       "4       1.0\n",
       "       ... \n",
       "8688    0.0\n",
       "8689    0.0\n",
       "8690    0.0\n",
       "8691    0.0\n",
       "8692    1.0\n",
       "Name: RoomService, Length: 8693, dtype: float64"
      ]
     },
     "execution_count": 52,
     "metadata": {},
     "output_type": "execute_result"
    }
   ],
   "source": [
    "train_dataframe['RoomService']\n",
    "# foi verificado que mais de 2/3 das pessoas não pagaram pelo serviço de quarto, transformar em true or false\n",
    "# e verificar o resultado"
   ]
  },
  {
   "cell_type": "code",
   "execution_count": 53,
   "id": "e3698af4",
   "metadata": {},
   "outputs": [
    {
     "data": {
      "text/plain": [
       "Transported     1.000000\n",
       "CryoSleep       0.460132\n",
       "HomePlanet      0.135782\n",
       "Name            0.049742\n",
       "VIP            -0.037261\n",
       "Age            -0.069664\n",
       "Destination    -0.103728\n",
       "FoodCourt      -0.176139\n",
       "ShoppingMall   -0.215192\n",
       "VRDeck         -0.341068\n",
       "RoomService    -0.347021\n",
       "Spa            -0.363079\n",
       "Name: Transported, dtype: float64"
      ]
     },
     "execution_count": 53,
     "metadata": {},
     "output_type": "execute_result"
    }
   ],
   "source": [
    "train_dataframe.corr(method='spearman').Transported.sort_values(ascending=False)"
   ]
  },
  {
   "cell_type": "markdown",
   "id": "5035c2b8",
   "metadata": {},
   "source": [
    "## Outliers and noise"
   ]
  },
  {
   "cell_type": "code",
   "execution_count": 29,
   "id": "4d63c6c6",
   "metadata": {},
   "outputs": [],
   "source": [
    "# seaborn.boxplot(data=train_dataframe.RoomService)"
   ]
  },
  {
   "cell_type": "code",
   "execution_count": 30,
   "id": "5a98e18f",
   "metadata": {},
   "outputs": [],
   "source": [
    "# train_dataframe.RoomService"
   ]
  },
  {
   "cell_type": "code",
   "execution_count": 31,
   "id": "23f3e215",
   "metadata": {},
   "outputs": [],
   "source": [
    "#RoomService_outlier_conditional = train_dataframe.RoomService < 9000\n",
    "#train_dataframe_without_outliers = train_dataframe[RoomService_outlier_conditional]"
   ]
  },
  {
   "cell_type": "code",
   "execution_count": 32,
   "id": "f3338cca",
   "metadata": {},
   "outputs": [],
   "source": [
    "#seaborn.boxplot(data=train_dataframe_without_outliers , x='RoomService')"
   ]
  },
  {
   "cell_type": "code",
   "execution_count": 33,
   "id": "63d73a09",
   "metadata": {},
   "outputs": [],
   "source": [
    "# RoomService_Q1 = train_dataframe.RoomService.quantile(0.25)\n",
    "# RoomService_Q3 = train_dataframe.RoomService.quantile(0.75)\n",
    "# RoomService_IQR = RoomService_Q3-RoomService_Q1\n",
    "# RoomService_outlier_conditional =  ((train_dataframe.RoomService > RoomService_Q1 - 1.5*RoomService_IQR) & (train_dataframe.RoomService < RoomService_Q3 + 1.5*RoomService_IQR))"
   ]
  },
  {
   "cell_type": "code",
   "execution_count": 34,
   "id": "8250b908",
   "metadata": {},
   "outputs": [],
   "source": [
    "# train_dataframe_without_outliers = train_dataframe_without_outliers[RoomService_outlier_conditional]"
   ]
  },
  {
   "cell_type": "code",
   "execution_count": 35,
   "id": "36f7351f",
   "metadata": {},
   "outputs": [],
   "source": [
    "#seaborn.boxplot(data=train_dataframe_without_outliers , x='RoomService')"
   ]
  },
  {
   "cell_type": "code",
   "execution_count": 36,
   "id": "93d2b218",
   "metadata": {},
   "outputs": [],
   "source": [
    "# para valores booleanos\n",
    "# RoomService_Q1 = train_dataframe.RoomService.quantile(0.25)\n",
    "# RoomService_Q3 = train_dataframe.RoomService.quantile(0.75)\n",
    "# RoomService_IQR = RoomService_Q3-RoomService_Q1\n",
    "# RoomService_outlier_conditional =  ((train_dataframe.RoomService > RoomService_Q1 - 1.5*RoomService_IQR) & (train_dataframe.RoomService < RoomService_Q3 + 1.5*RoomService_IQR))"
   ]
  },
  {
   "cell_type": "code",
   "execution_count": 37,
   "id": "6493f34c",
   "metadata": {},
   "outputs": [],
   "source": [
    "# train_dataframe_without_outliers = train_dataframe[RoomService_outlier_conditional]\n",
    "# train_dataframe_without_outliers"
   ]
  },
  {
   "cell_type": "code",
   "execution_count": 38,
   "id": "9651e248",
   "metadata": {},
   "outputs": [],
   "source": [
    "# seaborn.boxplot(data=train_dataframe_without_outliers , x='RoomService')"
   ]
  },
  {
   "cell_type": "code",
   "execution_count": 39,
   "id": "ab73206d",
   "metadata": {},
   "outputs": [],
   "source": [
    "# train_dataframe = train_dataframe_without_outliers"
   ]
  },
  {
   "cell_type": "markdown",
   "id": "71ff949e",
   "metadata": {},
   "source": [
    "# Normalize de data"
   ]
  },
  {
   "cell_type": "markdown",
   "id": "f55747dc",
   "metadata": {},
   "source": [
    "# Machine learning"
   ]
  },
  {
   "cell_type": "code",
   "execution_count": 40,
   "id": "21031dfc",
   "metadata": {},
   "outputs": [
    {
     "data": {
      "text/plain": [
       "((6085, 12), (2608, 12), (6085,), (2608,))"
      ]
     },
     "execution_count": 40,
     "metadata": {},
     "output_type": "execute_result"
    }
   ],
   "source": [
    "features = train_dataframe.drop(\"Transported\",axis=1)\n",
    "target = train_dataframe[\"Transported\"]\n",
    "X_train,X_test,y_train,y_test = train_test_split(features,target,test_size=0.3,random_state=22)\n",
    "X_train.shape,X_test.shape,y_train.shape,y_test.shape"
   ]
  },
  {
   "cell_type": "code",
   "execution_count": 41,
   "id": "4f289c11",
   "metadata": {},
   "outputs": [
    {
     "name": "stdout",
     "output_type": "stream",
     "text": [
      "--------------The Accuracy of the model----------------------------\n",
      "The accuracy of the Random Forest Classifier is 78.34\n",
      "The cross validated score for Random Forest Classifier is: 76.54\n"
     ]
    },
    {
     "data": {
      "text/plain": [
       "Text(0.5, 1.05, 'Confusion_matrix')"
      ]
     },
     "execution_count": 41,
     "metadata": {},
     "output_type": "execute_result"
    },
    {
     "data": {
      "image/png": "[encoded data removed]",
      "text/plain": [
       "<Figure size 640x480 with 2 Axes>"
      ]
     },
     "metadata": {},
     "output_type": "display_data"
    }
   ],
   "source": [
    "# Random Forests\n",
    "from sklearn.ensemble import RandomForestClassifier\n",
    "\n",
    "#n_estimators its exemples quantite that we will use in the training\n",
    "model = RandomForestClassifier(criterion='gini', n_estimators=700,\n",
    "                             min_samples_split=10,min_samples_leaf=1,\n",
    "                             max_features='auto',oob_score=True,\n",
    "                             random_state=1,n_jobs=-1)\n",
    "\n",
    "#Model training\n",
    "model.fit(X_train,y_train)\n",
    "#model prediction with 0 or 1 of result\n",
    "prediction_rm=model.predict(X_test)\n",
    "print('--------------The Accuracy of the model----------------------------')\n",
    "print('The accuracy of the Random Forest Classifier is',round(accuracy_score(prediction_rm,y_test)*100,2))\n",
    "\n",
    "kfold = KFold(n_splits=5, random_state=22,shuffle=True) # k=10, split the data into 10 equal parts\n",
    "result_rm=cross_val_score(model,features,target,cv=10,scoring='accuracy')\n",
    "\n",
    "print('The cross validated score for Random Forest Classifier is:',round(result_rm.mean()*100,2))\n",
    "\n",
    "y_pred = cross_val_predict(model,features,target,cv=10)\n",
    "seaborn.heatmap(confusion_matrix(target,y_pred),annot=True,fmt='3.0f',cmap=\"summer\")\n",
    "plt.title('Confusion_matrix', y=1.05, size=15)"
   ]
  },
  {
   "cell_type": "markdown",
   "id": "9b3d2ffd",
   "metadata": {},
   "source": [
    "The accuracy of the Random Forest Classifier is 79.72\n",
    "\n",
    "The cross validated score for Random Forest Classifier is: 76.14"
   ]
  },
  {
   "cell_type": "code",
   "execution_count": 42,
   "id": "aeb71eff",
   "metadata": {},
   "outputs": [
    {
     "data": {
      "text/plain": [
       "((8693, 11), (8693,), (4277, 11))"
      ]
     },
     "execution_count": 42,
     "metadata": {},
     "output_type": "execute_result"
    }
   ],
   "source": [
    "train_dataframe=train_dataframe.drop(\"PassengerId\", axis=1)\n",
    "train_X = train_dataframe.drop(\"Transported\", axis=1)\n",
    "train_Y= train_dataframe[\"Transported\"]\n",
    "test_X  = test_dataframe.drop(\"PassengerId\", axis=1).copy()\n",
    "train_X.shape, train_Y.shape, test_X.shape"
   ]
  },
  {
   "cell_type": "code",
   "execution_count": 43,
   "id": "051b35aa",
   "metadata": {},
   "outputs": [
    {
     "data": {
      "text/plain": [
       "Index(['HomePlanet', 'CryoSleep', 'Destination', 'Age', 'VIP', 'RoomService',\n",
       "       'FoodCourt', 'ShoppingMall', 'Spa', 'VRDeck', 'Name'],\n",
       "      dtype='object')"
      ]
     },
     "execution_count": 43,
     "metadata": {},
     "output_type": "execute_result"
    }
   ],
   "source": [
    "train_X.columns"
   ]
  },
  {
   "cell_type": "code",
   "execution_count": 44,
   "id": "bca89692",
   "metadata": {},
   "outputs": [
    {
     "data": {
      "text/plain": [
       "Index(['HomePlanet', 'CryoSleep', 'Destination', 'Age', 'VIP', 'RoomService',\n",
       "       'FoodCourt', 'ShoppingMall', 'Spa', 'VRDeck', 'Name'],\n",
       "      dtype='object')"
      ]
     },
     "execution_count": 44,
     "metadata": {},
     "output_type": "execute_result"
    }
   ],
   "source": [
    "test_X.columns"
   ]
  },
  {
   "cell_type": "code",
   "execution_count": 45,
   "id": "b3181909",
   "metadata": {},
   "outputs": [
    {
     "name": "stdout",
     "output_type": "stream",
     "text": [
      "Accuracy  94.54\n"
     ]
    },
    {
     "data": {
      "image/png": "[encoded data removed]",
      "text/plain": [
       "<Figure size 640x480 with 1 Axes>"
      ]
     },
     "metadata": {},
     "output_type": "display_data"
    }
   ],
   "source": [
    "# Random Forests\n",
    "random_forest = RandomForestClassifier(class_weight=None, criterion='entropy',\n",
    "            max_depth=None, max_features='log2',\n",
    "            min_samples_leaf=2, min_samples_split=4,\n",
    "            n_estimators=500, n_jobs=1,\n",
    "            warm_start=True)\n",
    "random_forest.fit(train_X, train_Y)\n",
    "Y_pred_rf = random_forest.predict(test_X)#predições\n",
    "random_forest.score(train_X,train_Y)\n",
    "acc_random_forest = round(random_forest.score(train_X, train_Y) * 100, 2)\n",
    "\n",
    "pandas.Series(random_forest.feature_importances_,train_X.columns).sort_values(ascending=True).plot.barh(width=0.8)\n",
    "print(\"Accuracy \",acc_random_forest)\n",
    "\n",
    "submission = pandas.DataFrame({\n",
    "        \"PassengerId\": test_dataframe[\"PassengerId\"],\n",
    "        \"Transported\": Y_pred_rf})\n",
    "\n",
    "submission.to_csv('MySubmissionFutureTitanicRandonForest01.csv', index=False)"
   ]
  },
  {
   "cell_type": "code",
   "execution_count": 46,
   "id": "75085d6d",
   "metadata": {},
   "outputs": [
    {
     "data": {
      "text/plain": [
       "'Accuracy  95.25'"
      ]
     },
     "execution_count": 46,
     "metadata": {},
     "output_type": "execute_result"
    }
   ],
   "source": [
    "\"Accuracy  95.25\""
   ]
  },
  {
   "cell_type": "code",
   "execution_count": 47,
   "id": "20ade1d1",
   "metadata": {},
   "outputs": [
    {
     "name": "stdout",
     "output_type": "stream",
     "text": [
      "--------------The Accuracy of the model----------------------------\n",
      "The accuracy of the Gradient Boosting Classifier is 77.8\n",
      "The cross validated score for AdaBoostClassifier is: 72.33\n"
     ]
    },
    {
     "data": {
      "text/plain": [
       "Text(0.5, 1.05, 'Confusion_matrix')"
      ]
     },
     "execution_count": 47,
     "metadata": {},
     "output_type": "execute_result"
    },
    {
     "data": {
      "image/png": "[encoded data removed]",
      "text/plain": [
       "<Figure size 640x480 with 2 Axes>"
      ]
     },
     "metadata": {},
     "output_type": "display_data"
    }
   ],
   "source": [
    "from sklearn.ensemble import GradientBoostingClassifier\n",
    "model= GradientBoostingClassifier()\n",
    "model.fit(X_train,y_train)\n",
    "prediction_gbc=model.predict(X_test)\n",
    "print('--------------The Accuracy of the model----------------------------')\n",
    "print('The accuracy of the Gradient Boosting Classifier is',round(accuracy_score(prediction_gbc,y_test)*100,2))\n",
    "kfold = KFold(n_splits=10, random_state=22, shuffle=True) # k=10, split the data into 10 equal parts\n",
    "result_gbc=cross_val_score(model,features,target,cv=10,scoring='accuracy')\n",
    "print('The cross validated score for AdaBoostClassifier is:',round(result_gbc.mean()*100,2))\n",
    "y_pred = cross_val_predict(model,features,target,cv=10)\n",
    "seaborn.heatmap(confusion_matrix(target,y_pred),annot=True,fmt='3.0f',cmap=\"summer\")\n",
    "plt.title('Confusion_matrix', y=1.05, size=15)"
   ]
  },
  {
   "cell_type": "markdown",
   "id": "737da37c",
   "metadata": {},
   "source": [
    "The accuracy of the Gradient Boosting Classifier is 77.99\n",
    "\n",
    "The cross validated score for AdaBoostClassifier is: 73.58"
   ]
  },
  {
   "cell_type": "code",
   "execution_count": 48,
   "id": "98c198bf",
   "metadata": {},
   "outputs": [
    {
     "name": "stdout",
     "output_type": "stream",
     "text": [
      "XGB avg: 0.40400051575009555\n"
     ]
    }
   ],
   "source": [
    "y = train_dataframe['Transported']\n",
    "X = train_dataframe.drop(['Transported'], axis=1)\n",
    "baseline = xg.XGBRegressor(learning_rate=0.01,n_estimators=2000, subsample=0.7,colsample_bytree=0.7,random_state=0)\n",
    "baseline_score = cross_val_score(baseline, X, y, cv=10)\n",
    "print(\"XGB avg:\",baseline_score.mean())"
   ]
  },
  {
   "cell_type": "markdown",
   "id": "fbbb2266",
   "metadata": {},
   "source": [
    "name deleted XGB avg: 0.40908364267848996\n",
    "\n",
    "name by OE XGB avg: 0.41514623825816344"
   ]
  },
  {
   "cell_type": "code",
   "execution_count": 49,
   "id": "9d3524b5",
   "metadata": {},
   "outputs": [
    {
     "data": {
      "text/html": [
       "<div>\n",
       "<style scoped>\n",
       "    .dataframe tbody tr th:only-of-type {\n",
       "        vertical-align: middle;\n",
       "    }\n",
       "\n",
       "    .dataframe tbody tr th {\n",
       "        vertical-align: top;\n",
       "    }\n",
       "\n",
       "    .dataframe thead th {\n",
       "        text-align: right;\n",
       "    }\n",
       "</style>\n",
       "<table border=\"1\" class=\"dataframe\">\n",
       "  <thead>\n",
       "    <tr style=\"text-align: right;\">\n",
       "      <th></th>\n",
       "      <th>PassengerId</th>\n",
       "      <th>Transported</th>\n",
       "    </tr>\n",
       "  </thead>\n",
       "  <tbody>\n",
       "    <tr>\n",
       "      <th>3471</th>\n",
       "      <td>7558_01</td>\n",
       "      <td>False</td>\n",
       "    </tr>\n",
       "    <tr>\n",
       "      <th>3818</th>\n",
       "      <td>8358_01</td>\n",
       "      <td>False</td>\n",
       "    </tr>\n",
       "    <tr>\n",
       "      <th>3990</th>\n",
       "      <td>8692_03</td>\n",
       "      <td>True</td>\n",
       "    </tr>\n",
       "    <tr>\n",
       "      <th>2890</th>\n",
       "      <td>6352_01</td>\n",
       "      <td>True</td>\n",
       "    </tr>\n",
       "    <tr>\n",
       "      <th>1687</th>\n",
       "      <td>3618_02</td>\n",
       "      <td>False</td>\n",
       "    </tr>\n",
       "    <tr>\n",
       "      <th>2889</th>\n",
       "      <td>6350_01</td>\n",
       "      <td>False</td>\n",
       "    </tr>\n",
       "    <tr>\n",
       "      <th>1750</th>\n",
       "      <td>3717_01</td>\n",
       "      <td>False</td>\n",
       "    </tr>\n",
       "    <tr>\n",
       "      <th>1806</th>\n",
       "      <td>3858_01</td>\n",
       "      <td>True</td>\n",
       "    </tr>\n",
       "    <tr>\n",
       "      <th>3707</th>\n",
       "      <td>8074_01</td>\n",
       "      <td>False</td>\n",
       "    </tr>\n",
       "    <tr>\n",
       "      <th>106</th>\n",
       "      <td>0235_01</td>\n",
       "      <td>True</td>\n",
       "    </tr>\n",
       "  </tbody>\n",
       "</table>\n",
       "</div>"
      ],
      "text/plain": [
       "     PassengerId Transported\n",
       "3471     7558_01       False\n",
       "3818     8358_01       False\n",
       "3990     8692_03        True\n",
       "2890     6352_01        True\n",
       "1687     3618_02       False\n",
       "2889     6350_01       False\n",
       "1750     3717_01       False\n",
       "1806     3858_01        True\n",
       "3707     8074_01       False\n",
       "106      0235_01        True"
      ]
     },
     "execution_count": 49,
     "metadata": {},
     "output_type": "execute_result"
    }
   ],
   "source": [
    "#Ate o presente momento o valor limiar de True e False não pode ser alterado\n",
    "#0.45 foi o ponto de inferencia\n",
    "# O proximo passo é pegar os melhores valores de cada modelo, por exemplo quando o valor estiver proximo de 0.45\n",
    "# priorizar o resultado do RF\n",
    "y = train_dataframe['Transported']\n",
    "X = train_dataframe.drop(['Transported'], axis=1)\n",
    "xgb = xg.XGBRegressor(learning_rate=0.01,n_estimators=2000, subsample=0.7,colsample_bytree=0.7,random_state=0).fit(X,y)\n",
    "xgb_preds_log=xgb.predict(test_X)\n",
    "predT=[]\n",
    "price = xgb.predict(test_X)\n",
    "for i in range (len(price)):\n",
    "    if (price[i] >= 0.45):\n",
    "        predT.append('True')\n",
    "    else:\n",
    "        predT.append('False')\n",
    "submission = pandas.DataFrame({\n",
    "    \"PassengerId\": test_dataframe['PassengerId'],\n",
    "    \"Transported\": predT\n",
    "})\n",
    "\n",
    "submission.to_csv(\"MySubmissionFutureTitanicXGB01.csv\", index=False)\n",
    "submission.sample(10)"
   ]
  },
  {
   "cell_type": "code",
   "execution_count": null,
   "id": "66f3a68a",
   "metadata": {},
   "outputs": [],
   "source": []
  },
  {
   "cell_type": "code",
   "execution_count": null,
   "id": "6024bde5",
   "metadata": {},
   "outputs": [],
   "source": []
  },
  {
   "cell_type": "code",
   "execution_count": null,
   "id": "6743658b",
   "metadata": {},
   "outputs": [],
   "source": []
  },
  {
   "cell_type": "code",
   "execution_count": null,
   "id": "25d29c1a",
   "metadata": {},
   "outputs": [],
   "source": []
  }
 ],
 "metadata": {
  "kernelspec": {
   "display_name": "Python 3 (ipykernel)",
   "language": "python",
   "name": "python3"
  },
  "language_info": {
   "codemirror_mode": {
    "name": "ipython",
    "version": 3
   },
   "file_extension": ".py",
   "mimetype": "text/x-python",
   "name": "python",
   "nbconvert_exporter": "python",
   "pygments_lexer": "ipython3",
   "version": "3.9.13"
  }
 },
 "nbformat": 4,
 "nbformat_minor": 5
}
