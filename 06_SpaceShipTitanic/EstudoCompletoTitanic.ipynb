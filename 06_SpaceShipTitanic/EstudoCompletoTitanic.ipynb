{
 "cells": [
  {
   "cell_type": "markdown",
   "id": "30a40a8b",
   "metadata": {},
   "source": [
    "Sources: \n",
    "https://www.kaggle.com/competitions/spaceship-titanic\n"
   ]
  },
  {
   "cell_type": "markdown",
   "id": "cf4160d6",
   "metadata": {},
   "source": [
    "## Porpouse of the work\n",
    "\n",
    "Estudo dos dados do Spaceship Titanic que pode ser encontrado no site kaggle, ao entrar no site você encontrara informações sobre os dados e os links para download. Os dados estão em formato CSV, estão divididos 3 sendo o train.csv o conjunto de dados que você irá utilizar para treinar o seu modelo, test.csv é o conjunto de dados que você irá utilizar para prever se o passageiro foi transportado ou não e fazer a sua respectiva submissão, para saber quais padrões adotar para isto temos o terceiro arquivo que é o sample_submission.csv que contém a quantidade e o formato de envio. Neste estudo irei fazer testes e postar os seus respectivos resultados com o intuito de elevar o nível desta competição já que temos muitos exemplos de resultados, mas não encontrei nenhum que detalhasse a ponto de deixar uma base solida e uma perspectiva de continuidade e com exemplos de falhas para que evite que se as cometa de novo. \n",
    "\n",
    "Para iniciar será feito o teste base, que consiste em utilizar somente os dados numéricos com tratamentos básicos de média para todos os valores ausentes para verificarmos o valor base de acertos. A métrica utilizada para medir os acertos do nosso modelo será a acurácia por ser o modelo mais fácil de se entender, sua fórmula é acurácia=(Total de acertos)/(Total de elementos). Após este primeiro teste iremos adicionando variáveis categóricas, os valores ausentes serão tratados com o cálculo de moda, após esses testes bases serão utilizados outros métodos, inclusive os de aprendizado de máquina para preenchimento desses valores, serão gerados também Matrizes de confusão para os respectivos testes. \n",
    "\n",
    "O ambiente de desenvolvimento escolhido foi o Jupyter Notebook com e a linguagem de programação Python, para manipular o dataset foi utilizado numpy e pandas e para gerar graficos foi utilizado o matplotlib e o seaborn, para o treinamento do modelo foram utilizados o Random Forest Classifier e o Gradient Boosting Classifier. "
   ]
  },
  {
   "cell_type": "markdown",
   "id": "58f6cf23",
   "metadata": {},
   "source": [
    "# About the data\n",
    "\n",
    "PassengerId - A unique Id for each passenger. Each Id takes the form gggg_pp where gggg indicates a group the passenger is travelling with and pp is their number within the group. People in a group are often family members, but not always.\n",
    "\n",
    "HomePlanet - The planet the passenger departed from, typically their planet of permanent residence.\n",
    "\n",
    "CryoSleep - Indicates whether the passenger elected to be put into suspended animation for the duration of the voyage. Passengers in cryosleep are confined to their cabins.\n",
    "\n",
    "Cabin - The cabin number where the passenger is staying. Takes the form deck/num/side, where side can be either P for Port or S for Starboard.\n",
    "\n",
    "Destination - The planet the passenger will be debarking to.\n",
    "\n",
    "Age - The age of the passenger.\n",
    "\n",
    "VIP - Whether the passenger has paid for special VIP service during the voyage.\n",
    "\n",
    "RoomService, FoodCourt, ShoppingMall, Spa, VRDeck - Amount the passenger has billed at each of the Spaceship Titanic's many luxury amenities.\n",
    "\n",
    "Name - The first and last names of the passenger.\n",
    "\n",
    "Transported - Whether the passenger was transported to another dimension. This is the target, the column you are trying to predict."
   ]
  },
  {
   "cell_type": "code",
   "execution_count": 1,
   "id": "bef2bf62",
   "metadata": {},
   "outputs": [],
   "source": [
    "#Explore dataframe\n",
    "import numpy\n",
    "import pandas\n",
    "\n",
    "# Datavisualization\n",
    "from matplotlib import pyplot as plt\n",
    "import seaborn\n",
    "\n",
    "#Dataset treatment\n",
    "from sklearn.preprocessing import OrdinalEncoder\n",
    "\n",
    "#Machine learning\n",
    "from sklearn.model_selection import train_test_split\n",
    "from sklearn.metrics import accuracy_score\n",
    "from sklearn.model_selection import KFold\n",
    "from sklearn.model_selection import cross_val_score\n",
    "from sklearn.model_selection import cross_val_predict\n",
    "from sklearn.metrics import confusion_matrix\n",
    "\n",
    "# ML 2 model\n",
    "import xgboost as xg\n",
    "\n",
    "##\n",
    "import warnings\n",
    "warnings.filterwarnings(\"ignore\")"
   ]
  },
  {
   "cell_type": "code",
   "execution_count": 2,
   "id": "b02fc3a1",
   "metadata": {},
   "outputs": [],
   "source": [
    "def nanValues(dataframe):\n",
    "    missingValuesColumnsCount = dataframe.isnull().sum()\n",
    "    totalCels = numpy.product(dataframe.shape)\n",
    "    totalMissing = missingValuesColumnsCount.sum()\n",
    "    percentValuesMissing = (totalMissing/totalCels)*100\n",
    "    print(\"Percent of nan values:\",percentValuesMissing)\n",
    "    print(\"\\nQuantite of nan values:\\n\",missingValuesColumnsCount)"
   ]
  },
  {
   "cell_type": "code",
   "execution_count": 3,
   "id": "071ede9d",
   "metadata": {},
   "outputs": [],
   "source": [
    "def percentColumnNullValues(dataframe):\n",
    "    columns = dataframe.columns\n",
    "    nanColumns = []\n",
    "    for column in columns:\n",
    "        if (dataframe[column].isnull().sum() / dataframe[column].shape[0] )*100 > 0:\n",
    "            print(column)\n",
    "            print((dataframe[column].isnull().sum() / dataframe[column].shape[0] )*100)\n",
    "            if column not in nanColumns:\n",
    "                nanColumns.append(column)"
   ]
  },
  {
   "cell_type": "code",
   "execution_count": 4,
   "id": "691fb53b",
   "metadata": {},
   "outputs": [],
   "source": [
    "def replaceNanValuesToMean(dataframe):\n",
    "    dataframe.fillna(dataframe.mean(), inplace = True)\n",
    "    return dataframe"
   ]
  },
  {
   "cell_type": "code",
   "execution_count": 5,
   "id": "9662f2f2",
   "metadata": {},
   "outputs": [],
   "source": [
    "def getPassengerIdNumber(dataframe):\n",
    "    var = []\n",
    "    for i in range(len(dataframe)):\n",
    "        var.append(int(dataframe[:][i][0:4]))\n",
    "    return var"
   ]
  },
  {
   "cell_type": "code",
   "execution_count": 7,
   "id": "a123b1e5",
   "metadata": {},
   "outputs": [],
   "source": [
    "train_dataframe = pandas.read_csv(\"train.csv\")\n",
    "test_dataframe = pandas.read_csv(\"test.csv\")"
   ]
  },
  {
   "cell_type": "code",
   "execution_count": 8,
   "id": "41603f62",
   "metadata": {},
   "outputs": [
    {
     "data": {
      "text/html": [
       "<div>\n",
       "<style scoped>\n",
       "    .dataframe tbody tr th:only-of-type {\n",
       "        vertical-align: middle;\n",
       "    }\n",
       "\n",
       "    .dataframe tbody tr th {\n",
       "        vertical-align: top;\n",
       "    }\n",
       "\n",
       "    .dataframe thead th {\n",
       "        text-align: right;\n",
       "    }\n",
       "</style>\n",
       "<table border=\"1\" class=\"dataframe\">\n",
       "  <thead>\n",
       "    <tr style=\"text-align: right;\">\n",
       "      <th></th>\n",
       "      <th>PassengerId</th>\n",
       "      <th>HomePlanet</th>\n",
       "      <th>CryoSleep</th>\n",
       "      <th>Cabin</th>\n",
       "      <th>Destination</th>\n",
       "      <th>Age</th>\n",
       "      <th>VIP</th>\n",
       "      <th>RoomService</th>\n",
       "      <th>FoodCourt</th>\n",
       "      <th>ShoppingMall</th>\n",
       "      <th>Spa</th>\n",
       "      <th>VRDeck</th>\n",
       "      <th>Name</th>\n",
       "      <th>Transported</th>\n",
       "    </tr>\n",
       "  </thead>\n",
       "  <tbody>\n",
       "    <tr>\n",
       "      <th>0</th>\n",
       "      <td>0001_01</td>\n",
       "      <td>Europa</td>\n",
       "      <td>False</td>\n",
       "      <td>B/0/P</td>\n",
       "      <td>TRAPPIST-1e</td>\n",
       "      <td>39.0</td>\n",
       "      <td>False</td>\n",
       "      <td>0.0</td>\n",
       "      <td>0.0</td>\n",
       "      <td>0.0</td>\n",
       "      <td>0.0</td>\n",
       "      <td>0.0</td>\n",
       "      <td>Maham Ofracculy</td>\n",
       "      <td>False</td>\n",
       "    </tr>\n",
       "    <tr>\n",
       "      <th>1</th>\n",
       "      <td>0002_01</td>\n",
       "      <td>Earth</td>\n",
       "      <td>False</td>\n",
       "      <td>F/0/S</td>\n",
       "      <td>TRAPPIST-1e</td>\n",
       "      <td>24.0</td>\n",
       "      <td>False</td>\n",
       "      <td>109.0</td>\n",
       "      <td>9.0</td>\n",
       "      <td>25.0</td>\n",
       "      <td>549.0</td>\n",
       "      <td>44.0</td>\n",
       "      <td>Juanna Vines</td>\n",
       "      <td>True</td>\n",
       "    </tr>\n",
       "    <tr>\n",
       "      <th>2</th>\n",
       "      <td>0003_01</td>\n",
       "      <td>Europa</td>\n",
       "      <td>False</td>\n",
       "      <td>A/0/S</td>\n",
       "      <td>TRAPPIST-1e</td>\n",
       "      <td>58.0</td>\n",
       "      <td>True</td>\n",
       "      <td>43.0</td>\n",
       "      <td>3576.0</td>\n",
       "      <td>0.0</td>\n",
       "      <td>6715.0</td>\n",
       "      <td>49.0</td>\n",
       "      <td>Altark Susent</td>\n",
       "      <td>False</td>\n",
       "    </tr>\n",
       "    <tr>\n",
       "      <th>3</th>\n",
       "      <td>0003_02</td>\n",
       "      <td>Europa</td>\n",
       "      <td>False</td>\n",
       "      <td>A/0/S</td>\n",
       "      <td>TRAPPIST-1e</td>\n",
       "      <td>33.0</td>\n",
       "      <td>False</td>\n",
       "      <td>0.0</td>\n",
       "      <td>1283.0</td>\n",
       "      <td>371.0</td>\n",
       "      <td>3329.0</td>\n",
       "      <td>193.0</td>\n",
       "      <td>Solam Susent</td>\n",
       "      <td>False</td>\n",
       "    </tr>\n",
       "    <tr>\n",
       "      <th>4</th>\n",
       "      <td>0004_01</td>\n",
       "      <td>Earth</td>\n",
       "      <td>False</td>\n",
       "      <td>F/1/S</td>\n",
       "      <td>TRAPPIST-1e</td>\n",
       "      <td>16.0</td>\n",
       "      <td>False</td>\n",
       "      <td>303.0</td>\n",
       "      <td>70.0</td>\n",
       "      <td>151.0</td>\n",
       "      <td>565.0</td>\n",
       "      <td>2.0</td>\n",
       "      <td>Willy Santantines</td>\n",
       "      <td>True</td>\n",
       "    </tr>\n",
       "  </tbody>\n",
       "</table>\n",
       "</div>"
      ],
      "text/plain": [
       "  PassengerId HomePlanet CryoSleep  Cabin  Destination   Age    VIP  \\\n",
       "0     0001_01     Europa     False  B/0/P  TRAPPIST-1e  39.0  False   \n",
       "1     0002_01      Earth     False  F/0/S  TRAPPIST-1e  24.0  False   \n",
       "2     0003_01     Europa     False  A/0/S  TRAPPIST-1e  58.0   True   \n",
       "3     0003_02     Europa     False  A/0/S  TRAPPIST-1e  33.0  False   \n",
       "4     0004_01      Earth     False  F/1/S  TRAPPIST-1e  16.0  False   \n",
       "\n",
       "   RoomService  FoodCourt  ShoppingMall     Spa  VRDeck               Name  \\\n",
       "0          0.0        0.0           0.0     0.0     0.0    Maham Ofracculy   \n",
       "1        109.0        9.0          25.0   549.0    44.0       Juanna Vines   \n",
       "2         43.0     3576.0           0.0  6715.0    49.0      Altark Susent   \n",
       "3          0.0     1283.0         371.0  3329.0   193.0       Solam Susent   \n",
       "4        303.0       70.0         151.0   565.0     2.0  Willy Santantines   \n",
       "\n",
       "   Transported  \n",
       "0        False  \n",
       "1         True  \n",
       "2        False  \n",
       "3        False  \n",
       "4         True  "
      ]
     },
     "execution_count": 8,
     "metadata": {},
     "output_type": "execute_result"
    }
   ],
   "source": [
    "train_dataframe.head()"
   ]
  },
  {
   "cell_type": "code",
   "execution_count": 9,
   "id": "83be81b7",
   "metadata": {},
   "outputs": [
    {
     "data": {
      "text/plain": [
       "0       0013_01\n",
       "1       0018_01\n",
       "2       0019_01\n",
       "3       0021_01\n",
       "4       0023_01\n",
       "         ...   \n",
       "4272    9266_02\n",
       "4273    9269_01\n",
       "4274    9271_01\n",
       "4275    9273_01\n",
       "4276    9277_01\n",
       "Name: PassengerId, Length: 4277, dtype: object"
      ]
     },
     "execution_count": 9,
     "metadata": {},
     "output_type": "execute_result"
    }
   ],
   "source": [
    "imutPassengerID = test_dataframe['PassengerId'].copy()\n",
    "PassengerID = test_dataframe['PassengerId']\n",
    "imutPassengerID"
   ]
  },
  {
   "cell_type": "code",
   "execution_count": 8,
   "id": "e46c50ea",
   "metadata": {},
   "outputs": [],
   "source": [
    "columns_train_qualitative = [i for i in train_dataframe.columns if train_dataframe.dtypes[i] == 'object']\n",
    "columns_train_quantitative = [i for i in train_dataframe.columns if train_dataframe.dtypes[i] != 'object']"
   ]
  },
  {
   "cell_type": "code",
   "execution_count": 9,
   "id": "d42edfb1",
   "metadata": {},
   "outputs": [],
   "source": [
    "columns_test_qualitative = [i for i in test_dataframe.columns if test_dataframe.dtypes[i] == 'object']\n",
    "columns_test_quantitative = [i for i in test_dataframe.columns if test_dataframe.dtypes[i] != 'object']"
   ]
  },
  {
   "cell_type": "code",
   "execution_count": 11,
   "id": "ef1eca28",
   "metadata": {
    "scrolled": false
   },
   "outputs": [
    {
     "name": "stdout",
     "output_type": "stream",
     "text": [
      "Percent of nan values: 1.8438480879525396\n",
      "\n",
      "Quantite of nan values:\n",
      " Age             179\n",
      "RoomService     181\n",
      "FoodCourt       183\n",
      "ShoppingMall    208\n",
      "Spa             183\n",
      "VRDeck          188\n",
      "Transported       0\n",
      "dtype: int64\n"
     ]
    }
   ],
   "source": [
    "nanValues(train_dataframe[columns_train_quantitative])"
   ]
  },
  {
   "cell_type": "code",
   "execution_count": 12,
   "id": "7480025d",
   "metadata": {},
   "outputs": [
    {
     "name": "stdout",
     "output_type": "stream",
     "text": [
      "Percent of nan values: 2.1744213233574934\n",
      "\n",
      "Quantite of nan values:\n",
      " Age              91\n",
      "RoomService      82\n",
      "FoodCourt       106\n",
      "ShoppingMall     98\n",
      "Spa             101\n",
      "VRDeck           80\n",
      "dtype: int64\n"
     ]
    }
   ],
   "source": [
    "nanValues(test_dataframe[columns_test_quantitative])"
   ]
  },
  {
   "cell_type": "code",
   "execution_count": 13,
   "id": "cb8dfca1",
   "metadata": {},
   "outputs": [],
   "source": [
    "train_dataframe= train_dataframe[columns_train_quantitative]\n",
    "test_dataframe = test_dataframe[columns_test_quantitative]"
   ]
  },
  {
   "cell_type": "code",
   "execution_count": 14,
   "id": "a6f181bf",
   "metadata": {},
   "outputs": [
    {
     "data": {
      "text/plain": [
       "<AxesSubplot:>"
      ]
     },
     "execution_count": 14,
     "metadata": {},
     "output_type": "execute_result"
    },
    {
     "data": {
      "image/png": "[encoded data removed]",
      "text/plain": [
       "<Figure size 2500x1000 with 2 Axes>"
      ]
     },
     "metadata": {},
     "output_type": "display_data"
    }
   ],
   "source": [
    "fig, ax = plt.subplots(figsize=(25,10))\n",
    "seaborn.heatmap(data=train_dataframe.isnull(), yticklabels=False, ax=ax)"
   ]
  },
  {
   "cell_type": "code",
   "execution_count": 15,
   "id": "1ab9354d",
   "metadata": {},
   "outputs": [
    {
     "name": "stdout",
     "output_type": "stream",
     "text": [
      "Age\n",
      "2.0591280340503855\n",
      "RoomService\n",
      "2.082135051190613\n",
      "FoodCourt\n",
      "2.105142068330841\n",
      "ShoppingMall\n",
      "2.392729782583688\n",
      "Spa\n",
      "2.105142068330841\n",
      "VRDeck\n",
      "2.1626596111814105\n"
     ]
    }
   ],
   "source": [
    "percentColumnNullValues(train_dataframe)"
   ]
  },
  {
   "cell_type": "code",
   "execution_count": 16,
   "id": "daf9dde5",
   "metadata": {},
   "outputs": [],
   "source": [
    "train_dataframe['Age'].fillna(train_dataframe['Age'].mean(), inplace = True)\n",
    "train_dataframe['RoomService'] = replaceNanValuesToMean(train_dataframe['RoomService'])\n",
    "train_dataframe['FoodCourt'].fillna(0, inplace = True)\n",
    "train_dataframe['ShoppingMall'].fillna(0, inplace = True)\n",
    "train_dataframe['Spa'] = replaceNanValuesToMean(train_dataframe['Spa'])\n",
    "train_dataframe['VRDeck'] = replaceNanValuesToMean(train_dataframe['VRDeck'])\n",
    "\n",
    "test_dataframe['Age'].fillna(test_dataframe['Age'].mean(), inplace = True)\n",
    "test_dataframe['RoomService']= replaceNanValuesToMean(test_dataframe['RoomService'])\n",
    "test_dataframe['FoodCourt'].fillna(0, inplace = True)\n",
    "test_dataframe['ShoppingMall'].fillna(0, inplace = True)\n",
    "test_dataframe['Spa'] = replaceNanValuesToMean(test_dataframe['Spa'])\n",
    "test_dataframe['VRDeck'] = replaceNanValuesToMean(test_dataframe['VRDeck'])"
   ]
  },
  {
   "cell_type": "code",
   "execution_count": 17,
   "id": "134bb648",
   "metadata": {},
   "outputs": [],
   "source": [
    "percentColumnNullValues(train_dataframe)"
   ]
  },
  {
   "cell_type": "code",
   "execution_count": 18,
   "id": "4eb6804d",
   "metadata": {},
   "outputs": [
    {
     "data": {
      "text/plain": [
       "Transported     1.000000\n",
       "Age            -0.069664\n",
       "FoodCourt      -0.176139\n",
       "ShoppingMall   -0.215192\n",
       "VRDeck         -0.341068\n",
       "Spa            -0.363079\n",
       "RoomService    -0.364071\n",
       "Name: Transported, dtype: float64"
      ]
     },
     "execution_count": 18,
     "metadata": {},
     "output_type": "execute_result"
    }
   ],
   "source": [
    "train_dataframe.corr(method='spearman').Transported.sort_values(ascending=False)"
   ]
  },
  {
   "cell_type": "markdown",
   "id": "c875d720",
   "metadata": {},
   "source": [
    "Transported     1.000000\n",
    "\n",
    "CryoSleep       0.460132\n",
    "\n",
    "VIP            -0.037261\n",
    "\n",
    "Age            -0.069664\n",
    "\n",
    "FoodCourt      -0.176139\n",
    "\n",
    "ShoppingMall   -0.215192\n",
    "\n",
    "VRDeck         -0.341068\n",
    "\n",
    "Spa            -0.363079\n",
    "\n",
    "RoomService    -0.364071\n"
   ]
  },
  {
   "cell_type": "markdown",
   "id": "f55747dc",
   "metadata": {},
   "source": [
    "# Machine learning"
   ]
  },
  {
   "cell_type": "code",
   "execution_count": 19,
   "id": "21031dfc",
   "metadata": {},
   "outputs": [
    {
     "data": {
      "text/plain": [
       "((6085, 6), (2608, 6), (6085,), (2608,))"
      ]
     },
     "execution_count": 19,
     "metadata": {},
     "output_type": "execute_result"
    }
   ],
   "source": [
    "features = train_dataframe.drop(\"Transported\",axis=1)\n",
    "target = train_dataframe[\"Transported\"]\n",
    "X_train,X_test,y_train,y_test = train_test_split(features,target,test_size=0.3,random_state=22)\n",
    "X_train.shape,X_test.shape,y_train.shape,y_test.shape"
   ]
  },
  {
   "cell_type": "code",
   "execution_count": 20,
   "id": "4f289c11",
   "metadata": {},
   "outputs": [
    {
     "name": "stdout",
     "output_type": "stream",
     "text": [
      "--------------The Accuracy of the model----------------------------\n",
      "The accuracy of the Random Forest Classifier is 77.65\n",
      "The cross validated score for Random Forest Classifier is: 78.95\n"
     ]
    },
    {
     "data": {
      "text/plain": [
       "Text(0.5, 1.05, 'Random Forest Classifier')"
      ]
     },
     "execution_count": 20,
     "metadata": {},
     "output_type": "execute_result"
    },
    {
     "data": {
      "image/png": "[encoded data removed]",
      "text/plain": [
       "<Figure size 640x480 with 2 Axes>"
      ]
     },
     "metadata": {},
     "output_type": "display_data"
    }
   ],
   "source": [
    "# Random Forests\n",
    "from sklearn.ensemble import RandomForestClassifier\n",
    "\n",
    "#n_estimators its exemples quantite that we will use in the training\n",
    "model = RandomForestClassifier(criterion='gini', n_estimators=700,\n",
    "                             min_samples_split=10,min_samples_leaf=1,\n",
    "                             max_features='auto',oob_score=True,\n",
    "                             random_state=1,n_jobs=-1)\n",
    "\n",
    "#Model training\n",
    "model.fit(X_train,y_train)\n",
    "#model prediction with 0 or 1 of result\n",
    "prediction_rm=model.predict(X_test)\n",
    "print('--------------The Accuracy of the model----------------------------')\n",
    "print('The accuracy of the Random Forest Classifier is',round(accuracy_score(prediction_rm,y_test)*100,2))\n",
    "\n",
    "kfold = KFold(n_splits=5, random_state=22,shuffle=True) # k=10, split the data into 10 equal parts\n",
    "result_rm=cross_val_score(model,features,target,cv=10,scoring='accuracy')\n",
    "\n",
    "print('The cross validated score for Random Forest Classifier is:',round(result_rm.mean()*100,2))\n",
    "\n",
    "y_pred = cross_val_predict(model,features,target,cv=10)\n",
    "seaborn.heatmap(confusion_matrix(target,y_pred),annot=True,fmt='3.0f',cmap=\"summer\")\n",
    "plt.title('Random Forest Classifier', y=1.05, size=15)"
   ]
  },
  {
   "cell_type": "code",
   "execution_count": 21,
   "id": "6d963a58",
   "metadata": {},
   "outputs": [
    {
     "name": "stdout",
     "output_type": "stream",
     "text": [
      "Acurácia: 0.789486\n"
     ]
    }
   ],
   "source": [
    "from sklearn.metrics import accuracy_score # importando a biblioteca para calcular a acurácia\n",
    "acuracia = accuracy_score(target, y_pred)\n",
    "print('Acurácia: %f' % acuracia)"
   ]
  },
  {
   "cell_type": "markdown",
   "id": "9b3d2ffd",
   "metadata": {},
   "source": [
    "The accuracy of the Random Forest Classifier is 79.72\n",
    "\n",
    "The cross validated score for Random Forest Classifier is: 76.14"
   ]
  },
  {
   "cell_type": "code",
   "execution_count": 22,
   "id": "aeb71eff",
   "metadata": {},
   "outputs": [
    {
     "data": {
      "text/plain": [
       "((8693, 6), (8693,), (4277, 6))"
      ]
     },
     "execution_count": 22,
     "metadata": {},
     "output_type": "execute_result"
    }
   ],
   "source": [
    "#train_dataframe=train_dataframe.drop(\"PassengerId\", axis=1)\n",
    "train_X = train_dataframe.drop(\"Transported\", axis=1)\n",
    "train_Y= train_dataframe[\"Transported\"]\n",
    "test_X  = test_dataframe.copy()\n",
    "train_X.shape, train_Y.shape, test_X.shape"
   ]
  },
  {
   "cell_type": "code",
   "execution_count": 23,
   "id": "b3181909",
   "metadata": {},
   "outputs": [
    {
     "name": "stdout",
     "output_type": "stream",
     "text": [
      "Accuracy  89.26\n"
     ]
    },
    {
     "data": {
      "image/png": "[encoded data removed]",
      "text/plain": [
       "<Figure size 640x480 with 1 Axes>"
      ]
     },
     "metadata": {},
     "output_type": "display_data"
    }
   ],
   "source": [
    "# Random Forests\n",
    "random_forest = RandomForestClassifier(class_weight=None, criterion='entropy',\n",
    "            max_depth=None, max_features='log2',\n",
    "            min_samples_leaf=2, min_samples_split=4,\n",
    "            n_estimators=500, n_jobs=1,\n",
    "            warm_start=True)\n",
    "random_forest.fit(train_X, train_Y)\n",
    "Y_pred_rf = random_forest.predict(test_X)#predições\n",
    "random_forest.score(train_X,train_Y)\n",
    "acc_random_forest = round(random_forest.score(train_X, train_Y) * 100, 2)\n",
    "\n",
    "pandas.Series(random_forest.feature_importances_,train_X.columns).sort_values(ascending=True).plot.barh(width=0.8)\n",
    "print(\"Accuracy \",acc_random_forest)\n",
    "\n",
    "submission = pandas.DataFrame({\n",
    "        \"PassengerId\": PassengerID,\n",
    "        \"Transported\": Y_pred_rf})\n",
    "\n",
    "submission.to_csv('MySubmissionFutureTitanicRandonForest01.csv', index=False)"
   ]
  },
  {
   "cell_type": "code",
   "execution_count": 24,
   "id": "ff092a85",
   "metadata": {},
   "outputs": [
    {
     "name": "stdout",
     "output_type": "stream",
     "text": [
      "Acurácia: 89.260000\n"
     ]
    }
   ],
   "source": [
    "print('Acurácia: %f' % acc_random_forest)"
   ]
  },
  {
   "cell_type": "code",
   "execution_count": 25,
   "id": "75085d6d",
   "metadata": {},
   "outputs": [
    {
     "data": {
      "text/plain": [
       "'Accuracy  95.25'"
      ]
     },
     "execution_count": 25,
     "metadata": {},
     "output_type": "execute_result"
    }
   ],
   "source": [
    "\"Accuracy  95.25\""
   ]
  },
  {
   "cell_type": "code",
   "execution_count": 26,
   "id": "20ade1d1",
   "metadata": {},
   "outputs": [
    {
     "name": "stdout",
     "output_type": "stream",
     "text": [
      "--------------The Accuracy of the model----------------------------\n",
      "The accuracy of the Gradient Boosting Classifier is 77.49\n",
      "The cross validated score for AdaBoostClassifier is: 78.99\n"
     ]
    },
    {
     "data": {
      "text/plain": [
       "Text(0.5, 1.05, 'Gradient Boosting Classifier')"
      ]
     },
     "execution_count": 26,
     "metadata": {},
     "output_type": "execute_result"
    },
    {
     "data": {
      "image/png": "[encoded data removed]",
      "text/plain": [
       "<Figure size 640x480 with 2 Axes>"
      ]
     },
     "metadata": {},
     "output_type": "display_data"
    }
   ],
   "source": [
    "from sklearn.ensemble import GradientBoostingClassifier\n",
    "model= GradientBoostingClassifier()\n",
    "model.fit(X_train,y_train)\n",
    "prediction_gbc=model.predict(X_test)\n",
    "print('--------------The Accuracy of the model----------------------------')\n",
    "print('The accuracy of the Gradient Boosting Classifier is',round(accuracy_score(prediction_gbc,y_test)*100,2))\n",
    "kfold = KFold(n_splits=10, random_state=22, shuffle=True) # k=10, split the data into 10 equal parts\n",
    "result_gbc=cross_val_score(model,features,target,cv=10,scoring='accuracy')\n",
    "print('The cross validated score for AdaBoostClassifier is:',round(result_gbc.mean()*100,2))\n",
    "y_pred = cross_val_predict(model,features,target,cv=10)\n",
    "seaborn.heatmap(confusion_matrix(target,y_pred),annot=True,fmt='3.0f',cmap=\"summer\")\n",
    "plt.title('Gradient Boosting Classifier', y=1.05, size=15)"
   ]
  },
  {
   "cell_type": "markdown",
   "id": "737da37c",
   "metadata": {},
   "source": [
    "The accuracy of the Gradient Boosting Classifier is 77.99\n",
    "\n",
    "The cross validated score for AdaBoostClassifier is: 73.58"
   ]
  },
  {
   "cell_type": "code",
   "execution_count": 27,
   "id": "98c198bf",
   "metadata": {},
   "outputs": [
    {
     "name": "stdout",
     "output_type": "stream",
     "text": [
      "Acuracia : 79.98\n"
     ]
    }
   ],
   "source": [
    "y = train_dataframe['Transported']\n",
    "X = train_dataframe.drop(['Transported'], axis=1)\n",
    "baseline = xg.XGBRegressor(learning_rate=0.01,n_estimators=2000, subsample=0.7,colsample_bytree=0.7,random_state=0)\n",
    "acc_random_forest = round(model.score(X, y) * 100, 2)\n",
    "print(\"Acuracia :\",acc_random_forest)"
   ]
  },
  {
   "cell_type": "markdown",
   "id": "fbbb2266",
   "metadata": {},
   "source": [
    "name deleted XGB avg: 0.40908364267848996\n",
    "\n",
    "name by OE XGB avg: 0.41514623825816344"
   ]
  },
  {
   "cell_type": "code",
   "execution_count": 28,
   "id": "9d3524b5",
   "metadata": {},
   "outputs": [
    {
     "data": {
      "text/html": [
       "<div>\n",
       "<style scoped>\n",
       "    .dataframe tbody tr th:only-of-type {\n",
       "        vertical-align: middle;\n",
       "    }\n",
       "\n",
       "    .dataframe tbody tr th {\n",
       "        vertical-align: top;\n",
       "    }\n",
       "\n",
       "    .dataframe thead th {\n",
       "        text-align: right;\n",
       "    }\n",
       "</style>\n",
       "<table border=\"1\" class=\"dataframe\">\n",
       "  <thead>\n",
       "    <tr style=\"text-align: right;\">\n",
       "      <th></th>\n",
       "      <th>PassengerId</th>\n",
       "      <th>Transported</th>\n",
       "    </tr>\n",
       "  </thead>\n",
       "  <tbody>\n",
       "    <tr>\n",
       "      <th>1932</th>\n",
       "      <td>4139_01</td>\n",
       "      <td>False</td>\n",
       "    </tr>\n",
       "    <tr>\n",
       "      <th>2653</th>\n",
       "      <td>5833_01</td>\n",
       "      <td>True</td>\n",
       "    </tr>\n",
       "    <tr>\n",
       "      <th>3482</th>\n",
       "      <td>7582_02</td>\n",
       "      <td>True</td>\n",
       "    </tr>\n",
       "    <tr>\n",
       "      <th>3145</th>\n",
       "      <td>6881_01</td>\n",
       "      <td>False</td>\n",
       "    </tr>\n",
       "    <tr>\n",
       "      <th>3552</th>\n",
       "      <td>7732_01</td>\n",
       "      <td>False</td>\n",
       "    </tr>\n",
       "    <tr>\n",
       "      <th>3332</th>\n",
       "      <td>7294_01</td>\n",
       "      <td>False</td>\n",
       "    </tr>\n",
       "    <tr>\n",
       "      <th>1495</th>\n",
       "      <td>3214_01</td>\n",
       "      <td>True</td>\n",
       "    </tr>\n",
       "    <tr>\n",
       "      <th>890</th>\n",
       "      <td>1845_01</td>\n",
       "      <td>False</td>\n",
       "    </tr>\n",
       "    <tr>\n",
       "      <th>2532</th>\n",
       "      <td>5547_01</td>\n",
       "      <td>True</td>\n",
       "    </tr>\n",
       "    <tr>\n",
       "      <th>1656</th>\n",
       "      <td>3581_01</td>\n",
       "      <td>False</td>\n",
       "    </tr>\n",
       "  </tbody>\n",
       "</table>\n",
       "</div>"
      ],
      "text/plain": [
       "     PassengerId Transported\n",
       "1932     4139_01       False\n",
       "2653     5833_01        True\n",
       "3482     7582_02        True\n",
       "3145     6881_01       False\n",
       "3552     7732_01       False\n",
       "3332     7294_01       False\n",
       "1495     3214_01        True\n",
       "890      1845_01       False\n",
       "2532     5547_01        True\n",
       "1656     3581_01       False"
      ]
     },
     "execution_count": 28,
     "metadata": {},
     "output_type": "execute_result"
    }
   ],
   "source": [
    "#Ate o presente momento o valor limiar de True e False não pode ser alterado\n",
    "#0.45 foi o ponto de inferencia\n",
    "# O proximo passo é pegar os melhores valores de cada modelo, por exemplo quando o valor estiver proximo de 0.45\n",
    "# priorizar o resultado do RF\n",
    "y = train_dataframe['Transported']\n",
    "X = train_dataframe.drop(['Transported'], axis=1)\n",
    "xgb = xg.XGBRegressor(learning_rate=0.01,n_estimators=2000, subsample=0.7,colsample_bytree=0.7,random_state=0).fit(X,y)\n",
    "xgb_preds_log=xgb.predict(test_X)\n",
    "predT=[]\n",
    "price = xgb.predict(test_X)\n",
    "for i in range (len(price)):\n",
    "    if (price[i] >= 0.45):\n",
    "        predT.append('True')\n",
    "    else:\n",
    "        predT.append('False')\n",
    "submission = pandas.DataFrame({\n",
    "    \"PassengerId\": PassengerID,\n",
    "    \"Transported\": predT\n",
    "})\n",
    "\n",
    "submission.to_csv(\"MySubmissionFutureTitanicXGB01.csv\", index=False)\n",
    "submission.sample(10)"
   ]
  },
  {
   "cell_type": "markdown",
   "id": "4b3c89df",
   "metadata": {},
   "source": [
    "Após confirmação no site do Kaggle foi verificado que o modelo Randon Forest obteve melhores resultados com 79.42% de acertos contra 78.13% do XGB"
   ]
  },
  {
   "cell_type": "markdown",
   "id": "924286cd",
   "metadata": {},
   "source": [
    "# Model 2\n",
    "\n",
    "Foi inscluso no modelo a coluna PassengerId que possui dados qualitativos porque todos os dados estão completos pois podemos encontrar os passageiros que estavam no mesmo quarto quantos passageiros, estas informações estão no valor após o _ seguido da quantidade."
   ]
  },
  {
   "cell_type": "code",
   "execution_count": 122,
   "id": "6024bde5",
   "metadata": {},
   "outputs": [],
   "source": [
    "train_dataframe = pandas.read_csv(\"train.csv\")\n",
    "test_dataframe = pandas.read_csv(\"test.csv\")"
   ]
  },
  {
   "cell_type": "code",
   "execution_count": 123,
   "id": "6743658b",
   "metadata": {},
   "outputs": [
    {
     "name": "stdout",
     "output_type": "stream",
     "text": [
      "  PassengerId HomePlanet CryoSleep  Cabin  Destination   Age    VIP  \\\n",
      "0     0001_01     Europa     False  B/0/P  TRAPPIST-1e  39.0  False   \n",
      "1     0002_01      Earth     False  F/0/S  TRAPPIST-1e  24.0  False   \n",
      "\n",
      "   RoomService  FoodCourt  ShoppingMall    Spa  VRDeck             Name  \\\n",
      "0          0.0        0.0           0.0    0.0     0.0  Maham Ofracculy   \n",
      "1        109.0        9.0          25.0  549.0    44.0     Juanna Vines   \n",
      "\n",
      "   Transported  \n",
      "0        False  \n",
      "1         True   \n",
      "\n",
      "\n",
      "---------------------------------------------------------------------------\n",
      "  PassengerId HomePlanet CryoSleep  Cabin  Destination   Age    VIP  \\\n",
      "0     0013_01      Earth      True  G/3/S  TRAPPIST-1e  27.0  False   \n",
      "1     0018_01      Earth     False  F/4/S  TRAPPIST-1e  19.0  False   \n",
      "\n",
      "   RoomService  FoodCourt  ShoppingMall     Spa  VRDeck             Name  \n",
      "0          0.0        0.0           0.0     0.0     0.0  Nelly Carsoning  \n",
      "1          0.0        9.0           0.0  2823.0     0.0   Lerome Peckers  \n"
     ]
    }
   ],
   "source": [
    "print(train_dataframe.head(2),'\\n\\n')\n",
    "print(\"-\"*75)\n",
    "print(test_dataframe.head(2))"
   ]
  },
  {
   "cell_type": "code",
   "execution_count": 124,
   "id": "25d29c1a",
   "metadata": {},
   "outputs": [],
   "source": [
    "PassengerID = test_dataframe['PassengerId']"
   ]
  },
  {
   "cell_type": "code",
   "execution_count": 125,
   "id": "e7a8d8fb",
   "metadata": {},
   "outputs": [],
   "source": [
    "columns_train_quantitative.append('PassengerId')\n",
    "columns_test_quantitative.append('PassengerId')\n",
    "columns_train_quantitative=columns_train_quantitative[:8]\n",
    "columns_test_quantitative=columns_test_quantitative[:7]\n",
    "train_dataframe=train_dataframe[columns_train_quantitative]\n",
    "test_dataframe=test_dataframe[columns_test_quantitative]"
   ]
  },
  {
   "cell_type": "code",
   "execution_count": 126,
   "id": "0a409e4b",
   "metadata": {},
   "outputs": [
    {
     "name": "stdout",
     "output_type": "stream",
     "text": [
      "Amount of NaN Train Data\n",
      "\n",
      "Percent of nan values: 1.6133670769584725\n",
      "\n",
      "Quantite of nan values:\n",
      " Age             179\n",
      "RoomService     181\n",
      "FoodCourt       183\n",
      "ShoppingMall    208\n",
      "Spa             183\n",
      "VRDeck          188\n",
      "Transported       0\n",
      "PassengerId       0\n",
      "dtype: int64\n",
      "None\n",
      "\n",
      "Amount of NaN Test Data\n",
      "\n",
      "Percent of nan values: 1.8637897057349946\n",
      "\n",
      "Quantite of nan values:\n",
      " Age              91\n",
      "RoomService      82\n",
      "FoodCourt       106\n",
      "ShoppingMall     98\n",
      "Spa             101\n",
      "VRDeck           80\n",
      "PassengerId       0\n",
      "dtype: int64\n",
      "None\n"
     ]
    }
   ],
   "source": [
    "print(\"Amount of NaN Train Data\\n\")\n",
    "print(nanValues(train_dataframe))\n",
    "print(\"\\nAmount of NaN Test Data\\n\")\n",
    "print(nanValues(test_dataframe))"
   ]
  },
  {
   "cell_type": "code",
   "execution_count": 127,
   "id": "ba43839e",
   "metadata": {
    "scrolled": true
   },
   "outputs": [
    {
     "name": "stdout",
     "output_type": "stream",
     "text": [
      "-----------Train DataFrame-----------\n",
      "       Age  RoomService  FoodCourt  ShoppingMall     Spa  VRDeck  Transported  \\\n",
      "0     39.0          0.0        0.0           0.0     0.0     0.0        False   \n",
      "1     24.0        109.0        9.0          25.0   549.0    44.0         True   \n",
      "2     58.0         43.0     3576.0           0.0  6715.0    49.0        False   \n",
      "3     33.0          0.0     1283.0         371.0  3329.0   193.0        False   \n",
      "4     16.0        303.0       70.0         151.0   565.0     2.0         True   \n",
      "...    ...          ...        ...           ...     ...     ...          ...   \n",
      "8688  41.0          0.0     6819.0           0.0  1643.0    74.0        False   \n",
      "8689  18.0          0.0        0.0           0.0     0.0     0.0        False   \n",
      "8690  26.0          0.0        0.0        1872.0     1.0     0.0         True   \n",
      "8691  32.0          0.0     1049.0           0.0   353.0  3235.0        False   \n",
      "8692  44.0        126.0     4688.0           0.0     0.0    12.0         True   \n",
      "\n",
      "     PassengerId  \n",
      "0        0001_01  \n",
      "1        0002_01  \n",
      "2        0003_01  \n",
      "3        0003_02  \n",
      "4        0004_01  \n",
      "...          ...  \n",
      "8688     9276_01  \n",
      "8689     9278_01  \n",
      "8690     9279_01  \n",
      "8691     9280_01  \n",
      "8692     9280_02  \n",
      "\n",
      "[8693 rows x 8 columns]\n",
      "\n",
      "-----------Test DataFrame-----------\n",
      "       Age  RoomService  FoodCourt  ShoppingMall     Spa  VRDeck PassengerId\n",
      "0     27.0          0.0        0.0           0.0     0.0     0.0     0013_01\n",
      "1     19.0          0.0        9.0           0.0  2823.0     0.0     0018_01\n",
      "2     31.0          0.0        0.0           0.0     0.0     0.0     0019_01\n",
      "3     38.0          0.0     6652.0           0.0   181.0   585.0     0021_01\n",
      "4     20.0         10.0        0.0         635.0     0.0     0.0     0023_01\n",
      "...    ...          ...        ...           ...     ...     ...         ...\n",
      "4272  34.0          0.0        0.0           0.0     0.0     0.0     9266_02\n",
      "4273  42.0          0.0      847.0          17.0    10.0   144.0     9269_01\n",
      "4274   NaN          0.0        0.0           0.0     0.0     0.0     9271_01\n",
      "4275   NaN          0.0     2680.0           0.0     0.0   523.0     9273_01\n",
      "4276  43.0          0.0        0.0           0.0     0.0     0.0     9277_01\n",
      "\n",
      "[4277 rows x 7 columns]\n"
     ]
    }
   ],
   "source": [
    "print(\"-----------Train DataFrame-----------\")\n",
    "print(train_dataframe);\n",
    "print(\"\\n-----------Test DataFrame-----------\")\n",
    "print(test_dataframe);"
   ]
  },
  {
   "cell_type": "code",
   "execution_count": 128,
   "id": "8ea71354",
   "metadata": {},
   "outputs": [
    {
     "data": {
      "text/plain": [
       "<AxesSubplot:>"
      ]
     },
     "execution_count": 128,
     "metadata": {},
     "output_type": "execute_result"
    },
    {
     "data": {
      "image/png": "[encoded data removed]",
      "text/plain": [
       "<Figure size 2500x1000 with 2 Axes>"
      ]
     },
     "metadata": {},
     "output_type": "display_data"
    }
   ],
   "source": [
    "fig, ax = plt.subplots(figsize=(25,10))\n",
    "seaborn.heatmap(data=train_dataframe.isnull(), yticklabels=False, ax=ax)"
   ]
  },
  {
   "cell_type": "code",
   "execution_count": 129,
   "id": "4ad03dc3",
   "metadata": {},
   "outputs": [
    {
     "data": {
      "text/plain": [
       "<AxesSubplot:>"
      ]
     },
     "execution_count": 129,
     "metadata": {},
     "output_type": "execute_result"
    },
    {
     "data": {
      "image/png": "[encoded data removed]",
      "text/plain": [
       "<Figure size 2500x1000 with 2 Axes>"
      ]
     },
     "metadata": {},
     "output_type": "display_data"
    }
   ],
   "source": [
    "fig, ax = plt.subplots(figsize=(25,10))\n",
    "seaborn.heatmap(data=test_dataframe.isnull(), yticklabels=False, ax=ax)"
   ]
  },
  {
   "cell_type": "markdown",
   "id": "f83f71db",
   "metadata": {},
   "source": [
    "A partir daqui para não deixar o estudo muito grande e com informações repetidas so mostrarei as informações dos dados de treino, e não mais dos de teste por apresentarem as \"mesmas\" informações."
   ]
  },
  {
   "cell_type": "code",
   "execution_count": 130,
   "id": "1cf2f93f",
   "metadata": {},
   "outputs": [
    {
     "name": "stdout",
     "output_type": "stream",
     "text": [
      "Age\n",
      "2.0591280340503855\n",
      "RoomService\n",
      "2.082135051190613\n",
      "FoodCourt\n",
      "2.105142068330841\n",
      "ShoppingMall\n",
      "2.392729782583688\n",
      "Spa\n",
      "2.105142068330841\n",
      "VRDeck\n",
      "2.1626596111814105\n"
     ]
    }
   ],
   "source": [
    "percentColumnNullValues(train_dataframe)"
   ]
  },
  {
   "cell_type": "code",
   "execution_count": 131,
   "id": "a8ff54f0",
   "metadata": {},
   "outputs": [],
   "source": [
    "train_dataframe['Age'].fillna(train_dataframe['Age'].mean(), inplace = True)\n",
    "train_dataframe['RoomService'].fillna(0, inplace = True)\n",
    "train_dataframe['FoodCourt'].fillna(0, inplace = True)\n",
    "train_dataframe['ShoppingMall'].fillna(0, inplace = True)\n",
    "train_dataframe['Spa'].fillna(0, inplace = True)\n",
    "train_dataframe['VRDeck'].fillna(0, inplace = True)\n",
    "\n",
    "test_dataframe['Age'].fillna(test_dataframe['Age'].mean(), inplace = True)\n",
    "test_dataframe['RoomService'].fillna(0, inplace = True)\n",
    "test_dataframe['FoodCourt'].fillna(0, inplace = True)\n",
    "test_dataframe['ShoppingMall'].fillna(0, inplace = True)\n",
    "test_dataframe['Spa'].fillna(0, inplace = True)\n",
    "test_dataframe['VRDeck'].fillna(0, inplace = True)"
   ]
  },
  {
   "cell_type": "code",
   "execution_count": 132,
   "id": "3ac0d5bc",
   "metadata": {},
   "outputs": [
    {
     "data": {
      "text/plain": [
       "Transported     1.000000\n",
       "Age            -0.069664\n",
       "FoodCourt      -0.186388\n",
       "ShoppingMall   -0.227018\n",
       "VRDeck         -0.347008\n",
       "RoomService    -0.363899\n",
       "Spa            -0.366099\n",
       "Name: Transported, dtype: float64"
      ]
     },
     "execution_count": 132,
     "metadata": {},
     "output_type": "execute_result"
    }
   ],
   "source": [
    "train_dataframe.corr(method='spearman').Transported.sort_values(ascending=False)"
   ]
  },
  {
   "cell_type": "code",
   "execution_count": 133,
   "id": "e41b00a1",
   "metadata": {
    "scrolled": true
   },
   "outputs": [
    {
     "data": {
      "text/html": [
       "<div>\n",
       "<style scoped>\n",
       "    .dataframe tbody tr th:only-of-type {\n",
       "        vertical-align: middle;\n",
       "    }\n",
       "\n",
       "    .dataframe tbody tr th {\n",
       "        vertical-align: top;\n",
       "    }\n",
       "\n",
       "    .dataframe thead th {\n",
       "        text-align: right;\n",
       "    }\n",
       "</style>\n",
       "<table border=\"1\" class=\"dataframe\">\n",
       "  <thead>\n",
       "    <tr style=\"text-align: right;\">\n",
       "      <th></th>\n",
       "      <th>Age</th>\n",
       "      <th>RoomService</th>\n",
       "      <th>FoodCourt</th>\n",
       "      <th>ShoppingMall</th>\n",
       "      <th>Spa</th>\n",
       "      <th>VRDeck</th>\n",
       "      <th>Transported</th>\n",
       "      <th>PassengerId</th>\n",
       "    </tr>\n",
       "  </thead>\n",
       "  <tbody>\n",
       "    <tr>\n",
       "      <th>0</th>\n",
       "      <td>39.0</td>\n",
       "      <td>0.0</td>\n",
       "      <td>0.0</td>\n",
       "      <td>0.0</td>\n",
       "      <td>0.0</td>\n",
       "      <td>0.0</td>\n",
       "      <td>False</td>\n",
       "      <td>1</td>\n",
       "    </tr>\n",
       "    <tr>\n",
       "      <th>1</th>\n",
       "      <td>24.0</td>\n",
       "      <td>109.0</td>\n",
       "      <td>9.0</td>\n",
       "      <td>25.0</td>\n",
       "      <td>549.0</td>\n",
       "      <td>44.0</td>\n",
       "      <td>True</td>\n",
       "      <td>2</td>\n",
       "    </tr>\n",
       "    <tr>\n",
       "      <th>2</th>\n",
       "      <td>58.0</td>\n",
       "      <td>43.0</td>\n",
       "      <td>3576.0</td>\n",
       "      <td>0.0</td>\n",
       "      <td>6715.0</td>\n",
       "      <td>49.0</td>\n",
       "      <td>False</td>\n",
       "      <td>3</td>\n",
       "    </tr>\n",
       "    <tr>\n",
       "      <th>3</th>\n",
       "      <td>33.0</td>\n",
       "      <td>0.0</td>\n",
       "      <td>1283.0</td>\n",
       "      <td>371.0</td>\n",
       "      <td>3329.0</td>\n",
       "      <td>193.0</td>\n",
       "      <td>False</td>\n",
       "      <td>3</td>\n",
       "    </tr>\n",
       "    <tr>\n",
       "      <th>4</th>\n",
       "      <td>16.0</td>\n",
       "      <td>303.0</td>\n",
       "      <td>70.0</td>\n",
       "      <td>151.0</td>\n",
       "      <td>565.0</td>\n",
       "      <td>2.0</td>\n",
       "      <td>True</td>\n",
       "      <td>4</td>\n",
       "    </tr>\n",
       "    <tr>\n",
       "      <th>5</th>\n",
       "      <td>44.0</td>\n",
       "      <td>0.0</td>\n",
       "      <td>483.0</td>\n",
       "      <td>0.0</td>\n",
       "      <td>291.0</td>\n",
       "      <td>0.0</td>\n",
       "      <td>True</td>\n",
       "      <td>5</td>\n",
       "    </tr>\n",
       "    <tr>\n",
       "      <th>6</th>\n",
       "      <td>26.0</td>\n",
       "      <td>42.0</td>\n",
       "      <td>1539.0</td>\n",
       "      <td>3.0</td>\n",
       "      <td>0.0</td>\n",
       "      <td>0.0</td>\n",
       "      <td>True</td>\n",
       "      <td>6</td>\n",
       "    </tr>\n",
       "    <tr>\n",
       "      <th>7</th>\n",
       "      <td>28.0</td>\n",
       "      <td>0.0</td>\n",
       "      <td>0.0</td>\n",
       "      <td>0.0</td>\n",
       "      <td>0.0</td>\n",
       "      <td>0.0</td>\n",
       "      <td>True</td>\n",
       "      <td>6</td>\n",
       "    </tr>\n",
       "    <tr>\n",
       "      <th>8</th>\n",
       "      <td>35.0</td>\n",
       "      <td>0.0</td>\n",
       "      <td>785.0</td>\n",
       "      <td>17.0</td>\n",
       "      <td>216.0</td>\n",
       "      <td>0.0</td>\n",
       "      <td>True</td>\n",
       "      <td>7</td>\n",
       "    </tr>\n",
       "    <tr>\n",
       "      <th>9</th>\n",
       "      <td>14.0</td>\n",
       "      <td>0.0</td>\n",
       "      <td>0.0</td>\n",
       "      <td>0.0</td>\n",
       "      <td>0.0</td>\n",
       "      <td>0.0</td>\n",
       "      <td>True</td>\n",
       "      <td>8</td>\n",
       "    </tr>\n",
       "  </tbody>\n",
       "</table>\n",
       "</div>"
      ],
      "text/plain": [
       "    Age  RoomService  FoodCourt  ShoppingMall     Spa  VRDeck  Transported  \\\n",
       "0  39.0          0.0        0.0           0.0     0.0     0.0        False   \n",
       "1  24.0        109.0        9.0          25.0   549.0    44.0         True   \n",
       "2  58.0         43.0     3576.0           0.0  6715.0    49.0        False   \n",
       "3  33.0          0.0     1283.0         371.0  3329.0   193.0        False   \n",
       "4  16.0        303.0       70.0         151.0   565.0     2.0         True   \n",
       "5  44.0          0.0      483.0           0.0   291.0     0.0         True   \n",
       "6  26.0         42.0     1539.0           3.0     0.0     0.0         True   \n",
       "7  28.0          0.0        0.0           0.0     0.0     0.0         True   \n",
       "8  35.0          0.0      785.0          17.0   216.0     0.0         True   \n",
       "9  14.0          0.0        0.0           0.0     0.0     0.0         True   \n",
       "\n",
       "   PassengerId  \n",
       "0            1  \n",
       "1            2  \n",
       "2            3  \n",
       "3            3  \n",
       "4            4  \n",
       "5            5  \n",
       "6            6  \n",
       "7            6  \n",
       "8            7  \n",
       "9            8  "
      ]
     },
     "execution_count": 133,
     "metadata": {},
     "output_type": "execute_result"
    }
   ],
   "source": [
    "test_dataframe['PassengerId'] = getPassengerIdNumber(test_dataframe['PassengerId'])\n",
    "train_dataframe['PassengerId'] = getPassengerIdNumber(train_dataframe['PassengerId'])\n",
    "train_dataframe[:10]"
   ]
  },
  {
   "cell_type": "markdown",
   "id": "6bfc6805",
   "metadata": {},
   "source": [
    "# Treinamento do modelo"
   ]
  },
  {
   "cell_type": "code",
   "execution_count": 99,
   "id": "90c4aec6",
   "metadata": {},
   "outputs": [
    {
     "data": {
      "text/plain": [
       "((6085, 7), (2608, 7), (6085,), (2608,))"
      ]
     },
     "execution_count": 99,
     "metadata": {},
     "output_type": "execute_result"
    }
   ],
   "source": [
    "features = train_dataframe.drop(\"Transported\",axis=1)\n",
    "target = train_dataframe[\"Transported\"]\n",
    "X_train,X_test,y_train,y_test = train_test_split(features,target,test_size=0.3,random_state=22)\n",
    "X_train.shape,X_test.shape,y_train.shape,y_test.shape"
   ]
  },
  {
   "cell_type": "code",
   "execution_count": 100,
   "id": "b38852df",
   "metadata": {},
   "outputs": [
    {
     "name": "stdout",
     "output_type": "stream",
     "text": [
      "Acuracia: 76.84\n",
      "Acuracia com validação cruzada media 5 exemplos 62.56\n"
     ]
    },
    {
     "data": {
      "image/png": "[encoded data removed]",
      "text/plain": [
       "<Figure size 640x480 with 2 Axes>"
      ]
     },
     "metadata": {},
     "output_type": "display_data"
    }
   ],
   "source": [
    "# Random Forests\n",
    "from sklearn.ensemble import RandomForestClassifier\n",
    "\n",
    "#n_estimators its exemples quantite that we will use in the training\n",
    "RandonForestModel = RandomForestClassifier(criterion='gini', n_estimators=700,\n",
    "                             min_samples_split=10,min_samples_leaf=1,\n",
    "                             max_features='auto',oob_score=True,\n",
    "                             random_state=1,n_jobs=-1)\n",
    "\n",
    "RandonForestModel.fit(X_train,y_train)\n",
    "prediction_rm=RandonForestModel.predict(X_test)\n",
    "print('Acuracia:',round(accuracy_score(prediction_rm,y_test)*100,2))\n",
    "\n",
    "kfold = KFold(n_splits=5, random_state=22,shuffle=True) # k=10, split the data into 10 equal parts\n",
    "result_rm=cross_val_score(RandonForestModel,features,target,cv=5,scoring='accuracy')\n",
    "print('Acuracia com validação cruzada media 5 exemplos',round(result_rm.mean()*100,2))\n",
    "\n",
    "y_pred = cross_val_predict(RandonForestModel,features,target,cv=5)\n",
    "seaborn.heatmap(confusion_matrix(target,y_pred),annot=True,fmt='3.0f',cmap=\"summer\");\n",
    "plt.title('Random Forest Classifier', y=1.05, size=15);"
   ]
  },
  {
   "cell_type": "code",
   "execution_count": 101,
   "id": "c6dbd986",
   "metadata": {},
   "outputs": [
    {
     "name": "stdout",
     "output_type": "stream",
     "text": [
      "Acuracia: 73.12\n",
      "Acuracia com validação cruzada media 5 exemplos: 58.44\n"
     ]
    },
    {
     "data": {
      "image/png": "[encoded data removed]",
      "text/plain": [
       "<Figure size 640x480 with 2 Axes>"
      ]
     },
     "metadata": {},
     "output_type": "display_data"
    }
   ],
   "source": [
    "from sklearn.ensemble import GradientBoostingClassifier\n",
    "GradientBCmodel= GradientBoostingClassifier(n_estimators=500,\n",
    "                                            max_depth=50,\n",
    "                                            max_features='auto',\n",
    "                                            min_samples_split=10,\n",
    "                                            random_state=1,\n",
    "                                            #verbose=1,\n",
    "                                            validation_fraction=0.3,\n",
    "                                            n_iter_no_change=1\n",
    "                                           )\n",
    "GradientBCmodel.fit(X_train,y_train)\n",
    "prediction_gbc=GradientBCmodel.predict(X_test)\n",
    "print('Acuracia:',round(accuracy_score(prediction_gbc,y_test)*100,2))\n",
    "kfold = KFold(n_splits=5, random_state=22, shuffle=True) # k=10, split the data into 10 equal parts\n",
    "five_results_cval=cross_val_score(GradientBCmodel,features,target,cv=5,scoring='accuracy')\n",
    "print('Acuracia com validação cruzada media 5 exemplos:',round(five_results_cval.mean()*100,2))\n",
    "y_pred = cross_val_predict(GradientBCmodel,features,target,cv=5)\n",
    "seaborn.heatmap(confusion_matrix(target,y_pred),annot=True,fmt='3.0f',cmap=\"summer\");\n",
    "plt.title('Gradient Boosting Classifier', y=1.05, size=15);"
   ]
  },
  {
   "cell_type": "code",
   "execution_count": 102,
   "id": "4c6f2cc3",
   "metadata": {},
   "outputs": [
    {
     "data": {
      "text/plain": [
       "((8693, 7), (8693,), (4277, 7))"
      ]
     },
     "execution_count": 102,
     "metadata": {},
     "output_type": "execute_result"
    }
   ],
   "source": [
    "#train_dataframe=train_dataframe.drop(\"PassengerId\", axis=1)\n",
    "train_X = train_dataframe.drop(\"Transported\", axis=1)#features\n",
    "train_Y= train_dataframe[\"Transported\"]#target\n",
    "test_X  = test_dataframe.copy()\n",
    "train_X.shape, train_Y.shape, test_X.shape"
   ]
  },
  {
   "cell_type": "code",
   "execution_count": 103,
   "id": "6ca00160",
   "metadata": {},
   "outputs": [
    {
     "name": "stdout",
     "output_type": "stream",
     "text": [
      "Accuracy  92.55\n"
     ]
    },
    {
     "data": {
      "image/png": "[encoded data removed]",
      "text/plain": [
       "<Figure size 640x480 with 1 Axes>"
      ]
     },
     "metadata": {},
     "output_type": "display_data"
    }
   ],
   "source": [
    "# Random Forests\n",
    "random_forest = RandomForestClassifier(class_weight=None, criterion='entropy',\n",
    "            max_depth=None, max_features='log2',\n",
    "            min_samples_leaf=2, min_samples_split=4,\n",
    "            n_estimators=500, n_jobs=1,\n",
    "            warm_start=True,random_state=0)\n",
    "random_forest.fit(train_X, train_Y)\n",
    "Y_pred_rf = random_forest.predict(test_X)#predições\n",
    "random_forest.score(train_X,train_Y)\n",
    "acc_random_forest = round(random_forest.score(train_X, train_Y) * 100, 2)\n",
    "\n",
    "pandas.Series(random_forest.feature_importances_,train_X.columns).sort_values(ascending=True).plot.barh(width=0.8)\n",
    "print(\"Accuracy \",acc_random_forest)\n",
    "\n",
    "submission = pandas.DataFrame({\n",
    "        \"PassengerId\": PassengerID,\n",
    "        \"Transported\": Y_pred_rf})\n",
    "\n",
    "submission.to_csv('MySubmissionFutureTitanicRandonForest01.csv', index=False)"
   ]
  },
  {
   "cell_type": "code",
   "execution_count": 104,
   "id": "6043331a",
   "metadata": {
    "scrolled": true
   },
   "outputs": [
    {
     "name": "stdout",
     "output_type": "stream",
     "text": [
      "Accuracy  62.79\n"
     ]
    },
    {
     "data": {
      "image/png": "[encoded data removed]",
      "text/plain": [
       "<Figure size 640x480 with 1 Axes>"
      ]
     },
     "metadata": {},
     "output_type": "display_data"
    }
   ],
   "source": [
    "xgb = xg.XGBRegressor(learning_rate=0.01,n_estimators=2000\n",
    "                      , subsample=0.7,colsample_bytree=0.7,\n",
    "                      random_state=0).fit(X,y)\n",
    "xgb.fit(train_X, train_Y)\n",
    "Y_pred_rf = xgb.predict(test_X)#predições\n",
    "xgb.score(train_X,train_Y)\n",
    "acc_XGB = round(xgb.score(train_X, train_Y) * 100, 2)\n",
    "\n",
    "pandas.Series(xgb.feature_importances_,train_X.columns).sort_values(ascending=True).plot.barh(width=0.8)\n",
    "print(\"Accuracy \", acc_XGB)\n",
    "\n",
    "predT=[]\n",
    "price = xgb.predict(test_X)\n",
    "for i in range (len(price)):\n",
    "    if (price[i] >= 0.45):\n",
    "        predT.append('True')\n",
    "    else:\n",
    "        predT.append('False')\n",
    "        \n",
    "submission = pandas.DataFrame({\n",
    "        \"PassengerId\": PassengerID,\n",
    "        \"Transported\": predT})\n",
    "\n",
    "submission.to_csv('MySubmissionFutureTitanicXGB01.csv', index=False)"
   ]
  },
  {
   "cell_type": "markdown",
   "id": "3506a5bf",
   "metadata": {},
   "source": [
    "## Resultados\n",
    "Após confirmação no site do Kaggle foi verificado que o modelo Randon Forest obteve piores resultados com 78.48% de acertos contra 79.30% do XGB"
   ]
  },
  {
   "cell_type": "markdown",
   "id": "065dda2e",
   "metadata": {},
   "source": [
    "## Aperfeiçoamento do modelo\n",
    "Conforme verificado tivemos algum problemas quanto a algumas variaveis principalmente no modelo XGB que demonstrou uma baixa acuracia para idade, identificação do passageiro, compras no shopping e alimentação, talvez estas variaveis não sejam importantes porem iremos leva-las em conta a principio e iremos procurar uma forma de melhorar seus resultados, tambem foi verificado que se trocarmos a media pelo valor 0 para as variaveis Spa, VRDeck,RoomService, FoodCourt e ShoppingMall a precisão do XGB sai de 79.30% para 79.51%.\n",
    "\n",
    "## Proximos passos\n",
    "Seria muito interessante agora que conseguimos melhorar o resultado sem nenhum balanceamento dos dados que o façamos, sera testadas ambas opçoes tanto de pegar a menor quantidade de dados quanto a de gerar dados para balancear os dados, agora iremos fazer este balanceamento, que sera feito por meio da nova variavel HomePlanet que sera adicionada ao dataset"
   ]
  },
  {
   "cell_type": "markdown",
   "id": "10f97394",
   "metadata": {},
   "source": [
    "# Model 3 - Balanceado os dados\n",
    "Os dados serão balanceados com base na saida, foi utilizado o RandomOverSampler porem os resultados foram piores do que os anteriores então sera utilizado o RandomUnderSampler para verificar os resultados foram piores nos 2 casos não passando de 76.4% o que é poir em mais de 3% do ultimo resultado porem quando analisado sem o uso do balanceamento o resultado não foi tão diferente 76.642% então outra estrategia sera adotada, tambem verifiquei que talvez adicionar somente o local de saida foi ruim pois o local de destino talvez seria mais interessante, sera adicionado esta informações ao modelo 3 para rever os resultados.\n",
    "Apos colocar o destino o modelo de aprendizado obteve os seguintes resultados no treino:\n",
    "\n",
    "RF : Acuracia: 100.0/ Acuracia com validação cruzada media 5 exemplos 68.45 /Acuracia da predição dos itens  95.39\n",
    "\n",
    "\n",
    "SGB : Acuracia: 100.0/ Acuracia com validação cruzada media 5 exemplos: 63.72/Acuracia da predição dos itens 67.83\n",
    "\n"
   ]
  },
  {
   "cell_type": "code",
   "execution_count": 10,
   "id": "3ef301b2",
   "metadata": {},
   "outputs": [
    {
     "data": {
      "text/plain": [
       "Index(['PassengerId', 'HomePlanet', 'CryoSleep', 'Cabin', 'Destination', 'Age',\n",
       "       'VIP', 'RoomService', 'FoodCourt', 'ShoppingMall', 'Spa', 'VRDeck',\n",
       "       'Name', 'Transported'],\n",
       "      dtype='object')"
      ]
     },
     "execution_count": 10,
     "metadata": {},
     "output_type": "execute_result"
    }
   ],
   "source": [
    "train_dataframe = pandas.read_csv(\"train.csv\")\n",
    "test_dataframe = pandas.read_csv(\"test.csv\")\n",
    "train_dataframe.columns"
   ]
  },
  {
   "cell_type": "code",
   "execution_count": 11,
   "id": "a0df1103",
   "metadata": {
    "scrolled": false
   },
   "outputs": [
    {
     "data": {
      "text/plain": [
       "0       0013_01\n",
       "1       0018_01\n",
       "2       0019_01\n",
       "3       0021_01\n",
       "4       0023_01\n",
       "         ...   \n",
       "4272    9266_02\n",
       "4273    9269_01\n",
       "4274    9271_01\n",
       "4275    9273_01\n",
       "4276    9277_01\n",
       "Name: PassengerId, Length: 4277, dtype: object"
      ]
     },
     "execution_count": 11,
     "metadata": {},
     "output_type": "execute_result"
    }
   ],
   "source": [
    "imutPassengerID = test_dataframe['PassengerId'].copy()\n",
    "imutPassengerID"
   ]
  },
  {
   "cell_type": "code",
   "execution_count": 12,
   "id": "f9925ddc",
   "metadata": {},
   "outputs": [
    {
     "name": "stdout",
     "output_type": "stream",
     "text": [
      "  PassengerId HomePlanet CryoSleep  Cabin  Destination   Age    VIP  \\\n",
      "0     0001_01     Europa     False  B/0/P  TRAPPIST-1e  39.0  False   \n",
      "1     0002_01      Earth     False  F/0/S  TRAPPIST-1e  24.0  False   \n",
      "\n",
      "   RoomService  FoodCourt  ShoppingMall    Spa  VRDeck             Name  \\\n",
      "0          0.0        0.0           0.0    0.0     0.0  Maham Ofracculy   \n",
      "1        109.0        9.0          25.0  549.0    44.0     Juanna Vines   \n",
      "\n",
      "   Transported  \n",
      "0        False  \n",
      "1         True   \n",
      "\n",
      "\n",
      "---------------------------------------------------------------------------\n",
      "  PassengerId HomePlanet CryoSleep  Cabin  Destination   Age    VIP  \\\n",
      "0     0013_01      Earth      True  G/3/S  TRAPPIST-1e  27.0  False   \n",
      "1     0018_01      Earth     False  F/4/S  TRAPPIST-1e  19.0  False   \n",
      "\n",
      "   RoomService  FoodCourt  ShoppingMall     Spa  VRDeck             Name  \n",
      "0          0.0        0.0           0.0     0.0     0.0  Nelly Carsoning  \n",
      "1          0.0        9.0           0.0  2823.0     0.0   Lerome Peckers  \n"
     ]
    }
   ],
   "source": [
    "print(train_dataframe.head(2),'\\n\\n')\n",
    "print(\"-\"*75)\n",
    "print(test_dataframe.head(2))"
   ]
  },
  {
   "cell_type": "code",
   "execution_count": 13,
   "id": "16c5f982",
   "metadata": {},
   "outputs": [],
   "source": [
    "PassengerID = test_dataframe['PassengerId']"
   ]
  },
  {
   "cell_type": "code",
   "execution_count": 14,
   "id": "fafa658e",
   "metadata": {},
   "outputs": [],
   "source": [
    "columns_test_quantitative = [i for i in test_dataframe.columns if test_dataframe.dtypes[i] != 'object']\n",
    "columns_train_quantitative = [i for i in train_dataframe.columns if train_dataframe.dtypes[i] != 'object']\n",
    "\n",
    "columns_train_quantitative.append('PassengerId')\n",
    "columns_test_quantitative.append('PassengerId')\n",
    "\n",
    "columns_train_quantitative.append('HomePlanet')\n",
    "columns_test_quantitative.append('HomePlanet')\n",
    "\n",
    "columns_train_quantitative.append('Destination')\n",
    "columns_test_quantitative.append('Destination')\n",
    "\n",
    "columns_train_quantitative=columns_train_quantitative[:len(columns_train_quantitative)]\n",
    "columns_test_quantitative=columns_test_quantitative[:len(columns_test_quantitative)]\n",
    "train_dataframe=train_dataframe[columns_train_quantitative]\n",
    "test_dataframe=test_dataframe[columns_test_quantitative]"
   ]
  },
  {
   "cell_type": "code",
   "execution_count": 15,
   "id": "a9fbe945",
   "metadata": {},
   "outputs": [
    {
     "name": "stdout",
     "output_type": "stream",
     "text": [
      "Amount of NaN Train Data\n",
      "\n",
      "Percent of nan values: 1.7312780398021397\n",
      "\n",
      "Quantite of nan values:\n",
      " Age             179\n",
      "RoomService     181\n",
      "FoodCourt       183\n",
      "ShoppingMall    208\n",
      "Spa             183\n",
      "VRDeck          188\n",
      "Transported       0\n",
      "PassengerId       0\n",
      "HomePlanet      201\n",
      "Destination     182\n",
      "dtype: int64\n",
      "None\n",
      "\n",
      "Amount of NaN Test Data\n",
      "\n",
      "Percent of nan values: 1.9146338295274468\n",
      "\n",
      "Quantite of nan values:\n",
      " Age              91\n",
      "RoomService      82\n",
      "FoodCourt       106\n",
      "ShoppingMall     98\n",
      "Spa             101\n",
      "VRDeck           80\n",
      "PassengerId       0\n",
      "HomePlanet       87\n",
      "Destination      92\n",
      "dtype: int64\n",
      "None\n"
     ]
    }
   ],
   "source": [
    "print(\"Amount of NaN Train Data\\n\")\n",
    "print(nanValues(train_dataframe))\n",
    "print(\"\\nAmount of NaN Test Data\\n\")\n",
    "print(nanValues(test_dataframe))"
   ]
  },
  {
   "cell_type": "code",
   "execution_count": 16,
   "id": "2177ec30",
   "metadata": {
    "scrolled": true
   },
   "outputs": [
    {
     "name": "stdout",
     "output_type": "stream",
     "text": [
      "-----------Train DataFrame-----------\n",
      "Index(['Age', 'RoomService', 'FoodCourt', 'ShoppingMall', 'Spa', 'VRDeck',\n",
      "       'Transported', 'PassengerId', 'HomePlanet', 'Destination'],\n",
      "      dtype='object')\n",
      "\n",
      "-----------Test DataFrame-----------\n",
      "Index(['Age', 'RoomService', 'FoodCourt', 'ShoppingMall', 'Spa', 'VRDeck',\n",
      "       'PassengerId', 'HomePlanet', 'Destination'],\n",
      "      dtype='object')\n"
     ]
    }
   ],
   "source": [
    "print(\"-----------Train DataFrame-----------\")\n",
    "print(train_dataframe.columns);\n",
    "print(\"\\n-----------Test DataFrame-----------\")\n",
    "print(test_dataframe.columns);"
   ]
  },
  {
   "cell_type": "code",
   "execution_count": 17,
   "id": "1ead5e7b",
   "metadata": {
    "scrolled": true
   },
   "outputs": [
    {
     "data": {
      "text/plain": [
       "<AxesSubplot:>"
      ]
     },
     "execution_count": 17,
     "metadata": {},
     "output_type": "execute_result"
    },
    {
     "data": {
      "image/png": "[encoded data removed]",
      "text/plain": [
       "<Figure size 2500x1000 with 2 Axes>"
      ]
     },
     "metadata": {},
     "output_type": "display_data"
    }
   ],
   "source": [
    "fig, ax = plt.subplots(figsize=(25,10))\n",
    "seaborn.heatmap(data=train_dataframe.isnull(), yticklabels=False, ax=ax)"
   ]
  },
  {
   "cell_type": "code",
   "execution_count": 18,
   "id": "08fae2e5",
   "metadata": {},
   "outputs": [
    {
     "data": {
      "text/plain": [
       "<AxesSubplot:>"
      ]
     },
     "execution_count": 18,
     "metadata": {},
     "output_type": "execute_result"
    },
    {
     "data": {
      "image/png": "[encoded data removed]",
      "text/plain": [
       "<Figure size 2500x1000 with 2 Axes>"
      ]
     },
     "metadata": {},
     "output_type": "display_data"
    }
   ],
   "source": [
    "fig, ax = plt.subplots(figsize=(25,10))\n",
    "seaborn.heatmap(data=test_dataframe.isnull(), yticklabels=False, ax=ax)"
   ]
  },
  {
   "cell_type": "markdown",
   "id": "2c9b7cb3",
   "metadata": {},
   "source": [
    "A partir daqui para não deixar o estudo muito grande e com informações repetidas so mostrarei as informações dos dados de treino, e não mais dos de teste por apresentarem as \"mesmas\" informações."
   ]
  },
  {
   "cell_type": "code",
   "execution_count": 19,
   "id": "664017ba",
   "metadata": {},
   "outputs": [],
   "source": [
    "train_dataframe['Age'].fillna(train_dataframe['Age'].mean(), inplace = True)\n",
    "train_dataframe['RoomService'].fillna(0, inplace = True)\n",
    "train_dataframe['FoodCourt'].fillna(0, inplace = True)\n",
    "train_dataframe['ShoppingMall'].fillna(0, inplace = True)\n",
    "train_dataframe['Spa'].fillna(0, inplace = True)\n",
    "train_dataframe['VRDeck'].fillna(0, inplace = True)\n",
    "\n",
    "test_dataframe['Age'].fillna(test_dataframe['Age'].mean(), inplace = True)\n",
    "test_dataframe['RoomService'].fillna(0, inplace = True)\n",
    "test_dataframe['FoodCourt'].fillna(0, inplace = True)\n",
    "test_dataframe['ShoppingMall'].fillna(0, inplace = True)\n",
    "test_dataframe['Spa'].fillna(0, inplace = True)\n",
    "test_dataframe['VRDeck'].fillna(0, inplace = True)"
   ]
  },
  {
   "cell_type": "code",
   "execution_count": 20,
   "id": "adf11671",
   "metadata": {},
   "outputs": [
    {
     "name": "stdout",
     "output_type": "stream",
     "text": [
      "HomePlanet\n",
      "2.034136076689268\n",
      "Destination\n",
      "2.1510404489127897\n"
     ]
    }
   ],
   "source": [
    "percentColumnNullValues(test_dataframe)"
   ]
  },
  {
   "cell_type": "code",
   "execution_count": 21,
   "id": "e640ad29",
   "metadata": {},
   "outputs": [
    {
     "name": "stdout",
     "output_type": "stream",
     "text": [
      "0    Earth\n",
      "Name: HomePlanet, dtype: object\n",
      "0    TRAPPIST-1e\n",
      "Name: Destination, dtype: object\n"
     ]
    }
   ],
   "source": [
    "print(test_dataframe[\"HomePlanet\"].mode())\n",
    "print(test_dataframe[\"Destination\"].mode())"
   ]
  },
  {
   "cell_type": "code",
   "execution_count": 22,
   "id": "da8322e5",
   "metadata": {},
   "outputs": [],
   "source": [
    "train_dataframe=train_dataframe.dropna()\n",
    "test_dataframe[\"HomePlanet\"].fillna(\"Earth\", inplace=True)\n",
    "test_dataframe[\"Destination\"].fillna(\"TRAPPIST-1e\", inplace=True)"
   ]
  },
  {
   "cell_type": "code",
   "execution_count": 23,
   "id": "e9f3a9ae",
   "metadata": {},
   "outputs": [
    {
     "data": {
      "text/html": [
       "<div>\n",
       "<style scoped>\n",
       "    .dataframe tbody tr th:only-of-type {\n",
       "        vertical-align: middle;\n",
       "    }\n",
       "\n",
       "    .dataframe tbody tr th {\n",
       "        vertical-align: top;\n",
       "    }\n",
       "\n",
       "    .dataframe thead th {\n",
       "        text-align: right;\n",
       "    }\n",
       "</style>\n",
       "<table border=\"1\" class=\"dataframe\">\n",
       "  <thead>\n",
       "    <tr style=\"text-align: right;\">\n",
       "      <th></th>\n",
       "      <th>Age</th>\n",
       "      <th>RoomService</th>\n",
       "      <th>FoodCourt</th>\n",
       "      <th>ShoppingMall</th>\n",
       "      <th>Spa</th>\n",
       "      <th>VRDeck</th>\n",
       "      <th>PassengerId</th>\n",
       "      <th>HomePlanet</th>\n",
       "      <th>Destination</th>\n",
       "    </tr>\n",
       "  </thead>\n",
       "  <tbody>\n",
       "    <tr>\n",
       "      <th>0</th>\n",
       "      <td>27.000000</td>\n",
       "      <td>0.0</td>\n",
       "      <td>0.0</td>\n",
       "      <td>0.0</td>\n",
       "      <td>0.0</td>\n",
       "      <td>0.0</td>\n",
       "      <td>0013_01</td>\n",
       "      <td>Earth</td>\n",
       "      <td>TRAPPIST-1e</td>\n",
       "    </tr>\n",
       "    <tr>\n",
       "      <th>1</th>\n",
       "      <td>19.000000</td>\n",
       "      <td>0.0</td>\n",
       "      <td>9.0</td>\n",
       "      <td>0.0</td>\n",
       "      <td>2823.0</td>\n",
       "      <td>0.0</td>\n",
       "      <td>0018_01</td>\n",
       "      <td>Earth</td>\n",
       "      <td>TRAPPIST-1e</td>\n",
       "    </tr>\n",
       "    <tr>\n",
       "      <th>2</th>\n",
       "      <td>31.000000</td>\n",
       "      <td>0.0</td>\n",
       "      <td>0.0</td>\n",
       "      <td>0.0</td>\n",
       "      <td>0.0</td>\n",
       "      <td>0.0</td>\n",
       "      <td>0019_01</td>\n",
       "      <td>Europa</td>\n",
       "      <td>55 Cancri e</td>\n",
       "    </tr>\n",
       "    <tr>\n",
       "      <th>3</th>\n",
       "      <td>38.000000</td>\n",
       "      <td>0.0</td>\n",
       "      <td>6652.0</td>\n",
       "      <td>0.0</td>\n",
       "      <td>181.0</td>\n",
       "      <td>585.0</td>\n",
       "      <td>0021_01</td>\n",
       "      <td>Europa</td>\n",
       "      <td>TRAPPIST-1e</td>\n",
       "    </tr>\n",
       "    <tr>\n",
       "      <th>4</th>\n",
       "      <td>20.000000</td>\n",
       "      <td>10.0</td>\n",
       "      <td>0.0</td>\n",
       "      <td>635.0</td>\n",
       "      <td>0.0</td>\n",
       "      <td>0.0</td>\n",
       "      <td>0023_01</td>\n",
       "      <td>Earth</td>\n",
       "      <td>TRAPPIST-1e</td>\n",
       "    </tr>\n",
       "    <tr>\n",
       "      <th>...</th>\n",
       "      <td>...</td>\n",
       "      <td>...</td>\n",
       "      <td>...</td>\n",
       "      <td>...</td>\n",
       "      <td>...</td>\n",
       "      <td>...</td>\n",
       "      <td>...</td>\n",
       "      <td>...</td>\n",
       "      <td>...</td>\n",
       "    </tr>\n",
       "    <tr>\n",
       "      <th>4272</th>\n",
       "      <td>34.000000</td>\n",
       "      <td>0.0</td>\n",
       "      <td>0.0</td>\n",
       "      <td>0.0</td>\n",
       "      <td>0.0</td>\n",
       "      <td>0.0</td>\n",
       "      <td>9266_02</td>\n",
       "      <td>Earth</td>\n",
       "      <td>TRAPPIST-1e</td>\n",
       "    </tr>\n",
       "    <tr>\n",
       "      <th>4273</th>\n",
       "      <td>42.000000</td>\n",
       "      <td>0.0</td>\n",
       "      <td>847.0</td>\n",
       "      <td>17.0</td>\n",
       "      <td>10.0</td>\n",
       "      <td>144.0</td>\n",
       "      <td>9269_01</td>\n",
       "      <td>Earth</td>\n",
       "      <td>TRAPPIST-1e</td>\n",
       "    </tr>\n",
       "    <tr>\n",
       "      <th>4274</th>\n",
       "      <td>28.658146</td>\n",
       "      <td>0.0</td>\n",
       "      <td>0.0</td>\n",
       "      <td>0.0</td>\n",
       "      <td>0.0</td>\n",
       "      <td>0.0</td>\n",
       "      <td>9271_01</td>\n",
       "      <td>Mars</td>\n",
       "      <td>55 Cancri e</td>\n",
       "    </tr>\n",
       "    <tr>\n",
       "      <th>4275</th>\n",
       "      <td>28.658146</td>\n",
       "      <td>0.0</td>\n",
       "      <td>2680.0</td>\n",
       "      <td>0.0</td>\n",
       "      <td>0.0</td>\n",
       "      <td>523.0</td>\n",
       "      <td>9273_01</td>\n",
       "      <td>Europa</td>\n",
       "      <td>TRAPPIST-1e</td>\n",
       "    </tr>\n",
       "    <tr>\n",
       "      <th>4276</th>\n",
       "      <td>43.000000</td>\n",
       "      <td>0.0</td>\n",
       "      <td>0.0</td>\n",
       "      <td>0.0</td>\n",
       "      <td>0.0</td>\n",
       "      <td>0.0</td>\n",
       "      <td>9277_01</td>\n",
       "      <td>Earth</td>\n",
       "      <td>PSO J318.5-22</td>\n",
       "    </tr>\n",
       "  </tbody>\n",
       "</table>\n",
       "<p>4277 rows × 9 columns</p>\n",
       "</div>"
      ],
      "text/plain": [
       "            Age  RoomService  FoodCourt  ShoppingMall     Spa  VRDeck  \\\n",
       "0     27.000000          0.0        0.0           0.0     0.0     0.0   \n",
       "1     19.000000          0.0        9.0           0.0  2823.0     0.0   \n",
       "2     31.000000          0.0        0.0           0.0     0.0     0.0   \n",
       "3     38.000000          0.0     6652.0           0.0   181.0   585.0   \n",
       "4     20.000000         10.0        0.0         635.0     0.0     0.0   \n",
       "...         ...          ...        ...           ...     ...     ...   \n",
       "4272  34.000000          0.0        0.0           0.0     0.0     0.0   \n",
       "4273  42.000000          0.0      847.0          17.0    10.0   144.0   \n",
       "4274  28.658146          0.0        0.0           0.0     0.0     0.0   \n",
       "4275  28.658146          0.0     2680.0           0.0     0.0   523.0   \n",
       "4276  43.000000          0.0        0.0           0.0     0.0     0.0   \n",
       "\n",
       "     PassengerId HomePlanet    Destination  \n",
       "0        0013_01      Earth    TRAPPIST-1e  \n",
       "1        0018_01      Earth    TRAPPIST-1e  \n",
       "2        0019_01     Europa    55 Cancri e  \n",
       "3        0021_01     Europa    TRAPPIST-1e  \n",
       "4        0023_01      Earth    TRAPPIST-1e  \n",
       "...          ...        ...            ...  \n",
       "4272     9266_02      Earth    TRAPPIST-1e  \n",
       "4273     9269_01      Earth    TRAPPIST-1e  \n",
       "4274     9271_01       Mars    55 Cancri e  \n",
       "4275     9273_01     Europa    TRAPPIST-1e  \n",
       "4276     9277_01      Earth  PSO J318.5-22  \n",
       "\n",
       "[4277 rows x 9 columns]"
      ]
     },
     "execution_count": 23,
     "metadata": {},
     "output_type": "execute_result"
    }
   ],
   "source": [
    "test_dataframe"
   ]
  },
  {
   "cell_type": "code",
   "execution_count": 24,
   "id": "fe4bd752",
   "metadata": {},
   "outputs": [],
   "source": [
    "unique_Cabin = train_dataframe['HomePlanet'].unique()\n",
    "ordinal_encoder = OrdinalEncoder(categories=[unique_Cabin])\n",
    "train_dataframe['HomePlanet'] = ordinal_encoder.fit_transform(train_dataframe[['HomePlanet']])\n",
    "\n",
    "unique_Cabin = test_dataframe['HomePlanet'].unique()\n",
    "ordinal_encoder = OrdinalEncoder(categories=[unique_Cabin])\n",
    "test_dataframe['HomePlanet'] = ordinal_encoder.fit_transform(test_dataframe[['HomePlanet']])\n",
    "\n",
    "unique_Cabin = train_dataframe['Destination'].unique()\n",
    "ordinal_encoder = OrdinalEncoder(categories=[unique_Cabin])\n",
    "train_dataframe['Destination'] = ordinal_encoder.fit_transform(train_dataframe[['Destination']])\n",
    "\n",
    "unique_Cabin = test_dataframe['Destination'].unique()\n",
    "ordinal_encoder = OrdinalEncoder(categories=[unique_Cabin])\n",
    "test_dataframe['Destination'] = ordinal_encoder.fit_transform(test_dataframe[['Destination']])"
   ]
  },
  {
   "cell_type": "code",
   "execution_count": 25,
   "id": "a27af467",
   "metadata": {
    "scrolled": true
   },
   "outputs": [
    {
     "data": {
      "text/plain": [
       "Transported     1.000000\n",
       "Destination     0.104299\n",
       "Age            -0.073508\n",
       "HomePlanet     -0.108675\n",
       "FoodCourt      -0.186251\n",
       "ShoppingMall   -0.225634\n",
       "VRDeck         -0.342556\n",
       "RoomService    -0.362700\n",
       "Spa            -0.366069\n",
       "Name: Transported, dtype: float64"
      ]
     },
     "execution_count": 25,
     "metadata": {},
     "output_type": "execute_result"
    }
   ],
   "source": [
    "train_dataframe.corr(method='spearman').Transported.sort_values(ascending=False)"
   ]
  },
  {
   "cell_type": "code",
   "execution_count": 26,
   "id": "4cb76d61",
   "metadata": {},
   "outputs": [],
   "source": [
    "percentColumnNullValues(test_dataframe)"
   ]
  },
  {
   "cell_type": "code",
   "execution_count": 27,
   "id": "5dc4dd66",
   "metadata": {},
   "outputs": [],
   "source": [
    "def getPassengerIdNumber2(dataframe):\n",
    "    var = []\n",
    "    for i in (dataframe.index):\n",
    "        number=dataframe[i]\n",
    "        var.append(int(number[0:4]))\n",
    "    return var"
   ]
  },
  {
   "cell_type": "code",
   "execution_count": 28,
   "id": "fd35aff4",
   "metadata": {},
   "outputs": [],
   "source": [
    "train_dataframe['PassengerId'] = getPassengerIdNumber2(train_dataframe['PassengerId'])\n",
    "test_dataframe['PassengerId'] = getPassengerIdNumber2(test_dataframe['PassengerId'])"
   ]
  },
  {
   "cell_type": "code",
   "execution_count": 29,
   "id": "fa16e5fe",
   "metadata": {},
   "outputs": [
    {
     "data": {
      "text/html": [
       "<div>\n",
       "<style scoped>\n",
       "    .dataframe tbody tr th:only-of-type {\n",
       "        vertical-align: middle;\n",
       "    }\n",
       "\n",
       "    .dataframe tbody tr th {\n",
       "        vertical-align: top;\n",
       "    }\n",
       "\n",
       "    .dataframe thead th {\n",
       "        text-align: right;\n",
       "    }\n",
       "</style>\n",
       "<table border=\"1\" class=\"dataframe\">\n",
       "  <thead>\n",
       "    <tr style=\"text-align: right;\">\n",
       "      <th></th>\n",
       "      <th>Age</th>\n",
       "      <th>RoomService</th>\n",
       "      <th>FoodCourt</th>\n",
       "      <th>ShoppingMall</th>\n",
       "      <th>Spa</th>\n",
       "      <th>VRDeck</th>\n",
       "      <th>Transported</th>\n",
       "      <th>PassengerId</th>\n",
       "      <th>HomePlanet</th>\n",
       "      <th>Destination</th>\n",
       "    </tr>\n",
       "  </thead>\n",
       "  <tbody>\n",
       "    <tr>\n",
       "      <th>0</th>\n",
       "      <td>39.0</td>\n",
       "      <td>0.0</td>\n",
       "      <td>0.0</td>\n",
       "      <td>0.0</td>\n",
       "      <td>0.0</td>\n",
       "      <td>0.0</td>\n",
       "      <td>False</td>\n",
       "      <td>1</td>\n",
       "      <td>0.0</td>\n",
       "      <td>0.0</td>\n",
       "    </tr>\n",
       "    <tr>\n",
       "      <th>1</th>\n",
       "      <td>24.0</td>\n",
       "      <td>109.0</td>\n",
       "      <td>9.0</td>\n",
       "      <td>25.0</td>\n",
       "      <td>549.0</td>\n",
       "      <td>44.0</td>\n",
       "      <td>True</td>\n",
       "      <td>2</td>\n",
       "      <td>1.0</td>\n",
       "      <td>0.0</td>\n",
       "    </tr>\n",
       "    <tr>\n",
       "      <th>2</th>\n",
       "      <td>58.0</td>\n",
       "      <td>43.0</td>\n",
       "      <td>3576.0</td>\n",
       "      <td>0.0</td>\n",
       "      <td>6715.0</td>\n",
       "      <td>49.0</td>\n",
       "      <td>False</td>\n",
       "      <td>3</td>\n",
       "      <td>0.0</td>\n",
       "      <td>0.0</td>\n",
       "    </tr>\n",
       "    <tr>\n",
       "      <th>3</th>\n",
       "      <td>33.0</td>\n",
       "      <td>0.0</td>\n",
       "      <td>1283.0</td>\n",
       "      <td>371.0</td>\n",
       "      <td>3329.0</td>\n",
       "      <td>193.0</td>\n",
       "      <td>False</td>\n",
       "      <td>3</td>\n",
       "      <td>0.0</td>\n",
       "      <td>0.0</td>\n",
       "    </tr>\n",
       "    <tr>\n",
       "      <th>4</th>\n",
       "      <td>16.0</td>\n",
       "      <td>303.0</td>\n",
       "      <td>70.0</td>\n",
       "      <td>151.0</td>\n",
       "      <td>565.0</td>\n",
       "      <td>2.0</td>\n",
       "      <td>True</td>\n",
       "      <td>4</td>\n",
       "      <td>1.0</td>\n",
       "      <td>0.0</td>\n",
       "    </tr>\n",
       "    <tr>\n",
       "      <th>...</th>\n",
       "      <td>...</td>\n",
       "      <td>...</td>\n",
       "      <td>...</td>\n",
       "      <td>...</td>\n",
       "      <td>...</td>\n",
       "      <td>...</td>\n",
       "      <td>...</td>\n",
       "      <td>...</td>\n",
       "      <td>...</td>\n",
       "      <td>...</td>\n",
       "    </tr>\n",
       "    <tr>\n",
       "      <th>8688</th>\n",
       "      <td>41.0</td>\n",
       "      <td>0.0</td>\n",
       "      <td>6819.0</td>\n",
       "      <td>0.0</td>\n",
       "      <td>1643.0</td>\n",
       "      <td>74.0</td>\n",
       "      <td>False</td>\n",
       "      <td>9276</td>\n",
       "      <td>0.0</td>\n",
       "      <td>2.0</td>\n",
       "    </tr>\n",
       "    <tr>\n",
       "      <th>8689</th>\n",
       "      <td>18.0</td>\n",
       "      <td>0.0</td>\n",
       "      <td>0.0</td>\n",
       "      <td>0.0</td>\n",
       "      <td>0.0</td>\n",
       "      <td>0.0</td>\n",
       "      <td>False</td>\n",
       "      <td>9278</td>\n",
       "      <td>1.0</td>\n",
       "      <td>1.0</td>\n",
       "    </tr>\n",
       "    <tr>\n",
       "      <th>8690</th>\n",
       "      <td>26.0</td>\n",
       "      <td>0.0</td>\n",
       "      <td>0.0</td>\n",
       "      <td>1872.0</td>\n",
       "      <td>1.0</td>\n",
       "      <td>0.0</td>\n",
       "      <td>True</td>\n",
       "      <td>9279</td>\n",
       "      <td>1.0</td>\n",
       "      <td>0.0</td>\n",
       "    </tr>\n",
       "    <tr>\n",
       "      <th>8691</th>\n",
       "      <td>32.0</td>\n",
       "      <td>0.0</td>\n",
       "      <td>1049.0</td>\n",
       "      <td>0.0</td>\n",
       "      <td>353.0</td>\n",
       "      <td>3235.0</td>\n",
       "      <td>False</td>\n",
       "      <td>9280</td>\n",
       "      <td>0.0</td>\n",
       "      <td>2.0</td>\n",
       "    </tr>\n",
       "    <tr>\n",
       "      <th>8692</th>\n",
       "      <td>44.0</td>\n",
       "      <td>126.0</td>\n",
       "      <td>4688.0</td>\n",
       "      <td>0.0</td>\n",
       "      <td>0.0</td>\n",
       "      <td>12.0</td>\n",
       "      <td>True</td>\n",
       "      <td>9280</td>\n",
       "      <td>0.0</td>\n",
       "      <td>0.0</td>\n",
       "    </tr>\n",
       "  </tbody>\n",
       "</table>\n",
       "<p>8314 rows × 10 columns</p>\n",
       "</div>"
      ],
      "text/plain": [
       "       Age  RoomService  FoodCourt  ShoppingMall     Spa  VRDeck  Transported  \\\n",
       "0     39.0          0.0        0.0           0.0     0.0     0.0        False   \n",
       "1     24.0        109.0        9.0          25.0   549.0    44.0         True   \n",
       "2     58.0         43.0     3576.0           0.0  6715.0    49.0        False   \n",
       "3     33.0          0.0     1283.0         371.0  3329.0   193.0        False   \n",
       "4     16.0        303.0       70.0         151.0   565.0     2.0         True   \n",
       "...    ...          ...        ...           ...     ...     ...          ...   \n",
       "8688  41.0          0.0     6819.0           0.0  1643.0    74.0        False   \n",
       "8689  18.0          0.0        0.0           0.0     0.0     0.0        False   \n",
       "8690  26.0          0.0        0.0        1872.0     1.0     0.0         True   \n",
       "8691  32.0          0.0     1049.0           0.0   353.0  3235.0        False   \n",
       "8692  44.0        126.0     4688.0           0.0     0.0    12.0         True   \n",
       "\n",
       "      PassengerId  HomePlanet  Destination  \n",
       "0               1         0.0          0.0  \n",
       "1               2         1.0          0.0  \n",
       "2               3         0.0          0.0  \n",
       "3               3         0.0          0.0  \n",
       "4               4         1.0          0.0  \n",
       "...           ...         ...          ...  \n",
       "8688         9276         0.0          2.0  \n",
       "8689         9278         1.0          1.0  \n",
       "8690         9279         1.0          0.0  \n",
       "8691         9280         0.0          2.0  \n",
       "8692         9280         0.0          0.0  \n",
       "\n",
       "[8314 rows x 10 columns]"
      ]
     },
     "execution_count": 29,
     "metadata": {},
     "output_type": "execute_result"
    }
   ],
   "source": [
    "train_dataframe"
   ]
  },
  {
   "cell_type": "code",
   "execution_count": 30,
   "id": "9c840592",
   "metadata": {
    "scrolled": false
   },
   "outputs": [
    {
     "data": {
      "text/plain": [
       "Transported     1.000000\n",
       "Destination     0.104299\n",
       "PassengerId     0.028922\n",
       "Age            -0.073508\n",
       "HomePlanet     -0.108675\n",
       "FoodCourt      -0.186251\n",
       "ShoppingMall   -0.225634\n",
       "VRDeck         -0.342556\n",
       "RoomService    -0.362700\n",
       "Spa            -0.366069\n",
       "Name: Transported, dtype: float64"
      ]
     },
     "execution_count": 30,
     "metadata": {},
     "output_type": "execute_result"
    }
   ],
   "source": [
    "train_dataframe.corr(method='spearman').Transported.sort_values(ascending=False)"
   ]
  },
  {
   "cell_type": "markdown",
   "id": "c2846efb",
   "metadata": {},
   "source": [
    "# Treinamento do modelo"
   ]
  },
  {
   "cell_type": "code",
   "execution_count": 31,
   "id": "3209ccd5",
   "metadata": {},
   "outputs": [],
   "source": [
    "# from imblearn.under_sampling import RandomUnderSampler\n",
    "# from imblearn.over_sampling import RandomOverSampler\n",
    "# ros = RandomUnderSampler(random_state=0)\n",
    "# ros.fit(train_dataframe[columns_train_quantitative], train_dataframe['HomePlanet'])\n",
    "# train_dataframe_modified, target = ros.fit_resample(train_dataframe[columns_train_quantitative], train_dataframe['HomePlanet'])"
   ]
  },
  {
   "cell_type": "code",
   "execution_count": 32,
   "id": "68f45726",
   "metadata": {},
   "outputs": [],
   "source": [
    "# from imblearn.under_sampling import RandomUnderSampler\n",
    "# from imblearn.over_sampling import RandomOverSampler\n",
    "# ros = RandomUnderSampler(random_state=0)\n",
    "# ros.fit(train_dataframe_modified[columns_train_quantitative], train_dataframe_modified['Destination'])\n",
    "# train_dataframe_modified, target = ros.fit_resample(train_dataframe[columns_train_quantitative], train_dataframe['Destination'])"
   ]
  },
  {
   "cell_type": "code",
   "execution_count": 33,
   "id": "02962de6",
   "metadata": {},
   "outputs": [
    {
     "data": {
      "text/plain": [
       "((5819, 10), (2495, 10), (5819,), (2495,))"
      ]
     },
     "execution_count": 33,
     "metadata": {},
     "output_type": "execute_result"
    }
   ],
   "source": [
    "features = train_dataframe.drop(\"Transported\",axis=1)\n",
    "target = train_dataframe[\"Transported\"]\n",
    "X_train,X_test,y_train,y_test = train_test_split(train_dataframe,target,test_size=0.3,random_state=22)\n",
    "X_train.shape,X_test.shape,y_train.shape,y_test.shape"
   ]
  },
  {
   "cell_type": "code",
   "execution_count": 34,
   "id": "3ecce024",
   "metadata": {},
   "outputs": [
    {
     "name": "stdout",
     "output_type": "stream",
     "text": [
      "Acuracia: 100.0\n",
      "Acuracia com validação cruzada media 5 exemplos 68.45\n"
     ]
    },
    {
     "data": {
      "image/png": "[encoded data removed]",
      "text/plain": [
       "<Figure size 640x480 with 2 Axes>"
      ]
     },
     "metadata": {},
     "output_type": "display_data"
    }
   ],
   "source": [
    "# Random Forests\n",
    "from sklearn.ensemble import RandomForestClassifier\n",
    "\n",
    "#n_estimators its exemples quantite that we will use in the training\n",
    "RandonForestModel = RandomForestClassifier(criterion='gini', n_estimators=700,\n",
    "                             min_samples_split=10,min_samples_leaf=1,\n",
    "                             max_features='auto',oob_score=True,\n",
    "                             random_state=1,n_jobs=-1)\n",
    "\n",
    "RandonForestModel.fit(X_train,y_train)\n",
    "prediction_rm=RandonForestModel.predict(X_test)\n",
    "print('Acuracia:',round(accuracy_score(prediction_rm,y_test)*100,2))\n",
    "\n",
    "kfold = KFold(n_splits=5, random_state=22,shuffle=True) # k=10, split the data into 10 equal parts\n",
    "result_rm=cross_val_score(RandonForestModel,features,target,cv=5,scoring='accuracy')\n",
    "print('Acuracia com validação cruzada media 5 exemplos',round(result_rm.mean()*100,2))\n",
    "\n",
    "y_pred = cross_val_predict(RandonForestModel,features,target,cv=5)\n",
    "seaborn.heatmap(confusion_matrix(target,y_pred),annot=True,fmt='3.0f',cmap=\"summer\");\n",
    "plt.title('Random Forest Classifier', y=1.05, size=15);"
   ]
  },
  {
   "cell_type": "code",
   "execution_count": 35,
   "id": "cf9ead99",
   "metadata": {},
   "outputs": [
    {
     "name": "stdout",
     "output_type": "stream",
     "text": [
      "Acuracia: 100.0\n",
      "Acuracia com validação cruzada media 5 exemplos: 63.72\n"
     ]
    },
    {
     "data": {
      "image/png": "[encoded data removed]",
      "text/plain": [
       "<Figure size 640x480 with 2 Axes>"
      ]
     },
     "metadata": {},
     "output_type": "display_data"
    }
   ],
   "source": [
    "from sklearn.ensemble import GradientBoostingClassifier\n",
    "GradientBCmodel= GradientBoostingClassifier(n_estimators=500,\n",
    "                                            max_depth=50,\n",
    "                                            max_features='auto',\n",
    "                                            min_samples_split=10,\n",
    "                                            random_state=1,\n",
    "                                            #verbose=1,\n",
    "                                            validation_fraction=0.3,\n",
    "                                            n_iter_no_change=1\n",
    "                                           )\n",
    "GradientBCmodel.fit(X_train,y_train)\n",
    "prediction_gbc=GradientBCmodel.predict(X_test)\n",
    "print('Acuracia:',round(accuracy_score(prediction_gbc,y_test)*100,2))\n",
    "kfold = KFold(n_splits=5, random_state=22, shuffle=True) # k=10, split the data into 10 equal parts\n",
    "five_results_cval=cross_val_score(GradientBCmodel,features,target,cv=5,scoring='accuracy')\n",
    "print('Acuracia com validação cruzada media 5 exemplos:',round(five_results_cval.mean()*100,2))\n",
    "y_pred = cross_val_predict(GradientBCmodel,features,target,cv=5)\n",
    "seaborn.heatmap(confusion_matrix(target,y_pred),annot=True,fmt='3.0f',cmap=\"summer\");\n",
    "plt.title('Gradient Boosting Classifier', y=1.05, size=15);"
   ]
  },
  {
   "cell_type": "code",
   "execution_count": 36,
   "id": "a6edf51e",
   "metadata": {},
   "outputs": [
    {
     "data": {
      "text/plain": [
       "array([False, False, False, ...,  True, False,  True])"
      ]
     },
     "execution_count": 36,
     "metadata": {},
     "output_type": "execute_result"
    }
   ],
   "source": [
    "y_pred"
   ]
  },
  {
   "cell_type": "code",
   "execution_count": 37,
   "id": "883ada32",
   "metadata": {},
   "outputs": [
    {
     "data": {
      "text/plain": [
       "((8314, 9), (8314,), (4277, 9))"
      ]
     },
     "execution_count": 37,
     "metadata": {},
     "output_type": "execute_result"
    }
   ],
   "source": [
    "#train_dataframe=train_dataframe.drop(\"PassengerId\", axis=1)\n",
    "train_X = train_dataframe.drop(\"Transported\", axis=1)#features\n",
    "train_Y= train_dataframe[\"Transported\"]#target\n",
    "test_X  = test_dataframe.copy()\n",
    "train_X.shape, train_Y.shape, test_X.shape"
   ]
  },
  {
   "cell_type": "code",
   "execution_count": 38,
   "id": "a3bfac46",
   "metadata": {},
   "outputs": [
    {
     "name": "stdout",
     "output_type": "stream",
     "text": [
      "Accuracy  95.39\n"
     ]
    },
    {
     "data": {
      "image/png": "[encoded data removed]",
      "text/plain": [
       "<Figure size 640x480 with 1 Axes>"
      ]
     },
     "metadata": {},
     "output_type": "display_data"
    }
   ],
   "source": [
    "# Random Forests\n",
    "random_forest = RandomForestClassifier(class_weight=None, criterion='entropy',\n",
    "            max_depth=None, max_features='log2',\n",
    "            min_samples_leaf=2, min_samples_split=4,\n",
    "            n_estimators=500, n_jobs=1,\n",
    "            warm_start=True,random_state=0)\n",
    "random_forest.fit(train_X, train_Y)\n",
    "Y_pred_rf = random_forest.predict(test_X)#predições\n",
    "random_forest.score(train_X,train_Y)\n",
    "acc_random_forest = round(random_forest.score(train_X, train_Y) * 100, 2)\n",
    "\n",
    "pandas.Series(random_forest.feature_importances_,train_X.columns).sort_values(ascending=True).plot.barh(width=0.8)\n",
    "print(\"Accuracy \",acc_random_forest)\n",
    "\n",
    "submission = pandas.DataFrame({\n",
    "        \"PassengerId\": imutPassengerID,\n",
    "        \"Transported\": Y_pred_rf})\n",
    "\n",
    "submission.to_csv('MySubmissionFutureTitanicRandonForest03.csv', index=False)"
   ]
  },
  {
   "cell_type": "code",
   "execution_count": 39,
   "id": "782eed24",
   "metadata": {
    "scrolled": true
   },
   "outputs": [
    {
     "name": "stdout",
     "output_type": "stream",
     "text": [
      "Accuracy  67.83\n"
     ]
    },
    {
     "data": {
      "image/png": "[encoded data removed]",
      "text/plain": [
       "<Figure size 640x480 with 1 Axes>"
      ]
     },
     "metadata": {},
     "output_type": "display_data"
    }
   ],
   "source": [
    "xgb = xg.XGBRegressor(learning_rate=0.01,n_estimators=2000\n",
    "                      , subsample=0.7,colsample_bytree=0.7,\n",
    "                      random_state=0).fit(train_X, train_Y)\n",
    "xgb.fit(train_X, train_Y)\n",
    "Y_pred_rf = xgb.predict(test_X)#predições\n",
    "xgb.score(train_X,train_Y)\n",
    "acc_XGB = round(xgb.score(train_X, train_Y) * 100, 2)\n",
    "\n",
    "pandas.Series(xgb.feature_importances_,train_X.columns).sort_values(ascending=True).plot.barh(width=0.8)\n",
    "print(\"Accuracy \", acc_XGB)\n",
    "\n",
    "predT=[]\n",
    "price = xgb.predict(test_X)\n",
    "for i in range (len(price)):\n",
    "    if (price[i] >= 0.45):\n",
    "        predT.append('True')\n",
    "    else:\n",
    "        predT.append('False')\n",
    "        \n",
    "submission = pandas.DataFrame({\n",
    "        \"PassengerId\": imutPassengerID,\n",
    "        \"Transported\": predT})\n",
    "\n",
    "submission.to_csv('MySubmissionFutureTitanicXGB03.csv', index=False)"
   ]
  },
  {
   "cell_type": "code",
   "execution_count": 40,
   "id": "4869c031",
   "metadata": {
    "scrolled": true
   },
   "outputs": [
    {
     "data": {
      "image/png": "[encoded data removed]",
      "text/plain": [
       "<Figure size 1000x1000 with 9 Axes>"
      ]
     },
     "metadata": {},
     "output_type": "display_data"
    }
   ],
   "source": [
    "train_dataframe[columns_train_quantitative].hist(figsize=(10,10))\n",
    "#sns.displot(train[num_cols])\n",
    "plt.show()"
   ]
  },
  {
   "cell_type": "markdown",
   "id": "586371cf",
   "metadata": {},
   "source": [
    "# Model 4 - Juntando todos valores da variavel Custo e adicionando outras variaveis ao conjunto de dados\n",
    "foram adicionadas mais duas variaveis a CryoSleep e com a itenção de dropar a coluna PassengerId foi adicionado a variavel Cabin pois embora a PassengerId informe se as pessoas estão juntas a coluna Cabin informa onde cada uma esta, possibilitando que haja um maior detalhamento dos dados, diferença esta que faz pensar, por que não usa-la no dataset que deu o melhor resultado ate agora para verificar se obtenho um resultado melhor.."
   ]
  },
  {
   "cell_type": "code",
   "execution_count": 40,
   "id": "4aa3d333",
   "metadata": {},
   "outputs": [
    {
     "data": {
      "text/plain": [
       "Index(['PassengerId', 'HomePlanet', 'CryoSleep', 'Cabin', 'Destination', 'Age',\n",
       "       'VIP', 'RoomService', 'FoodCourt', 'ShoppingMall', 'Spa', 'VRDeck',\n",
       "       'Name', 'Transported'],\n",
       "      dtype='object')"
      ]
     },
     "execution_count": 40,
     "metadata": {},
     "output_type": "execute_result"
    }
   ],
   "source": [
    "train_dataframe = pandas.read_csv(\"train.csv\")\n",
    "test_dataframe = pandas.read_csv(\"test.csv\")\n",
    "train_dataframe.columns"
   ]
  },
  {
   "cell_type": "code",
   "execution_count": 41,
   "id": "f140152b",
   "metadata": {},
   "outputs": [],
   "source": [
    "columns_test_quantitative = [i for i in test_dataframe.columns if test_dataframe.dtypes[i] != 'object']\n",
    "columns_train_quantitative = [i for i in train_dataframe.columns if train_dataframe.dtypes[i] != 'object']\n",
    "\n",
    "columns_train_quantitative.append('PassengerId')\n",
    "columns_test_quantitative.append('PassengerId')\n",
    "\n",
    "columns_train_quantitative.append('HomePlanet')\n",
    "columns_test_quantitative.append('HomePlanet')\n",
    "\n",
    "columns_train_quantitative.append('Destination')\n",
    "columns_test_quantitative.append('Destination')\n",
    "\n",
    "columns_train_quantitative.append('CryoSleep')\n",
    "columns_test_quantitative.append('CryoSleep')\n",
    "\n",
    "columns_train_quantitative.append('Cabin')\n",
    "columns_test_quantitative.append('Cabin')\n",
    "\n",
    "columns_train_quantitative=columns_train_quantitative[:len(columns_train_quantitative)]\n",
    "columns_test_quantitative=columns_test_quantitative[:len(columns_test_quantitative)]\n",
    "train_dataframe=train_dataframe[columns_train_quantitative]\n",
    "test_dataframe=test_dataframe[columns_test_quantitative]"
   ]
  },
  {
   "cell_type": "code",
   "execution_count": 42,
   "id": "a627d442",
   "metadata": {
    "scrolled": false
   },
   "outputs": [],
   "source": [
    "imutPassengerID = test_dataframe['PassengerId'].copy()"
   ]
  },
  {
   "cell_type": "code",
   "execution_count": 43,
   "id": "19a53c7e",
   "metadata": {},
   "outputs": [
    {
     "name": "stdout",
     "output_type": "stream",
     "text": [
      "Treino\n",
      "Age\n",
      "2.0591280340503855\n",
      "RoomService\n",
      "2.082135051190613\n",
      "FoodCourt\n",
      "2.105142068330841\n",
      "ShoppingMall\n",
      "2.392729782583688\n",
      "Spa\n",
      "2.105142068330841\n",
      "VRDeck\n",
      "2.1626596111814105\n",
      "HomePlanet\n",
      "2.312205222592891\n",
      "Destination\n",
      "2.093638559760727\n",
      "CryoSleep\n",
      "2.4962613597147127\n",
      "Cabin\n",
      "2.289198205452663\n",
      "None\n",
      "\n",
      "\n",
      "Test\n",
      "Age\n",
      "2.127659574468085\n",
      "RoomService\n",
      "1.917231704465747\n",
      "FoodCourt\n",
      "2.4783726911386488\n",
      "ShoppingMall\n",
      "2.2913256955810146\n",
      "Spa\n",
      "2.3614683189151275\n",
      "VRDeck\n",
      "1.8704699555763384\n",
      "HomePlanet\n",
      "2.034136076689268\n",
      "Destination\n",
      "2.1510404489127897\n",
      "CryoSleep\n",
      "2.1744213233574934\n",
      "Cabin\n",
      "2.338087444470423\n",
      "None\n"
     ]
    }
   ],
   "source": [
    "print(\"Treino\")\n",
    "print(percentColumnNullValues(train_dataframe))\n",
    "print(\"\\n\\nTest\")\n",
    "print(percentColumnNullValues(test_dataframe))"
   ]
  },
  {
   "cell_type": "code",
   "execution_count": 44,
   "id": "05e39ae5",
   "metadata": {},
   "outputs": [],
   "source": [
    "train_dataframe['TotalSpent']=train_dataframe['ShoppingMall']+train_dataframe['VRDeck']+train_dataframe['RoomService']+train_dataframe['Spa']+train_dataframe['FoodCourt']\n",
    "test_dataframe['TotalSpent']=test_dataframe['ShoppingMall']+test_dataframe['VRDeck']+test_dataframe['RoomService']+test_dataframe['Spa']+test_dataframe['FoodCourt']"
   ]
  },
  {
   "cell_type": "code",
   "execution_count": 45,
   "id": "7f38e6aa",
   "metadata": {},
   "outputs": [],
   "source": [
    "train_dataframe=train_dataframe.drop(['ShoppingMall', 'VRDeck','RoomService','Spa','FoodCourt'], axis=1)\n",
    "test_dataframe=test_dataframe.drop(['ShoppingMall', 'VRDeck','RoomService','Spa','FoodCourt'], axis=1)"
   ]
  },
  {
   "cell_type": "code",
   "execution_count": 46,
   "id": "f4cf936d",
   "metadata": {
    "scrolled": false
   },
   "outputs": [
    {
     "data": {
      "text/html": [
       "<div>\n",
       "<style scoped>\n",
       "    .dataframe tbody tr th:only-of-type {\n",
       "        vertical-align: middle;\n",
       "    }\n",
       "\n",
       "    .dataframe tbody tr th {\n",
       "        vertical-align: top;\n",
       "    }\n",
       "\n",
       "    .dataframe thead th {\n",
       "        text-align: right;\n",
       "    }\n",
       "</style>\n",
       "<table border=\"1\" class=\"dataframe\">\n",
       "  <thead>\n",
       "    <tr style=\"text-align: right;\">\n",
       "      <th></th>\n",
       "      <th>CryoSleep</th>\n",
       "      <th>Transported</th>\n",
       "    </tr>\n",
       "  </thead>\n",
       "  <tbody>\n",
       "    <tr>\n",
       "      <th>0</th>\n",
       "      <td>False</td>\n",
       "      <td>False</td>\n",
       "    </tr>\n",
       "    <tr>\n",
       "      <th>1</th>\n",
       "      <td>False</td>\n",
       "      <td>True</td>\n",
       "    </tr>\n",
       "    <tr>\n",
       "      <th>2</th>\n",
       "      <td>False</td>\n",
       "      <td>False</td>\n",
       "    </tr>\n",
       "    <tr>\n",
       "      <th>3</th>\n",
       "      <td>False</td>\n",
       "      <td>False</td>\n",
       "    </tr>\n",
       "    <tr>\n",
       "      <th>4</th>\n",
       "      <td>False</td>\n",
       "      <td>True</td>\n",
       "    </tr>\n",
       "    <tr>\n",
       "      <th>...</th>\n",
       "      <td>...</td>\n",
       "      <td>...</td>\n",
       "    </tr>\n",
       "    <tr>\n",
       "      <th>8688</th>\n",
       "      <td>False</td>\n",
       "      <td>False</td>\n",
       "    </tr>\n",
       "    <tr>\n",
       "      <th>8689</th>\n",
       "      <td>True</td>\n",
       "      <td>False</td>\n",
       "    </tr>\n",
       "    <tr>\n",
       "      <th>8690</th>\n",
       "      <td>False</td>\n",
       "      <td>True</td>\n",
       "    </tr>\n",
       "    <tr>\n",
       "      <th>8691</th>\n",
       "      <td>False</td>\n",
       "      <td>False</td>\n",
       "    </tr>\n",
       "    <tr>\n",
       "      <th>8692</th>\n",
       "      <td>False</td>\n",
       "      <td>True</td>\n",
       "    </tr>\n",
       "  </tbody>\n",
       "</table>\n",
       "<p>8693 rows × 2 columns</p>\n",
       "</div>"
      ],
      "text/plain": [
       "     CryoSleep  Transported\n",
       "0        False        False\n",
       "1        False         True\n",
       "2        False        False\n",
       "3        False        False\n",
       "4        False         True\n",
       "...        ...          ...\n",
       "8688     False        False\n",
       "8689      True        False\n",
       "8690     False         True\n",
       "8691     False        False\n",
       "8692     False         True\n",
       "\n",
       "[8693 rows x 2 columns]"
      ]
     },
     "execution_count": 46,
     "metadata": {},
     "output_type": "execute_result"
    }
   ],
   "source": [
    "train_dataframe[['CryoSleep','Transported']]"
   ]
  },
  {
   "cell_type": "code",
   "execution_count": 47,
   "id": "d199f07a",
   "metadata": {},
   "outputs": [],
   "source": [
    "train_dataframe['CryoSleep'] = pandas.get_dummies(train_dataframe['CryoSleep'])[1]"
   ]
  },
  {
   "cell_type": "code",
   "execution_count": 48,
   "id": "268f2c47",
   "metadata": {},
   "outputs": [
    {
     "data": {
      "text/plain": [
       "Transported    1.000000\n",
       "CryoSleep      0.460132\n",
       "Age           -0.071029\n",
       "TotalSpent    -0.413694\n",
       "Name: Transported, dtype: float64"
      ]
     },
     "execution_count": 48,
     "metadata": {},
     "output_type": "execute_result"
    }
   ],
   "source": [
    "train_dataframe.corr(method='spearman').Transported.sort_values(ascending=False)"
   ]
  },
  {
   "cell_type": "code",
   "execution_count": 49,
   "id": "794e6078",
   "metadata": {},
   "outputs": [
    {
     "data": {
      "text/plain": [
       "Transported    1.000000\n",
       "CryoSleep      0.460132\n",
       "Age           -0.071029\n",
       "TotalSpent    -0.413694\n",
       "Name: Transported, dtype: float64"
      ]
     },
     "execution_count": 49,
     "metadata": {},
     "output_type": "execute_result"
    }
   ],
   "source": [
    "train_dataframe.corr(method='spearman').Transported.sort_values(ascending=False)"
   ]
  },
  {
   "cell_type": "code",
   "execution_count": 50,
   "id": "97eed18f",
   "metadata": {},
   "outputs": [
    {
     "data": {
      "text/plain": [
       "<AxesSubplot:>"
      ]
     },
     "execution_count": 50,
     "metadata": {},
     "output_type": "execute_result"
    },
    {
     "data": {
      "image/png": "[encoded data removed]",
      "text/plain": [
       "<Figure size 2500x1000 with 2 Axes>"
      ]
     },
     "metadata": {},
     "output_type": "display_data"
    }
   ],
   "source": [
    "fig, ax = plt.subplots(figsize=(25,10))\n",
    "seaborn.heatmap(data=train_dataframe.isnull(), yticklabels=False, ax=ax)"
   ]
  },
  {
   "cell_type": "markdown",
   "id": "79c8bc1a",
   "metadata": {},
   "source": [
    "A partir daqui para não deixar o estudo muito grande e com informações repetidas so mostrarei as informações dos dados de treino, e não mais dos de teste por apresentarem as \"mesmas\" informações."
   ]
  },
  {
   "cell_type": "code",
   "execution_count": 51,
   "id": "05280fd1",
   "metadata": {},
   "outputs": [],
   "source": [
    "train_dataframe['Age'].fillna(train_dataframe['Age'].mean(), inplace = True)\n",
    "test_dataframe['Age'].fillna(test_dataframe['Age'].mean(), inplace = True)"
   ]
  },
  {
   "cell_type": "code",
   "execution_count": 52,
   "id": "15f06e6a",
   "metadata": {},
   "outputs": [
    {
     "name": "stdout",
     "output_type": "stream",
     "text": [
      "HomePlanet\n",
      "2.034136076689268\n",
      "Destination\n",
      "2.1510404489127897\n",
      "CryoSleep\n",
      "2.1744213233574934\n",
      "Cabin\n",
      "2.338087444470423\n",
      "TotalSpent\n",
      "10.638297872340425\n",
      "None\n",
      "HomePlanet\n",
      "2.312205222592891\n",
      "Destination\n",
      "2.093638559760727\n",
      "Cabin\n",
      "2.289198205452663\n",
      "TotalSpent\n",
      "10.445185781663408\n",
      "None\n"
     ]
    }
   ],
   "source": [
    "print(percentColumnNullValues(test_dataframe))\n",
    "print(percentColumnNullValues(train_dataframe))"
   ]
  },
  {
   "cell_type": "code",
   "execution_count": 53,
   "id": "211ad7bc",
   "metadata": {},
   "outputs": [],
   "source": [
    "train_dataframe=train_dataframe.dropna()\n",
    "test_dataframe[\"HomePlanet\"].fillna(\"Earth\", inplace=True)\n",
    "test_dataframe[\"Destination\"].fillna(\"TRAPPIST-1e\", inplace=True)\n",
    "test_dataframe[\"TotalSpent\"].fillna(0 , inplace=True)"
   ]
  },
  {
   "cell_type": "code",
   "execution_count": 54,
   "id": "b01c71ec",
   "metadata": {},
   "outputs": [
    {
     "data": {
      "text/html": [
       "<div>\n",
       "<style scoped>\n",
       "    .dataframe tbody tr th:only-of-type {\n",
       "        vertical-align: middle;\n",
       "    }\n",
       "\n",
       "    .dataframe tbody tr th {\n",
       "        vertical-align: top;\n",
       "    }\n",
       "\n",
       "    .dataframe thead th {\n",
       "        text-align: right;\n",
       "    }\n",
       "</style>\n",
       "<table border=\"1\" class=\"dataframe\">\n",
       "  <thead>\n",
       "    <tr style=\"text-align: right;\">\n",
       "      <th></th>\n",
       "      <th>Age</th>\n",
       "      <th>PassengerId</th>\n",
       "      <th>HomePlanet</th>\n",
       "      <th>Destination</th>\n",
       "      <th>CryoSleep</th>\n",
       "      <th>Cabin</th>\n",
       "      <th>TotalSpent</th>\n",
       "    </tr>\n",
       "  </thead>\n",
       "  <tbody>\n",
       "    <tr>\n",
       "      <th>0</th>\n",
       "      <td>27.0</td>\n",
       "      <td>0013_01</td>\n",
       "      <td>Earth</td>\n",
       "      <td>TRAPPIST-1e</td>\n",
       "      <td>True</td>\n",
       "      <td>G/3/S</td>\n",
       "      <td>0.0</td>\n",
       "    </tr>\n",
       "    <tr>\n",
       "      <th>1</th>\n",
       "      <td>19.0</td>\n",
       "      <td>0018_01</td>\n",
       "      <td>Earth</td>\n",
       "      <td>TRAPPIST-1e</td>\n",
       "      <td>False</td>\n",
       "      <td>F/4/S</td>\n",
       "      <td>2832.0</td>\n",
       "    </tr>\n",
       "    <tr>\n",
       "      <th>2</th>\n",
       "      <td>31.0</td>\n",
       "      <td>0019_01</td>\n",
       "      <td>Europa</td>\n",
       "      <td>55 Cancri e</td>\n",
       "      <td>True</td>\n",
       "      <td>C/0/S</td>\n",
       "      <td>0.0</td>\n",
       "    </tr>\n",
       "    <tr>\n",
       "      <th>3</th>\n",
       "      <td>38.0</td>\n",
       "      <td>0021_01</td>\n",
       "      <td>Europa</td>\n",
       "      <td>TRAPPIST-1e</td>\n",
       "      <td>False</td>\n",
       "      <td>C/1/S</td>\n",
       "      <td>7418.0</td>\n",
       "    </tr>\n",
       "    <tr>\n",
       "      <th>4</th>\n",
       "      <td>20.0</td>\n",
       "      <td>0023_01</td>\n",
       "      <td>Earth</td>\n",
       "      <td>TRAPPIST-1e</td>\n",
       "      <td>False</td>\n",
       "      <td>F/5/S</td>\n",
       "      <td>645.0</td>\n",
       "    </tr>\n",
       "  </tbody>\n",
       "</table>\n",
       "</div>"
      ],
      "text/plain": [
       "    Age PassengerId HomePlanet  Destination CryoSleep  Cabin  TotalSpent\n",
       "0  27.0     0013_01      Earth  TRAPPIST-1e      True  G/3/S         0.0\n",
       "1  19.0     0018_01      Earth  TRAPPIST-1e     False  F/4/S      2832.0\n",
       "2  31.0     0019_01     Europa  55 Cancri e      True  C/0/S         0.0\n",
       "3  38.0     0021_01     Europa  TRAPPIST-1e     False  C/1/S      7418.0\n",
       "4  20.0     0023_01      Earth  TRAPPIST-1e     False  F/5/S       645.0"
      ]
     },
     "execution_count": 54,
     "metadata": {},
     "output_type": "execute_result"
    }
   ],
   "source": [
    "test_dataframe.head()"
   ]
  },
  {
   "cell_type": "code",
   "execution_count": 55,
   "id": "b444fd21",
   "metadata": {},
   "outputs": [],
   "source": [
    "temp_var = train_dataframe['HomePlanet'].unique()\n",
    "ordinal_encoder = OrdinalEncoder(categories=[temp_var])\n",
    "train_dataframe['HomePlanet'] = ordinal_encoder.fit_transform(train_dataframe[['HomePlanet']])\n",
    "\n",
    "temp_var = test_dataframe['HomePlanet'].unique()\n",
    "ordinal_encoder = OrdinalEncoder(categories=[temp_var])\n",
    "test_dataframe['HomePlanet'] = ordinal_encoder.fit_transform(test_dataframe[['HomePlanet']])\n",
    "\n",
    "temp_var = train_dataframe['Destination'].unique()\n",
    "ordinal_encoder = OrdinalEncoder(categories=[temp_var])\n",
    "train_dataframe['Destination'] = ordinal_encoder.fit_transform(train_dataframe[['Destination']])\n",
    "\n",
    "temp_var = test_dataframe['Destination'].unique()\n",
    "ordinal_encoder = OrdinalEncoder(categories=[temp_var])\n",
    "test_dataframe['Destination'] = ordinal_encoder.fit_transform(test_dataframe[['Destination']])"
   ]
  },
  {
   "cell_type": "code",
   "execution_count": 56,
   "id": "b71bd7df",
   "metadata": {},
   "outputs": [],
   "source": [
    "def getPassengerIdNumber2(dataframe):\n",
    "    var = []\n",
    "    for i in (dataframe.index):\n",
    "        number=dataframe[i]\n",
    "        var.append(int(number[0:4]))\n",
    "    return var\n",
    "train_dataframe['PassengerId'] = getPassengerIdNumber2(train_dataframe['PassengerId'])\n",
    "test_dataframe['PassengerId'] = getPassengerIdNumber2(test_dataframe['PassengerId'])"
   ]
  },
  {
   "cell_type": "code",
   "execution_count": 57,
   "id": "c35e243a",
   "metadata": {
    "scrolled": false
   },
   "outputs": [
    {
     "data": {
      "text/plain": [
       "Transported    1.000000\n",
       "CryoSleep      0.450960\n",
       "Destination    0.114730\n",
       "PassengerId    0.026350\n",
       "Age           -0.079528\n",
       "HomePlanet    -0.110956\n",
       "TotalSpent    -0.410975\n",
       "Name: Transported, dtype: float64"
      ]
     },
     "execution_count": 57,
     "metadata": {},
     "output_type": "execute_result"
    }
   ],
   "source": [
    "train_dataframe.corr(method='spearman').Transported.sort_values(ascending=False)"
   ]
  },
  {
   "cell_type": "code",
   "execution_count": 58,
   "id": "ed991cee",
   "metadata": {},
   "outputs": [
    {
     "data": {
      "text/plain": [
       "0        True\n",
       "1       False\n",
       "2        True\n",
       "3       False\n",
       "4       False\n",
       "        ...  \n",
       "4272     True\n",
       "4273    False\n",
       "4274     True\n",
       "4275    False\n",
       "4276     True\n",
       "Name: CryoSleep, Length: 4277, dtype: bool"
      ]
     },
     "execution_count": 58,
     "metadata": {},
     "output_type": "execute_result"
    }
   ],
   "source": [
    "test_dataframe['CryoSleep'].fillna(False, inplace=True)\n",
    "test_dataframe['CryoSleep']"
   ]
  },
  {
   "cell_type": "code",
   "execution_count": 59,
   "id": "84c24fd9",
   "metadata": {
    "scrolled": true
   },
   "outputs": [
    {
     "data": {
      "text/html": [
       "<div>\n",
       "<style scoped>\n",
       "    .dataframe tbody tr th:only-of-type {\n",
       "        vertical-align: middle;\n",
       "    }\n",
       "\n",
       "    .dataframe tbody tr th {\n",
       "        vertical-align: top;\n",
       "    }\n",
       "\n",
       "    .dataframe thead th {\n",
       "        text-align: right;\n",
       "    }\n",
       "</style>\n",
       "<table border=\"1\" class=\"dataframe\">\n",
       "  <thead>\n",
       "    <tr style=\"text-align: right;\">\n",
       "      <th></th>\n",
       "      <th>Age</th>\n",
       "      <th>Transported</th>\n",
       "      <th>PassengerId</th>\n",
       "      <th>HomePlanet</th>\n",
       "      <th>Destination</th>\n",
       "      <th>CryoSleep</th>\n",
       "      <th>Cabin</th>\n",
       "      <th>TotalSpent</th>\n",
       "    </tr>\n",
       "  </thead>\n",
       "  <tbody>\n",
       "    <tr>\n",
       "      <th>0</th>\n",
       "      <td>39.0</td>\n",
       "      <td>False</td>\n",
       "      <td>1</td>\n",
       "      <td>0.0</td>\n",
       "      <td>0.0</td>\n",
       "      <td>0</td>\n",
       "      <td>B/0/P</td>\n",
       "      <td>0.0</td>\n",
       "    </tr>\n",
       "    <tr>\n",
       "      <th>1</th>\n",
       "      <td>24.0</td>\n",
       "      <td>True</td>\n",
       "      <td>2</td>\n",
       "      <td>1.0</td>\n",
       "      <td>0.0</td>\n",
       "      <td>0</td>\n",
       "      <td>F/0/S</td>\n",
       "      <td>736.0</td>\n",
       "    </tr>\n",
       "    <tr>\n",
       "      <th>2</th>\n",
       "      <td>58.0</td>\n",
       "      <td>False</td>\n",
       "      <td>3</td>\n",
       "      <td>0.0</td>\n",
       "      <td>0.0</td>\n",
       "      <td>0</td>\n",
       "      <td>A/0/S</td>\n",
       "      <td>10383.0</td>\n",
       "    </tr>\n",
       "    <tr>\n",
       "      <th>3</th>\n",
       "      <td>33.0</td>\n",
       "      <td>False</td>\n",
       "      <td>3</td>\n",
       "      <td>0.0</td>\n",
       "      <td>0.0</td>\n",
       "      <td>0</td>\n",
       "      <td>A/0/S</td>\n",
       "      <td>5176.0</td>\n",
       "    </tr>\n",
       "    <tr>\n",
       "      <th>4</th>\n",
       "      <td>16.0</td>\n",
       "      <td>True</td>\n",
       "      <td>4</td>\n",
       "      <td>1.0</td>\n",
       "      <td>0.0</td>\n",
       "      <td>0</td>\n",
       "      <td>F/1/S</td>\n",
       "      <td>1091.0</td>\n",
       "    </tr>\n",
       "    <tr>\n",
       "      <th>...</th>\n",
       "      <td>...</td>\n",
       "      <td>...</td>\n",
       "      <td>...</td>\n",
       "      <td>...</td>\n",
       "      <td>...</td>\n",
       "      <td>...</td>\n",
       "      <td>...</td>\n",
       "      <td>...</td>\n",
       "    </tr>\n",
       "    <tr>\n",
       "      <th>8688</th>\n",
       "      <td>41.0</td>\n",
       "      <td>False</td>\n",
       "      <td>9276</td>\n",
       "      <td>0.0</td>\n",
       "      <td>2.0</td>\n",
       "      <td>0</td>\n",
       "      <td>A/98/P</td>\n",
       "      <td>8536.0</td>\n",
       "    </tr>\n",
       "    <tr>\n",
       "      <th>8689</th>\n",
       "      <td>18.0</td>\n",
       "      <td>False</td>\n",
       "      <td>9278</td>\n",
       "      <td>1.0</td>\n",
       "      <td>1.0</td>\n",
       "      <td>1</td>\n",
       "      <td>G/1499/S</td>\n",
       "      <td>0.0</td>\n",
       "    </tr>\n",
       "    <tr>\n",
       "      <th>8690</th>\n",
       "      <td>26.0</td>\n",
       "      <td>True</td>\n",
       "      <td>9279</td>\n",
       "      <td>1.0</td>\n",
       "      <td>0.0</td>\n",
       "      <td>0</td>\n",
       "      <td>G/1500/S</td>\n",
       "      <td>1873.0</td>\n",
       "    </tr>\n",
       "    <tr>\n",
       "      <th>8691</th>\n",
       "      <td>32.0</td>\n",
       "      <td>False</td>\n",
       "      <td>9280</td>\n",
       "      <td>0.0</td>\n",
       "      <td>2.0</td>\n",
       "      <td>0</td>\n",
       "      <td>E/608/S</td>\n",
       "      <td>4637.0</td>\n",
       "    </tr>\n",
       "    <tr>\n",
       "      <th>8692</th>\n",
       "      <td>44.0</td>\n",
       "      <td>True</td>\n",
       "      <td>9280</td>\n",
       "      <td>0.0</td>\n",
       "      <td>0.0</td>\n",
       "      <td>0</td>\n",
       "      <td>E/608/S</td>\n",
       "      <td>4826.0</td>\n",
       "    </tr>\n",
       "  </tbody>\n",
       "</table>\n",
       "<p>7270 rows × 8 columns</p>\n",
       "</div>"
      ],
      "text/plain": [
       "       Age  Transported  PassengerId  HomePlanet  Destination  CryoSleep  \\\n",
       "0     39.0        False            1         0.0          0.0          0   \n",
       "1     24.0         True            2         1.0          0.0          0   \n",
       "2     58.0        False            3         0.0          0.0          0   \n",
       "3     33.0        False            3         0.0          0.0          0   \n",
       "4     16.0         True            4         1.0          0.0          0   \n",
       "...    ...          ...          ...         ...          ...        ...   \n",
       "8688  41.0        False         9276         0.0          2.0          0   \n",
       "8689  18.0        False         9278         1.0          1.0          1   \n",
       "8690  26.0         True         9279         1.0          0.0          0   \n",
       "8691  32.0        False         9280         0.0          2.0          0   \n",
       "8692  44.0         True         9280         0.0          0.0          0   \n",
       "\n",
       "         Cabin  TotalSpent  \n",
       "0        B/0/P         0.0  \n",
       "1        F/0/S       736.0  \n",
       "2        A/0/S     10383.0  \n",
       "3        A/0/S      5176.0  \n",
       "4        F/1/S      1091.0  \n",
       "...        ...         ...  \n",
       "8688    A/98/P      8536.0  \n",
       "8689  G/1499/S         0.0  \n",
       "8690  G/1500/S      1873.0  \n",
       "8691   E/608/S      4637.0  \n",
       "8692   E/608/S      4826.0  \n",
       "\n",
       "[7270 rows x 8 columns]"
      ]
     },
     "execution_count": 59,
     "metadata": {},
     "output_type": "execute_result"
    }
   ],
   "source": [
    "test_dataframe['CryoSleep']=pandas.get_dummies(test_dataframe['CryoSleep'])[1]\n",
    "train_dataframe['CryoSleep']=pandas.get_dummies(train_dataframe['CryoSleep'])[1]\n",
    "train_dataframe"
   ]
  },
  {
   "cell_type": "code",
   "execution_count": 60,
   "id": "028b9c1b",
   "metadata": {},
   "outputs": [],
   "source": [
    "train_dataframe[train_dataframe[\"TotalSpent\"] >= 10000] = 10000\n",
    "train_dataframe.drop(train_dataframe[train_dataframe[\"Age\"] >= 65].index, inplace=True)"
   ]
  },
  {
   "cell_type": "code",
   "execution_count": 62,
   "id": "f52678e9",
   "metadata": {},
   "outputs": [
    {
     "data": {
      "text/plain": [
       "0    G/160/P\n",
       "Name: Cabin, dtype: object"
      ]
     },
     "execution_count": 62,
     "metadata": {},
     "output_type": "execute_result"
    }
   ],
   "source": [
    "test_dataframe['Cabin'].mode()"
   ]
  },
  {
   "cell_type": "code",
   "execution_count": 61,
   "id": "0377bf81",
   "metadata": {},
   "outputs": [],
   "source": [
    "test_dataframe['Cabin'].fillna('G/160/P', inplace=True)"
   ]
  },
  {
   "cell_type": "code",
   "execution_count": 63,
   "id": "40083053",
   "metadata": {},
   "outputs": [
    {
     "name": "stdout",
     "output_type": "stream",
     "text": [
      "Treino\n",
      "None\n",
      "\n",
      "\n",
      "Test\n",
      "None\n"
     ]
    }
   ],
   "source": [
    "print(\"Treino\")\n",
    "print(percentColumnNullValues(train_dataframe))\n",
    "print(\"\\n\\nTest\")\n",
    "print(percentColumnNullValues(test_dataframe))"
   ]
  },
  {
   "cell_type": "code",
   "execution_count": 64,
   "id": "cd8ecb39",
   "metadata": {},
   "outputs": [],
   "source": [
    "# Transformar em função\n",
    "var = train_dataframe.loc[:,\"Cabin\"].str.split(\"/\",expand=True)\n",
    "train_dataframe['CabinLetter'] = var[0]\n",
    "train_dataframe['CabinNumber'] = var[1]\n",
    "train_dataframe['CabinSide'] = var[2]\n",
    "train_dataframe.drop(['Cabin'], axis=1, inplace=True)\n",
    "\n",
    "var = test_dataframe.loc[:,\"Cabin\"].str.split(\"/\",expand=True)\n",
    "test_dataframe['CabinLetter'] = var[0]\n",
    "test_dataframe['CabinNumber'] = var[1]\n",
    "test_dataframe['CabinSide'] = var[2]\n",
    "test_dataframe.drop(['Cabin'], axis=1, inplace=True)\n",
    "\n",
    "unique_Cabin = train_dataframe['CabinLetter'].unique()\n",
    "ordinal_encoder = OrdinalEncoder(categories=[unique_Cabin])\n",
    "train_dataframe['CabinLetter'] = ordinal_encoder.fit_transform(train_dataframe[['CabinLetter']])\n",
    "unique_Cabin = test_dataframe['CabinLetter'].unique()\n",
    "ordinal_encoder = OrdinalEncoder(categories=[unique_Cabin])\n",
    "test_dataframe['CabinLetter'] = ordinal_encoder.fit_transform(test_dataframe[['CabinLetter']])\n",
    "\n",
    "unique_Cabin = train_dataframe['CabinNumber'].unique()\n",
    "ordinal_encoder = OrdinalEncoder(categories=[unique_Cabin])\n",
    "train_dataframe['CabinNumber'] = ordinal_encoder.fit_transform(train_dataframe[['CabinNumber']])\n",
    "unique_Cabin = test_dataframe['CabinNumber'].unique()\n",
    "ordinal_encoder = OrdinalEncoder(categories=[unique_Cabin])\n",
    "test_dataframe['CabinNumber'] = ordinal_encoder.fit_transform(test_dataframe[['CabinNumber']])\n",
    "\n",
    "unique_Cabin = train_dataframe['CabinSide'].unique()\n",
    "ordinal_encoder = OrdinalEncoder(categories=[unique_Cabin])\n",
    "train_dataframe['CabinSide'] = ordinal_encoder.fit_transform(train_dataframe[['CabinSide']])\n",
    "unique_Cabin = test_dataframe['CabinSide'].unique()\n",
    "ordinal_encoder = OrdinalEncoder(categories=[unique_Cabin])\n",
    "test_dataframe['CabinSide'] = ordinal_encoder.fit_transform(test_dataframe[['CabinSide']])"
   ]
  },
  {
   "cell_type": "code",
   "execution_count": 65,
   "id": "d5c27a88",
   "metadata": {},
   "outputs": [
    {
     "data": {
      "text/html": [
       "<div>\n",
       "<style scoped>\n",
       "    .dataframe tbody tr th:only-of-type {\n",
       "        vertical-align: middle;\n",
       "    }\n",
       "\n",
       "    .dataframe tbody tr th {\n",
       "        vertical-align: top;\n",
       "    }\n",
       "\n",
       "    .dataframe thead th {\n",
       "        text-align: right;\n",
       "    }\n",
       "</style>\n",
       "<table border=\"1\" class=\"dataframe\">\n",
       "  <thead>\n",
       "    <tr style=\"text-align: right;\">\n",
       "      <th></th>\n",
       "      <th>Age</th>\n",
       "      <th>Transported</th>\n",
       "      <th>PassengerId</th>\n",
       "      <th>HomePlanet</th>\n",
       "      <th>Destination</th>\n",
       "      <th>CryoSleep</th>\n",
       "      <th>TotalSpent</th>\n",
       "      <th>CabinLetter</th>\n",
       "      <th>CabinNumber</th>\n",
       "      <th>CabinSide</th>\n",
       "    </tr>\n",
       "  </thead>\n",
       "  <tbody>\n",
       "    <tr>\n",
       "      <th>0</th>\n",
       "      <td>39.0</td>\n",
       "      <td>False</td>\n",
       "      <td>1</td>\n",
       "      <td>0.0</td>\n",
       "      <td>0.0</td>\n",
       "      <td>0</td>\n",
       "      <td>0.0</td>\n",
       "      <td>0.0</td>\n",
       "      <td>0.0</td>\n",
       "      <td>0.0</td>\n",
       "    </tr>\n",
       "    <tr>\n",
       "      <th>1</th>\n",
       "      <td>24.0</td>\n",
       "      <td>True</td>\n",
       "      <td>2</td>\n",
       "      <td>1.0</td>\n",
       "      <td>0.0</td>\n",
       "      <td>0</td>\n",
       "      <td>736.0</td>\n",
       "      <td>1.0</td>\n",
       "      <td>0.0</td>\n",
       "      <td>1.0</td>\n",
       "    </tr>\n",
       "    <tr>\n",
       "      <th>3</th>\n",
       "      <td>33.0</td>\n",
       "      <td>False</td>\n",
       "      <td>3</td>\n",
       "      <td>0.0</td>\n",
       "      <td>0.0</td>\n",
       "      <td>0</td>\n",
       "      <td>5176.0</td>\n",
       "      <td>2.0</td>\n",
       "      <td>0.0</td>\n",
       "      <td>1.0</td>\n",
       "    </tr>\n",
       "    <tr>\n",
       "      <th>4</th>\n",
       "      <td>16.0</td>\n",
       "      <td>True</td>\n",
       "      <td>4</td>\n",
       "      <td>1.0</td>\n",
       "      <td>0.0</td>\n",
       "      <td>0</td>\n",
       "      <td>1091.0</td>\n",
       "      <td>1.0</td>\n",
       "      <td>1.0</td>\n",
       "      <td>1.0</td>\n",
       "    </tr>\n",
       "    <tr>\n",
       "      <th>5</th>\n",
       "      <td>44.0</td>\n",
       "      <td>True</td>\n",
       "      <td>5</td>\n",
       "      <td>1.0</td>\n",
       "      <td>1.0</td>\n",
       "      <td>0</td>\n",
       "      <td>774.0</td>\n",
       "      <td>1.0</td>\n",
       "      <td>0.0</td>\n",
       "      <td>0.0</td>\n",
       "    </tr>\n",
       "    <tr>\n",
       "      <th>...</th>\n",
       "      <td>...</td>\n",
       "      <td>...</td>\n",
       "      <td>...</td>\n",
       "      <td>...</td>\n",
       "      <td>...</td>\n",
       "      <td>...</td>\n",
       "      <td>...</td>\n",
       "      <td>...</td>\n",
       "      <td>...</td>\n",
       "      <td>...</td>\n",
       "    </tr>\n",
       "    <tr>\n",
       "      <th>8688</th>\n",
       "      <td>41.0</td>\n",
       "      <td>False</td>\n",
       "      <td>9276</td>\n",
       "      <td>0.0</td>\n",
       "      <td>2.0</td>\n",
       "      <td>0</td>\n",
       "      <td>8536.0</td>\n",
       "      <td>2.0</td>\n",
       "      <td>86.0</td>\n",
       "      <td>0.0</td>\n",
       "    </tr>\n",
       "    <tr>\n",
       "      <th>8689</th>\n",
       "      <td>18.0</td>\n",
       "      <td>False</td>\n",
       "      <td>9278</td>\n",
       "      <td>1.0</td>\n",
       "      <td>1.0</td>\n",
       "      <td>1</td>\n",
       "      <td>0.0</td>\n",
       "      <td>3.0</td>\n",
       "      <td>1767.0</td>\n",
       "      <td>1.0</td>\n",
       "    </tr>\n",
       "    <tr>\n",
       "      <th>8690</th>\n",
       "      <td>26.0</td>\n",
       "      <td>True</td>\n",
       "      <td>9279</td>\n",
       "      <td>1.0</td>\n",
       "      <td>0.0</td>\n",
       "      <td>0</td>\n",
       "      <td>1873.0</td>\n",
       "      <td>3.0</td>\n",
       "      <td>1487.0</td>\n",
       "      <td>1.0</td>\n",
       "    </tr>\n",
       "    <tr>\n",
       "      <th>8691</th>\n",
       "      <td>32.0</td>\n",
       "      <td>False</td>\n",
       "      <td>9280</td>\n",
       "      <td>0.0</td>\n",
       "      <td>2.0</td>\n",
       "      <td>0</td>\n",
       "      <td>4637.0</td>\n",
       "      <td>4.0</td>\n",
       "      <td>1768.0</td>\n",
       "      <td>1.0</td>\n",
       "    </tr>\n",
       "    <tr>\n",
       "      <th>8692</th>\n",
       "      <td>44.0</td>\n",
       "      <td>True</td>\n",
       "      <td>9280</td>\n",
       "      <td>0.0</td>\n",
       "      <td>0.0</td>\n",
       "      <td>0</td>\n",
       "      <td>4826.0</td>\n",
       "      <td>4.0</td>\n",
       "      <td>1768.0</td>\n",
       "      <td>1.0</td>\n",
       "    </tr>\n",
       "  </tbody>\n",
       "</table>\n",
       "<p>7022 rows × 10 columns</p>\n",
       "</div>"
      ],
      "text/plain": [
       "       Age Transported  PassengerId  HomePlanet  Destination  CryoSleep  \\\n",
       "0     39.0       False            1         0.0          0.0          0   \n",
       "1     24.0        True            2         1.0          0.0          0   \n",
       "3     33.0       False            3         0.0          0.0          0   \n",
       "4     16.0        True            4         1.0          0.0          0   \n",
       "5     44.0        True            5         1.0          1.0          0   \n",
       "...    ...         ...          ...         ...          ...        ...   \n",
       "8688  41.0       False         9276         0.0          2.0          0   \n",
       "8689  18.0       False         9278         1.0          1.0          1   \n",
       "8690  26.0        True         9279         1.0          0.0          0   \n",
       "8691  32.0       False         9280         0.0          2.0          0   \n",
       "8692  44.0        True         9280         0.0          0.0          0   \n",
       "\n",
       "      TotalSpent  CabinLetter  CabinNumber  CabinSide  \n",
       "0            0.0          0.0          0.0        0.0  \n",
       "1          736.0          1.0          0.0        1.0  \n",
       "3         5176.0          2.0          0.0        1.0  \n",
       "4         1091.0          1.0          1.0        1.0  \n",
       "5          774.0          1.0          0.0        0.0  \n",
       "...          ...          ...          ...        ...  \n",
       "8688      8536.0          2.0         86.0        0.0  \n",
       "8689         0.0          3.0       1767.0        1.0  \n",
       "8690      1873.0          3.0       1487.0        1.0  \n",
       "8691      4637.0          4.0       1768.0        1.0  \n",
       "8692      4826.0          4.0       1768.0        1.0  \n",
       "\n",
       "[7022 rows x 10 columns]"
      ]
     },
     "execution_count": 65,
     "metadata": {},
     "output_type": "execute_result"
    }
   ],
   "source": [
    "train_dataframe"
   ]
  },
  {
   "cell_type": "code",
   "execution_count": 66,
   "id": "41dffe15",
   "metadata": {},
   "outputs": [
    {
     "name": "stdout",
     "output_type": "stream",
     "text": [
      "Treino\n",
      "None\n",
      "\n",
      "\n",
      "Test\n",
      "None\n"
     ]
    }
   ],
   "source": [
    "print(\"Treino\")\n",
    "print(percentColumnNullValues(train_dataframe))\n",
    "print(\"\\n\\nTest\")\n",
    "print(percentColumnNullValues(test_dataframe))"
   ]
  },
  {
   "cell_type": "code",
   "execution_count": 67,
   "id": "6199fd83",
   "metadata": {},
   "outputs": [
    {
     "ename": "AttributeError",
     "evalue": "'DataFrame' object has no attribute 'Transported'",
     "output_type": "error",
     "traceback": [
      "\u001b[0;31m---------------------------------------------------------------------------\u001b[0m",
      "\u001b[0;31mAttributeError\u001b[0m                            Traceback (most recent call last)",
      "\u001b[0;32m/tmp/ipykernel_36447/1290123288.py\u001b[0m in \u001b[0;36m<module>\u001b[0;34m\u001b[0m\n\u001b[0;32m----> 1\u001b[0;31m \u001b[0mtrain_dataframe\u001b[0m\u001b[0;34m.\u001b[0m\u001b[0mcorr\u001b[0m\u001b[0;34m(\u001b[0m\u001b[0mmethod\u001b[0m\u001b[0;34m=\u001b[0m\u001b[0;34m'spearman'\u001b[0m\u001b[0;34m)\u001b[0m\u001b[0;34m.\u001b[0m\u001b[0mTransported\u001b[0m\u001b[0;34m.\u001b[0m\u001b[0msort_values\u001b[0m\u001b[0;34m(\u001b[0m\u001b[0mascending\u001b[0m\u001b[0;34m=\u001b[0m\u001b[0;32mFalse\u001b[0m\u001b[0;34m)\u001b[0m\u001b[0;34m\u001b[0m\u001b[0;34m\u001b[0m\u001b[0m\n\u001b[0m",
      "\u001b[0;32m~/Apps/Anaconda/lib/python3.9/site-packages/pandas/core/generic.py\u001b[0m in \u001b[0;36m__getattr__\u001b[0;34m(self, name)\u001b[0m\n\u001b[1;32m   5573\u001b[0m         ):\n\u001b[1;32m   5574\u001b[0m             \u001b[0;32mreturn\u001b[0m \u001b[0mself\u001b[0m\u001b[0;34m[\u001b[0m\u001b[0mname\u001b[0m\u001b[0;34m]\u001b[0m\u001b[0;34m\u001b[0m\u001b[0;34m\u001b[0m\u001b[0m\n\u001b[0;32m-> 5575\u001b[0;31m         \u001b[0;32mreturn\u001b[0m \u001b[0mobject\u001b[0m\u001b[0;34m.\u001b[0m\u001b[0m__getattribute__\u001b[0m\u001b[0;34m(\u001b[0m\u001b[0mself\u001b[0m\u001b[0;34m,\u001b[0m \u001b[0mname\u001b[0m\u001b[0;34m)\u001b[0m\u001b[0;34m\u001b[0m\u001b[0;34m\u001b[0m\u001b[0m\n\u001b[0m\u001b[1;32m   5576\u001b[0m \u001b[0;34m\u001b[0m\u001b[0m\n\u001b[1;32m   5577\u001b[0m     \u001b[0;32mdef\u001b[0m \u001b[0m__setattr__\u001b[0m\u001b[0;34m(\u001b[0m\u001b[0mself\u001b[0m\u001b[0;34m,\u001b[0m \u001b[0mname\u001b[0m\u001b[0;34m:\u001b[0m \u001b[0mstr\u001b[0m\u001b[0;34m,\u001b[0m \u001b[0mvalue\u001b[0m\u001b[0;34m)\u001b[0m \u001b[0;34m->\u001b[0m \u001b[0;32mNone\u001b[0m\u001b[0;34m:\u001b[0m\u001b[0;34m\u001b[0m\u001b[0;34m\u001b[0m\u001b[0m\n",
      "\u001b[0;31mAttributeError\u001b[0m: 'DataFrame' object has no attribute 'Transported'"
     ]
    }
   ],
   "source": [
    "train_dataframe.corr(method='spearman').Transported.sort_values(ascending=False)"
   ]
  },
  {
   "cell_type": "markdown",
   "id": "2636757e",
   "metadata": {},
   "source": [
    "# Aprendizado de maquina"
   ]
  },
  {
   "cell_type": "code",
   "execution_count": 822,
   "id": "692d90ab",
   "metadata": {},
   "outputs": [
    {
     "data": {
      "text/plain": [
       "((4915, 10), (2107, 10), (4915,), (2107,))"
      ]
     },
     "execution_count": 822,
     "metadata": {},
     "output_type": "execute_result"
    }
   ],
   "source": [
    "features = train_dataframe.drop(\"Transported\",axis=1)\n",
    "target = train_dataframe[\"Transported\"]\n",
    "X_train,X_test,y_train,y_test = train_test_split(train_dataframe,target,test_size=0.3,random_state=22)\n",
    "X_train.shape,X_test.shape,y_train.shape,y_test.shape"
   ]
  },
  {
   "cell_type": "code",
   "execution_count": 823,
   "id": "0259fed2",
   "metadata": {},
   "outputs": [
    {
     "ename": "ValueError",
     "evalue": "Unknown label type: 'unknown'",
     "output_type": "error",
     "traceback": [
      "\u001b[0;31m---------------------------------------------------------------------------\u001b[0m",
      "\u001b[0;31mValueError\u001b[0m                                Traceback (most recent call last)",
      "\u001b[0;32m/tmp/ipykernel_29969/1023555960.py\u001b[0m in \u001b[0;36m<module>\u001b[0;34m\u001b[0m\n\u001b[1;32m      8\u001b[0m                              random_state=1,n_jobs=-1)\n\u001b[1;32m      9\u001b[0m \u001b[0;34m\u001b[0m\u001b[0m\n\u001b[0;32m---> 10\u001b[0;31m \u001b[0mRandonForestModel\u001b[0m\u001b[0;34m.\u001b[0m\u001b[0mfit\u001b[0m\u001b[0;34m(\u001b[0m\u001b[0mX_train\u001b[0m\u001b[0;34m,\u001b[0m\u001b[0my_train\u001b[0m\u001b[0;34m)\u001b[0m\u001b[0;34m\u001b[0m\u001b[0;34m\u001b[0m\u001b[0m\n\u001b[0m\u001b[1;32m     11\u001b[0m \u001b[0mprediction_rm\u001b[0m\u001b[0;34m=\u001b[0m\u001b[0mRandonForestModel\u001b[0m\u001b[0;34m.\u001b[0m\u001b[0mpredict\u001b[0m\u001b[0;34m(\u001b[0m\u001b[0mX_test\u001b[0m\u001b[0;34m)\u001b[0m\u001b[0;34m\u001b[0m\u001b[0;34m\u001b[0m\u001b[0m\n\u001b[1;32m     12\u001b[0m \u001b[0mprint\u001b[0m\u001b[0;34m(\u001b[0m\u001b[0;34m'Acuracia:'\u001b[0m\u001b[0;34m,\u001b[0m\u001b[0mround\u001b[0m\u001b[0;34m(\u001b[0m\u001b[0maccuracy_score\u001b[0m\u001b[0;34m(\u001b[0m\u001b[0mprediction_rm\u001b[0m\u001b[0;34m,\u001b[0m\u001b[0my_test\u001b[0m\u001b[0;34m)\u001b[0m\u001b[0;34m*\u001b[0m\u001b[0;36m100\u001b[0m\u001b[0;34m,\u001b[0m\u001b[0;36m2\u001b[0m\u001b[0;34m)\u001b[0m\u001b[0;34m)\u001b[0m\u001b[0;34m\u001b[0m\u001b[0;34m\u001b[0m\u001b[0m\n",
      "\u001b[0;32m~/Apps/Anaconda/lib/python3.9/site-packages/sklearn/ensemble/_forest.py\u001b[0m in \u001b[0;36mfit\u001b[0;34m(self, X, y, sample_weight)\u001b[0m\n\u001b[1;32m    365\u001b[0m         \u001b[0mself\u001b[0m\u001b[0;34m.\u001b[0m\u001b[0mn_outputs_\u001b[0m \u001b[0;34m=\u001b[0m \u001b[0my\u001b[0m\u001b[0;34m.\u001b[0m\u001b[0mshape\u001b[0m\u001b[0;34m[\u001b[0m\u001b[0;36m1\u001b[0m\u001b[0;34m]\u001b[0m\u001b[0;34m\u001b[0m\u001b[0;34m\u001b[0m\u001b[0m\n\u001b[1;32m    366\u001b[0m \u001b[0;34m\u001b[0m\u001b[0m\n\u001b[0;32m--> 367\u001b[0;31m         \u001b[0my\u001b[0m\u001b[0;34m,\u001b[0m \u001b[0mexpanded_class_weight\u001b[0m \u001b[0;34m=\u001b[0m \u001b[0mself\u001b[0m\u001b[0;34m.\u001b[0m\u001b[0m_validate_y_class_weight\u001b[0m\u001b[0;34m(\u001b[0m\u001b[0my\u001b[0m\u001b[0;34m)\u001b[0m\u001b[0;34m\u001b[0m\u001b[0;34m\u001b[0m\u001b[0m\n\u001b[0m\u001b[1;32m    368\u001b[0m \u001b[0;34m\u001b[0m\u001b[0m\n\u001b[1;32m    369\u001b[0m         \u001b[0;32mif\u001b[0m \u001b[0mgetattr\u001b[0m\u001b[0;34m(\u001b[0m\u001b[0my\u001b[0m\u001b[0;34m,\u001b[0m \u001b[0;34m\"dtype\"\u001b[0m\u001b[0;34m,\u001b[0m \u001b[0;32mNone\u001b[0m\u001b[0;34m)\u001b[0m \u001b[0;34m!=\u001b[0m \u001b[0mDOUBLE\u001b[0m \u001b[0;32mor\u001b[0m \u001b[0;32mnot\u001b[0m \u001b[0my\u001b[0m\u001b[0;34m.\u001b[0m\u001b[0mflags\u001b[0m\u001b[0;34m.\u001b[0m\u001b[0mcontiguous\u001b[0m\u001b[0;34m:\u001b[0m\u001b[0;34m\u001b[0m\u001b[0;34m\u001b[0m\u001b[0m\n",
      "\u001b[0;32m~/Apps/Anaconda/lib/python3.9/site-packages/sklearn/ensemble/_forest.py\u001b[0m in \u001b[0;36m_validate_y_class_weight\u001b[0;34m(self, y)\u001b[0m\n\u001b[1;32m    732\u001b[0m \u001b[0;34m\u001b[0m\u001b[0m\n\u001b[1;32m    733\u001b[0m     \u001b[0;32mdef\u001b[0m \u001b[0m_validate_y_class_weight\u001b[0m\u001b[0;34m(\u001b[0m\u001b[0mself\u001b[0m\u001b[0;34m,\u001b[0m \u001b[0my\u001b[0m\u001b[0;34m)\u001b[0m\u001b[0;34m:\u001b[0m\u001b[0;34m\u001b[0m\u001b[0;34m\u001b[0m\u001b[0m\n\u001b[0;32m--> 734\u001b[0;31m         \u001b[0mcheck_classification_targets\u001b[0m\u001b[0;34m(\u001b[0m\u001b[0my\u001b[0m\u001b[0;34m)\u001b[0m\u001b[0;34m\u001b[0m\u001b[0;34m\u001b[0m\u001b[0m\n\u001b[0m\u001b[1;32m    735\u001b[0m \u001b[0;34m\u001b[0m\u001b[0m\n\u001b[1;32m    736\u001b[0m         \u001b[0my\u001b[0m \u001b[0;34m=\u001b[0m \u001b[0mnp\u001b[0m\u001b[0;34m.\u001b[0m\u001b[0mcopy\u001b[0m\u001b[0;34m(\u001b[0m\u001b[0my\u001b[0m\u001b[0;34m)\u001b[0m\u001b[0;34m\u001b[0m\u001b[0;34m\u001b[0m\u001b[0m\n",
      "\u001b[0;32m~/Apps/Anaconda/lib/python3.9/site-packages/sklearn/utils/multiclass.py\u001b[0m in \u001b[0;36mcheck_classification_targets\u001b[0;34m(y)\u001b[0m\n\u001b[1;32m    195\u001b[0m         \u001b[0;34m\"multilabel-sequences\"\u001b[0m\u001b[0;34m,\u001b[0m\u001b[0;34m\u001b[0m\u001b[0;34m\u001b[0m\u001b[0m\n\u001b[1;32m    196\u001b[0m     ]:\n\u001b[0;32m--> 197\u001b[0;31m         \u001b[0;32mraise\u001b[0m \u001b[0mValueError\u001b[0m\u001b[0;34m(\u001b[0m\u001b[0;34m\"Unknown label type: %r\"\u001b[0m \u001b[0;34m%\u001b[0m \u001b[0my_type\u001b[0m\u001b[0;34m)\u001b[0m\u001b[0;34m\u001b[0m\u001b[0;34m\u001b[0m\u001b[0m\n\u001b[0m\u001b[1;32m    198\u001b[0m \u001b[0;34m\u001b[0m\u001b[0m\n\u001b[1;32m    199\u001b[0m \u001b[0;34m\u001b[0m\u001b[0m\n",
      "\u001b[0;31mValueError\u001b[0m: Unknown label type: 'unknown'"
     ]
    }
   ],
   "source": [
    "# Random Forests\n",
    "from sklearn.ensemble import RandomForestClassifier\n",
    "\n",
    "#n_estimators its exemples quantite that we will use in the training\n",
    "RandonForestModel = RandomForestClassifier(criterion='gini', n_estimators=700,\n",
    "                             min_samples_split=10,min_samples_leaf=1,\n",
    "                             max_features='auto',oob_score=True,\n",
    "                             random_state=1,n_jobs=-1)\n",
    "\n",
    "RandonForestModel.fit(X_train,y_train)\n",
    "prediction_rm=RandonForestModel.predict(X_test)\n",
    "print('Acuracia:',round(accuracy_score(prediction_rm,y_test)*100,2))\n",
    "\n",
    "kfold = KFold(n_splits=5, random_state=22,shuffle=True) # k=10, split the data into 10 equal parts\n",
    "result_rm=cross_val_score(RandonForestModel,features,target,cv=5,scoring='accuracy')\n",
    "print('Acuracia com validação cruzada media 5 exemplos',round(result_rm.mean()*100,2))\n",
    "\n",
    "y_pred = cross_val_predict(RandonForestModel,features,target,cv=5)\n",
    "seaborn.heatmap(confusion_matrix(target,y_pred),annot=True,fmt='3.0f',cmap=\"summer\");\n",
    "plt.title('Random Forest Classifier', y=1.05, size=15);"
   ]
  },
  {
   "cell_type": "code",
   "execution_count": 824,
   "id": "db640552",
   "metadata": {
    "scrolled": false
   },
   "outputs": [
    {
     "ename": "ValueError",
     "evalue": "Unknown label type: 'unknown'",
     "output_type": "error",
     "traceback": [
      "\u001b[0;31m---------------------------------------------------------------------------\u001b[0m",
      "\u001b[0;31mValueError\u001b[0m                                Traceback (most recent call last)",
      "\u001b[0;32m/tmp/ipykernel_29969/2431727320.py\u001b[0m in \u001b[0;36m<module>\u001b[0;34m\u001b[0m\n\u001b[1;32m      9\u001b[0m                                             \u001b[0mn_iter_no_change\u001b[0m\u001b[0;34m=\u001b[0m\u001b[0;36m1\u001b[0m\u001b[0;34m\u001b[0m\u001b[0;34m\u001b[0m\u001b[0m\n\u001b[1;32m     10\u001b[0m                                            )\n\u001b[0;32m---> 11\u001b[0;31m \u001b[0mGradientBCmodel\u001b[0m\u001b[0;34m.\u001b[0m\u001b[0mfit\u001b[0m\u001b[0;34m(\u001b[0m\u001b[0mX_train\u001b[0m\u001b[0;34m,\u001b[0m\u001b[0my_train\u001b[0m\u001b[0;34m)\u001b[0m\u001b[0;34m\u001b[0m\u001b[0;34m\u001b[0m\u001b[0m\n\u001b[0m\u001b[1;32m     12\u001b[0m \u001b[0mprediction_gbc\u001b[0m\u001b[0;34m=\u001b[0m\u001b[0mGradientBCmodel\u001b[0m\u001b[0;34m.\u001b[0m\u001b[0mpredict\u001b[0m\u001b[0;34m(\u001b[0m\u001b[0mX_test\u001b[0m\u001b[0;34m)\u001b[0m\u001b[0;34m\u001b[0m\u001b[0;34m\u001b[0m\u001b[0m\n\u001b[1;32m     13\u001b[0m \u001b[0mprint\u001b[0m\u001b[0;34m(\u001b[0m\u001b[0;34m'Acuracia:'\u001b[0m\u001b[0;34m,\u001b[0m\u001b[0mround\u001b[0m\u001b[0;34m(\u001b[0m\u001b[0maccuracy_score\u001b[0m\u001b[0;34m(\u001b[0m\u001b[0mprediction_gbc\u001b[0m\u001b[0;34m,\u001b[0m\u001b[0my_test\u001b[0m\u001b[0;34m)\u001b[0m\u001b[0;34m*\u001b[0m\u001b[0;36m100\u001b[0m\u001b[0;34m,\u001b[0m\u001b[0;36m2\u001b[0m\u001b[0;34m)\u001b[0m\u001b[0;34m)\u001b[0m\u001b[0;34m\u001b[0m\u001b[0;34m\u001b[0m\u001b[0m\n",
      "\u001b[0;32m~/Apps/Anaconda/lib/python3.9/site-packages/sklearn/ensemble/_gb.py\u001b[0m in \u001b[0;36mfit\u001b[0;34m(self, X, y, sample_weight, monitor)\u001b[0m\n\u001b[1;32m    495\u001b[0m \u001b[0;34m\u001b[0m\u001b[0m\n\u001b[1;32m    496\u001b[0m         \u001b[0;32mif\u001b[0m \u001b[0mis_classifier\u001b[0m\u001b[0;34m(\u001b[0m\u001b[0mself\u001b[0m\u001b[0;34m)\u001b[0m\u001b[0;34m:\u001b[0m\u001b[0;34m\u001b[0m\u001b[0;34m\u001b[0m\u001b[0m\n\u001b[0;32m--> 497\u001b[0;31m             \u001b[0my\u001b[0m \u001b[0;34m=\u001b[0m \u001b[0mself\u001b[0m\u001b[0;34m.\u001b[0m\u001b[0m_validate_y\u001b[0m\u001b[0;34m(\u001b[0m\u001b[0my\u001b[0m\u001b[0;34m,\u001b[0m \u001b[0msample_weight\u001b[0m\u001b[0;34m)\u001b[0m\u001b[0;34m\u001b[0m\u001b[0;34m\u001b[0m\u001b[0m\n\u001b[0m\u001b[1;32m    498\u001b[0m         \u001b[0;32melse\u001b[0m\u001b[0;34m:\u001b[0m\u001b[0;34m\u001b[0m\u001b[0;34m\u001b[0m\u001b[0m\n\u001b[1;32m    499\u001b[0m             \u001b[0my\u001b[0m \u001b[0;34m=\u001b[0m \u001b[0mself\u001b[0m\u001b[0;34m.\u001b[0m\u001b[0m_validate_y\u001b[0m\u001b[0;34m(\u001b[0m\u001b[0my\u001b[0m\u001b[0;34m)\u001b[0m\u001b[0;34m\u001b[0m\u001b[0;34m\u001b[0m\u001b[0m\n",
      "\u001b[0;32m~/Apps/Anaconda/lib/python3.9/site-packages/sklearn/ensemble/_gb.py\u001b[0m in \u001b[0;36m_validate_y\u001b[0;34m(self, y, sample_weight)\u001b[0m\n\u001b[1;32m   1266\u001b[0m \u001b[0;34m\u001b[0m\u001b[0m\n\u001b[1;32m   1267\u001b[0m     \u001b[0;32mdef\u001b[0m \u001b[0m_validate_y\u001b[0m\u001b[0;34m(\u001b[0m\u001b[0mself\u001b[0m\u001b[0;34m,\u001b[0m \u001b[0my\u001b[0m\u001b[0;34m,\u001b[0m \u001b[0msample_weight\u001b[0m\u001b[0;34m)\u001b[0m\u001b[0;34m:\u001b[0m\u001b[0;34m\u001b[0m\u001b[0;34m\u001b[0m\u001b[0m\n\u001b[0;32m-> 1268\u001b[0;31m         \u001b[0mcheck_classification_targets\u001b[0m\u001b[0;34m(\u001b[0m\u001b[0my\u001b[0m\u001b[0;34m)\u001b[0m\u001b[0;34m\u001b[0m\u001b[0;34m\u001b[0m\u001b[0m\n\u001b[0m\u001b[1;32m   1269\u001b[0m         \u001b[0mself\u001b[0m\u001b[0;34m.\u001b[0m\u001b[0mclasses_\u001b[0m\u001b[0;34m,\u001b[0m \u001b[0my\u001b[0m \u001b[0;34m=\u001b[0m \u001b[0mnp\u001b[0m\u001b[0;34m.\u001b[0m\u001b[0munique\u001b[0m\u001b[0;34m(\u001b[0m\u001b[0my\u001b[0m\u001b[0;34m,\u001b[0m \u001b[0mreturn_inverse\u001b[0m\u001b[0;34m=\u001b[0m\u001b[0;32mTrue\u001b[0m\u001b[0;34m)\u001b[0m\u001b[0;34m\u001b[0m\u001b[0;34m\u001b[0m\u001b[0m\n\u001b[1;32m   1270\u001b[0m         \u001b[0mn_trim_classes\u001b[0m \u001b[0;34m=\u001b[0m \u001b[0mnp\u001b[0m\u001b[0;34m.\u001b[0m\u001b[0mcount_nonzero\u001b[0m\u001b[0;34m(\u001b[0m\u001b[0mnp\u001b[0m\u001b[0;34m.\u001b[0m\u001b[0mbincount\u001b[0m\u001b[0;34m(\u001b[0m\u001b[0my\u001b[0m\u001b[0;34m,\u001b[0m \u001b[0msample_weight\u001b[0m\u001b[0;34m)\u001b[0m\u001b[0;34m)\u001b[0m\u001b[0;34m\u001b[0m\u001b[0;34m\u001b[0m\u001b[0m\n",
      "\u001b[0;32m~/Apps/Anaconda/lib/python3.9/site-packages/sklearn/utils/multiclass.py\u001b[0m in \u001b[0;36mcheck_classification_targets\u001b[0;34m(y)\u001b[0m\n\u001b[1;32m    195\u001b[0m         \u001b[0;34m\"multilabel-sequences\"\u001b[0m\u001b[0;34m,\u001b[0m\u001b[0;34m\u001b[0m\u001b[0;34m\u001b[0m\u001b[0m\n\u001b[1;32m    196\u001b[0m     ]:\n\u001b[0;32m--> 197\u001b[0;31m         \u001b[0;32mraise\u001b[0m \u001b[0mValueError\u001b[0m\u001b[0;34m(\u001b[0m\u001b[0;34m\"Unknown label type: %r\"\u001b[0m \u001b[0;34m%\u001b[0m \u001b[0my_type\u001b[0m\u001b[0;34m)\u001b[0m\u001b[0;34m\u001b[0m\u001b[0;34m\u001b[0m\u001b[0m\n\u001b[0m\u001b[1;32m    198\u001b[0m \u001b[0;34m\u001b[0m\u001b[0m\n\u001b[1;32m    199\u001b[0m \u001b[0;34m\u001b[0m\u001b[0m\n",
      "\u001b[0;31mValueError\u001b[0m: Unknown label type: 'unknown'"
     ]
    }
   ],
   "source": [
    "from sklearn.ensemble import GradientBoostingClassifier\n",
    "GradientBCmodel= GradientBoostingClassifier(n_estimators=500,\n",
    "                                            max_depth=50,\n",
    "                                            max_features='auto',\n",
    "                                            min_samples_split=10,\n",
    "                                            random_state=1,\n",
    "                                            #verbose=1,\n",
    "                                            validation_fraction=0.3,\n",
    "                                            n_iter_no_change=1\n",
    "                                           )\n",
    "GradientBCmodel.fit(X_train,y_train)\n",
    "prediction_gbc=GradientBCmodel.predict(X_test)\n",
    "print('Acuracia:',round(accuracy_score(prediction_gbc,y_test)*100,2))\n",
    "kfold = KFold(n_splits=5, random_state=22, shuffle=True) # k=10, split the data into 10 equal parts\n",
    "five_results_cval=cross_val_score(GradientBCmodel,features,target,cv=5,scoring='accuracy')\n",
    "print('Acuracia com validação cruzada media 5 exemplos:',round(five_results_cval.mean()*100,2))\n",
    "y_pred = cross_val_predict(GradientBCmodel,features,target,cv=5)\n",
    "seaborn.heatmap(confusion_matrix(target,y_pred),annot=True,fmt='3.0f',cmap=\"summer\");\n",
    "plt.title('Gradient Boosting Classifier', y=1.05, size=15);"
   ]
  },
  {
   "cell_type": "code",
   "execution_count": 720,
   "id": "87391670",
   "metadata": {},
   "outputs": [
    {
     "data": {
      "text/plain": [
       "((7022, 9), (7022,), (4277, 9))"
      ]
     },
     "execution_count": 720,
     "metadata": {},
     "output_type": "execute_result"
    }
   ],
   "source": [
    "#train_dataframe=train_dataframe.drop(\"PassengerId\", axis=1)\n",
    "train_X = train_dataframe.drop(\"Transported\", axis=1)#features\n",
    "train_Y= train_dataframe[\"Transported\"]#target\n",
    "test_X  = test_dataframe.copy()\n",
    "train_X.shape, train_Y.shape, test_X.shape"
   ]
  },
  {
   "cell_type": "code",
   "execution_count": 721,
   "id": "7307d658",
   "metadata": {},
   "outputs": [
    {
     "name": "stdout",
     "output_type": "stream",
     "text": [
      "Accuracy  97.27\n"
     ]
    },
    {
     "data": {
      "image/png": "[encoded data removed]",
      "text/plain": [
       "<Figure size 640x480 with 1 Axes>"
      ]
     },
     "metadata": {},
     "output_type": "display_data"
    }
   ],
   "source": [
    "# Random Forests\n",
    "random_forest = RandomForestClassifier(class_weight=None, criterion='entropy',\n",
    "            max_depth=None, max_features='log2',\n",
    "            min_samples_leaf=2, min_samples_split=4,\n",
    "            n_estimators=500, n_jobs=1,\n",
    "            warm_start=True,random_state=0)\n",
    "random_forest.fit(train_X, train_Y)\n",
    "Y_pred_rf = random_forest.predict(test_X)#predições\n",
    "random_forest.score(train_X,train_Y)\n",
    "acc_random_forest = round(random_forest.score(train_X, train_Y) * 100, 2)\n",
    "\n",
    "pandas.Series(random_forest.feature_importances_,train_X.columns).sort_values(ascending=True).plot.barh(width=0.8)\n",
    "print(\"Accuracy \",acc_random_forest)\n",
    "\n",
    "submission = pandas.DataFrame({\n",
    "        \"PassengerId\": imutPassengerID,\n",
    "        \"Transported\": Y_pred_rf})\n",
    "\n",
    "submission.to_csv('MySubmissionFutureTitanicRandonForest04.csv', index=False)"
   ]
  },
  {
   "cell_type": "code",
   "execution_count": 722,
   "id": "80065620",
   "metadata": {
    "scrolled": false
   },
   "outputs": [
    {
     "name": "stdout",
     "output_type": "stream",
     "text": [
      "Accuracy  66.31\n"
     ]
    },
    {
     "data": {
      "image/png": "[encoded data removed]",
      "text/plain": [
       "<Figure size 640x480 with 1 Axes>"
      ]
     },
     "metadata": {},
     "output_type": "display_data"
    }
   ],
   "source": [
    "xgb = xg.XGBRegressor(learning_rate=0.01,n_estimators=2000,\n",
    "                      subsample=0.7,colsample_bytree=0.7,\n",
    "                      random_state=0).fit(train_X, train_Y)\n",
    "xgb.fit(train_X, train_Y)\n",
    "Y_pred_rf = xgb.predict(test_X)#predições\n",
    "xgb.score(train_X,train_Y)\n",
    "acc_XGB = round(xgb.score(train_X, train_Y) * 100, 2)\n",
    "\n",
    "pandas.Series(xgb.feature_importances_,train_X.columns).sort_values(ascending=True).plot.barh(width=0.8)\n",
    "print(\"Accuracy \", acc_XGB)\n",
    "\n",
    "predT=[]\n",
    "price = xgb.predict(test_X)\n",
    "for i in range (len(price)):\n",
    "    if (price[i] >= 0.45):\n",
    "        predT.append('True')\n",
    "    else:\n",
    "        predT.append('False')\n",
    "        \n",
    "submission = pandas.DataFrame({\n",
    "        \"PassengerId\": imutPassengerID,\n",
    "        \"Transported\": predT})\n",
    "\n",
    "submission.to_csv('MySubmissionFutureTitanicXGB04.csv', index=False)"
   ]
  },
  {
   "cell_type": "code",
   "execution_count": 723,
   "id": "1a5c15ea",
   "metadata": {
    "scrolled": false
   },
   "outputs": [
    {
     "data": {
      "image/png": "[encoded data removed]",
      "text/plain": [
       "<Figure size 1000x1000 with 9 Axes>"
      ]
     },
     "metadata": {},
     "output_type": "display_data"
    }
   ],
   "source": [
    "train_dataframe.hist(figsize=(10,10))\n",
    "#sns.displot(train[num_cols])\n",
    "plt.show()"
   ]
  },
  {
   "cell_type": "code",
   "execution_count": 688,
   "id": "4b687cb7",
   "metadata": {},
   "outputs": [
    {
     "data": {
      "text/plain": [
       "Transported    1.000000\n",
       "CryoSleep      0.450218\n",
       "Destination    0.119856\n",
       "CabinSide      0.107866\n",
       "PassengerId    0.029671\n",
       "CabinLetter   -0.023190\n",
       "CabinNumber   -0.045749\n",
       "Age           -0.075537\n",
       "HomePlanet    -0.121716\n",
       "TotalSpent    -0.412590\n",
       "Name: Transported, dtype: float64"
      ]
     },
     "execution_count": 688,
     "metadata": {},
     "output_type": "execute_result"
    }
   ],
   "source": [
    "train_dataframe.corr(method='spearman').Transported.sort_values(ascending=False)"
   ]
  },
  {
   "cell_type": "code",
   "execution_count": null,
   "id": "15020ba6",
   "metadata": {},
   "outputs": [],
   "source": []
  },
  {
   "cell_type": "code",
   "execution_count": null,
   "id": "e557bd2e",
   "metadata": {},
   "outputs": [],
   "source": []
  }
 ],
 "metadata": {
  "kernelspec": {
   "display_name": "Python 3 (ipykernel)",
   "language": "python",
   "name": "python3"
  },
  "language_info": {
   "codemirror_mode": {
    "name": "ipython",
    "version": 3
   },
   "file_extension": ".py",
   "mimetype": "text/x-python",
   "name": "python",
   "nbconvert_exporter": "python",
   "pygments_lexer": "ipython3",
   "version": "3.9.13"
  }
 },
 "nbformat": 4,
 "nbformat_minor": 5
}
