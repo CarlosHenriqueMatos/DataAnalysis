{
 "cells": [
  {
   "cell_type": "markdown",
   "metadata": {
    "id": "LaAqfCEhwcRo"
   },
   "source": [
    "What is NumPy?"
   ]
  },
  {
   "cell_type": "code",
   "execution_count": 7,
   "metadata": {
    "executionInfo": {
     "elapsed": 3,
     "status": "ok",
     "timestamp": 1672108507936,
     "user": {
      "displayName": "carlos matos",
      "userId": "02219067111046996044"
     },
     "user_tz": 180
    },
    "id": "R0zsRdd-Z08V"
   },
   "outputs": [],
   "source": [
    "import numpy"
   ]
  },
  {
   "cell_type": "code",
   "execution_count": null,
   "metadata": {
    "colab": {
     "base_uri": "https://localhost:8080/"
    },
    "executionInfo": {
     "elapsed": 10,
     "status": "ok",
     "timestamp": 1672057697678,
     "user": {
      "displayName": "carlos matos",
      "userId": "02219067111046996044"
     },
     "user_tz": 180
    },
    "id": "2zVXi4p2Znpm",
    "outputId": "57dd19fa-f84f-44fa-977b-f05527ac47a0"
   },
   "outputs": [
    {
     "data": {
      "text/plain": [
       "array([2., 4., 6.])"
      ]
     },
     "execution_count": 3,
     "metadata": {},
     "output_type": "execute_result"
    }
   ],
   "source": [
    "a = numpy.array([1.0, 2.0, 3.0])\n",
    "\n",
    "b = numpy.array([2.0, 2.0, 2.0])\n",
    "\n",
    "a * b"
   ]
  },
  {
   "cell_type": "code",
   "execution_count": null,
   "metadata": {
    "id": "EYXL5LLDZ0Ws"
   },
   "outputs": [],
   "source": [
    "a = numpy.array([[ 0.0,  0.0,  0.0],\n",
    "              [10.0, 10.0, 10.0],\n",
    "              [20.0, 20.0, 20.0],\n",
    "              [30.0, 30.0, 30.0]])\n",
    "b = numpy.array([1.0, 2.0, 3.0])"
   ]
  },
  {
   "cell_type": "code",
   "execution_count": null,
   "metadata": {
    "colab": {
     "base_uri": "https://localhost:8080/"
    },
    "executionInfo": {
     "elapsed": 11,
     "status": "ok",
     "timestamp": 1672058233039,
     "user": {
      "displayName": "carlos matos",
      "userId": "02219067111046996044"
     },
     "user_tz": 180
    },
    "id": "1exgBrgcbkQO",
    "outputId": "a3ca21ec-6fe2-439b-ae0b-672fe4ac0412"
   },
   "outputs": [
    {
     "data": {
      "text/plain": [
       "array([[ 1.,  2.,  3.],\n",
       "       [11., 12., 13.],\n",
       "       [21., 22., 23.],\n",
       "       [31., 32., 33.]])"
      ]
     },
     "execution_count": 9,
     "metadata": {},
     "output_type": "execute_result"
    }
   ],
   "source": [
    "a + b"
   ]
  },
  {
   "cell_type": "code",
   "execution_count": null,
   "metadata": {
    "colab": {
     "base_uri": "https://localhost:8080/"
    },
    "executionInfo": {
     "elapsed": 9,
     "status": "ok",
     "timestamp": 1672058300512,
     "user": {
      "displayName": "carlos matos",
      "userId": "02219067111046996044"
     },
     "user_tz": 180
    },
    "id": "3Y5BWgiRbqUw",
    "outputId": "72147722-31e8-421f-fc2c-be177fe8c693"
   },
   "outputs": [
    {
     "data": {
      "text/plain": [
       "array([[ 1.,  2.,  3.],\n",
       "       [11., 12., 13.],\n",
       "       [21., 22., 23.],\n",
       "       [31., 32., 33.]])"
      ]
     },
     "execution_count": 10,
     "metadata": {},
     "output_type": "execute_result"
    }
   ],
   "source": [
    "a = numpy.array([0.0, 10.0, 20.0, 30.0])\n",
    "b = numpy.array([1.0, 2.0, 3.0])\n",
    "a[:, numpy.newaxis] + b"
   ]
  },
  {
   "cell_type": "code",
   "execution_count": null,
   "metadata": {
    "colab": {
     "base_uri": "https://localhost:8080/"
    },
    "executionInfo": {
     "elapsed": 8,
     "status": "ok",
     "timestamp": 1672058413949,
     "user": {
      "displayName": "carlos matos",
      "userId": "02219067111046996044"
     },
     "user_tz": 180
    },
    "id": "inF8yMlEcOR-",
    "outputId": "5b3626be-12a8-4dfa-cca1-25de8ba6df29"
   },
   "outputs": [
    {
     "data": {
      "text/plain": [
       "array([ 0., 10., 20., 30.])"
      ]
     },
     "execution_count": 15,
     "metadata": {},
     "output_type": "execute_result"
    }
   ],
   "source": [
    "a[:]"
   ]
  },
  {
   "cell_type": "code",
   "execution_count": 8,
   "metadata": {
    "colab": {
     "base_uri": "https://localhost:8080/"
    },
    "executionInfo": {
     "elapsed": 287,
     "status": "ok",
     "timestamp": 1672108510170,
     "user": {
      "displayName": "carlos matos",
      "userId": "02219067111046996044"
     },
     "user_tz": 180
    },
    "id": "-87nDtKBckVu",
    "outputId": "2e836c75-2d01-4fcd-f11b-d9bd7b787104"
   },
   "outputs": [
    {
     "name": "stdout",
     "output_type": "stream",
     "text": [
      "[[ -9.  15.]\n",
      " [ 21.   5.]\n",
      " [-66. -33.]\n",
      " [-54. -15.]]\n"
     ]
    },
    {
     "data": {
      "text/plain": [
       "0"
      ]
     },
     "execution_count": 8,
     "metadata": {},
     "output_type": "execute_result"
    }
   ],
   "source": [
    "from numpy import array, argmin, sqrt, sum\n",
    "\n",
    "observation = array([111.0, 188.0])\n",
    "\n",
    "codes = array([[102.0, 203.0],\n",
    "\n",
    "               [132.0, 193.0],\n",
    "\n",
    "               [45.0, 155.0],\n",
    "\n",
    "               [57.0, 173.0]])\n",
    "\n",
    "diff = codes - observation    # the broadcast happens here\n",
    "print(diff)\n",
    "dist = sqrt(sum(diff**2,axis=-1))\n",
    "\n",
    "argmin(dist)"
   ]
  },
  {
   "cell_type": "markdown",
   "metadata": {
    "id": "nownvHz7wiAS"
   },
   "source": [
    "Numpy quickstart\n",
    "\n",
    "https://numpy.org/doc/stable/user/quickstart.html"
   ]
  },
  {
   "cell_type": "code",
   "execution_count": null,
   "metadata": {
    "id": "gSd4EHJYwkyS"
   },
   "outputs": [],
   "source": [
    "a = numpy.arange(15).reshape(3, 5)"
   ]
  },
  {
   "cell_type": "code",
   "execution_count": null,
   "metadata": {
    "colab": {
     "base_uri": "https://localhost:8080/"
    },
    "executionInfo": {
     "elapsed": 9,
     "status": "ok",
     "timestamp": 1672091071285,
     "user": {
      "displayName": "carlos matos",
      "userId": "02219067111046996044"
     },
     "user_tz": 180
    },
    "id": "NEYQkxUwZOAu",
    "outputId": "8350df2b-1cdf-4e88-eafe-bb3444cbfe77"
   },
   "outputs": [
    {
     "data": {
      "text/plain": [
       "(3, 5)"
      ]
     },
     "execution_count": 3,
     "metadata": {},
     "output_type": "execute_result"
    }
   ],
   "source": [
    "a.shape"
   ]
  },
  {
   "cell_type": "code",
   "execution_count": null,
   "metadata": {
    "colab": {
     "base_uri": "https://localhost:8080/"
    },
    "executionInfo": {
     "elapsed": 421,
     "status": "ok",
     "timestamp": 1672091081255,
     "user": {
      "displayName": "carlos matos",
      "userId": "02219067111046996044"
     },
     "user_tz": 180
    },
    "id": "WOizkgRvZPEs",
    "outputId": "7e2debfa-d1b9-4d42-932c-0beeb7ce51d0"
   },
   "outputs": [
    {
     "data": {
      "text/plain": [
       "2"
      ]
     },
     "execution_count": 4,
     "metadata": {},
     "output_type": "execute_result"
    }
   ],
   "source": [
    "a.ndim"
   ]
  },
  {
   "cell_type": "code",
   "execution_count": null,
   "metadata": {
    "colab": {
     "base_uri": "https://localhost:8080/",
     "height": 35
    },
    "executionInfo": {
     "elapsed": 277,
     "status": "ok",
     "timestamp": 1672091093177,
     "user": {
      "displayName": "carlos matos",
      "userId": "02219067111046996044"
     },
     "user_tz": 180
    },
    "id": "4duC8hL2ZRVM",
    "outputId": "e0577329-989f-49c6-e3f2-cdacb939218c"
   },
   "outputs": [
    {
     "data": {
      "application/vnd.google.colaboratory.intrinsic+json": {
       "type": "string"
      },
      "text/plain": [
       "'int64'"
      ]
     },
     "execution_count": 5,
     "metadata": {},
     "output_type": "execute_result"
    }
   ],
   "source": [
    "a.dtype.name"
   ]
  },
  {
   "cell_type": "code",
   "execution_count": null,
   "metadata": {
    "colab": {
     "base_uri": "https://localhost:8080/"
    },
    "executionInfo": {
     "elapsed": 319,
     "status": "ok",
     "timestamp": 1672091106460,
     "user": {
      "displayName": "carlos matos",
      "userId": "02219067111046996044"
     },
     "user_tz": 180
    },
    "id": "s3bvq0cfZUTU",
    "outputId": "6261e637-4cbc-4d34-8b5d-be6e5fbf3ffc"
   },
   "outputs": [
    {
     "data": {
      "text/plain": [
       "8"
      ]
     },
     "execution_count": 6,
     "metadata": {},
     "output_type": "execute_result"
    }
   ],
   "source": [
    "a.itemsize"
   ]
  },
  {
   "cell_type": "code",
   "execution_count": null,
   "metadata": {
    "colab": {
     "base_uri": "https://localhost:8080/"
    },
    "executionInfo": {
     "elapsed": 3,
     "status": "ok",
     "timestamp": 1672091121889,
     "user": {
      "displayName": "carlos matos",
      "userId": "02219067111046996044"
     },
     "user_tz": 180
    },
    "id": "PalQpec9ZXjB",
    "outputId": "27271c2e-4320-4ebf-ae4b-c06b8038b37d"
   },
   "outputs": [
    {
     "data": {
      "text/plain": [
       "15"
      ]
     },
     "execution_count": 7,
     "metadata": {},
     "output_type": "execute_result"
    }
   ],
   "source": [
    "a.size"
   ]
  },
  {
   "cell_type": "code",
   "execution_count": null,
   "metadata": {
    "colab": {
     "base_uri": "https://localhost:8080/"
    },
    "executionInfo": {
     "elapsed": 10,
     "status": "ok",
     "timestamp": 1672091127780,
     "user": {
      "displayName": "carlos matos",
      "userId": "02219067111046996044"
     },
     "user_tz": 180
    },
    "id": "kYWcfgbTZbUE",
    "outputId": "8322c790-9b75-407a-efa9-9deba9302df8"
   },
   "outputs": [
    {
     "data": {
      "text/plain": [
       "numpy.ndarray"
      ]
     },
     "execution_count": 8,
     "metadata": {},
     "output_type": "execute_result"
    }
   ],
   "source": [
    "type(a)"
   ]
  },
  {
   "cell_type": "code",
   "execution_count": null,
   "metadata": {
    "colab": {
     "base_uri": "https://localhost:8080/"
    },
    "executionInfo": {
     "elapsed": 406,
     "status": "ok",
     "timestamp": 1672091150895,
     "user": {
      "displayName": "carlos matos",
      "userId": "02219067111046996044"
     },
     "user_tz": 180
    },
    "id": "4iv8Y6UlZc27",
    "outputId": "3c65200c-9b3d-462b-bc00-bcd531f3d689"
   },
   "outputs": [
    {
     "data": {
      "text/plain": [
       "array([6, 7, 8])"
      ]
     },
     "execution_count": 9,
     "metadata": {},
     "output_type": "execute_result"
    }
   ],
   "source": [
    "b = numpy.array([6, 7, 8])\n",
    "b"
   ]
  },
  {
   "cell_type": "code",
   "execution_count": null,
   "metadata": {
    "colab": {
     "base_uri": "https://localhost:8080/"
    },
    "executionInfo": {
     "elapsed": 9,
     "status": "ok",
     "timestamp": 1672091158574,
     "user": {
      "displayName": "carlos matos",
      "userId": "02219067111046996044"
     },
     "user_tz": 180
    },
    "id": "XrRTGzq9ZiP5",
    "outputId": "310bbb8e-3bfb-4f0b-ff8a-5c97097d9b3f"
   },
   "outputs": [
    {
     "data": {
      "text/plain": [
       "numpy.ndarray"
      ]
     },
     "execution_count": 10,
     "metadata": {},
     "output_type": "execute_result"
    }
   ],
   "source": [
    "type(b)"
   ]
  },
  {
   "cell_type": "code",
   "execution_count": null,
   "metadata": {
    "colab": {
     "base_uri": "https://localhost:8080/"
    },
    "executionInfo": {
     "elapsed": 11,
     "status": "ok",
     "timestamp": 1672091245237,
     "user": {
      "displayName": "carlos matos",
      "userId": "02219067111046996044"
     },
     "user_tz": 180
    },
    "id": "oz62sWDcZkUb",
    "outputId": "58b38fa4-268e-4d0d-fb4c-63630298aff0"
   },
   "outputs": [
    {
     "data": {
      "text/plain": [
       "array([2, 3, 4])"
      ]
     },
     "execution_count": 16,
     "metadata": {},
     "output_type": "execute_result"
    }
   ],
   "source": [
    "a = numpy.array([2, 3, 4])\n",
    "a"
   ]
  },
  {
   "cell_type": "code",
   "execution_count": null,
   "metadata": {
    "colab": {
     "base_uri": "https://localhost:8080/"
    },
    "executionInfo": {
     "elapsed": 284,
     "status": "ok",
     "timestamp": 1672091246724,
     "user": {
      "displayName": "carlos matos",
      "userId": "02219067111046996044"
     },
     "user_tz": 180
    },
    "id": "HWNkKs8DZuiz",
    "outputId": "635b7270-b703-4db0-913a-7e8323bce575"
   },
   "outputs": [
    {
     "data": {
      "text/plain": [
       "dtype('int64')"
      ]
     },
     "execution_count": 17,
     "metadata": {},
     "output_type": "execute_result"
    }
   ],
   "source": [
    "a.dtype"
   ]
  },
  {
   "cell_type": "code",
   "execution_count": null,
   "metadata": {
    "colab": {
     "base_uri": "https://localhost:8080/"
    },
    "executionInfo": {
     "elapsed": 5,
     "status": "ok",
     "timestamp": 1672091324334,
     "user": {
      "displayName": "carlos matos",
      "userId": "02219067111046996044"
     },
     "user_tz": 180
    },
    "id": "pKqrhunQZwmj",
    "outputId": "8e77c03d-d93c-41a7-a77b-c75093701804"
   },
   "outputs": [
    {
     "data": {
      "text/plain": [
       "array([[1.5, 2. , 3. ],\n",
       "       [4. , 5. , 6. ]])"
      ]
     },
     "execution_count": 18,
     "metadata": {},
     "output_type": "execute_result"
    }
   ],
   "source": [
    "b = numpy.array([(1.5, 2, 3), (4, 5, 6)])\n",
    "b"
   ]
  },
  {
   "cell_type": "code",
   "execution_count": null,
   "metadata": {
    "colab": {
     "base_uri": "https://localhost:8080/"
    },
    "executionInfo": {
     "elapsed": 11,
     "status": "ok",
     "timestamp": 1672091363382,
     "user": {
      "displayName": "carlos matos",
      "userId": "02219067111046996044"
     },
     "user_tz": 180
    },
    "id": "0HD1_hizaMsr",
    "outputId": "b9d08af6-f3af-4f2a-8b6e-dd2f66dd3af6"
   },
   "outputs": [
    {
     "data": {
      "text/plain": [
       "array([[1.+0.j, 2.+0.j],\n",
       "       [3.+0.j, 4.+0.j]])"
      ]
     },
     "execution_count": 19,
     "metadata": {},
     "output_type": "execute_result"
    }
   ],
   "source": [
    "c = numpy.array([[1, 2], [3, 4]], dtype=complex)\n",
    "c"
   ]
  },
  {
   "cell_type": "code",
   "execution_count": null,
   "metadata": {
    "colab": {
     "base_uri": "https://localhost:8080/"
    },
    "executionInfo": {
     "elapsed": 263,
     "status": "ok",
     "timestamp": 1672091422484,
     "user": {
      "displayName": "carlos matos",
      "userId": "02219067111046996044"
     },
     "user_tz": 180
    },
    "id": "BA1QoW0NaWR5",
    "outputId": "e63ce417-e456-49f8-fdf1-9c1b2013493a"
   },
   "outputs": [
    {
     "data": {
      "text/plain": [
       "array([[0., 0., 0., 0.],\n",
       "       [0., 0., 0., 0.],\n",
       "       [0., 0., 0., 0.]])"
      ]
     },
     "execution_count": 20,
     "metadata": {},
     "output_type": "execute_result"
    }
   ],
   "source": [
    "numpy.zeros((3,4))"
   ]
  },
  {
   "cell_type": "code",
   "execution_count": null,
   "metadata": {
    "colab": {
     "base_uri": "https://localhost:8080/"
    },
    "executionInfo": {
     "elapsed": 16,
     "status": "ok",
     "timestamp": 1672091454952,
     "user": {
      "displayName": "carlos matos",
      "userId": "02219067111046996044"
     },
     "user_tz": 180
    },
    "id": "sh-LyIN0aktI",
    "outputId": "8acbc47b-df28-458a-9d1c-6795632970a0"
   },
   "outputs": [
    {
     "data": {
      "text/plain": [
       "array([[[1, 1, 1, 1],\n",
       "        [1, 1, 1, 1],\n",
       "        [1, 1, 1, 1]],\n",
       "\n",
       "       [[1, 1, 1, 1],\n",
       "        [1, 1, 1, 1],\n",
       "        [1, 1, 1, 1]]], dtype=int16)"
      ]
     },
     "execution_count": 22,
     "metadata": {},
     "output_type": "execute_result"
    }
   ],
   "source": [
    "numpy.ones((2,3,4), dtype = numpy.int16)"
   ]
  },
  {
   "cell_type": "code",
   "execution_count": null,
   "metadata": {
    "colab": {
     "base_uri": "https://localhost:8080/"
    },
    "executionInfo": {
     "elapsed": 270,
     "status": "ok",
     "timestamp": 1672091470020,
     "user": {
      "displayName": "carlos matos",
      "userId": "02219067111046996044"
     },
     "user_tz": 180
    },
    "id": "gBrOoI7Maq0g",
    "outputId": "eaf17235-7923-4424-8d9e-5c9ad9858385"
   },
   "outputs": [
    {
     "data": {
      "text/plain": [
       "array([[1.5, 2. , 3. ],\n",
       "       [4. , 5. , 6. ]])"
      ]
     },
     "execution_count": 23,
     "metadata": {},
     "output_type": "execute_result"
    }
   ],
   "source": [
    "numpy.empty((2,3))"
   ]
  },
  {
   "cell_type": "code",
   "execution_count": null,
   "metadata": {
    "colab": {
     "base_uri": "https://localhost:8080/"
    },
    "executionInfo": {
     "elapsed": 246,
     "status": "ok",
     "timestamp": 1672091516873,
     "user": {
      "displayName": "carlos matos",
      "userId": "02219067111046996044"
     },
     "user_tz": 180
    },
    "id": "913P_xsBawUf",
    "outputId": "713f22a5-9ee8-4af4-dd12-c5d28ceff803"
   },
   "outputs": [
    {
     "data": {
      "text/plain": [
       "array([10, 15, 20, 25])"
      ]
     },
     "execution_count": 24,
     "metadata": {},
     "output_type": "execute_result"
    }
   ],
   "source": [
    "numpy.arange(10, 30, 5)"
   ]
  },
  {
   "cell_type": "code",
   "execution_count": null,
   "metadata": {
    "colab": {
     "base_uri": "https://localhost:8080/"
    },
    "executionInfo": {
     "elapsed": 9,
     "status": "ok",
     "timestamp": 1672091539984,
     "user": {
      "displayName": "carlos matos",
      "userId": "02219067111046996044"
     },
     "user_tz": 180
    },
    "id": "maWImQ0da7s3",
    "outputId": "1549de0a-ffe9-43c6-f47a-fe110fedb77a"
   },
   "outputs": [
    {
     "data": {
      "text/plain": [
       "array([0. , 0.3, 0.6, 0.9, 1.2, 1.5, 1.8])"
      ]
     },
     "execution_count": 26,
     "metadata": {},
     "output_type": "execute_result"
    }
   ],
   "source": [
    "numpy.arange(0, 2, 0.3)"
   ]
  },
  {
   "cell_type": "code",
   "execution_count": null,
   "metadata": {
    "colab": {
     "base_uri": "https://localhost:8080/"
    },
    "executionInfo": {
     "elapsed": 297,
     "status": "ok",
     "timestamp": 1672091579053,
     "user": {
      "displayName": "carlos matos",
      "userId": "02219067111046996044"
     },
     "user_tz": 180
    },
    "id": "Ndyh5S62a_dS",
    "outputId": "25f23088-1f0c-406d-9bc8-e009f047f7c2"
   },
   "outputs": [
    {
     "data": {
      "text/plain": [
       "array([0.  , 0.25, 0.5 , 0.75, 1.  , 1.25, 1.5 , 1.75, 2.  ])"
      ]
     },
     "execution_count": 27,
     "metadata": {},
     "output_type": "execute_result"
    }
   ],
   "source": [
    "numpy.linspace(0, 2, 9)"
   ]
  },
  {
   "cell_type": "code",
   "execution_count": 2,
   "metadata": {
    "executionInfo": {
     "elapsed": 426,
     "status": "ok",
     "timestamp": 1672108472407,
     "user": {
      "displayName": "carlos matos",
      "userId": "02219067111046996044"
     },
     "user_tz": 180
    },
    "id": "ItmSLm8KbSOO"
   },
   "outputs": [],
   "source": [
    "from numpy import pi\n",
    "import sys"
   ]
  },
  {
   "cell_type": "code",
   "execution_count": null,
   "metadata": {
    "colab": {
     "base_uri": "https://localhost:8080/"
    },
    "executionInfo": {
     "elapsed": 6,
     "status": "ok",
     "timestamp": 1672091676480,
     "user": {
      "displayName": "carlos matos",
      "userId": "02219067111046996044"
     },
     "user_tz": 180
    },
    "id": "jogUgTuGbK7i",
    "outputId": "d68dd8b2-3c01-4ff0-f0fb-4cb72e65f0b4"
   },
   "outputs": [
    {
     "name": "stdout",
     "output_type": "stream",
     "text": [
      "[0.         0.6981317  1.3962634  2.0943951  2.7925268  3.4906585\n",
      " 4.1887902  4.88692191 5.58505361 6.28318531]\n",
      "[ 0.00000000e+00  6.42787610e-01  9.84807753e-01  8.66025404e-01\n",
      "  3.42020143e-01 -3.42020143e-01 -8.66025404e-01 -9.84807753e-01\n",
      " -6.42787610e-01 -2.44929360e-16]\n"
     ]
    }
   ],
   "source": [
    "x = numpy.linspace(0, 2*pi, 10)\n",
    "print(x)\n",
    "f = numpy.sin(x)\n",
    "print(f)"
   ]
  },
  {
   "cell_type": "code",
   "execution_count": null,
   "metadata": {
    "colab": {
     "base_uri": "https://localhost:8080/"
    },
    "executionInfo": {
     "elapsed": 11,
     "status": "ok",
     "timestamp": 1672091818163,
     "user": {
      "displayName": "carlos matos",
      "userId": "02219067111046996044"
     },
     "user_tz": 180
    },
    "id": "-am_UtstbUa_",
    "outputId": "ca5a4ba7-87f3-4715-8b6a-de3d37527559"
   },
   "outputs": [
    {
     "data": {
      "text/plain": [
       "array([0, 1, 2, 3, 4, 5])"
      ]
     },
     "execution_count": 43,
     "metadata": {},
     "output_type": "execute_result"
    }
   ],
   "source": [
    "a = numpy.arange(6)\n",
    "a"
   ]
  },
  {
   "cell_type": "code",
   "execution_count": null,
   "metadata": {
    "colab": {
     "base_uri": "https://localhost:8080/"
    },
    "executionInfo": {
     "elapsed": 6,
     "status": "ok",
     "timestamp": 1672091839956,
     "user": {
      "displayName": "carlos matos",
      "userId": "02219067111046996044"
     },
     "user_tz": 180
    },
    "id": "AI774GhubxSc",
    "outputId": "0744e982-c93a-4f2d-afc3-9bbe02f7c01f"
   },
   "outputs": [
    {
     "data": {
      "text/plain": [
       "array([[ 0,  1,  2],\n",
       "       [ 3,  4,  5],\n",
       "       [ 6,  7,  8],\n",
       "       [ 9, 10, 11]])"
      ]
     },
     "execution_count": 44,
     "metadata": {},
     "output_type": "execute_result"
    }
   ],
   "source": [
    "b = numpy.arange(12).reshape(4,3)\n",
    "b"
   ]
  },
  {
   "cell_type": "code",
   "execution_count": null,
   "metadata": {
    "colab": {
     "base_uri": "https://localhost:8080/"
    },
    "executionInfo": {
     "elapsed": 11,
     "status": "ok",
     "timestamp": 1672091881009,
     "user": {
      "displayName": "carlos matos",
      "userId": "02219067111046996044"
     },
     "user_tz": 180
    },
    "id": "6Hf8PGvzcKk2",
    "outputId": "a437b8b8-1861-4b47-c0c7-9d86fd5135a3"
   },
   "outputs": [
    {
     "data": {
      "text/plain": [
       "array([[[ 0,  1,  2,  3],\n",
       "        [ 4,  5,  6,  7],\n",
       "        [ 8,  9, 10, 11]],\n",
       "\n",
       "       [[12, 13, 14, 15],\n",
       "        [16, 17, 18, 19],\n",
       "        [20, 21, 22, 23]]])"
      ]
     },
     "execution_count": 47,
     "metadata": {},
     "output_type": "execute_result"
    }
   ],
   "source": [
    "c = numpy.arange(24).reshape(2, 3, 4)\n",
    "c"
   ]
  },
  {
   "cell_type": "code",
   "execution_count": null,
   "metadata": {
    "colab": {
     "base_uri": "https://localhost:8080/"
    },
    "executionInfo": {
     "elapsed": 14,
     "status": "ok",
     "timestamp": 1672091937715,
     "user": {
      "displayName": "carlos matos",
      "userId": "02219067111046996044"
     },
     "user_tz": 180
    },
    "id": "yv6pZ_WscRSf",
    "outputId": "f0525af6-1ac0-409b-af7f-2d14ef528e41"
   },
   "outputs": [
    {
     "data": {
      "text/plain": [
       "array([[   0,    1,    2, ...,   97,   98,   99],\n",
       "       [ 100,  101,  102, ...,  197,  198,  199],\n",
       "       [ 200,  201,  202, ...,  297,  298,  299],\n",
       "       ...,\n",
       "       [9700, 9701, 9702, ..., 9797, 9798, 9799],\n",
       "       [9800, 9801, 9802, ..., 9897, 9898, 9899],\n",
       "       [9900, 9901, 9902, ..., 9997, 9998, 9999]])"
      ]
     },
     "execution_count": 48,
     "metadata": {},
     "output_type": "execute_result"
    }
   ],
   "source": [
    "numpy.arange(10000).reshape(100, 100)"
   ]
  },
  {
   "cell_type": "code",
   "execution_count": null,
   "metadata": {
    "id": "aEJ0uSzBcimT"
   },
   "outputs": [],
   "source": [
    "#Force Numpy to print the entire array\n",
    "numpy.set_printoptions(threshold=sys.maxsize)"
   ]
  },
  {
   "cell_type": "code",
   "execution_count": null,
   "metadata": {
    "colab": {
     "base_uri": "https://localhost:8080/"
    },
    "executionInfo": {
     "elapsed": 265,
     "status": "ok",
     "timestamp": 1672092274501,
     "user": {
      "displayName": "carlos matos",
      "userId": "02219067111046996044"
     },
     "user_tz": 180
    },
    "id": "M2sCkK8WcwRi",
    "outputId": "23d12ead-a1f3-413d-fcc7-9c82795f1e35"
   },
   "outputs": [
    {
     "data": {
      "text/plain": [
       "array([[   0,    1,    2, ...,   97,   98,   99],\n",
       "       [ 100,  101,  102, ...,  197,  198,  199],\n",
       "       [ 200,  201,  202, ...,  297,  298,  299],\n",
       "       ...,\n",
       "       [9700, 9701, 9702, ..., 9797, 9798, 9799],\n",
       "       [9800, 9801, 9802, ..., 9897, 9898, 9899],\n",
       "       [9900, 9901, 9902, ..., 9997, 9998, 9999]])"
      ]
     },
     "execution_count": 75,
     "metadata": {},
     "output_type": "execute_result"
    }
   ],
   "source": [
    "numpy.arange(10000).reshape(100, 100)"
   ]
  },
  {
   "cell_type": "code",
   "execution_count": null,
   "metadata": {
    "id": "VV62DQNcc9Az"
   },
   "outputs": [],
   "source": [
    "numpy.set_printoptions(threshold=10,edgeitems=3, linewidth=75, sign = \" \")"
   ]
  },
  {
   "cell_type": "code",
   "execution_count": null,
   "metadata": {
    "colab": {
     "base_uri": "https://localhost:8080/"
    },
    "executionInfo": {
     "elapsed": 6,
     "status": "ok",
     "timestamp": 1672092798359,
     "user": {
      "displayName": "carlos matos",
      "userId": "02219067111046996044"
     },
     "user_tz": 180
    },
    "id": "cyhKENBvc_kF",
    "outputId": "b2d9b6de-8a54-4a28-dc71-4344d23c8da6"
   },
   "outputs": [
    {
     "data": {
      "text/plain": [
       "array([0, 1, 2, 3])"
      ]
     },
     "execution_count": 76,
     "metadata": {},
     "output_type": "execute_result"
    }
   ],
   "source": [
    "a = numpy.array([20, 30, 40, 50])\n",
    "b = numpy.arange(4)\n",
    "b"
   ]
  },
  {
   "cell_type": "code",
   "execution_count": null,
   "metadata": {
    "colab": {
     "base_uri": "https://localhost:8080/"
    },
    "executionInfo": {
     "elapsed": 273,
     "status": "ok",
     "timestamp": 1672092816700,
     "user": {
      "displayName": "carlos matos",
      "userId": "02219067111046996044"
     },
     "user_tz": 180
    },
    "id": "YlAy4YREf0mq",
    "outputId": "9249fb0b-eb34-4d8a-dba8-0fc2ea389c58"
   },
   "outputs": [
    {
     "data": {
      "text/plain": [
       "array([20, 29, 38, 47])"
      ]
     },
     "execution_count": 78,
     "metadata": {},
     "output_type": "execute_result"
    }
   ],
   "source": [
    "c = a - b\n",
    "c"
   ]
  },
  {
   "cell_type": "code",
   "execution_count": null,
   "metadata": {
    "colab": {
     "base_uri": "https://localhost:8080/"
    },
    "executionInfo": {
     "elapsed": 9,
     "status": "ok",
     "timestamp": 1672092825842,
     "user": {
      "displayName": "carlos matos",
      "userId": "02219067111046996044"
     },
     "user_tz": 180
    },
    "id": "Ea5owrFhf2VJ",
    "outputId": "9fd53b0b-a7c1-4dca-820c-421d9a5082df"
   },
   "outputs": [
    {
     "data": {
      "text/plain": [
       "array([0, 1, 4, 9])"
      ]
     },
     "execution_count": 79,
     "metadata": {},
     "output_type": "execute_result"
    }
   ],
   "source": [
    "b**2"
   ]
  },
  {
   "cell_type": "code",
   "execution_count": null,
   "metadata": {
    "colab": {
     "base_uri": "https://localhost:8080/"
    },
    "executionInfo": {
     "elapsed": 8,
     "status": "ok",
     "timestamp": 1672092841912,
     "user": {
      "displayName": "carlos matos",
      "userId": "02219067111046996044"
     },
     "user_tz": 180
    },
    "id": "yUEAw-m3f7Wn",
    "outputId": "cc61303c-bc15-4ded-fbd8-6cfd55d1afd2"
   },
   "outputs": [
    {
     "data": {
      "text/plain": [
       "array([ 9.12945251, -9.88031624,  7.4511316 , -2.62374854])"
      ]
     },
     "execution_count": 80,
     "metadata": {},
     "output_type": "execute_result"
    }
   ],
   "source": [
    "10 * numpy.sin(a)"
   ]
  },
  {
   "cell_type": "code",
   "execution_count": null,
   "metadata": {
    "colab": {
     "base_uri": "https://localhost:8080/"
    },
    "executionInfo": {
     "elapsed": 288,
     "status": "ok",
     "timestamp": 1672092860603,
     "user": {
      "displayName": "carlos matos",
      "userId": "02219067111046996044"
     },
     "user_tz": 180
    },
    "id": "M5T_M0iKf_Tf",
    "outputId": "e5b1ac08-ffd3-43a5-c7cb-5166a3430472"
   },
   "outputs": [
    {
     "data": {
      "text/plain": [
       "array([ True,  True, False, False])"
      ]
     },
     "execution_count": 81,
     "metadata": {},
     "output_type": "execute_result"
    }
   ],
   "source": [
    "a < 35"
   ]
  },
  {
   "cell_type": "code",
   "execution_count": null,
   "metadata": {
    "id": "2rIKAzQ7gDyJ"
   },
   "outputs": [],
   "source": [
    "A = numpy.array([[1, 1],\n",
    "                 [0,1]])\n",
    "B = numpy.array([[2, 0],\n",
    "                 [3, 4]])"
   ]
  },
  {
   "cell_type": "code",
   "execution_count": null,
   "metadata": {
    "colab": {
     "base_uri": "https://localhost:8080/"
    },
    "executionInfo": {
     "elapsed": 7,
     "status": "ok",
     "timestamp": 1672092966052,
     "user": {
      "displayName": "carlos matos",
      "userId": "02219067111046996044"
     },
     "user_tz": 180
    },
    "id": "CUyiCvrtgcdh",
    "outputId": "45befb8c-ab7a-4c5e-a925-627edd26f40d"
   },
   "outputs": [
    {
     "data": {
      "text/plain": [
       "array([[2, 0],\n",
       "       [0, 4]])"
      ]
     },
     "execution_count": 83,
     "metadata": {},
     "output_type": "execute_result"
    }
   ],
   "source": [
    "A*B"
   ]
  },
  {
   "cell_type": "code",
   "execution_count": null,
   "metadata": {
    "colab": {
     "base_uri": "https://localhost:8080/"
    },
    "executionInfo": {
     "elapsed": 5,
     "status": "ok",
     "timestamp": 1672092976511,
     "user": {
      "displayName": "carlos matos",
      "userId": "02219067111046996044"
     },
     "user_tz": 180
    },
    "id": "Kz3lVoojgdl2",
    "outputId": "674d921c-f982-42e3-b7b5-6b0d1e90970e"
   },
   "outputs": [
    {
     "data": {
      "text/plain": [
       "array([[5, 4],\n",
       "       [3, 4]])"
      ]
     },
     "execution_count": 84,
     "metadata": {},
     "output_type": "execute_result"
    }
   ],
   "source": [
    "A @ B"
   ]
  },
  {
   "cell_type": "code",
   "execution_count": null,
   "metadata": {
    "colab": {
     "base_uri": "https://localhost:8080/"
    },
    "executionInfo": {
     "elapsed": 11,
     "status": "ok",
     "timestamp": 1672093012583,
     "user": {
      "displayName": "carlos matos",
      "userId": "02219067111046996044"
     },
     "user_tz": 180
    },
    "id": "Crio35jBggD1",
    "outputId": "9170ce11-2caf-4dba-b949-0596661df732"
   },
   "outputs": [
    {
     "data": {
      "text/plain": [
       "array([[5, 4],\n",
       "       [3, 4]])"
      ]
     },
     "execution_count": 85,
     "metadata": {},
     "output_type": "execute_result"
    }
   ],
   "source": [
    "A.dot(B)"
   ]
  },
  {
   "cell_type": "code",
   "execution_count": null,
   "metadata": {
    "colab": {
     "base_uri": "https://localhost:8080/"
    },
    "executionInfo": {
     "elapsed": 10,
     "status": "ok",
     "timestamp": 1672093227737,
     "user": {
      "displayName": "carlos matos",
      "userId": "02219067111046996044"
     },
     "user_tz": 180
    },
    "id": "A9DPg5Epgo4f",
    "outputId": "97c4aea3-d36c-4f8a-d8a6-9efad0d954d8"
   },
   "outputs": [
    {
     "name": "stdout",
     "output_type": "stream",
     "text": [
      "float64\n",
      "[ 0.          1.57079633  3.14159265]\n"
     ]
    }
   ],
   "source": [
    "a = numpy.ones(3, dtype=numpy.int32)\n",
    "b = numpy.linspace(0, pi, 3)\n",
    "print(b.dtype.name);\n",
    "print(b)"
   ]
  },
  {
   "cell_type": "code",
   "execution_count": null,
   "metadata": {
    "colab": {
     "base_uri": "https://localhost:8080/"
    },
    "executionInfo": {
     "elapsed": 335,
     "status": "ok",
     "timestamp": 1672093260194,
     "user": {
      "displayName": "carlos matos",
      "userId": "02219067111046996044"
     },
     "user_tz": 180
    },
    "id": "Rx6sgCn-hXrj",
    "outputId": "cb33f141-5943-4429-cceb-9b6c8d17b711"
   },
   "outputs": [
    {
     "data": {
      "text/plain": [
       "array([ 1.        ,  2.57079633,  4.14159265])"
      ]
     },
     "execution_count": 89,
     "metadata": {},
     "output_type": "execute_result"
    }
   ],
   "source": [
    "c = a + b\n",
    "c"
   ]
  },
  {
   "cell_type": "code",
   "execution_count": null,
   "metadata": {
    "colab": {
     "base_uri": "https://localhost:8080/",
     "height": 35
    },
    "executionInfo": {
     "elapsed": 17,
     "status": "ok",
     "timestamp": 1672093272310,
     "user": {
      "displayName": "carlos matos",
      "userId": "02219067111046996044"
     },
     "user_tz": 180
    },
    "id": "RBOspT4mhlUg",
    "outputId": "092dbcb9-6721-4d73-c8f4-060e3d7c7932"
   },
   "outputs": [
    {
     "data": {
      "application/vnd.google.colaboratory.intrinsic+json": {
       "type": "string"
      },
      "text/plain": [
       "'float64'"
      ]
     },
     "execution_count": 90,
     "metadata": {},
     "output_type": "execute_result"
    }
   ],
   "source": [
    "c.dtype.name"
   ]
  },
  {
   "cell_type": "code",
   "execution_count": null,
   "metadata": {
    "colab": {
     "base_uri": "https://localhost:8080/"
    },
    "executionInfo": {
     "elapsed": 11,
     "status": "ok",
     "timestamp": 1672093304401,
     "user": {
      "displayName": "carlos matos",
      "userId": "02219067111046996044"
     },
     "user_tz": 180
    },
    "id": "VUqSsn-phoT8",
    "outputId": "933fede8-d117-496c-8677-3e29bd7da66e"
   },
   "outputs": [
    {
     "data": {
      "text/plain": [
       "array([ 0.54030231+0.84147098j, -0.84147098+0.54030231j,\n",
       "       -0.54030231-0.84147098j])"
      ]
     },
     "execution_count": 92,
     "metadata": {},
     "output_type": "execute_result"
    }
   ],
   "source": [
    "d = numpy.exp(c * 1j)\n",
    "d"
   ]
  },
  {
   "cell_type": "code",
   "execution_count": null,
   "metadata": {
    "colab": {
     "base_uri": "https://localhost:8080/",
     "height": 35
    },
    "executionInfo": {
     "elapsed": 20,
     "status": "ok",
     "timestamp": 1672093325472,
     "user": {
      "displayName": "carlos matos",
      "userId": "02219067111046996044"
     },
     "user_tz": 180
    },
    "id": "rbuBrRmBhtsO",
    "outputId": "d330597e-9749-4dff-ba9e-a792e4f08faa"
   },
   "outputs": [
    {
     "data": {
      "application/vnd.google.colaboratory.intrinsic+json": {
       "type": "string"
      },
      "text/plain": [
       "'complex128'"
      ]
     },
     "execution_count": 93,
     "metadata": {},
     "output_type": "execute_result"
    }
   ],
   "source": [
    "d.dtype.name"
   ]
  },
  {
   "cell_type": "code",
   "execution_count": null,
   "metadata": {
    "id": "B6pVgDO3h1Tt"
   },
   "outputs": [],
   "source": [
    "A = numpy.array([[1.5464, 2.7498, 5.485],\n",
    "                 [0.654,1.05465464,3.51684],\n",
    "                 [0.98454,5.654518,0.98984]])"
   ]
  },
  {
   "cell_type": "code",
   "execution_count": null,
   "metadata": {
    "colab": {
     "base_uri": "https://localhost:8080/"
    },
    "executionInfo": {
     "elapsed": 12,
     "status": "ok",
     "timestamp": 1672093693020,
     "user": {
      "displayName": "carlos matos",
      "userId": "02219067111046996044"
     },
     "user_tz": 180
    },
    "id": "eXsoFv9qiHeb",
    "outputId": "a9b7d012-840a-4977-fb68-3bad2f4de4f5"
   },
   "outputs": [
    {
     "data": {
      "text/plain": [
       "22.63559264"
      ]
     },
     "execution_count": 106,
     "metadata": {},
     "output_type": "execute_result"
    }
   ],
   "source": [
    "A.sum()"
   ]
  },
  {
   "cell_type": "code",
   "execution_count": null,
   "metadata": {
    "colab": {
     "base_uri": "https://localhost:8080/"
    },
    "executionInfo": {
     "elapsed": 9,
     "status": "ok",
     "timestamp": 1672093697944,
     "user": {
      "displayName": "carlos matos",
      "userId": "02219067111046996044"
     },
     "user_tz": 180
    },
    "id": "l7SfTI6YjPFB",
    "outputId": "1a73582d-74f2-4363-d0d0-7fccabd23349"
   },
   "outputs": [
    {
     "data": {
      "text/plain": [
       "0.654"
      ]
     },
     "execution_count": 107,
     "metadata": {},
     "output_type": "execute_result"
    }
   ],
   "source": [
    "A.min()"
   ]
  },
  {
   "cell_type": "code",
   "execution_count": null,
   "metadata": {
    "colab": {
     "base_uri": "https://localhost:8080/"
    },
    "executionInfo": {
     "elapsed": 11,
     "status": "ok",
     "timestamp": 1672093706490,
     "user": {
      "displayName": "carlos matos",
      "userId": "02219067111046996044"
     },
     "user_tz": 180
    },
    "id": "y-Zk2peujQTp",
    "outputId": "fa8c774a-da4b-4228-bf6b-403435c4999d"
   },
   "outputs": [
    {
     "data": {
      "text/plain": [
       "5.654518"
      ]
     },
     "execution_count": 108,
     "metadata": {},
     "output_type": "execute_result"
    }
   ],
   "source": [
    "A.max()"
   ]
  },
  {
   "cell_type": "code",
   "execution_count": null,
   "metadata": {
    "colab": {
     "base_uri": "https://localhost:8080/"
    },
    "executionInfo": {
     "elapsed": 13,
     "status": "ok",
     "timestamp": 1672093979199,
     "user": {
      "displayName": "carlos matos",
      "userId": "02219067111046996044"
     },
     "user_tz": 180
    },
    "id": "2NKlGQI6jSbi",
    "outputId": "c7515888-282c-4952-bea7-de6b96976c95"
   },
   "outputs": [
    {
     "data": {
      "text/plain": [
       "array([[0, 1, 2],\n",
       "       [3, 4, 5],\n",
       "       [6, 7, 8]])"
      ]
     },
     "execution_count": 117,
     "metadata": {},
     "output_type": "execute_result"
    }
   ],
   "source": [
    "b = numpy.arange(9).reshape(3,3)\n",
    "b"
   ]
  },
  {
   "cell_type": "code",
   "execution_count": null,
   "metadata": {
    "colab": {
     "base_uri": "https://localhost:8080/"
    },
    "executionInfo": {
     "elapsed": 260,
     "status": "ok",
     "timestamp": 1672093980690,
     "user": {
      "displayName": "carlos matos",
      "userId": "02219067111046996044"
     },
     "user_tz": 180
    },
    "id": "kvuM3u5djf7S",
    "outputId": "3e1752a3-919b-467c-e16d-296d7fd9f2c0"
   },
   "outputs": [
    {
     "data": {
      "text/plain": [
       "array([ 9, 12, 15])"
      ]
     },
     "execution_count": 118,
     "metadata": {},
     "output_type": "execute_result"
    }
   ],
   "source": [
    "b.sum(axis=0)"
   ]
  },
  {
   "cell_type": "code",
   "execution_count": null,
   "metadata": {
    "colab": {
     "base_uri": "https://localhost:8080/"
    },
    "executionInfo": {
     "elapsed": 9,
     "status": "ok",
     "timestamp": 1672093981941,
     "user": {
      "displayName": "carlos matos",
      "userId": "02219067111046996044"
     },
     "user_tz": 180
    },
    "id": "HdaHy2IbjlTq",
    "outputId": "35385804-29ca-4724-a277-67d2ef7e43d4"
   },
   "outputs": [
    {
     "name": "stdout",
     "output_type": "stream",
     "text": [
      "[0 3 6]\n",
      "[0 1 2]\n"
     ]
    }
   ],
   "source": [
    "print(b.min(axis=1))\n",
    "print(b.min(axis=0))"
   ]
  },
  {
   "cell_type": "code",
   "execution_count": null,
   "metadata": {
    "colab": {
     "base_uri": "https://localhost:8080/"
    },
    "executionInfo": {
     "elapsed": 14,
     "status": "ok",
     "timestamp": 1672093983049,
     "user": {
      "displayName": "carlos matos",
      "userId": "02219067111046996044"
     },
     "user_tz": 180
    },
    "id": "egbrdT6rjo3l",
    "outputId": "d3ce0e3c-fa7d-4682-e846-45c47b5e5ff3"
   },
   "outputs": [
    {
     "data": {
      "text/plain": [
       "array([[ 0,  1,  3],\n",
       "       [ 3,  7, 12],\n",
       "       [ 6, 13, 21]])"
      ]
     },
     "execution_count": 120,
     "metadata": {},
     "output_type": "execute_result"
    }
   ],
   "source": [
    "b.cumsum(axis=1)"
   ]
  },
  {
   "cell_type": "code",
   "execution_count": null,
   "metadata": {
    "colab": {
     "base_uri": "https://localhost:8080/"
    },
    "executionInfo": {
     "elapsed": 266,
     "status": "ok",
     "timestamp": 1672094009211,
     "user": {
      "displayName": "carlos matos",
      "userId": "02219067111046996044"
     },
     "user_tz": 180
    },
    "id": "Jx3arj6tj3Up",
    "outputId": "56ce91e0-9f01-43f8-e739-3ab7527426c5"
   },
   "outputs": [
    {
     "data": {
      "text/plain": [
       "array([[  1.5464    ,   3.7498    ,   7.485     ],\n",
       "       [  3.654     ,   5.05465464,   8.51684   ],\n",
       "       [  6.98454   ,  12.654518  ,   8.98984   ]])"
      ]
     },
     "execution_count": 124,
     "metadata": {},
     "output_type": "execute_result"
    }
   ],
   "source": [
    "numpy.add(A, b)"
   ]
  },
  {
   "cell_type": "code",
   "execution_count": null,
   "metadata": {
    "colab": {
     "base_uri": "https://localhost:8080/"
    },
    "executionInfo": {
     "elapsed": 8,
     "status": "ok",
     "timestamp": 1672094263134,
     "user": {
      "displayName": "carlos matos",
      "userId": "02219067111046996044"
     },
     "user_tz": 180
    },
    "id": "gf-_aTv7kQBq",
    "outputId": "c8347fce-0cf7-4aaa-cde8-7d15b0e91385"
   },
   "outputs": [
    {
     "data": {
      "text/plain": [
       "array([[ 0,  1,  2,  3],\n",
       "       [10, 11, 12, 13],\n",
       "       [20, 21, 22, 23],\n",
       "       [30, 31, 32, 33],\n",
       "       [40, 41, 42, 43]])"
      ]
     },
     "execution_count": 125,
     "metadata": {},
     "output_type": "execute_result"
    }
   ],
   "source": [
    "def f(x, y):\n",
    "  return 10 * x + y\n",
    "b = numpy.fromfunction(f, (5, 4), dtype=int)\n",
    "b"
   ]
  },
  {
   "cell_type": "code",
   "execution_count": null,
   "metadata": {
    "colab": {
     "base_uri": "https://localhost:8080/"
    },
    "executionInfo": {
     "elapsed": 10,
     "status": "ok",
     "timestamp": 1672094343535,
     "user": {
      "displayName": "carlos matos",
      "userId": "02219067111046996044"
     },
     "user_tz": 180
    },
    "id": "Jqhy6b52laLz",
    "outputId": "89e28011-7703-45d4-b6e0-09f7637fdb00"
   },
   "outputs": [
    {
     "data": {
      "text/plain": [
       "array([ 1, 11, 21, 31, 41])"
      ]
     },
     "execution_count": 127,
     "metadata": {},
     "output_type": "execute_result"
    }
   ],
   "source": [
    "#each row in the second column of b\n",
    "b[0:5,1]"
   ]
  },
  {
   "cell_type": "code",
   "execution_count": null,
   "metadata": {
    "colab": {
     "base_uri": "https://localhost:8080/"
    },
    "executionInfo": {
     "elapsed": 268,
     "status": "ok",
     "timestamp": 1672094375165,
     "user": {
      "displayName": "carlos matos",
      "userId": "02219067111046996044"
     },
     "user_tz": 180
    },
    "id": "D0x_8_uqliXj",
    "outputId": "82728373-6ee1-4fe4-840f-af77324c1b36"
   },
   "outputs": [
    {
     "data": {
      "text/plain": [
       "array([ 1, 11, 21, 31, 41])"
      ]
     },
     "execution_count": 128,
     "metadata": {},
     "output_type": "execute_result"
    }
   ],
   "source": [
    "#each row in the second column of b\n",
    "b[:,1]"
   ]
  },
  {
   "cell_type": "code",
   "execution_count": null,
   "metadata": {
    "colab": {
     "base_uri": "https://localhost:8080/"
    },
    "executionInfo": {
     "elapsed": 9,
     "status": "ok",
     "timestamp": 1672094410492,
     "user": {
      "displayName": "carlos matos",
      "userId": "02219067111046996044"
     },
     "user_tz": 180
    },
    "id": "tB_wkpGBl1lc",
    "outputId": "de6696ad-4db8-439d-8063-78bc6e794034"
   },
   "outputs": [
    {
     "data": {
      "text/plain": [
       "array([[10, 11, 12, 13],\n",
       "       [20, 21, 22, 23]])"
      ]
     },
     "execution_count": 129,
     "metadata": {},
     "output_type": "execute_result"
    }
   ],
   "source": [
    "#each column in the second and third row of b\n",
    "b[1:3, :]"
   ]
  },
  {
   "cell_type": "code",
   "execution_count": null,
   "metadata": {
    "colab": {
     "base_uri": "https://localhost:8080/"
    },
    "executionInfo": {
     "elapsed": 281,
     "status": "ok",
     "timestamp": 1672094499400,
     "user": {
      "displayName": "carlos matos",
      "userId": "02219067111046996044"
     },
     "user_tz": 180
    },
    "id": "zrpiY3Kgl-Mq",
    "outputId": "997e5038-438e-4aaf-e26c-f5fa5c805c3d"
   },
   "outputs": [
    {
     "data": {
      "text/plain": [
       "array([40, 41, 42, 43])"
      ]
     },
     "execution_count": 130,
     "metadata": {},
     "output_type": "execute_result"
    }
   ],
   "source": [
    "#The last row. Equivalent to b[-1, :]\n",
    "b[-1]"
   ]
  },
  {
   "cell_type": "markdown",
   "metadata": {
    "id": "zfQNQskWnZZq"
   },
   "source": [
    "# Deep Copy"
   ]
  },
  {
   "cell_type": "code",
   "execution_count": null,
   "metadata": {
    "id": "j-juOZIXm3O4"
   },
   "outputs": [],
   "source": [
    "a = numpy.array([[ 0,  1,  2,  3],\n",
    "                [ 4,  5,  6,  7],\n",
    "                [ 8,  9, 10, 11]])"
   ]
  },
  {
   "cell_type": "code",
   "execution_count": null,
   "metadata": {
    "colab": {
     "base_uri": "https://localhost:8080/"
    },
    "executionInfo": {
     "elapsed": 11,
     "status": "ok",
     "timestamp": 1672094863978,
     "user": {
      "displayName": "carlos matos",
      "userId": "02219067111046996044"
     },
     "user_tz": 180
    },
    "id": "Gf20yu65nrDo",
    "outputId": "47977ec9-b70a-4634-fcb8-ddd1bd3acc7b"
   },
   "outputs": [
    {
     "data": {
      "text/plain": [
       "True"
      ]
     },
     "execution_count": 135,
     "metadata": {},
     "output_type": "execute_result"
    }
   ],
   "source": [
    "c = a\n",
    "c is a"
   ]
  },
  {
   "cell_type": "code",
   "execution_count": null,
   "metadata": {
    "id": "_NIdWiAinmEE"
   },
   "outputs": [],
   "source": [
    "b = a.copy()"
   ]
  },
  {
   "cell_type": "code",
   "execution_count": null,
   "metadata": {
    "colab": {
     "base_uri": "https://localhost:8080/"
    },
    "executionInfo": {
     "elapsed": 14,
     "status": "ok",
     "timestamp": 1672094849172,
     "user": {
      "displayName": "carlos matos",
      "userId": "02219067111046996044"
     },
     "user_tz": 180
    },
    "id": "STkkeptWnn60",
    "outputId": "1c57b1a9-3033-47e8-dc2d-f3aaa4339bd7"
   },
   "outputs": [
    {
     "data": {
      "text/plain": [
       "False"
      ]
     },
     "execution_count": 133,
     "metadata": {},
     "output_type": "execute_result"
    }
   ],
   "source": [
    "b is a"
   ]
  },
  {
   "cell_type": "code",
   "execution_count": null,
   "metadata": {
    "id": "X6F9SfIRnpVN"
   },
   "outputs": [],
   "source": [
    "b = a > 5"
   ]
  },
  {
   "cell_type": "code",
   "execution_count": null,
   "metadata": {
    "colab": {
     "base_uri": "https://localhost:8080/"
    },
    "executionInfo": {
     "elapsed": 7,
     "status": "ok",
     "timestamp": 1672094990059,
     "user": {
      "displayName": "carlos matos",
      "userId": "02219067111046996044"
     },
     "user_tz": 180
    },
    "id": "VYjZFiEPoLLJ",
    "outputId": "63d52fb6-379c-4557-d561-f47fa2886a02"
   },
   "outputs": [
    {
     "data": {
      "text/plain": [
       "array([[False, False, False, False],\n",
       "       [False, False,  True,  True],\n",
       "       [ True,  True,  True,  True]])"
      ]
     },
     "execution_count": 137,
     "metadata": {},
     "output_type": "execute_result"
    }
   ],
   "source": [
    "b"
   ]
  },
  {
   "cell_type": "code",
   "execution_count": null,
   "metadata": {
    "colab": {
     "base_uri": "https://localhost:8080/"
    },
    "executionInfo": {
     "elapsed": 3,
     "status": "ok",
     "timestamp": 1672095024478,
     "user": {
      "displayName": "carlos matos",
      "userId": "02219067111046996044"
     },
     "user_tz": 180
    },
    "id": "RxS7-I0HoTky",
    "outputId": "844b5777-d758-4306-db40-b8cddaf4419c"
   },
   "outputs": [
    {
     "data": {
      "text/plain": [
       "array([[ 0,  1,  2,  3],\n",
       "       [ 4,  5,  6,  7],\n",
       "       [ 8,  9, 10, 11]])"
      ]
     },
     "execution_count": 141,
     "metadata": {},
     "output_type": "execute_result"
    }
   ],
   "source": [
    "a"
   ]
  },
  {
   "cell_type": "code",
   "execution_count": null,
   "metadata": {
    "id": "XtHS6o2CoLqo"
   },
   "outputs": [],
   "source": [
    "a[b] = 0"
   ]
  },
  {
   "cell_type": "code",
   "execution_count": null,
   "metadata": {
    "colab": {
     "base_uri": "https://localhost:8080/"
    },
    "executionInfo": {
     "elapsed": 9,
     "status": "ok",
     "timestamp": 1672095027110,
     "user": {
      "displayName": "carlos matos",
      "userId": "02219067111046996044"
     },
     "user_tz": 180
    },
    "id": "VjGxiDGboPEG",
    "outputId": "4ca1b6ef-c7ef-4857-e24c-0accec271d92"
   },
   "outputs": [
    {
     "data": {
      "text/plain": [
       "array([[0, 1, 2, 3],\n",
       "       [4, 5, 0, 0],\n",
       "       [0, 0, 0, 0]])"
      ]
     },
     "execution_count": 143,
     "metadata": {},
     "output_type": "execute_result"
    }
   ],
   "source": [
    "a"
   ]
  },
  {
   "cell_type": "code",
   "execution_count": null,
   "metadata": {
    "colab": {
     "base_uri": "https://localhost:8080/"
    },
    "executionInfo": {
     "elapsed": 12,
     "status": "ok",
     "timestamp": 1672095161001,
     "user": {
      "displayName": "carlos matos",
      "userId": "02219067111046996044"
     },
     "user_tz": 180
    },
    "id": "crVBhH4ioPzx",
    "outputId": "7c982e6d-399d-4c5f-e6b3-5351bc3a1458"
   },
   "outputs": [
    {
     "data": {
      "text/plain": [
       "array([[0, 1, 2, 3],\n",
       "       [0, 0, 4, 5],\n",
       "       [0, 0, 0, 0]])"
      ]
     },
     "execution_count": 144,
     "metadata": {},
     "output_type": "execute_result"
    }
   ],
   "source": [
    "numpy.sort(a)"
   ]
  },
  {
   "cell_type": "code",
   "execution_count": null,
   "metadata": {
    "colab": {
     "base_uri": "https://localhost:8080/"
    },
    "executionInfo": {
     "elapsed": 298,
     "status": "ok",
     "timestamp": 1672095205482,
     "user": {
      "displayName": "carlos matos",
      "userId": "02219067111046996044"
     },
     "user_tz": 180
    },
    "id": "0DoN0jLBo1aF",
    "outputId": "2659ecc4-3fff-4ee4-afb7-ab9bd1f45558"
   },
   "outputs": [
    {
     "data": {
      "text/plain": [
       "array([1, 2, 3, 4, 5, 6, 7, 8])"
      ]
     },
     "execution_count": 146,
     "metadata": {},
     "output_type": "execute_result"
    }
   ],
   "source": [
    "a = numpy.array([1, 2, 3, 4])\n",
    "b = numpy.array([5, 6, 7, 8])\n",
    "numpy.concatenate((a, b))"
   ]
  },
  {
   "cell_type": "code",
   "execution_count": null,
   "metadata": {
    "id": "Nz0yjJePo8b3"
   },
   "outputs": [],
   "source": [
    "x = numpy.array([[1, 2], [3, 4]])\n",
    "y = numpy.array([[5, 6]])\n",
    "z = numpy.concatenate((x, y), axis=0)"
   ]
  },
  {
   "cell_type": "code",
   "execution_count": null,
   "metadata": {
    "colab": {
     "base_uri": "https://localhost:8080/"
    },
    "executionInfo": {
     "elapsed": 274,
     "status": "ok",
     "timestamp": 1672095273336,
     "user": {
      "displayName": "carlos matos",
      "userId": "02219067111046996044"
     },
     "user_tz": 180
    },
    "id": "lVjX1-yEpNBm",
    "outputId": "b23e0557-0827-49fe-ec2c-9c176ec9be98"
   },
   "outputs": [
    {
     "data": {
      "text/plain": [
       "2"
      ]
     },
     "execution_count": 150,
     "metadata": {},
     "output_type": "execute_result"
    }
   ],
   "source": [
    "z.ndim"
   ]
  },
  {
   "cell_type": "code",
   "execution_count": null,
   "metadata": {
    "colab": {
     "base_uri": "https://localhost:8080/"
    },
    "executionInfo": {
     "elapsed": 310,
     "status": "ok",
     "timestamp": 1672095281075,
     "user": {
      "displayName": "carlos matos",
      "userId": "02219067111046996044"
     },
     "user_tz": 180
    },
    "id": "gSZvXQegpQ7j",
    "outputId": "ef6512a8-dbd5-4f45-bc47-5e4c5726d14d"
   },
   "outputs": [
    {
     "data": {
      "text/plain": [
       "6"
      ]
     },
     "execution_count": 151,
     "metadata": {},
     "output_type": "execute_result"
    }
   ],
   "source": [
    "z.size"
   ]
  },
  {
   "cell_type": "code",
   "execution_count": null,
   "metadata": {
    "colab": {
     "base_uri": "https://localhost:8080/"
    },
    "executionInfo": {
     "elapsed": 272,
     "status": "ok",
     "timestamp": 1672095284601,
     "user": {
      "displayName": "carlos matos",
      "userId": "02219067111046996044"
     },
     "user_tz": 180
    },
    "id": "-9B_GdBnpStl",
    "outputId": "571154d0-d3b2-477b-a204-e0fd1f09c098"
   },
   "outputs": [
    {
     "data": {
      "text/plain": [
       "(3, 2)"
      ]
     },
     "execution_count": 152,
     "metadata": {},
     "output_type": "execute_result"
    }
   ],
   "source": [
    "z.shape"
   ]
  },
  {
   "cell_type": "code",
   "execution_count": null,
   "metadata": {
    "id": "xj9Kzy5DpTkz"
   },
   "outputs": [],
   "source": [
    "a = numpy.array([[1 , 2, 3, 4], [5, 6, 7, 8], [9, 10, 11, 12]])"
   ]
  },
  {
   "cell_type": "code",
   "execution_count": null,
   "metadata": {
    "colab": {
     "base_uri": "https://localhost:8080/"
    },
    "executionInfo": {
     "elapsed": 273,
     "status": "ok",
     "timestamp": 1672095371398,
     "user": {
      "displayName": "carlos matos",
      "userId": "02219067111046996044"
     },
     "user_tz": 180
    },
    "id": "FOVhozdxplN0",
    "outputId": "e59e4062-b875-4e63-b379-e684df3964bb"
   },
   "outputs": [
    {
     "name": "stdout",
     "output_type": "stream",
     "text": [
      "[ 6  7  8  9 10 11 12]\n"
     ]
    }
   ],
   "source": [
    "print(a[a > 5])"
   ]
  },
  {
   "cell_type": "code",
   "execution_count": null,
   "metadata": {
    "colab": {
     "base_uri": "https://localhost:8080/"
    },
    "executionInfo": {
     "elapsed": 9,
     "status": "ok",
     "timestamp": 1672095415584,
     "user": {
      "displayName": "carlos matos",
      "userId": "02219067111046996044"
     },
     "user_tz": 180
    },
    "id": "ys3s9c6ppozr",
    "outputId": "52a21d2f-2aa8-4d6d-cfe6-754ff17a6d37"
   },
   "outputs": [
    {
     "name": "stdout",
     "output_type": "stream",
     "text": [
      "[[False False False False]\n",
      " [ True  True  True  True]\n",
      " [ True  True  True  True]]\n",
      "[ 5  6  7  8  9 10 11 12]\n"
     ]
    }
   ],
   "source": [
    "five_up = (a >= 5)\n",
    "print(five_up)\n",
    "print(a[five_up])"
   ]
  },
  {
   "cell_type": "code",
   "execution_count": null,
   "metadata": {
    "colab": {
     "base_uri": "https://localhost:8080/"
    },
    "executionInfo": {
     "elapsed": 4,
     "status": "ok",
     "timestamp": 1672095462625,
     "user": {
      "displayName": "carlos matos",
      "userId": "02219067111046996044"
     },
     "user_tz": 180
    },
    "id": "x3C7xs0KpwZq",
    "outputId": "cea04407-b956-4143-d6d6-82f737449af1"
   },
   "outputs": [
    {
     "name": "stdout",
     "output_type": "stream",
     "text": [
      "[ 2  4  6  8 10 12]\n"
     ]
    }
   ],
   "source": [
    "divisible_by_2 = a[a%2==0]\n",
    "print(divisible_by_2)"
   ]
  },
  {
   "cell_type": "code",
   "execution_count": null,
   "metadata": {
    "colab": {
     "base_uri": "https://localhost:8080/"
    },
    "executionInfo": {
     "elapsed": 8,
     "status": "ok",
     "timestamp": 1672095483819,
     "user": {
      "displayName": "carlos matos",
      "userId": "02219067111046996044"
     },
     "user_tz": 180
    },
    "id": "jHaiwEMQp_-3",
    "outputId": "9642be94-b438-46fc-83cc-b2bb8f8bbc20"
   },
   "outputs": [
    {
     "name": "stdout",
     "output_type": "stream",
     "text": [
      "[ 3  4  5  6  7  8  9 10]\n"
     ]
    }
   ],
   "source": [
    "c = a[(a > 2) & (a < 11)]\n",
    "print(c)"
   ]
  },
  {
   "cell_type": "code",
   "execution_count": null,
   "metadata": {
    "colab": {
     "base_uri": "https://localhost:8080/"
    },
    "executionInfo": {
     "elapsed": 6,
     "status": "ok",
     "timestamp": 1672095547668,
     "user": {
      "displayName": "carlos matos",
      "userId": "02219067111046996044"
     },
     "user_tz": 180
    },
    "id": "KMYj5kMeqI6X",
    "outputId": "990b51f3-783c-4f57-f398-3667a314dca4"
   },
   "outputs": [
    {
     "name": "stdout",
     "output_type": "stream",
     "text": [
      "[[False False False False]\n",
      " [ True  True  True  True]\n",
      " [ True  True  True  True]]\n",
      "[ 5  6  7  8  9 10 11 12]\n"
     ]
    }
   ],
   "source": [
    "five_up = (a > 5) | (a == 5)\n",
    "print(five_up)\n",
    "print(a[five_up])"
   ]
  },
  {
   "cell_type": "code",
   "execution_count": null,
   "metadata": {
    "colab": {
     "base_uri": "https://localhost:8080/"
    },
    "executionInfo": {
     "elapsed": 11,
     "status": "ok",
     "timestamp": 1672095682486,
     "user": {
      "displayName": "carlos matos",
      "userId": "02219067111046996044"
     },
     "user_tz": 180
    },
    "id": "YD4DBUMyqTzN",
    "outputId": "05d451ef-db6c-4532-c3ec-d974ccf49a28"
   },
   "outputs": [
    {
     "data": {
      "text/plain": [
       "78"
      ]
     },
     "execution_count": 163,
     "metadata": {},
     "output_type": "execute_result"
    }
   ],
   "source": [
    "a.sum()"
   ]
  },
  {
   "cell_type": "code",
   "execution_count": null,
   "metadata": {
    "colab": {
     "base_uri": "https://localhost:8080/"
    },
    "executionInfo": {
     "elapsed": 8,
     "status": "ok",
     "timestamp": 1672095744049,
     "user": {
      "displayName": "carlos matos",
      "userId": "02219067111046996044"
     },
     "user_tz": 180
    },
    "id": "yTuew8q4q00P",
    "outputId": "35f1fa5e-238d-4fab-8e47-5f64d40385d5"
   },
   "outputs": [
    {
     "name": "stdout",
     "output_type": "stream",
     "text": [
      "[[ 1  2  3  4]\n",
      " [ 5  6  7  8]\n",
      " [ 9 10 11 12]]\n",
      "[15 18 21 24]\n",
      "[10 26 42]\n"
     ]
    }
   ],
   "source": [
    "print(a)\n",
    "print(a.sum(axis=0))\n",
    "print(a.sum(axis=1))"
   ]
  },
  {
   "cell_type": "code",
   "execution_count": null,
   "metadata": {
    "colab": {
     "base_uri": "https://localhost:8080/"
    },
    "executionInfo": {
     "elapsed": 9,
     "status": "ok",
     "timestamp": 1672095811314,
     "user": {
      "displayName": "carlos matos",
      "userId": "02219067111046996044"
     },
     "user_tz": 180
    },
    "id": "L89MOwFXq56L",
    "outputId": "5dddb6dd-c2c0-4ea6-dd75-687f7b2ecd82"
   },
   "outputs": [
    {
     "name": "stdout",
     "output_type": "stream",
     "text": [
      "12\n",
      "1\n",
      "78\n"
     ]
    }
   ],
   "source": [
    "print(a.max())\n",
    "print(a.min())\n",
    "print(a.sum())"
   ]
  },
  {
   "cell_type": "markdown",
   "metadata": {
    "id": "XnCHtwMitDjD"
   },
   "source": [
    "#How to get unique items and counts"
   ]
  },
  {
   "cell_type": "code",
   "execution_count": 11,
   "metadata": {
    "executionInfo": {
     "elapsed": 6,
     "status": "ok",
     "timestamp": 1672108523027,
     "user": {
      "displayName": "carlos matos",
      "userId": "02219067111046996044"
     },
     "user_tz": 180
    },
    "id": "CFL9UwCyrULt"
   },
   "outputs": [],
   "source": [
    "a = numpy.array([11, 11, 12, 13, 14, 15, 16, 17, 12, 13, 11, 14, 18, 19, 20])"
   ]
  },
  {
   "cell_type": "code",
   "execution_count": 16,
   "metadata": {
    "colab": {
     "base_uri": "https://localhost:8080/"
    },
    "executionInfo": {
     "elapsed": 2,
     "status": "ok",
     "timestamp": 1672108569715,
     "user": {
      "displayName": "carlos matos",
      "userId": "02219067111046996044"
     },
     "user_tz": 180
    },
    "id": "Mb6xOqKdrp5Q",
    "outputId": "473c52c1-cb69-42ef-ac0b-4202bf4670d6"
   },
   "outputs": [
    {
     "name": "stdout",
     "output_type": "stream",
     "text": [
      "[11 12 13 14 15 16 17 18 19 20]\n"
     ]
    }
   ],
   "source": [
    "# if i want to know what is values of the column i can use it\n",
    "unique_values = numpy.unique(a)\n",
    "print(unique_values);"
   ]
  },
  {
   "cell_type": "code",
   "execution_count": 17,
   "metadata": {
    "colab": {
     "base_uri": "https://localhost:8080/"
    },
    "executionInfo": {
     "elapsed": 255,
     "status": "ok",
     "timestamp": 1672108570369,
     "user": {
      "displayName": "carlos matos",
      "userId": "02219067111046996044"
     },
     "user_tz": 180
    },
    "id": "p3sOsYLqruq2",
    "outputId": "ff1a5846-92b5-4a10-b435-0a31ff05840b"
   },
   "outputs": [
    {
     "name": "stdout",
     "output_type": "stream",
     "text": [
      "[11 12 13 14 15 16 17 18 19 20]\n",
      "[ 0  2  3  4  5  6  7 12 13 14]\n"
     ]
    }
   ],
   "source": [
    "#return the indice of the niques values\n",
    "unique_values, indices_list = numpy.unique(a, return_index=True)\n",
    "print(unique_values)\n",
    "print(indices_list)"
   ]
  },
  {
   "cell_type": "code",
   "execution_count": 18,
   "metadata": {
    "colab": {
     "base_uri": "https://localhost:8080/"
    },
    "executionInfo": {
     "elapsed": 5,
     "status": "ok",
     "timestamp": 1672108571015,
     "user": {
      "displayName": "carlos matos",
      "userId": "02219067111046996044"
     },
     "user_tz": 180
    },
    "id": "JONaziG4sJRO",
    "outputId": "f83dfe38-dcd1-45dc-f2c6-4598ab0f29ec"
   },
   "outputs": [
    {
     "name": "stdout",
     "output_type": "stream",
     "text": [
      "[3 2 2 2 1 1 1 1 1 1]\n",
      "[11 12 13 14 15 16 17 18 19 20]\n"
     ]
    }
   ],
   "source": [
    "unique_values, occurrence_count = numpy.unique(a, return_counts=True)\n",
    "print(occurrence_count)\n",
    "print(unique_values)"
   ]
  },
  {
   "cell_type": "code",
   "execution_count": 43,
   "metadata": {
    "executionInfo": {
     "elapsed": 274,
     "status": "ok",
     "timestamp": 1672109428821,
     "user": {
      "displayName": "carlos matos",
      "userId": "02219067111046996044"
     },
     "user_tz": 180
    },
    "id": "V4CZfmE-sbx5"
   },
   "outputs": [],
   "source": [
    "a_2d = numpy.array([[1, 2, 3], [5, 6, 7], [9, 10, 11], [1, 2, 3]])"
   ]
  },
  {
   "cell_type": "code",
   "execution_count": 20,
   "metadata": {
    "colab": {
     "base_uri": "https://localhost:8080/"
    },
    "executionInfo": {
     "elapsed": 5,
     "status": "ok",
     "timestamp": 1672108572491,
     "user": {
      "displayName": "carlos matos",
      "userId": "02219067111046996044"
     },
     "user_tz": 180
    },
    "id": "hvTUGfn7sqq1",
    "outputId": "e15451b4-1434-4ce5-c416-9eab7c58f20c"
   },
   "outputs": [
    {
     "name": "stdout",
     "output_type": "stream",
     "text": [
      "[[ 1  2  3  4]\n",
      " [ 5  6  7  8]\n",
      " [ 9 10 11 12]]\n"
     ]
    }
   ],
   "source": [
    "unique_rows = numpy.unique(a_2d, axis=0)\n",
    "print(unique_rows)"
   ]
  },
  {
   "cell_type": "code",
   "execution_count": 22,
   "metadata": {
    "executionInfo": {
     "elapsed": 549,
     "status": "ok",
     "timestamp": 1672108806317,
     "user": {
      "displayName": "carlos matos",
      "userId": "02219067111046996044"
     },
     "user_tz": 180
    },
    "id": "GT5Cly3rsxyO"
   },
   "outputs": [],
   "source": [
    "unique_rows, indices, occurrence_count = numpy.unique(a_2d, axis=0,\n",
    "                                                   return_counts=True,\n",
    "                                                   return_index=True)"
   ]
  },
  {
   "cell_type": "code",
   "execution_count": 24,
   "metadata": {
    "colab": {
     "base_uri": "https://localhost:8080/"
    },
    "executionInfo": {
     "elapsed": 11,
     "status": "ok",
     "timestamp": 1672108844580,
     "user": {
      "displayName": "carlos matos",
      "userId": "02219067111046996044"
     },
     "user_tz": 180
    },
    "id": "jM8ufwCSc5Yg",
    "outputId": "739f9de0-a2cb-4311-fa51-da91f24ce81d"
   },
   "outputs": [
    {
     "name": "stdout",
     "output_type": "stream",
     "text": [
      "[[ 1  2  3  4]\n",
      " [ 5  6  7  8]\n",
      " [ 9 10 11 12]]\n",
      "=======\n",
      "[0 1 2]\n",
      "=======\n",
      "[2 1 1]\n"
     ]
    }
   ],
   "source": [
    "print(unique_rows)\n",
    "print('=======')\n",
    "print(indices)\n",
    "print('=======')\n",
    "print(occurrence_count)"
   ]
  },
  {
   "cell_type": "code",
   "execution_count": 48,
   "metadata": {
    "executionInfo": {
     "elapsed": 272,
     "status": "ok",
     "timestamp": 1672109500802,
     "user": {
      "displayName": "carlos matos",
      "userId": "02219067111046996044"
     },
     "user_tz": 180
    },
    "id": "pHv2e1ulc-cT"
   },
   "outputs": [],
   "source": [
    "x = numpy.array([[1 , 2, 3, 4], [5, 6, 7, 8], [9, 10, 11, 12]])"
   ]
  },
  {
   "cell_type": "code",
   "execution_count": 49,
   "metadata": {
    "executionInfo": {
     "elapsed": 9,
     "status": "ok",
     "timestamp": 1672109501917,
     "user": {
      "displayName": "carlos matos",
      "userId": "02219067111046996044"
     },
     "user_tz": 180
    },
    "id": "9Mg5zPF2ddMr"
   },
   "outputs": [],
   "source": [
    "y = a_2d.flatten()"
   ]
  },
  {
   "cell_type": "code",
   "execution_count": 28,
   "metadata": {
    "executionInfo": {
     "elapsed": 9,
     "status": "ok",
     "timestamp": 1672109176999,
     "user": {
      "displayName": "carlos matos",
      "userId": "02219067111046996044"
     },
     "user_tz": 180
    },
    "id": "930A9AbQdfgl"
   },
   "outputs": [],
   "source": [
    "import matplotlib.pyplot as plt\n",
    "%matplotlib inline"
   ]
  },
  {
   "cell_type": "code",
   "execution_count": 31,
   "metadata": {
    "colab": {
     "base_uri": "https://localhost:8080/",
     "height": 334
    },
    "executionInfo": {
     "elapsed": 827,
     "status": "ok",
     "timestamp": 1672109204828,
     "user": {
      "displayName": "carlos matos",
      "userId": "02219067111046996044"
     },
     "user_tz": 180
    },
    "id": "kbT2O15BeTRh",
    "outputId": "6fdcf27b-83bb-4bf8-fee0-35bb5130d21b"
   },
   "outputs": [
    {
     "data": {
      "text/plain": [
       "[<matplotlib.lines.Line2D at 0x7f338c9826a0>,\n",
       " <matplotlib.lines.Line2D at 0x7f338c9827f0>,\n",
       " <matplotlib.lines.Line2D at 0x7f338c9828b0>,\n",
       " <matplotlib.lines.Line2D at 0x7f338c982970>]"
      ]
     },
     "execution_count": 31,
     "metadata": {},
     "output_type": "execute_result"
    },
    {
     "data": {
      "image/png": "[encoded data removed]",
      "text/plain": [
       "<Figure size 432x288 with 1 Axes>"
      ]
     },
     "metadata": {
      "needs_background": "light"
     },
     "output_type": "display_data"
    }
   ],
   "source": [
    "plt.plot(x)"
   ]
  },
  {
   "cell_type": "code",
   "execution_count": 34,
   "metadata": {
    "colab": {
     "base_uri": "https://localhost:8080/",
     "height": 334
    },
    "executionInfo": {
     "elapsed": 633,
     "status": "ok",
     "timestamp": 1672109239536,
     "user": {
      "displayName": "carlos matos",
      "userId": "02219067111046996044"
     },
     "user_tz": 180
    },
    "id": "h2z5oM2XeVES",
    "outputId": "c71aebec-f054-4b0f-aea2-152daa124ce4"
   },
   "outputs": [
    {
     "data": {
      "text/plain": [
       "[<matplotlib.lines.Line2D at 0x7f338c84a760>,\n",
       " <matplotlib.lines.Line2D at 0x7f338c84a8b0>,\n",
       " <matplotlib.lines.Line2D at 0x7f338c84a970>,\n",
       " <matplotlib.lines.Line2D at 0x7f338c84aa30>]"
      ]
     },
     "execution_count": 34,
     "metadata": {},
     "output_type": "execute_result"
    },
    {
     "data": {
      "image/png": "[encoded data removed]",
      "text/plain": [
       "<Figure size 432x288 with 1 Axes>"
      ]
     },
     "metadata": {
      "needs_background": "light"
     },
     "output_type": "display_data"
    }
   ],
   "source": [
    "plt.plot(a_2d)"
   ]
  },
  {
   "cell_type": "code",
   "execution_count": 45,
   "metadata": {
    "executionInfo": {
     "elapsed": 271,
     "status": "ok",
     "timestamp": 1672109440128,
     "user": {
      "displayName": "carlos matos",
      "userId": "02219067111046996044"
     },
     "user_tz": 180
    },
    "id": "ibjPU1MOfFqs"
   },
   "outputs": [],
   "source": [
    "x=x.flatten()"
   ]
  },
  {
   "cell_type": "code",
   "execution_count": 46,
   "metadata": {
    "colab": {
     "base_uri": "https://localhost:8080/",
     "height": 282
    },
    "executionInfo": {
     "elapsed": 317,
     "status": "ok",
     "timestamp": 1672109441581,
     "user": {
      "displayName": "carlos matos",
      "userId": "02219067111046996044"
     },
     "user_tz": 180
    },
    "id": "etwzgck0ee8_",
    "outputId": "8729d646-edde-4908-a855-ff58ef94c46c"
   },
   "outputs": [
    {
     "data": {
      "text/plain": [
       "[<matplotlib.lines.Line2D at 0x7f338c4e8e20>]"
      ]
     },
     "execution_count": 46,
     "metadata": {},
     "output_type": "execute_result"
    },
    {
     "data": {
      "image/png": "[encoded data removed]",
      "text/plain": [
       "<Figure size 432x288 with 1 Axes>"
      ]
     },
     "metadata": {
      "needs_background": "light"
     },
     "output_type": "display_data"
    }
   ],
   "source": [
    "plt.plot(x, y, 'purple') # line\n",
    "plt.plot(x, y, 'o')      # dots"
   ]
  },
  {
   "cell_type": "code",
   "execution_count": 60,
   "metadata": {
    "colab": {
     "base_uri": "https://localhost:8080/",
     "height": 265
    },
    "executionInfo": {
     "elapsed": 459,
     "status": "ok",
     "timestamp": 1672109586808,
     "user": {
      "displayName": "carlos matos",
      "userId": "02219067111046996044"
     },
     "user_tz": 180
    },
    "id": "ZR9t1pqWewCo",
    "outputId": "b4693dcb-a554-4a8b-aa67-fc8fc46b2fe0"
   },
   "outputs": [
    {
     "data": {
      "text/plain": [
       "<mpl_toolkits.mplot3d.art3d.Poly3DCollection at 0x7f3387b6bdc0>"
      ]
     },
     "execution_count": 60,
     "metadata": {},
     "output_type": "execute_result"
    },
    {
     "data": {
      "image/png": "[encoded data removed]",
      "text/plain": [
       "<Figure size 432x288 with 1 Axes>"
      ]
     },
     "metadata": {
      "needs_background": "light"
     },
     "output_type": "display_data"
    }
   ],
   "source": [
    "fig = plt.figure()\n",
    "ax = fig.add_subplot(projection='3d')\n",
    "X = x\n",
    "Y = y\n",
    "X, Y = numpy.meshgrid(X, Y)\n",
    "R = numpy.sqrt(X**2 + Y**2)\n",
    "Z = numpy.sin(R)\n",
    "ax.plot_surface(X, Y, Z, rstride=1, cstride=1, cmap='viridis')"
   ]
  },
  {
   "cell_type": "code",
   "execution_count": null,
   "metadata": {
    "id": "PkF4MLEkfbB2"
   },
   "outputs": [],
   "source": []
  }
 ],
 "metadata": {
  "colab": {
   "authorship_tag": "ABX9TyPe8M5TYbTpVgEOp5ab3k6T",
   "provenance": []
  },
  "kernelspec": {
   "display_name": "Python 3 (ipykernel)",
   "language": "python",
   "name": "python3"
  },
  "language_info": {
   "codemirror_mode": {
    "name": "ipython",
    "version": 3
   },
   "file_extension": ".py",
   "mimetype": "text/x-python",
   "name": "python",
   "nbconvert_exporter": "python",
   "pygments_lexer": "ipython3",
   "version": "3.9.13"
  }
 },
 "nbformat": 4,
 "nbformat_minor": 1
}
