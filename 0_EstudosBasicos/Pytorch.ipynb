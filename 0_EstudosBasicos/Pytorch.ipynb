{
 "cells": [
  {
   "cell_type": "code",
   "execution_count": 1,
   "id": "1399cdc3",
   "metadata": {},
   "outputs": [],
   "source": [
    "import torch\n",
    "import numpy as np\n",
    "import cv2\n",
    "\n",
    "from sklearn.model_selection import train_test_split\n",
    "from sklearn import metrics"
   ]
  },
  {
   "cell_type": "code",
   "execution_count": 2,
   "id": "1616aefc",
   "metadata": {},
   "outputs": [
    {
     "name": "stdout",
     "output_type": "stream",
     "text": [
      "<module 'torch.version' from '/home/carlos/Apps/Anaconda/lib/python3.9/site-packages/torch/version.py'>\n"
     ]
    }
   ],
   "source": [
    "print(torch.version)"
   ]
  },
  {
   "cell_type": "code",
   "execution_count": 3,
   "id": "f5f6a50b",
   "metadata": {},
   "outputs": [
    {
     "data": {
      "text/plain": [
       "True"
      ]
     },
     "execution_count": 3,
     "metadata": {},
     "output_type": "execute_result"
    }
   ],
   "source": [
    "torch.cuda.is_available()"
   ]
  },
  {
   "cell_type": "code",
   "execution_count": 4,
   "id": "f639940f",
   "metadata": {},
   "outputs": [
    {
     "data": {
      "text/plain": [
       "[[1, 2], [3, 4]]"
      ]
     },
     "execution_count": 4,
     "metadata": {},
     "output_type": "execute_result"
    }
   ],
   "source": [
    "some_data = [[1,2],[3,4]]\n",
    "some_data"
   ]
  },
  {
   "cell_type": "code",
   "execution_count": 5,
   "id": "d068688d",
   "metadata": {},
   "outputs": [
    {
     "data": {
      "text/plain": [
       "list"
      ]
     },
     "execution_count": 5,
     "metadata": {},
     "output_type": "execute_result"
    }
   ],
   "source": [
    "type(some_data)"
   ]
  },
  {
   "cell_type": "code",
   "execution_count": 6,
   "id": "45b9dce7",
   "metadata": {},
   "outputs": [
    {
     "data": {
      "text/plain": [
       "array([[1, 2],\n",
       "       [3, 4]])"
      ]
     },
     "execution_count": 6,
     "metadata": {},
     "output_type": "execute_result"
    }
   ],
   "source": [
    "np.array(some_data)"
   ]
  },
  {
   "cell_type": "code",
   "execution_count": 7,
   "id": "851d5e80",
   "metadata": {},
   "outputs": [
    {
     "data": {
      "text/plain": [
       "array([[1, 2],\n",
       "       [3, 4]])"
      ]
     },
     "execution_count": 7,
     "metadata": {},
     "output_type": "execute_result"
    }
   ],
   "source": [
    "np.asanyarray(some_data)"
   ]
  },
  {
   "cell_type": "code",
   "execution_count": 8,
   "id": "0a5a91ac",
   "metadata": {},
   "outputs": [
    {
     "data": {
      "text/plain": [
       "torch.Tensor"
      ]
     },
     "execution_count": 8,
     "metadata": {},
     "output_type": "execute_result"
    }
   ],
   "source": [
    "some_data = torch.tensor(some_data)\n",
    "type(some_data)"
   ]
  },
  {
   "cell_type": "code",
   "execution_count": 9,
   "id": "56faa615",
   "metadata": {},
   "outputs": [
    {
     "data": {
      "text/plain": [
       "torch.int64"
      ]
     },
     "execution_count": 9,
     "metadata": {},
     "output_type": "execute_result"
    }
   ],
   "source": [
    "some_data.dtype"
   ]
  },
  {
   "cell_type": "code",
   "execution_count": 10,
   "id": "2a7704c9",
   "metadata": {},
   "outputs": [
    {
     "data": {
      "text/plain": [
       "array([[0.37761751, 0.36360775, 0.02171262, 0.50481616],\n",
       "       [0.40547174, 0.4009333 , 0.54134666, 0.26252327],\n",
       "       [0.69086551, 0.85119891, 0.18920639, 0.71083664]])"
      ]
     },
     "execution_count": 10,
     "metadata": {},
     "output_type": "execute_result"
    }
   ],
   "source": [
    "numpy_array = np.random.rand(3,4)\n",
    "numpy_array"
   ]
  },
  {
   "cell_type": "code",
   "execution_count": 11,
   "id": "547e41ff",
   "metadata": {},
   "outputs": [
    {
     "data": {
      "text/plain": [
       "tensor([[0.3776, 0.3636, 0.0217, 0.5048],\n",
       "        [0.4055, 0.4009, 0.5413, 0.2625],\n",
       "        [0.6909, 0.8512, 0.1892, 0.7108]], dtype=torch.float64)"
      ]
     },
     "execution_count": 11,
     "metadata": {},
     "output_type": "execute_result"
    }
   ],
   "source": [
    "torch.from_numpy(numpy_array)"
   ]
  },
  {
   "cell_type": "code",
   "execution_count": 12,
   "id": "617a16a9",
   "metadata": {},
   "outputs": [
    {
     "data": {
      "text/plain": [
       "tensor([[0.3776, 0.3636, 0.0217, 0.5048],\n",
       "        [0.4055, 0.4009, 0.5413, 0.2625],\n",
       "        [0.6909, 0.8512, 0.1892, 0.7108]], dtype=torch.float64)"
      ]
     },
     "execution_count": 12,
     "metadata": {},
     "output_type": "execute_result"
    }
   ],
   "source": [
    "torch.tensor(numpy_array)"
   ]
  },
  {
   "cell_type": "code",
   "execution_count": 13,
   "id": "4b7f48bd",
   "metadata": {},
   "outputs": [
    {
     "data": {
      "text/plain": [
       "tensor([[0., 0., 0., 0.],\n",
       "        [0., 0., 0., 0.],\n",
       "        [0., 0., 0., 0.]])"
      ]
     },
     "execution_count": 13,
     "metadata": {},
     "output_type": "execute_result"
    }
   ],
   "source": [
    "torch.zeros(3, 4)"
   ]
  },
  {
   "cell_type": "code",
   "execution_count": 14,
   "id": "c542baa9",
   "metadata": {},
   "outputs": [],
   "source": [
    "my_tensor = torch.rand(3, 4)"
   ]
  },
  {
   "cell_type": "code",
   "execution_count": 15,
   "id": "1944e189",
   "metadata": {},
   "outputs": [
    {
     "data": {
      "text/plain": [
       "torch.float32"
      ]
     },
     "execution_count": 15,
     "metadata": {},
     "output_type": "execute_result"
    }
   ],
   "source": [
    "my_tensor.dtype"
   ]
  },
  {
   "cell_type": "code",
   "execution_count": 16,
   "id": "a7ad342a",
   "metadata": {},
   "outputs": [
    {
     "data": {
      "text/plain": [
       "device(type='cpu')"
      ]
     },
     "execution_count": 16,
     "metadata": {},
     "output_type": "execute_result"
    }
   ],
   "source": [
    "my_tensor.device"
   ]
  },
  {
   "cell_type": "code",
   "execution_count": 17,
   "id": "4706c6b4",
   "metadata": {},
   "outputs": [],
   "source": [
    "my_tensor = my_tensor.to(\"cuda\")"
   ]
  },
  {
   "cell_type": "code",
   "execution_count": 18,
   "id": "200435de",
   "metadata": {},
   "outputs": [
    {
     "data": {
      "text/plain": [
       "device(type='cuda', index=0)"
      ]
     },
     "execution_count": 18,
     "metadata": {},
     "output_type": "execute_result"
    }
   ],
   "source": [
    "my_tensor.device"
   ]
  },
  {
   "cell_type": "code",
   "execution_count": 19,
   "id": "83d1f68d",
   "metadata": {},
   "outputs": [
    {
     "data": {
      "text/plain": [
       "tensor([[0.5814, 0.8370],\n",
       "        [0.0328, 0.9197],\n",
       "        [0.3084, 0.3349]], device='cuda:0')"
      ]
     },
     "execution_count": 19,
     "metadata": {},
     "output_type": "execute_result"
    }
   ],
   "source": [
    "my_tensor[:, 1:3]"
   ]
  },
  {
   "cell_type": "code",
   "execution_count": 20,
   "id": "99e6584a",
   "metadata": {},
   "outputs": [
    {
     "data": {
      "text/plain": [
       "tensor([[0.3289, 0.3380, 0.7005, 0.9148],\n",
       "        [0.9680, 0.0011, 0.8459, 0.3709],\n",
       "        [0.0030, 0.0951, 0.1121, 0.3312]], device='cuda:0')"
      ]
     },
     "execution_count": 20,
     "metadata": {},
     "output_type": "execute_result"
    }
   ],
   "source": [
    "my_tensor.mul(my_tensor)"
   ]
  },
  {
   "cell_type": "code",
   "execution_count": 21,
   "id": "a80e41bc",
   "metadata": {},
   "outputs": [
    {
     "data": {
      "text/plain": [
       "tensor([[0.3289, 0.3380, 0.7005, 0.9148],\n",
       "        [0.9680, 0.0011, 0.8459, 0.3709],\n",
       "        [0.0030, 0.0951, 0.1121, 0.3312]], device='cuda:0')"
      ]
     },
     "execution_count": 21,
     "metadata": {},
     "output_type": "execute_result"
    }
   ],
   "source": [
    "my_tensor * my_tensor"
   ]
  },
  {
   "cell_type": "code",
   "execution_count": 22,
   "id": "dab2d226",
   "metadata": {},
   "outputs": [
    {
     "data": {
      "text/plain": [
       "tensor([[2.2822, 1.9356, 1.0411],\n",
       "        [1.9356, 2.1859, 0.7221],\n",
       "        [1.0411, 0.7221, 0.5414]], device='cuda:0')"
      ]
     },
     "execution_count": 22,
     "metadata": {},
     "output_type": "execute_result"
    }
   ],
   "source": [
    "my_tensor.matmul(my_tensor.T)"
   ]
  },
  {
   "cell_type": "code",
   "execution_count": null,
   "id": "3b9a80d0",
   "metadata": {},
   "outputs": [],
   "source": []
  },
  {
   "cell_type": "code",
   "execution_count": 23,
   "id": "ad477fd6",
   "metadata": {},
   "outputs": [
    {
     "data": {
      "text/plain": [
       "tensor([[2.2822, 1.9356, 1.0411],\n",
       "        [1.9356, 2.1859, 0.7221],\n",
       "        [1.0411, 0.7221, 0.5414]], device='cuda:0')"
      ]
     },
     "execution_count": 23,
     "metadata": {},
     "output_type": "execute_result"
    }
   ],
   "source": [
    "my_tensor @ my_tensor.T"
   ]
  },
  {
   "cell_type": "code",
   "execution_count": 24,
   "id": "3728448b",
   "metadata": {},
   "outputs": [
    {
     "data": {
      "text/plain": [
       "tensor([1.6118, 0.9226, 2.0915, 2.1410], device='cuda:0')"
      ]
     },
     "execution_count": 24,
     "metadata": {},
     "output_type": "execute_result"
    }
   ],
   "source": [
    "my_tensor.sum(axis=0)"
   ]
  },
  {
   "cell_type": "code",
   "execution_count": 25,
   "id": "fed0708f",
   "metadata": {},
   "outputs": [
    {
     "data": {
      "text/plain": [
       "tensor([[0.5735, 0.5814, 0.8370, 0.9564, 0.5735, 0.5814, 0.8370, 0.9564],\n",
       "        [0.9839, 0.0328, 0.9197, 0.6090, 0.9839, 0.0328, 0.9197, 0.6090],\n",
       "        [0.0544, 0.3084, 0.3349, 0.5755, 0.0544, 0.3084, 0.3349, 0.5755]],\n",
       "       device='cuda:0')"
      ]
     },
     "execution_count": 25,
     "metadata": {},
     "output_type": "execute_result"
    }
   ],
   "source": [
    "torch.cat([my_tensor,my_tensor], dim=1)"
   ]
  },
  {
   "cell_type": "code",
   "execution_count": 26,
   "id": "7c90523f",
   "metadata": {},
   "outputs": [
    {
     "data": {
      "text/plain": [
       "tensor([[0.3223, 0.4275, 0.3715, 0.4185],\n",
       "        [0.4859, 0.2470, 0.4036, 0.2957],\n",
       "        [0.1918, 0.3254, 0.2249, 0.2859]], device='cuda:0')"
      ]
     },
     "execution_count": 26,
     "metadata": {},
     "output_type": "execute_result"
    }
   ],
   "source": [
    "torch.nn.functional.softmax(my_tensor, dim=0)"
   ]
  },
  {
   "cell_type": "code",
   "execution_count": 27,
   "id": "e5f3d90a",
   "metadata": {},
   "outputs": [
    {
     "data": {
      "text/plain": [
       "torch.Size([3, 4])"
      ]
     },
     "execution_count": 27,
     "metadata": {},
     "output_type": "execute_result"
    }
   ],
   "source": [
    "my_tensor.shape"
   ]
  },
  {
   "cell_type": "code",
   "execution_count": 28,
   "id": "cc7d4c8a",
   "metadata": {},
   "outputs": [
    {
     "data": {
      "text/plain": [
       "torch.Size([3, 4])"
      ]
     },
     "execution_count": 28,
     "metadata": {},
     "output_type": "execute_result"
    }
   ],
   "source": [
    "my_tensor.size()"
   ]
  },
  {
   "cell_type": "code",
   "execution_count": 29,
   "id": "1d967f79",
   "metadata": {},
   "outputs": [
    {
     "data": {
      "text/plain": [
       "torch.Size([10, 3, 128, 128])"
      ]
     },
     "execution_count": 29,
     "metadata": {},
     "output_type": "execute_result"
    }
   ],
   "source": [
    "torch.rand(10, 3, 128, 128).size()"
   ]
  },
  {
   "cell_type": "code",
   "execution_count": 30,
   "id": "7e8f0203",
   "metadata": {},
   "outputs": [
    {
     "data": {
      "text/plain": [
       "tensor([[0.5735, 0.5814, 0.8370, 0.9564],\n",
       "        [0.9839, 0.0328, 0.9197, 0.6090],\n",
       "        [0.0544, 0.3084, 0.3349, 0.5755]], device='cuda:0')"
      ]
     },
     "execution_count": 30,
     "metadata": {},
     "output_type": "execute_result"
    }
   ],
   "source": [
    "my_tensor"
   ]
  },
  {
   "cell_type": "code",
   "execution_count": 31,
   "id": "abe15756",
   "metadata": {},
   "outputs": [
    {
     "data": {
      "text/plain": [
       "tensor([[0.5735, 0.5814, 0.8000, 0.8000],\n",
       "        [0.8000, 0.2000, 0.8000, 0.6090],\n",
       "        [0.2000, 0.3084, 0.3349, 0.5755]], device='cuda:0')"
      ]
     },
     "execution_count": 31,
     "metadata": {},
     "output_type": "execute_result"
    }
   ],
   "source": [
    "my_tensor.clip(0.2, 0.8)"
   ]
  },
  {
   "cell_type": "code",
   "execution_count": 32,
   "id": "47f4b958",
   "metadata": {},
   "outputs": [
    {
     "data": {
      "text/plain": [
       "array([[0.57351685, 0.5813738 , 0.8369572 , 0.9564297 ],\n",
       "       [0.983868  , 0.03284776, 0.9197253 , 0.60904264],\n",
       "       [0.0543769 , 0.3083967 , 0.33485115, 0.57547873]], dtype=float32)"
      ]
     },
     "execution_count": 32,
     "metadata": {},
     "output_type": "execute_result"
    }
   ],
   "source": [
    "my_tensor.cpu().detach().numpy()"
   ]
  },
  {
   "cell_type": "markdown",
   "id": "f02b50da",
   "metadata": {},
   "source": [
    "## 2.Pytorch Autograd"
   ]
  },
  {
   "cell_type": "code",
   "execution_count": 33,
   "id": "5275fba9",
   "metadata": {},
   "outputs": [],
   "source": [
    "a = torch.tensor([5.], requires_grad=True)\n",
    "b = torch.tensor([6.], requires_grad=True)"
   ]
  },
  {
   "cell_type": "code",
   "execution_count": 34,
   "id": "1b81350f",
   "metadata": {},
   "outputs": [
    {
     "data": {
      "text/plain": [
       "(tensor([5.], requires_grad=True), tensor([6.], requires_grad=True))"
      ]
     },
     "execution_count": 34,
     "metadata": {},
     "output_type": "execute_result"
    }
   ],
   "source": [
    "a,b"
   ]
  },
  {
   "cell_type": "code",
   "execution_count": 35,
   "id": "6c10313b",
   "metadata": {},
   "outputs": [
    {
     "data": {
      "text/plain": [
       "tensor([89.], grad_fn=<SubBackward0>)"
      ]
     },
     "execution_count": 35,
     "metadata": {},
     "output_type": "execute_result"
    }
   ],
   "source": [
    "y = a**3 - b**2\n",
    "y"
   ]
  },
  {
   "cell_type": "code",
   "execution_count": 36,
   "id": "4052303b",
   "metadata": {},
   "outputs": [
    {
     "name": "stdout",
     "output_type": "stream",
     "text": [
      "None\n"
     ]
    }
   ],
   "source": [
    "print(a.grad)"
   ]
  },
  {
   "cell_type": "code",
   "execution_count": 37,
   "id": "7899c8b4",
   "metadata": {},
   "outputs": [],
   "source": [
    "y.backward()"
   ]
  },
  {
   "cell_type": "code",
   "execution_count": 38,
   "id": "c514e525",
   "metadata": {},
   "outputs": [
    {
     "data": {
      "text/plain": [
       "tensor([75.])"
      ]
     },
     "execution_count": 38,
     "metadata": {},
     "output_type": "execute_result"
    }
   ],
   "source": [
    "a.grad"
   ]
  },
  {
   "cell_type": "code",
   "execution_count": 39,
   "id": "388159e8",
   "metadata": {},
   "outputs": [
    {
     "data": {
      "text/plain": [
       "tensor([-12.])"
      ]
     },
     "execution_count": 39,
     "metadata": {},
     "output_type": "execute_result"
    }
   ],
   "source": [
    "b.grad"
   ]
  },
  {
   "cell_type": "code",
   "execution_count": 40,
   "id": "a804334f",
   "metadata": {},
   "outputs": [],
   "source": [
    "W = torch.randn(10, 1, requires_grad=True)\n",
    "b = torch.randn( 1, requires_grad=True)"
   ]
  },
  {
   "cell_type": "code",
   "execution_count": 41,
   "id": "7be85881",
   "metadata": {},
   "outputs": [
    {
     "data": {
      "text/plain": [
       "tensor([[-2.4361],\n",
       "        [ 2.4526],\n",
       "        [ 1.9439],\n",
       "        [ 1.0785],\n",
       "        [ 0.9288],\n",
       "        [ 1.0066],\n",
       "        [-1.2935],\n",
       "        [-1.6125],\n",
       "        [-0.2724],\n",
       "        [ 0.9737]], requires_grad=True)"
      ]
     },
     "execution_count": 41,
     "metadata": {},
     "output_type": "execute_result"
    }
   ],
   "source": [
    "W"
   ]
  },
  {
   "cell_type": "code",
   "execution_count": 42,
   "id": "3ece3d42",
   "metadata": {},
   "outputs": [],
   "source": [
    "x = torch.rand(1, 10)"
   ]
  },
  {
   "cell_type": "code",
   "execution_count": 43,
   "id": "736bf523",
   "metadata": {},
   "outputs": [
    {
     "data": {
      "text/plain": [
       "tensor([[0.5260, 0.3626, 0.0596, 0.1182, 0.2988, 0.3038, 0.6477, 0.3512, 0.1387,\n",
       "         0.6248]])"
      ]
     },
     "execution_count": 43,
     "metadata": {},
     "output_type": "execute_result"
    }
   ],
   "source": [
    "x"
   ]
  },
  {
   "cell_type": "code",
   "execution_count": 44,
   "id": "a96dc1a0",
   "metadata": {},
   "outputs": [],
   "source": [
    "output = torch.matmul(x, W) + b"
   ]
  },
  {
   "cell_type": "code",
   "execution_count": 45,
   "id": "dd47da39",
   "metadata": {},
   "outputs": [
    {
     "data": {
      "text/plain": [
       "tensor([[0.8966]], grad_fn=<RsubBackward1>)"
      ]
     },
     "execution_count": 45,
     "metadata": {},
     "output_type": "execute_result"
    }
   ],
   "source": [
    "loss = 1 - output\n",
    "loss"
   ]
  },
  {
   "cell_type": "code",
   "execution_count": 46,
   "id": "2417116d",
   "metadata": {},
   "outputs": [
    {
     "data": {
      "text/plain": [
       "tensor([[0.1034]], grad_fn=<AddBackward0>)"
      ]
     },
     "execution_count": 46,
     "metadata": {},
     "output_type": "execute_result"
    }
   ],
   "source": [
    "output"
   ]
  },
  {
   "cell_type": "code",
   "execution_count": 47,
   "id": "5484571f",
   "metadata": {},
   "outputs": [],
   "source": [
    "loss.backward()"
   ]
  },
  {
   "cell_type": "code",
   "execution_count": 48,
   "id": "16a6109d",
   "metadata": {},
   "outputs": [
    {
     "data": {
      "text/plain": [
       "tensor([[-0.5260],\n",
       "        [-0.3626],\n",
       "        [-0.0596],\n",
       "        [-0.1182],\n",
       "        [-0.2988],\n",
       "        [-0.3038],\n",
       "        [-0.6477],\n",
       "        [-0.3512],\n",
       "        [-0.1387],\n",
       "        [-0.6248]])"
      ]
     },
     "execution_count": 48,
     "metadata": {},
     "output_type": "execute_result"
    }
   ],
   "source": [
    "W.grad"
   ]
  },
  {
   "cell_type": "code",
   "execution_count": 49,
   "id": "d5060bd9",
   "metadata": {},
   "outputs": [
    {
     "data": {
      "text/plain": [
       "tensor([[-2.4356],\n",
       "        [ 2.4530],\n",
       "        [ 1.9439],\n",
       "        [ 1.0786],\n",
       "        [ 0.9291],\n",
       "        [ 1.0069],\n",
       "        [-1.2928],\n",
       "        [-1.6121],\n",
       "        [-0.2722],\n",
       "        [ 0.9743]])"
      ]
     },
     "execution_count": 49,
     "metadata": {},
     "output_type": "execute_result"
    }
   ],
   "source": [
    "with torch.no_grad():\n",
    "    W = W - 0.001 * W.grad.data\n",
    "W"
   ]
  },
  {
   "cell_type": "markdown",
   "id": "4bd2c009",
   "metadata": {},
   "source": [
    "3. The dataset class in PyTorch\n",
    "https://www.youtube.com/watch?v=oWq6aVv5mC8"
   ]
  },
  {
   "cell_type": "code",
   "execution_count": 50,
   "id": "7a6d45db",
   "metadata": {},
   "outputs": [],
   "source": [
    "from sklearn.datasets import make_classification"
   ]
  },
  {
   "cell_type": "code",
   "execution_count": 51,
   "id": "eb3f55b7",
   "metadata": {},
   "outputs": [],
   "source": [
    "class CustomDataset:\n",
    "    def __init__(self, data, targets):\n",
    "        self.data = data\n",
    "        self.targets = targets\n",
    "        \n",
    "    def __len__(self):\n",
    "        return self.data.shape[0]\n",
    "    \n",
    "    def __getitem__(self, idx):\n",
    "        current_sample = self.data[idx, :]\n",
    "        current_target = self.targets[idx]\n",
    "        return {\n",
    "            \"X\": torch.tensor(current_sample, dtype=torch.float),\n",
    "            \"y\": torch.tensor(current_target, dtype=torch.long),\n",
    "        }"
   ]
  },
  {
   "cell_type": "code",
   "execution_count": 52,
   "id": "41f3767d",
   "metadata": {},
   "outputs": [],
   "source": [
    "data, targets = make_classification(n_samples=1000)"
   ]
  },
  {
   "cell_type": "code",
   "execution_count": 53,
   "id": "d4336c25",
   "metadata": {},
   "outputs": [
    {
     "data": {
      "text/plain": [
       "(1000, 20)"
      ]
     },
     "execution_count": 53,
     "metadata": {},
     "output_type": "execute_result"
    }
   ],
   "source": [
    "data.shape"
   ]
  },
  {
   "cell_type": "code",
   "execution_count": 54,
   "id": "2c1752b0",
   "metadata": {},
   "outputs": [
    {
     "data": {
      "text/plain": [
       "(1000,)"
      ]
     },
     "execution_count": 54,
     "metadata": {},
     "output_type": "execute_result"
    }
   ],
   "source": [
    "targets.shape"
   ]
  },
  {
   "cell_type": "code",
   "execution_count": 55,
   "id": "de966882",
   "metadata": {},
   "outputs": [],
   "source": [
    "custom_dataset = CustomDataset(data = data, targets=targets)"
   ]
  },
  {
   "cell_type": "code",
   "execution_count": 56,
   "id": "57fa750c",
   "metadata": {},
   "outputs": [
    {
     "data": {
      "text/plain": [
       "1000"
      ]
     },
     "execution_count": 56,
     "metadata": {},
     "output_type": "execute_result"
    }
   ],
   "source": [
    "len(custom_dataset)"
   ]
  },
  {
   "cell_type": "code",
   "execution_count": 57,
   "id": "69ab97db",
   "metadata": {},
   "outputs": [
    {
     "data": {
      "text/plain": [
       "torch.Size([20])"
      ]
     },
     "execution_count": 57,
     "metadata": {},
     "output_type": "execute_result"
    }
   ],
   "source": [
    "custom_dataset[0]['X'].shape"
   ]
  },
  {
   "cell_type": "code",
   "execution_count": 58,
   "id": "f265ef54",
   "metadata": {},
   "outputs": [
    {
     "data": {
      "text/plain": [
       "{'X': tensor([-0.2819, -0.0902, -1.6077,  2.3667,  0.0417, -2.6973, -0.0807, -0.4468,\n",
       "         -0.5787, -1.2421, -0.3629,  0.9140, -3.1504,  0.0320,  1.8245, -0.9190,\n",
       "          0.1985, -0.2278, -0.4686, -0.7829]),\n",
       " 'y': tensor(1)}"
      ]
     },
     "execution_count": 58,
     "metadata": {},
     "output_type": "execute_result"
    }
   ],
   "source": [
    "custom_dataset[345]"
   ]
  },
  {
   "cell_type": "code",
   "execution_count": 59,
   "id": "21356c26",
   "metadata": {},
   "outputs": [
    {
     "name": "stdout",
     "output_type": "stream",
     "text": [
      "{'X': tensor([ 0.3797,  0.6402,  0.9393,  1.6014,  0.3428,  0.9340, -0.8851,  0.6097,\n",
      "        -0.7914,  0.6405,  1.8203,  0.7747,  0.4212, -0.8170, -1.6923,  0.2273,\n",
      "         0.4406,  0.2355, -0.3178,  2.5346]), 'y': tensor(1)}\n"
     ]
    }
   ],
   "source": [
    "for idx in range(len(custom_dataset)):\n",
    "    print(custom_dataset[idx])\n",
    "    break"
   ]
  },
  {
   "cell_type": "markdown",
   "id": "cb4981a8",
   "metadata": {},
   "source": [
    "4. Dataset class for simple NLP problems: https://www.youtube.com/watch?v=BLwvrcaD4GE"
   ]
  },
  {
   "cell_type": "code",
   "execution_count": 60,
   "id": "d0117e47",
   "metadata": {},
   "outputs": [],
   "source": [
    "# classification/regression problems\n",
    "class CustomDataset:\n",
    "    def __init__(self, data, targets, tokenizer):\n",
    "        self.data = data\n",
    "        self.targets = targets\n",
    "        self.tokenizer = tokenizer\n",
    "        \n",
    "    def __len__(self):\n",
    "        return len(self.data)\n",
    "    \n",
    "    def __getitem__(self, idx):\n",
    "        text = self.data[idx]\n",
    "        targets = self.targets[idx]\n",
    "        \n",
    "        input_ids = tokenizer(text)\n",
    "        \n",
    "        return {\n",
    "            \"input_ids\": torch.tensor(input_ids, dtype=torch.long),\n",
    "            \"target\": torch.tensor(target)\n",
    "        }"
   ]
  },
  {
   "cell_type": "code",
   "execution_count": 61,
   "id": "d03e64f3",
   "metadata": {},
   "outputs": [],
   "source": [
    "class CustomDataset:\n",
    "    def __init__(self, image_paths, targets, augmentations):\n",
    "        self.image_paths = image_paths\n",
    "        self.targets = targets\n",
    "        self.augmentations = augmentations\n",
    "        \n",
    "    def __len__(self):\n",
    "        return len(self.image_paths)\n",
    "    \n",
    "    def __getitem__(self, idx):\n",
    "        target = self.targets[idx]\n",
    "        image = cv2.imread(self.image_paths[idx])\n",
    "        image = cv2.cvtColor(image, cv2.COLOR_BGR2RGB)\n",
    "        augmented = self.augmentations(image = image)\n",
    "        image = augmented['image']\n",
    "        image = np.transpose(image, (2, 0, 1)).astype(np.float32)\n",
    "        return{\n",
    "            \"input_ids\": torch.tensor(image),\n",
    "            \"target\": torch.tensor(target)\n",
    "        }"
   ]
  },
  {
   "cell_type": "markdown",
   "id": "d06e70e7",
   "metadata": {},
   "source": [
    "## Dataloader in PyTorch: https://www.youtube.com/watch?v=YUMLKPk77iY"
   ]
  },
  {
   "cell_type": "code",
   "execution_count": 62,
   "id": "2b019977",
   "metadata": {},
   "outputs": [],
   "source": [
    "class CustomDataset:\n",
    "    def __init__(self, data, targets):\n",
    "        self.data = data\n",
    "        self.targets = targets\n",
    "        \n",
    "    def __len__(self):\n",
    "        return self.data.shape[0]\n",
    "    \n",
    "    def __getitem__(self, idx):\n",
    "        current_sample = self.data[idx, :]\n",
    "        current_target = self.targets[idx]\n",
    "        return {\n",
    "            \"X\": torch.tensor(current_sample, dtype=torch.float),\n",
    "            \"y\": torch.tensor(current_target, dtype=torch.long),\n",
    "        }"
   ]
  },
  {
   "cell_type": "code",
   "execution_count": 63,
   "id": "fadfec47",
   "metadata": {},
   "outputs": [],
   "source": [
    "data, targets = make_classification(n_samples=1000)"
   ]
  },
  {
   "cell_type": "code",
   "execution_count": 64,
   "id": "2b570198",
   "metadata": {},
   "outputs": [],
   "source": [
    "dataset = CustomDataset(data, targets)"
   ]
  },
  {
   "cell_type": "code",
   "execution_count": 65,
   "id": "32694086",
   "metadata": {},
   "outputs": [
    {
     "data": {
      "text/plain": [
       "1000"
      ]
     },
     "execution_count": 65,
     "metadata": {},
     "output_type": "execute_result"
    }
   ],
   "source": [
    "len(dataset)"
   ]
  },
  {
   "cell_type": "code",
   "execution_count": 66,
   "id": "e675d129",
   "metadata": {},
   "outputs": [],
   "source": [
    "#?torch.utils.data.DataLoader"
   ]
  },
  {
   "cell_type": "code",
   "execution_count": 67,
   "id": "aa6948d7",
   "metadata": {},
   "outputs": [],
   "source": [
    "train_loader = torch.utils.data.DataLoader(dataset, batch_size=4, num_workers=2)"
   ]
  },
  {
   "cell_type": "code",
   "execution_count": 68,
   "id": "5c9840da",
   "metadata": {},
   "outputs": [
    {
     "name": "stdout",
     "output_type": "stream",
     "text": [
      "torch.Size([4, 20])\n",
      "torch.Size([4])\n"
     ]
    }
   ],
   "source": [
    "for data in train_loader:\n",
    "    print(data['X'].shape)\n",
    "    print(data['y'].shape)\n",
    "    break"
   ]
  },
  {
   "cell_type": "code",
   "execution_count": 69,
   "id": "eb286237",
   "metadata": {},
   "outputs": [],
   "source": [
    "# for _ in range(10):\n",
    "#     for data in train_loader:\n",
    "#         X = data['X']\n",
    "#         y = data['y']\n",
    "#         outputs = model(X,y)\n",
    "#         #loss = \n",
    "#         #loss.backwards()"
   ]
  },
  {
   "cell_type": "markdown",
   "id": "241ed36b",
   "metadata": {},
   "source": [
    "## 7. Linear regression model in PyTorch https://www.youtube.com/watch?v=gB1KAhL6Hvw\n"
   ]
  },
  {
   "cell_type": "code",
   "execution_count": 70,
   "id": "8a559eff",
   "metadata": {},
   "outputs": [],
   "source": [
    "class CustomDataset:\n",
    "    def __init__(self, data, targets):\n",
    "        self.data = data\n",
    "        self.targets = targets\n",
    "        \n",
    "    def __len__(self):\n",
    "        return self.data.shape[0]\n",
    "    \n",
    "    def __getitem__(self, idx):\n",
    "        current_sample = self.data[idx, :]\n",
    "        current_target = self.targets[idx]\n",
    "        return {\n",
    "            \"X\": torch.tensor(current_sample, dtype=torch.float),\n",
    "            \"y\": torch.tensor(current_target, dtype=torch.long),\n",
    "        }"
   ]
  },
  {
   "cell_type": "code",
   "execution_count": 71,
   "id": "6ef9e0ba",
   "metadata": {},
   "outputs": [],
   "source": [
    "data, targets = make_classification(n_samples=1000)\n",
    "train_data, test_data, train_targets, test_targets = train_test_split(\n",
    "        data, targets, stratify=targets)"
   ]
  },
  {
   "cell_type": "code",
   "execution_count": 72,
   "id": "4aea8931",
   "metadata": {},
   "outputs": [],
   "source": [
    "train_dataset = CustomDataset(train_data, train_targets)\n",
    "test_dataset = CustomDataset(test_data, test_targets)"
   ]
  },
  {
   "cell_type": "code",
   "execution_count": 73,
   "id": "23ce79bf",
   "metadata": {},
   "outputs": [],
   "source": [
    "train_loader = train_loader = torch.utils.data.DataLoader(\n",
    "    train_dataset, batch_size=4, num_workers=2\n",
    ")\n",
    "\n",
    "test_loader = torch.utils.data.DataLoader(\n",
    "    test_dataset, batch_size=4, num_workers=2\n",
    ")"
   ]
  },
  {
   "cell_type": "code",
   "execution_count": 74,
   "id": "c40849f0",
   "metadata": {},
   "outputs": [],
   "source": [
    "model = lambda x, w, b: torch.matmul(x, w) + b"
   ]
  },
  {
   "cell_type": "code",
   "execution_count": 75,
   "id": "2047d476",
   "metadata": {},
   "outputs": [
    {
     "data": {
      "text/plain": [
       "<function __main__.<lambda>(x, w, b)>"
      ]
     },
     "execution_count": 75,
     "metadata": {},
     "output_type": "execute_result"
    }
   ],
   "source": [
    "model"
   ]
  },
  {
   "cell_type": "code",
   "execution_count": 76,
   "id": "0150f2ea",
   "metadata": {},
   "outputs": [
    {
     "data": {
      "text/plain": [
       "(750, 20)"
      ]
     },
     "execution_count": 76,
     "metadata": {},
     "output_type": "execute_result"
    }
   ],
   "source": [
    "train_data.shape"
   ]
  },
  {
   "cell_type": "code",
   "execution_count": 77,
   "id": "8172df8a",
   "metadata": {},
   "outputs": [],
   "source": [
    "W = torch.randn(20, 1, requires_grad=True)\n",
    "b = torch.randn(1, requires_grad=True)\n",
    "learning_rate = 0.001"
   ]
  },
  {
   "cell_type": "code",
   "execution_count": 78,
   "id": "70733aa7",
   "metadata": {},
   "outputs": [],
   "source": [
    "outputs = []\n",
    "labels = []\n",
    "with torch.no_grad():\n",
    "    for data in test_loader:\n",
    "        xtest = data['X']\n",
    "        ytest = data['y']\n",
    "\n",
    "        output = model(xtest, W, b)\n",
    "        labels.append(ytest)\n",
    "        outputs.append(output)"
   ]
  },
  {
   "cell_type": "code",
   "execution_count": 79,
   "id": "e7b0f6a0",
   "metadata": {},
   "outputs": [
    {
     "data": {
      "text/plain": [
       "0.467776"
      ]
     },
     "execution_count": 79,
     "metadata": {},
     "output_type": "execute_result"
    }
   ],
   "source": [
    "metrics.roc_auc_score(torch.cat(labels).view(-1), torch.cat(outputs).view(-1))"
   ]
  },
  {
   "cell_type": "code",
   "execution_count": 80,
   "id": "2f32dbb3",
   "metadata": {},
   "outputs": [
    {
     "name": "stdout",
     "output_type": "stream",
     "text": [
      "0 18.404463373917213\n",
      "1 8.414006941377165\n",
      "2 4.05499775351045\n",
      "3 2.0229967862684677\n",
      "4 1.0471081791564505\n",
      "5 0.5711299816463539\n",
      "6 0.3366385727546158\n",
      "7 0.2202087213864867\n",
      "8 0.16200817899996453\n",
      "9 0.13274002053893785\n"
     ]
    }
   ],
   "source": [
    "for epoch in range(10):\n",
    "    epoch_loss = 0\n",
    "    counter = 0\n",
    "    for data in train_loader:\n",
    "        xtrain = data['X']\n",
    "        ytrain = data['y']\n",
    "        \n",
    "#         if W.grad is not None:\n",
    "#             W.grad_zero_()\n",
    "        \n",
    "        output = model(xtrain, W, b)\n",
    "        loss = torch.mean((ytrain.view(-1) - output.view(-1))**2)\n",
    "        epoch_loss = epoch_loss + loss.item()\n",
    "        loss.backward()\n",
    "        \n",
    "#         print(W.grad)\n",
    "        \n",
    "        with torch.no_grad():\n",
    "            W = W - learning_rate * W.grad\n",
    "            b = b - learning_rate * b.grad\n",
    "            \n",
    "#         print(W.grad)\n",
    "\n",
    "        W.requires_grad_(True)\n",
    "        b.requires_grad_(True)\n",
    "        counter += 1\n",
    "    print(epoch, epoch_loss/counter)"
   ]
  },
  {
   "cell_type": "code",
   "execution_count": 81,
   "id": "5a02a401",
   "metadata": {},
   "outputs": [],
   "source": [
    "outputs = []\n",
    "labels = []\n",
    "with torch.no_grad():\n",
    "    for data in test_loader:\n",
    "        xtest = data['X']\n",
    "        ytest = data['y']\n",
    "\n",
    "        output = model(xtest, W, b)\n",
    "        labels.append(ytest)\n",
    "        outputs.append(output)"
   ]
  },
  {
   "cell_type": "code",
   "execution_count": 82,
   "id": "05dbb269",
   "metadata": {},
   "outputs": [
    {
     "data": {
      "text/plain": [
       "0.9415680000000001"
      ]
     },
     "execution_count": 82,
     "metadata": {},
     "output_type": "execute_result"
    }
   ],
   "source": [
    "metrics.roc_auc_score(torch.cat(labels).view(-1), torch.cat(outputs).view(-1))"
   ]
  },
  {
   "cell_type": "markdown",
   "id": "e93cf5d7",
   "metadata": {},
   "source": [
    "## 8. Training and validation loops in PyTorch https://www.youtube.com/watch?v=r0TlnPUFG5U"
   ]
  },
  {
   "cell_type": "code",
   "execution_count": 83,
   "id": "226e3955",
   "metadata": {},
   "outputs": [],
   "source": [
    "def train_one_step(model, data, optimizer):\n",
    "    optimizer.zero_grad()\n",
    "    for k, v in data.items():\n",
    "        data[k] = v.to(\"cuda\")\n",
    "    loss = model(**data)\n",
    "    loss.backward()\n",
    "    optimizer.step()\n",
    "    return loss"
   ]
  },
  {
   "cell_type": "code",
   "execution_count": 84,
   "id": "782cf2eb",
   "metadata": {},
   "outputs": [],
   "source": [
    "def train_one_epoch(model, data_loader, optimizer, scheduler):\n",
    "    model.train()\n",
    "    total_loss = 0\n",
    "    for batch_index, data in enumerate(data_loader):\n",
    "        loss = train_one_step(model, data, optimizer)\n",
    "        scheduler.step()\n",
    "        total_loss += loss\n",
    "    return total_loss"
   ]
  },
  {
   "cell_type": "code",
   "execution_count": 85,
   "id": "b5840336",
   "metadata": {},
   "outputs": [],
   "source": [
    "def validate_one_step(model, data, optimizer):\n",
    "    optimizer.zero_grad()\n",
    "    for k, v in data.items():\n",
    "        data[k] = v.to(\"cuda\")\n",
    "    loss = model(**data)\n",
    "    return loss"
   ]
  },
  {
   "cell_type": "code",
   "execution_count": 87,
   "id": "4aa598ef",
   "metadata": {},
   "outputs": [],
   "source": [
    "def validate_one_epoch(model, data_loader):\n",
    "    model.eval()\n",
    "    total_loss = 0\n",
    "    for batch_index, data in enumerate(data_loader):\n",
    "        with torch.no_grad():\n",
    "            loss = train_one_step(model, data)\n",
    "            scheduler.step()\n",
    "            total_loss += loss\n",
    "    return total_loss"
   ]
  },
  {
   "cell_type": "markdown",
   "id": "7774a47e",
   "metadata": {},
   "source": [
    "## 9. Understanding torch.nn https://www.youtube.com/watch?v=t67ZS14hw1g\n",
    "\n",
    "### there is a sequence material to study about the another functions"
   ]
  },
  {
   "cell_type": "code",
   "execution_count": 103,
   "id": "7fec2c1c",
   "metadata": {},
   "outputs": [],
   "source": [
    "import torch.nn as nn"
   ]
  },
  {
   "cell_type": "code",
   "execution_count": 104,
   "id": "ddadfd98",
   "metadata": {},
   "outputs": [],
   "source": [
    "class Model(nn.Module):\n",
    "    def __init__(self):\n",
    "        super().__init__()\n",
    "        self.layer1 = nn.Linear(128, 32)\n",
    "        self.layer2 = nn.Linear(32, 16)\n",
    "        self.layer3 = nn.Linear(16, 1)\n",
    "        \n",
    "    def forward(self, features):\n",
    "        # (32, 128)\n",
    "        x = self.layer1(features)\n",
    "        print(x.shape)\n",
    "        #(32, 32)\n",
    "        x = self.layer2(x)\n",
    "        x = self.layer3(x)\n",
    "        # (32, 1)\n",
    "        return x"
   ]
  },
  {
   "cell_type": "code",
   "execution_count": 105,
   "id": "552a32a5",
   "metadata": {},
   "outputs": [
    {
     "name": "stdout",
     "output_type": "stream",
     "text": [
      "torch.Size([2, 32])\n"
     ]
    },
    {
     "data": {
      "text/plain": [
       "tensor([[-0.2504],\n",
       "        [-0.2623]], grad_fn=<AddmmBackward0>)"
      ]
     },
     "execution_count": 105,
     "metadata": {},
     "output_type": "execute_result"
    }
   ],
   "source": [
    "model = Model()\n",
    "features = torch.rand((2, 128))\n",
    "#print(features)\n",
    "model(features)"
   ]
  },
  {
   "cell_type": "code",
   "execution_count": 106,
   "id": "ddf1828c",
   "metadata": {},
   "outputs": [
    {
     "data": {
      "text/plain": [
       "device(type='cpu')"
      ]
     },
     "execution_count": 106,
     "metadata": {},
     "output_type": "execute_result"
    }
   ],
   "source": [
    "features.device"
   ]
  },
  {
   "cell_type": "code",
   "execution_count": 107,
   "id": "d8f6d366",
   "metadata": {},
   "outputs": [
    {
     "name": "stdout",
     "output_type": "stream",
     "text": [
      "torch.Size([2, 32])\n"
     ]
    },
    {
     "data": {
      "text/plain": [
       "tensor([[-0.0357],\n",
       "        [ 0.0195]], device='cuda:0', grad_fn=<AddmmBackward0>)"
      ]
     },
     "execution_count": 107,
     "metadata": {},
     "output_type": "execute_result"
    }
   ],
   "source": [
    "features = features.to('cuda')\n",
    "model = Model()\n",
    "model.to('cuda')\n",
    "model(features)"
   ]
  },
  {
   "cell_type": "code",
   "execution_count": 108,
   "id": "fa27e1d9",
   "metadata": {},
   "outputs": [],
   "source": [
    "class Model(nn.Module):\n",
    "    def __init__(self):\n",
    "        super().__init__()\n",
    "        self.base = nn.Sequential(\n",
    "            nn.Linear(128, 32),\n",
    "            nn.Linear(32, 16),\n",
    "            nn.Linear(16, 1)\n",
    "        )\n",
    "        \n",
    "\n",
    "        \n",
    "    def forward(self, features):\n",
    "        x = self.base(features)\n",
    "        return x"
   ]
  },
  {
   "cell_type": "code",
   "execution_count": 109,
   "id": "b47d2e12",
   "metadata": {},
   "outputs": [
    {
     "data": {
      "text/plain": [
       "tensor([[-0.1218],\n",
       "        [-0.1479]], device='cuda:0', grad_fn=<AddmmBackward0>)"
      ]
     },
     "execution_count": 109,
     "metadata": {},
     "output_type": "execute_result"
    }
   ],
   "source": [
    "features = features.to('cuda')\n",
    "model = Model()\n",
    "model.to('cuda')\n",
    "model(features)"
   ]
  },
  {
   "cell_type": "code",
   "execution_count": null,
   "id": "8ff80c10",
   "metadata": {},
   "outputs": [],
   "source": []
  },
  {
   "cell_type": "code",
   "execution_count": null,
   "id": "20081307",
   "metadata": {},
   "outputs": [],
   "source": []
  }
 ],
 "metadata": {
  "kernelspec": {
   "display_name": "Python 3 (ipykernel)",
   "language": "python",
   "name": "python3"
  },
  "language_info": {
   "codemirror_mode": {
    "name": "ipython",
    "version": 3
   },
   "file_extension": ".py",
   "mimetype": "text/x-python",
   "name": "python",
   "nbconvert_exporter": "python",
   "pygments_lexer": "ipython3",
   "version": "3.9.13"
  }
 },
 "nbformat": 4,
 "nbformat_minor": 5
}
