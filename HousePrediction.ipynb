{
 "cells": [
  {
   "cell_type": "code",
   "execution_count": 148,
   "id": "a8114792",
   "metadata": {},
   "outputs": [],
   "source": [
    "import pandas\n",
    "import numpy\n",
    "\n",
    "import matplotlib.pyplot as plt\n",
    "import seaborn\n",
    "import plotly.express as px\n",
    "import plotly.graph_objects as go\n"
   ]
  },
  {
   "cell_type": "code",
   "execution_count": 4,
   "id": "a41e0e22",
   "metadata": {},
   "outputs": [],
   "source": [
    "directory = '/media/carlos/ea8ff4ea-c5fd-4b9d-bf66-15507c1d2037/Documentos/Banco_de_dados/Codes/04_HousePrices/train.csv'"
   ]
  },
  {
   "cell_type": "code",
   "execution_count": 6,
   "id": "4bb23bf1",
   "metadata": {},
   "outputs": [],
   "source": [
    "dataSet = pandas.read_csv(directory)"
   ]
  },
  {
   "cell_type": "code",
   "execution_count": 7,
   "id": "77949f3c",
   "metadata": {},
   "outputs": [
    {
     "data": {
      "text/html": [
       "<div>\n",
       "<style scoped>\n",
       "    .dataframe tbody tr th:only-of-type {\n",
       "        vertical-align: middle;\n",
       "    }\n",
       "\n",
       "    .dataframe tbody tr th {\n",
       "        vertical-align: top;\n",
       "    }\n",
       "\n",
       "    .dataframe thead th {\n",
       "        text-align: right;\n",
       "    }\n",
       "</style>\n",
       "<table border=\"1\" class=\"dataframe\">\n",
       "  <thead>\n",
       "    <tr style=\"text-align: right;\">\n",
       "      <th></th>\n",
       "      <th>Id</th>\n",
       "      <th>MSSubClass</th>\n",
       "      <th>MSZoning</th>\n",
       "      <th>LotFrontage</th>\n",
       "      <th>LotArea</th>\n",
       "      <th>Street</th>\n",
       "      <th>Alley</th>\n",
       "      <th>LotShape</th>\n",
       "      <th>LandContour</th>\n",
       "      <th>Utilities</th>\n",
       "      <th>...</th>\n",
       "      <th>PoolArea</th>\n",
       "      <th>PoolQC</th>\n",
       "      <th>Fence</th>\n",
       "      <th>MiscFeature</th>\n",
       "      <th>MiscVal</th>\n",
       "      <th>MoSold</th>\n",
       "      <th>YrSold</th>\n",
       "      <th>SaleType</th>\n",
       "      <th>SaleCondition</th>\n",
       "      <th>SalePrice</th>\n",
       "    </tr>\n",
       "  </thead>\n",
       "  <tbody>\n",
       "    <tr>\n",
       "      <th>0</th>\n",
       "      <td>1</td>\n",
       "      <td>60</td>\n",
       "      <td>RL</td>\n",
       "      <td>65.0</td>\n",
       "      <td>8450</td>\n",
       "      <td>Pave</td>\n",
       "      <td>NaN</td>\n",
       "      <td>Reg</td>\n",
       "      <td>Lvl</td>\n",
       "      <td>AllPub</td>\n",
       "      <td>...</td>\n",
       "      <td>0</td>\n",
       "      <td>NaN</td>\n",
       "      <td>NaN</td>\n",
       "      <td>NaN</td>\n",
       "      <td>0</td>\n",
       "      <td>2</td>\n",
       "      <td>2008</td>\n",
       "      <td>WD</td>\n",
       "      <td>Normal</td>\n",
       "      <td>208500</td>\n",
       "    </tr>\n",
       "    <tr>\n",
       "      <th>1</th>\n",
       "      <td>2</td>\n",
       "      <td>20</td>\n",
       "      <td>RL</td>\n",
       "      <td>80.0</td>\n",
       "      <td>9600</td>\n",
       "      <td>Pave</td>\n",
       "      <td>NaN</td>\n",
       "      <td>Reg</td>\n",
       "      <td>Lvl</td>\n",
       "      <td>AllPub</td>\n",
       "      <td>...</td>\n",
       "      <td>0</td>\n",
       "      <td>NaN</td>\n",
       "      <td>NaN</td>\n",
       "      <td>NaN</td>\n",
       "      <td>0</td>\n",
       "      <td>5</td>\n",
       "      <td>2007</td>\n",
       "      <td>WD</td>\n",
       "      <td>Normal</td>\n",
       "      <td>181500</td>\n",
       "    </tr>\n",
       "    <tr>\n",
       "      <th>2</th>\n",
       "      <td>3</td>\n",
       "      <td>60</td>\n",
       "      <td>RL</td>\n",
       "      <td>68.0</td>\n",
       "      <td>11250</td>\n",
       "      <td>Pave</td>\n",
       "      <td>NaN</td>\n",
       "      <td>IR1</td>\n",
       "      <td>Lvl</td>\n",
       "      <td>AllPub</td>\n",
       "      <td>...</td>\n",
       "      <td>0</td>\n",
       "      <td>NaN</td>\n",
       "      <td>NaN</td>\n",
       "      <td>NaN</td>\n",
       "      <td>0</td>\n",
       "      <td>9</td>\n",
       "      <td>2008</td>\n",
       "      <td>WD</td>\n",
       "      <td>Normal</td>\n",
       "      <td>223500</td>\n",
       "    </tr>\n",
       "    <tr>\n",
       "      <th>3</th>\n",
       "      <td>4</td>\n",
       "      <td>70</td>\n",
       "      <td>RL</td>\n",
       "      <td>60.0</td>\n",
       "      <td>9550</td>\n",
       "      <td>Pave</td>\n",
       "      <td>NaN</td>\n",
       "      <td>IR1</td>\n",
       "      <td>Lvl</td>\n",
       "      <td>AllPub</td>\n",
       "      <td>...</td>\n",
       "      <td>0</td>\n",
       "      <td>NaN</td>\n",
       "      <td>NaN</td>\n",
       "      <td>NaN</td>\n",
       "      <td>0</td>\n",
       "      <td>2</td>\n",
       "      <td>2006</td>\n",
       "      <td>WD</td>\n",
       "      <td>Abnorml</td>\n",
       "      <td>140000</td>\n",
       "    </tr>\n",
       "    <tr>\n",
       "      <th>4</th>\n",
       "      <td>5</td>\n",
       "      <td>60</td>\n",
       "      <td>RL</td>\n",
       "      <td>84.0</td>\n",
       "      <td>14260</td>\n",
       "      <td>Pave</td>\n",
       "      <td>NaN</td>\n",
       "      <td>IR1</td>\n",
       "      <td>Lvl</td>\n",
       "      <td>AllPub</td>\n",
       "      <td>...</td>\n",
       "      <td>0</td>\n",
       "      <td>NaN</td>\n",
       "      <td>NaN</td>\n",
       "      <td>NaN</td>\n",
       "      <td>0</td>\n",
       "      <td>12</td>\n",
       "      <td>2008</td>\n",
       "      <td>WD</td>\n",
       "      <td>Normal</td>\n",
       "      <td>250000</td>\n",
       "    </tr>\n",
       "  </tbody>\n",
       "</table>\n",
       "<p>5 rows × 81 columns</p>\n",
       "</div>"
      ],
      "text/plain": [
       "   Id  MSSubClass MSZoning  LotFrontage  LotArea Street Alley LotShape  \\\n",
       "0   1          60       RL         65.0     8450   Pave   NaN      Reg   \n",
       "1   2          20       RL         80.0     9600   Pave   NaN      Reg   \n",
       "2   3          60       RL         68.0    11250   Pave   NaN      IR1   \n",
       "3   4          70       RL         60.0     9550   Pave   NaN      IR1   \n",
       "4   5          60       RL         84.0    14260   Pave   NaN      IR1   \n",
       "\n",
       "  LandContour Utilities  ... PoolArea PoolQC Fence MiscFeature MiscVal MoSold  \\\n",
       "0         Lvl    AllPub  ...        0    NaN   NaN         NaN       0      2   \n",
       "1         Lvl    AllPub  ...        0    NaN   NaN         NaN       0      5   \n",
       "2         Lvl    AllPub  ...        0    NaN   NaN         NaN       0      9   \n",
       "3         Lvl    AllPub  ...        0    NaN   NaN         NaN       0      2   \n",
       "4         Lvl    AllPub  ...        0    NaN   NaN         NaN       0     12   \n",
       "\n",
       "  YrSold  SaleType  SaleCondition  SalePrice  \n",
       "0   2008        WD         Normal     208500  \n",
       "1   2007        WD         Normal     181500  \n",
       "2   2008        WD         Normal     223500  \n",
       "3   2006        WD        Abnorml     140000  \n",
       "4   2008        WD         Normal     250000  \n",
       "\n",
       "[5 rows x 81 columns]"
      ]
     },
     "execution_count": 7,
     "metadata": {},
     "output_type": "execute_result"
    }
   ],
   "source": [
    "dataSet.head(5)"
   ]
  },
  {
   "cell_type": "code",
   "execution_count": 10,
   "id": "657e1754",
   "metadata": {},
   "outputs": [
    {
     "name": "stdout",
     "output_type": "stream",
     "text": [
      "5.889565364451209\n"
     ]
    }
   ],
   "source": [
    "def nanValues(dataSet,missingValuesColumnsCount):\n",
    "    totalCels = numpy.product(dataSet.shape)\n",
    "    totalMissing = missingValuesColumnsCount.sum()\n",
    "    percentValuesMissing = (totalMissing/totalCels)*100\n",
    "    print(percentValuesMissing)\n",
    "\n",
    "missingValuesColumnsCount = dataSet.isnull().sum()\n",
    "nanValues(dataSet,missingValuesColumnsCount)"
   ]
  },
  {
   "cell_type": "code",
   "execution_count": 11,
   "id": "8dc1e699",
   "metadata": {},
   "outputs": [
    {
     "data": {
      "text/plain": [
       "Id                0\n",
       "MSSubClass        0\n",
       "MSZoning          0\n",
       "LotFrontage     259\n",
       "LotArea           0\n",
       "Street            0\n",
       "Alley          1369\n",
       "LotShape          0\n",
       "LandContour       0\n",
       "Utilities         0\n",
       "dtype: int64"
      ]
     },
     "execution_count": 11,
     "metadata": {},
     "output_type": "execute_result"
    }
   ],
   "source": [
    "missingValuesColumnsCount[0:10]"
   ]
  },
  {
   "cell_type": "code",
   "execution_count": 48,
   "id": "9f7623fa",
   "metadata": {},
   "outputs": [],
   "source": [
    "dataSetColumns = dataSet.describe().columns"
   ]
  },
  {
   "cell_type": "code",
   "execution_count": 27,
   "id": "3f7ab612",
   "metadata": {},
   "outputs": [
    {
     "data": {
      "text/plain": [
       "<AxesSubplot:>"
      ]
     },
     "execution_count": 27,
     "metadata": {},
     "output_type": "execute_result"
    },
    {
     "data": {
      "image/png": "[encoded data removed]",
      "text/plain": [
       "<Figure size 640x480 with 2 Axes>"
      ]
     },
     "metadata": {},
     "output_type": "display_data"
    }
   ],
   "source": [
    "seaborn.heatmap(dataSet.corr())"
   ]
  },
  {
   "cell_type": "code",
   "execution_count": 29,
   "id": "28525255",
   "metadata": {},
   "outputs": [
    {
     "data": {
      "text/plain": [
       "Id                 int64\n",
       "MSSubClass         int64\n",
       "MSZoning          object\n",
       "LotFrontage      float64\n",
       "LotArea            int64\n",
       "                  ...   \n",
       "MoSold             int64\n",
       "YrSold             int64\n",
       "SaleType          object\n",
       "SaleCondition     object\n",
       "SalePrice          int64\n",
       "Length: 81, dtype: object"
      ]
     },
     "execution_count": 29,
     "metadata": {},
     "output_type": "execute_result"
    }
   ],
   "source": [
    "dataSet.dtypes"
   ]
  },
  {
   "cell_type": "code",
   "execution_count": 53,
   "id": "e79f3e66",
   "metadata": {},
   "outputs": [
    {
     "data": {
      "text/plain": [
       "'Id'"
      ]
     },
     "execution_count": 53,
     "metadata": {},
     "output_type": "execute_result"
    }
   ],
   "source": [
    "dataSet.columns[0]"
   ]
  },
  {
   "cell_type": "code",
   "execution_count": 74,
   "id": "db05eadc",
   "metadata": {},
   "outputs": [
    {
     "data": {
      "text/plain": [
       "True"
      ]
     },
     "execution_count": 74,
     "metadata": {},
     "output_type": "execute_result"
    }
   ],
   "source": [
    "var1 = ['1','2','3']\n",
    "var2 = []\n",
    "var1[2] not in var2"
   ]
  },
  {
   "cell_type": "code",
   "execution_count": 79,
   "id": "223f8e3f",
   "metadata": {},
   "outputs": [
    {
     "name": "stdout",
     "output_type": "stream",
     "text": [
      "LotFrontage\n",
      "17.73972602739726\n",
      "MasVnrArea\n",
      "0.547945205479452\n",
      "GarageYrBlt\n",
      "5.5479452054794525\n"
     ]
    }
   ],
   "source": [
    "def percentColumnNullValues(dataSet, columns):\n",
    "    nanColumns = []\n",
    "    for column in columns:\n",
    "        if (dataSet[column].isnull().sum() / dataSet[column].shape[0] )*100 > 0:\n",
    "            print(column)\n",
    "            print((dataSet[column].isnull().sum() / dataSet[column].shape[0] )*100)\n",
    "            if column not in nanColumns:\n",
    "                nanColumns.append(column)\n",
    "    return nanColumns\n",
    "nanColumns = percentColumnNullValues(dataSet, dataSetColumns)"
   ]
  },
  {
   "cell_type": "code",
   "execution_count": 80,
   "id": "0d79a255",
   "metadata": {},
   "outputs": [
    {
     "name": "stdout",
     "output_type": "stream",
     "text": [
      "['LotFrontage', 'MasVnrArea', 'GarageYrBlt']\n"
     ]
    }
   ],
   "source": [
    "print(nanColumns)"
   ]
  },
  {
   "cell_type": "code",
   "execution_count": 81,
   "id": "e5214349",
   "metadata": {},
   "outputs": [
    {
     "data": {
      "application/vnd.plotly.v1+json": {
       "config": {
        "plotlyServerURL": "https://plot.ly"
       },
       "data": [
        {
         "alignmentgroup": "True",
         "bingroup": "x",
         "hovertemplate": "LotFrontage=%{x}<br>count=%{y}<extra></extra>",
         "legendgroup": "",
         "marker": {
          "color": "#636efa",
          "pattern": {
           "shape": ""
          }
         },
         "name": "",
         "offsetgroup": "",
         "orientation": "v",
         "showlegend": false,
         "type": "histogram",
         "x": [
          65,
          80,
          68,
          60,
          84,
          85,
          75,
          null,
          51,
          50,
          70,
          85,
          null,
          91,
          null,
          51,
          null,
          72,
          66,
          70,
          101,
          57,
          75,
          44,
          null,
          110,
          60,
          98,
          47,
          60,
          50,
          null,
          85,
          70,
          60,
          108,
          112,
          74,
          68,
          65,
          84,
          115,
          null,
          null,
          70,
          61,
          48,
          84,
          33,
          66,
          null,
          52,
          110,
          68,
          60,
          100,
          24,
          89,
          66,
          60,
          63,
          60,
          44,
          50,
          null,
          76,
          null,
          72,
          47,
          81,
          95,
          69,
          74,
          85,
          60,
          21,
          null,
          50,
          72,
          60,
          100,
          32,
          78,
          80,
          null,
          121,
          122,
          40,
          105,
          60,
          60,
          85,
          80,
          60,
          69,
          null,
          78,
          73,
          85,
          77,
          null,
          77,
          64,
          94,
          null,
          75,
          60,
          50,
          85,
          105,
          75,
          null,
          77,
          null,
          61,
          34,
          null,
          74,
          90,
          65,
          null,
          50,
          75,
          55,
          48,
          60,
          null,
          55,
          69,
          69,
          88,
          null,
          75,
          null,
          78,
          80,
          null,
          82,
          73,
          65,
          70,
          78,
          71,
          78,
          70,
          24,
          51,
          null,
          63,
          null,
          120,
          107,
          null,
          null,
          84,
          60,
          60,
          92,
          100,
          134,
          null,
          110,
          95,
          55,
          40,
          62,
          null,
          86,
          62,
          null,
          null,
          141,
          44,
          80,
          47,
          84,
          97,
          null,
          63,
          60,
          null,
          54,
          60,
          63,
          92,
          90,
          null,
          60,
          64,
          41,
          70,
          null,
          68,
          24,
          60,
          24,
          79,
          174,
          92,
          76,
          80,
          75,
          50,
          null,
          50,
          99,
          40,
          null,
          null,
          75,
          67,
          83,
          72,
          43,
          null,
          72,
          65,
          57,
          null,
          43,
          73,
          null,
          85,
          70,
          103,
          21,
          82,
          21,
          70,
          43,
          73,
          174,
          21,
          75,
          null,
          21,
          65,
          null,
          93,
          52,
          75,
          40,
          63,
          75,
          null,
          80,
          69,
          75,
          72,
          null,
          55,
          44,
          65,
          85,
          70,
          66,
          64,
          68,
          80,
          70,
          120,
          69,
          88,
          50,
          30,
          78,
          70,
          60,
          71,
          null,
          84,
          73,
          92,
          80,
          76,
          55,
          129,
          140,
          107,
          83,
          82,
          60,
          34,
          74,
          50,
          35,
          77,
          null,
          null,
          60,
          120,
          55,
          60,
          null,
          80,
          37,
          75,
          66,
          90,
          80,
          90,
          66,
          118,
          70,
          87,
          80,
          116,
          null,
          null,
          90,
          null,
          50,
          65,
          150,
          60,
          71,
          94,
          75,
          90,
          null,
          111,
          99,
          86,
          49,
          96,
          50,
          32,
          80,
          null,
          60,
          null,
          70,
          85,
          59,
          59,
          null,
          86,
          70,
          91,
          66,
          85,
          60,
          null,
          63,
          36,
          65,
          null,
          null,
          36,
          56,
          68,
          null,
          60,
          60,
          60,
          105,
          null,
          44,
          92,
          78,
          null,
          null,
          64,
          21,
          null,
          59,
          null,
          101,
          78,
          null,
          null,
          80,
          50,
          79,
          65,
          null,
          57,
          102,
          88,
          60,
          50,
          60,
          79,
          60,
          null,
          43,
          58,
          72,
          93,
          96,
          50,
          71,
          null,
          null,
          60,
          68,
          60,
          69,
          60,
          65,
          38,
          65,
          60,
          93,
          null,
          null,
          51,
          63,
          109,
          85,
          68,
          100,
          null,
          56,
          59,
          73,
          74,
          86,
          60,
          65,
          78,
          null,
          100,
          80,
          72,
          60,
          null,
          77,
          64,
          130,
          21,
          60,
          24,
          100,
          21,
          43,
          40,
          50,
          40,
          67,
          105,
          92,
          52,
          53,
          70,
          73,
          137,
          null,
          50,
          50,
          70,
          62,
          null,
          75,
          63,
          80,
          34,
          null,
          null,
          null,
          75,
          60,
          60,
          74,
          60,
          null,
          85,
          79,
          98,
          76,
          null,
          92,
          35,
          110,
          41,
          80,
          75,
          105,
          79,
          50,
          98,
          72,
          50,
          32,
          null,
          80,
          79,
          70,
          60,
          21,
          null,
          79,
          105,
          70,
          50,
          60,
          null,
          60,
          65,
          70,
          21,
          75,
          70,
          100,
          24,
          60,
          80,
          75,
          60,
          80,
          75,
          40,
          70,
          71,
          55,
          94,
          null,
          79,
          null,
          53,
          60,
          90,
          50,
          130,
          95,
          62,
          70,
          67,
          58,
          null,
          85,
          60,
          60,
          50,
          74,
          70,
          57,
          null,
          null,
          null,
          85,
          null,
          78,
          34,
          58,
          null,
          70,
          54,
          49,
          75,
          53,
          50,
          87,
          67,
          85,
          58,
          69,
          60,
          57,
          null,
          null,
          77,
          63,
          66,
          null,
          66,
          77,
          70,
          79,
          null,
          74,
          60,
          83,
          76,
          70,
          80,
          52,
          96,
          34,
          81,
          null,
          98,
          81,
          75,
          51,
          88,
          55,
          74,
          65,
          50,
          64,
          97,
          60,
          null,
          88,
          69,
          60,
          53,
          80,
          24,
          74,
          50,
          80,
          30,
          88,
          85,
          82,
          78,
          78,
          61,
          null,
          null,
          null,
          70,
          21,
          80,
          null,
          59,
          90,
          85,
          45,
          90,
          71,
          null,
          80,
          87,
          null,
          80,
          70,
          82,
          50,
          34,
          85,
          80,
          64,
          60,
          51,
          50,
          67,
          53,
          62,
          null,
          75,
          80,
          85,
          null,
          60,
          85,
          70,
          21,
          65,
          60,
          70,
          60,
          91,
          21,
          72,
          60,
          78,
          75,
          null,
          52,
          120,
          90,
          49,
          106,
          null,
          65,
          null,
          80,
          64,
          54,
          null,
          110,
          80,
          24,
          60,
          52,
          80,
          null,
          50,
          55,
          null,
          90,
          58,
          null,
          84,
          null,
          60,
          61,
          null,
          104,
          42,
          60,
          51,
          54,
          50,
          57,
          65,
          59,
          85,
          80,
          82,
          76,
          70,
          70,
          null,
          48,
          65,
          null,
          56,
          66,
          40,
          60,
          null,
          78,
          60,
          80,
          96,
          69,
          null,
          null,
          70,
          60,
          86,
          60,
          null,
          64,
          85,
          52,
          39,
          73,
          75,
          80,
          null,
          60,
          60,
          72,
          60,
          65,
          60,
          65,
          65,
          70,
          41,
          null,
          null,
          65,
          59,
          50,
          55,
          null,
          79,
          80,
          61,
          34,
          68,
          null,
          24,
          65,
          70,
          60,
          72,
          82,
          30,
          75,
          80,
          75,
          70,
          47,
          null,
          67,
          94,
          70,
          110,
          32,
          86,
          100,
          60,
          78,
          63,
          65,
          67,
          null,
          35,
          null,
          60,
          76,
          50,
          null,
          43,
          null,
          92,
          76,
          null,
          70,
          71,
          57,
          104,
          60,
          79,
          40,
          63,
          107,
          75,
          91,
          75,
          144,
          85,
          90,
          78,
          null,
          66,
          75,
          45,
          48,
          null,
          null,
          80,
          44,
          72,
          60,
          null,
          60,
          81,
          114,
          50,
          65,
          null,
          24,
          80,
          30,
          44,
          100,
          75,
          60,
          90,
          21,
          75,
          70,
          null,
          60,
          82,
          80,
          100,
          null,
          75,
          36,
          75,
          80,
          36,
          null,
          53,
          null,
          102,
          null,
          null,
          65,
          80,
          null,
          55,
          75,
          81,
          70,
          72,
          null,
          67,
          85,
          null,
          80,
          60,
          70,
          74,
          60,
          52,
          75,
          94,
          74,
          88,
          null,
          60,
          44,
          null,
          60,
          65,
          50,
          70,
          59,
          95,
          128,
          60,
          70,
          70,
          null,
          64,
          71,
          50,
          64,
          100,
          65,
          null,
          64,
          63,
          50,
          null,
          80,
          116,
          86,
          null,
          149,
          80,
          null,
          51,
          82,
          30,
          21,
          50,
          null,
          103,
          87,
          70,
          67,
          65,
          50,
          79,
          null,
          93,
          null,
          null,
          null,
          73,
          70,
          84,
          63,
          313,
          52,
          67,
          75,
          73,
          null,
          55,
          null,
          42,
          100,
          null,
          98,
          70,
          85,
          65,
          78,
          60,
          60,
          60,
          null,
          35,
          82,
          24,
          70,
          65,
          24,
          50,
          null,
          24,
          122,
          80,
          65,
          130,
          null,
          50,
          75,
          60,
          36,
          55,
          95,
          60,
          null,
          51,
          35,
          68,
          80,
          null,
          98,
          43,
          null,
          75,
          68,
          59,
          83,
          null,
          65,
          82,
          121,
          80,
          68,
          96,
          51,
          null,
          null,
          60,
          64,
          74,
          60,
          75,
          null,
          43,
          65,
          null,
          21,
          43,
          60,
          115,
          75,
          55,
          60,
          60,
          70,
          73,
          null,
          null,
          43,
          60,
          64,
          52,
          43,
          null,
          70,
          73,
          71,
          79,
          21,
          null,
          102,
          null,
          null,
          50,
          null,
          89,
          null,
          21,
          21,
          88,
          null,
          34,
          86,
          80,
          null,
          85,
          57,
          100,
          60,
          73,
          103,
          100,
          68,
          90,
          104,
          43,
          null,
          96,
          null,
          41,
          120,
          85,
          50,
          null,
          80,
          59,
          80,
          42,
          60,
          72,
          78,
          50,
          75,
          74,
          75,
          60,
          null,
          37,
          65,
          80,
          75,
          70,
          80,
          null,
          73,
          null,
          85,
          24,
          37,
          60,
          24,
          60,
          71,
          74,
          78,
          60,
          null,
          50,
          82,
          60,
          61,
          70,
          79,
          24,
          98,
          114,
          168,
          null,
          107,
          null,
          80,
          73,
          66,
          90,
          93,
          null,
          57,
          85,
          70,
          59,
          84,
          null,
          50,
          null,
          60,
          53,
          182,
          59,
          60,
          65,
          63,
          90,
          80,
          57,
          60,
          80,
          54,
          null,
          98,
          60,
          null,
          77,
          null,
          60,
          52,
          null,
          75,
          null,
          50,
          57,
          134,
          90,
          null,
          null,
          90,
          85,
          34,
          92,
          76,
          24,
          null,
          109,
          60,
          null,
          79,
          64,
          58,
          120,
          118,
          76,
          76,
          35,
          138,
          80,
          85,
          37,
          null,
          54,
          77,
          null,
          64,
          160,
          60,
          50,
          60,
          107,
          89,
          68,
          60,
          null,
          24,
          60,
          null,
          80,
          51,
          58,
          65,
          70,
          75,
          71,
          80,
          50,
          75,
          78,
          90,
          null,
          70,
          70,
          85,
          70,
          152,
          50,
          null,
          69,
          99,
          68,
          72,
          52,
          21,
          66,
          55,
          78,
          89,
          60,
          65,
          86,
          72,
          65,
          70,
          null,
          70,
          70,
          null,
          55,
          96,
          36,
          41,
          63,
          64,
          65,
          83,
          85,
          107,
          null,
          78,
          65,
          null,
          60,
          60,
          93,
          null,
          62,
          null,
          60,
          52,
          91,
          56,
          59,
          65,
          null,
          80,
          null,
          60,
          34,
          35,
          60,
          89,
          null,
          78,
          null,
          null,
          null,
          124,
          53,
          95,
          null,
          null,
          75,
          60,
          67,
          50,
          61,
          94,
          50,
          50,
          null,
          null,
          40,
          86,
          null,
          21,
          60,
          78,
          60,
          70,
          80,
          35,
          313,
          75,
          null,
          null,
          92,
          73,
          32,
          108,
          48,
          60,
          100,
          null,
          100,
          68,
          null,
          108,
          60,
          85,
          61,
          47,
          null,
          75,
          70,
          null,
          107,
          50,
          75,
          40,
          70,
          60,
          60,
          63,
          85,
          55,
          67,
          60,
          24,
          80,
          87,
          153,
          95,
          120,
          70,
          66,
          null,
          57,
          85,
          50,
          null,
          93,
          null,
          50,
          91,
          70,
          50,
          56,
          null,
          102,
          null,
          null,
          null,
          129,
          51,
          124,
          null,
          73,
          30,
          null,
          68,
          41,
          null,
          48,
          90,
          80,
          75,
          null,
          85,
          89,
          52,
          60,
          21,
          73,
          45,
          null,
          60,
          null,
          60,
          40,
          80,
          60,
          42,
          60,
          70,
          65,
          68,
          60,
          53,
          88,
          null,
          51,
          60,
          51,
          50,
          62,
          64,
          49,
          60,
          44,
          70,
          null,
          60,
          46,
          79,
          80,
          60,
          88,
          64,
          51,
          60,
          null,
          71,
          null,
          90,
          53,
          37,
          null,
          null,
          80,
          81,
          60,
          60,
          null,
          60,
          null,
          60,
          93,
          80,
          80,
          60,
          96,
          90,
          80,
          79,
          null,
          85,
          null,
          63,
          70,
          null,
          80,
          70,
          21,
          60,
          78,
          35,
          90,
          62,
          62,
          85,
          66,
          68,
          75
         ],
         "xaxis": "x",
         "yaxis": "y"
        }
       ],
       "layout": {
        "barmode": "relative",
        "legend": {
         "tracegroupgap": 0
        },
        "margin": {
         "t": 60
        },
        "template": {
         "data": {
          "bar": [
           {
            "error_x": {
             "color": "#2a3f5f"
            },
            "error_y": {
             "color": "#2a3f5f"
            },
            "marker": {
             "line": {
              "color": "#E5ECF6",
              "width": 0.5
             },
             "pattern": {
              "fillmode": "overlay",
              "size": 10,
              "solidity": 0.2
             }
            },
            "type": "bar"
           }
          ],
          "barpolar": [
           {
            "marker": {
             "line": {
              "color": "#E5ECF6",
              "width": 0.5
             },
             "pattern": {
              "fillmode": "overlay",
              "size": 10,
              "solidity": 0.2
             }
            },
            "type": "barpolar"
           }
          ],
          "carpet": [
           {
            "aaxis": {
             "endlinecolor": "#2a3f5f",
             "gridcolor": "white",
             "linecolor": "white",
             "minorgridcolor": "white",
             "startlinecolor": "#2a3f5f"
            },
            "baxis": {
             "endlinecolor": "#2a3f5f",
             "gridcolor": "white",
             "linecolor": "white",
             "minorgridcolor": "white",
             "startlinecolor": "#2a3f5f"
            },
            "type": "carpet"
           }
          ],
          "choropleth": [
           {
            "colorbar": {
             "outlinewidth": 0,
             "ticks": ""
            },
            "type": "choropleth"
           }
          ],
          "contour": [
           {
            "colorbar": {
             "outlinewidth": 0,
             "ticks": ""
            },
            "colorscale": [
             [
              0,
              "#0d0887"
             ],
             [
              0.1111111111111111,
              "#46039f"
             ],
             [
              0.2222222222222222,
              "#7201a8"
             ],
             [
              0.3333333333333333,
              "#9c179e"
             ],
             [
              0.4444444444444444,
              "#bd3786"
             ],
             [
              0.5555555555555556,
              "#d8576b"
             ],
             [
              0.6666666666666666,
              "#ed7953"
             ],
             [
              0.7777777777777778,
              "#fb9f3a"
             ],
             [
              0.8888888888888888,
              "#fdca26"
             ],
             [
              1,
              "#f0f921"
             ]
            ],
            "type": "contour"
           }
          ],
          "contourcarpet": [
           {
            "colorbar": {
             "outlinewidth": 0,
             "ticks": ""
            },
            "type": "contourcarpet"
           }
          ],
          "heatmap": [
           {
            "colorbar": {
             "outlinewidth": 0,
             "ticks": ""
            },
            "colorscale": [
             [
              0,
              "#0d0887"
             ],
             [
              0.1111111111111111,
              "#46039f"
             ],
             [
              0.2222222222222222,
              "#7201a8"
             ],
             [
              0.3333333333333333,
              "#9c179e"
             ],
             [
              0.4444444444444444,
              "#bd3786"
             ],
             [
              0.5555555555555556,
              "#d8576b"
             ],
             [
              0.6666666666666666,
              "#ed7953"
             ],
             [
              0.7777777777777778,
              "#fb9f3a"
             ],
             [
              0.8888888888888888,
              "#fdca26"
             ],
             [
              1,
              "#f0f921"
             ]
            ],
            "type": "heatmap"
           }
          ],
          "heatmapgl": [
           {
            "colorbar": {
             "outlinewidth": 0,
             "ticks": ""
            },
            "colorscale": [
             [
              0,
              "#0d0887"
             ],
             [
              0.1111111111111111,
              "#46039f"
             ],
             [
              0.2222222222222222,
              "#7201a8"
             ],
             [
              0.3333333333333333,
              "#9c179e"
             ],
             [
              0.4444444444444444,
              "#bd3786"
             ],
             [
              0.5555555555555556,
              "#d8576b"
             ],
             [
              0.6666666666666666,
              "#ed7953"
             ],
             [
              0.7777777777777778,
              "#fb9f3a"
             ],
             [
              0.8888888888888888,
              "#fdca26"
             ],
             [
              1,
              "#f0f921"
             ]
            ],
            "type": "heatmapgl"
           }
          ],
          "histogram": [
           {
            "marker": {
             "pattern": {
              "fillmode": "overlay",
              "size": 10,
              "solidity": 0.2
             }
            },
            "type": "histogram"
           }
          ],
          "histogram2d": [
           {
            "colorbar": {
             "outlinewidth": 0,
             "ticks": ""
            },
            "colorscale": [
             [
              0,
              "#0d0887"
             ],
             [
              0.1111111111111111,
              "#46039f"
             ],
             [
              0.2222222222222222,
              "#7201a8"
             ],
             [
              0.3333333333333333,
              "#9c179e"
             ],
             [
              0.4444444444444444,
              "#bd3786"
             ],
             [
              0.5555555555555556,
              "#d8576b"
             ],
             [
              0.6666666666666666,
              "#ed7953"
             ],
             [
              0.7777777777777778,
              "#fb9f3a"
             ],
             [
              0.8888888888888888,
              "#fdca26"
             ],
             [
              1,
              "#f0f921"
             ]
            ],
            "type": "histogram2d"
           }
          ],
          "histogram2dcontour": [
           {
            "colorbar": {
             "outlinewidth": 0,
             "ticks": ""
            },
            "colorscale": [
             [
              0,
              "#0d0887"
             ],
             [
              0.1111111111111111,
              "#46039f"
             ],
             [
              0.2222222222222222,
              "#7201a8"
             ],
             [
              0.3333333333333333,
              "#9c179e"
             ],
             [
              0.4444444444444444,
              "#bd3786"
             ],
             [
              0.5555555555555556,
              "#d8576b"
             ],
             [
              0.6666666666666666,
              "#ed7953"
             ],
             [
              0.7777777777777778,
              "#fb9f3a"
             ],
             [
              0.8888888888888888,
              "#fdca26"
             ],
             [
              1,
              "#f0f921"
             ]
            ],
            "type": "histogram2dcontour"
           }
          ],
          "mesh3d": [
           {
            "colorbar": {
             "outlinewidth": 0,
             "ticks": ""
            },
            "type": "mesh3d"
           }
          ],
          "parcoords": [
           {
            "line": {
             "colorbar": {
              "outlinewidth": 0,
              "ticks": ""
             }
            },
            "type": "parcoords"
           }
          ],
          "pie": [
           {
            "automargin": true,
            "type": "pie"
           }
          ],
          "scatter": [
           {
            "fillpattern": {
             "fillmode": "overlay",
             "size": 10,
             "solidity": 0.2
            },
            "type": "scatter"
           }
          ],
          "scatter3d": [
           {
            "line": {
             "colorbar": {
              "outlinewidth": 0,
              "ticks": ""
             }
            },
            "marker": {
             "colorbar": {
              "outlinewidth": 0,
              "ticks": ""
             }
            },
            "type": "scatter3d"
           }
          ],
          "scattercarpet": [
           {
            "marker": {
             "colorbar": {
              "outlinewidth": 0,
              "ticks": ""
             }
            },
            "type": "scattercarpet"
           }
          ],
          "scattergeo": [
           {
            "marker": {
             "colorbar": {
              "outlinewidth": 0,
              "ticks": ""
             }
            },
            "type": "scattergeo"
           }
          ],
          "scattergl": [
           {
            "marker": {
             "colorbar": {
              "outlinewidth": 0,
              "ticks": ""
             }
            },
            "type": "scattergl"
           }
          ],
          "scattermapbox": [
           {
            "marker": {
             "colorbar": {
              "outlinewidth": 0,
              "ticks": ""
             }
            },
            "type": "scattermapbox"
           }
          ],
          "scatterpolar": [
           {
            "marker": {
             "colorbar": {
              "outlinewidth": 0,
              "ticks": ""
             }
            },
            "type": "scatterpolar"
           }
          ],
          "scatterpolargl": [
           {
            "marker": {
             "colorbar": {
              "outlinewidth": 0,
              "ticks": ""
             }
            },
            "type": "scatterpolargl"
           }
          ],
          "scatterternary": [
           {
            "marker": {
             "colorbar": {
              "outlinewidth": 0,
              "ticks": ""
             }
            },
            "type": "scatterternary"
           }
          ],
          "surface": [
           {
            "colorbar": {
             "outlinewidth": 0,
             "ticks": ""
            },
            "colorscale": [
             [
              0,
              "#0d0887"
             ],
             [
              0.1111111111111111,
              "#46039f"
             ],
             [
              0.2222222222222222,
              "#7201a8"
             ],
             [
              0.3333333333333333,
              "#9c179e"
             ],
             [
              0.4444444444444444,
              "#bd3786"
             ],
             [
              0.5555555555555556,
              "#d8576b"
             ],
             [
              0.6666666666666666,
              "#ed7953"
             ],
             [
              0.7777777777777778,
              "#fb9f3a"
             ],
             [
              0.8888888888888888,
              "#fdca26"
             ],
             [
              1,
              "#f0f921"
             ]
            ],
            "type": "surface"
           }
          ],
          "table": [
           {
            "cells": {
             "fill": {
              "color": "#EBF0F8"
             },
             "line": {
              "color": "white"
             }
            },
            "header": {
             "fill": {
              "color": "#C8D4E3"
             },
             "line": {
              "color": "white"
             }
            },
            "type": "table"
           }
          ]
         },
         "layout": {
          "annotationdefaults": {
           "arrowcolor": "#2a3f5f",
           "arrowhead": 0,
           "arrowwidth": 1
          },
          "autotypenumbers": "strict",
          "coloraxis": {
           "colorbar": {
            "outlinewidth": 0,
            "ticks": ""
           }
          },
          "colorscale": {
           "diverging": [
            [
             0,
             "#8e0152"
            ],
            [
             0.1,
             "#c51b7d"
            ],
            [
             0.2,
             "#de77ae"
            ],
            [
             0.3,
             "#f1b6da"
            ],
            [
             0.4,
             "#fde0ef"
            ],
            [
             0.5,
             "#f7f7f7"
            ],
            [
             0.6,
             "#e6f5d0"
            ],
            [
             0.7,
             "#b8e186"
            ],
            [
             0.8,
             "#7fbc41"
            ],
            [
             0.9,
             "#4d9221"
            ],
            [
             1,
             "#276419"
            ]
           ],
           "sequential": [
            [
             0,
             "#0d0887"
            ],
            [
             0.1111111111111111,
             "#46039f"
            ],
            [
             0.2222222222222222,
             "#7201a8"
            ],
            [
             0.3333333333333333,
             "#9c179e"
            ],
            [
             0.4444444444444444,
             "#bd3786"
            ],
            [
             0.5555555555555556,
             "#d8576b"
            ],
            [
             0.6666666666666666,
             "#ed7953"
            ],
            [
             0.7777777777777778,
             "#fb9f3a"
            ],
            [
             0.8888888888888888,
             "#fdca26"
            ],
            [
             1,
             "#f0f921"
            ]
           ],
           "sequentialminus": [
            [
             0,
             "#0d0887"
            ],
            [
             0.1111111111111111,
             "#46039f"
            ],
            [
             0.2222222222222222,
             "#7201a8"
            ],
            [
             0.3333333333333333,
             "#9c179e"
            ],
            [
             0.4444444444444444,
             "#bd3786"
            ],
            [
             0.5555555555555556,
             "#d8576b"
            ],
            [
             0.6666666666666666,
             "#ed7953"
            ],
            [
             0.7777777777777778,
             "#fb9f3a"
            ],
            [
             0.8888888888888888,
             "#fdca26"
            ],
            [
             1,
             "#f0f921"
            ]
           ]
          },
          "colorway": [
           "#636efa",
           "#EF553B",
           "#00cc96",
           "#ab63fa",
           "#FFA15A",
           "#19d3f3",
           "#FF6692",
           "#B6E880",
           "#FF97FF",
           "#FECB52"
          ],
          "font": {
           "color": "#2a3f5f"
          },
          "geo": {
           "bgcolor": "white",
           "lakecolor": "white",
           "landcolor": "#E5ECF6",
           "showlakes": true,
           "showland": true,
           "subunitcolor": "white"
          },
          "hoverlabel": {
           "align": "left"
          },
          "hovermode": "closest",
          "mapbox": {
           "style": "light"
          },
          "paper_bgcolor": "white",
          "plot_bgcolor": "#E5ECF6",
          "polar": {
           "angularaxis": {
            "gridcolor": "white",
            "linecolor": "white",
            "ticks": ""
           },
           "bgcolor": "#E5ECF6",
           "radialaxis": {
            "gridcolor": "white",
            "linecolor": "white",
            "ticks": ""
           }
          },
          "scene": {
           "xaxis": {
            "backgroundcolor": "#E5ECF6",
            "gridcolor": "white",
            "gridwidth": 2,
            "linecolor": "white",
            "showbackground": true,
            "ticks": "",
            "zerolinecolor": "white"
           },
           "yaxis": {
            "backgroundcolor": "#E5ECF6",
            "gridcolor": "white",
            "gridwidth": 2,
            "linecolor": "white",
            "showbackground": true,
            "ticks": "",
            "zerolinecolor": "white"
           },
           "zaxis": {
            "backgroundcolor": "#E5ECF6",
            "gridcolor": "white",
            "gridwidth": 2,
            "linecolor": "white",
            "showbackground": true,
            "ticks": "",
            "zerolinecolor": "white"
           }
          },
          "shapedefaults": {
           "line": {
            "color": "#2a3f5f"
           }
          },
          "ternary": {
           "aaxis": {
            "gridcolor": "white",
            "linecolor": "white",
            "ticks": ""
           },
           "baxis": {
            "gridcolor": "white",
            "linecolor": "white",
            "ticks": ""
           },
           "bgcolor": "#E5ECF6",
           "caxis": {
            "gridcolor": "white",
            "linecolor": "white",
            "ticks": ""
           }
          },
          "title": {
           "x": 0.05
          },
          "xaxis": {
           "automargin": true,
           "gridcolor": "white",
           "linecolor": "white",
           "ticks": "",
           "title": {
            "standoff": 15
           },
           "zerolinecolor": "white",
           "zerolinewidth": 2
          },
          "yaxis": {
           "automargin": true,
           "gridcolor": "white",
           "linecolor": "white",
           "ticks": "",
           "title": {
            "standoff": 15
           },
           "zerolinecolor": "white",
           "zerolinewidth": 2
          }
         }
        },
        "xaxis": {
         "anchor": "y",
         "domain": [
          0,
          1
         ],
         "title": {
          "text": "LotFrontage"
         }
        },
        "yaxis": {
         "anchor": "x",
         "domain": [
          0,
          1
         ],
         "title": {
          "text": "count"
         }
        }
       }
      },
      "text/html": [
       "<div>                            <div id=\"c0f1fc3a-22d9-4479-849a-0db67735f2dd\" class=\"plotly-graph-div\" style=\"height:525px; width:100%;\"></div>            <script type=\"text/javascript\">                require([\"plotly\"], function(Plotly) {                    window.PLOTLYENV=window.PLOTLYENV || {};                                    if (document.getElementById(\"c0f1fc3a-22d9-4479-849a-0db67735f2dd\")) {                    Plotly.newPlot(                        \"c0f1fc3a-22d9-4479-849a-0db67735f2dd\",                        [{\"alignmentgroup\":\"True\",\"bingroup\":\"x\",\"hovertemplate\":\"LotFrontage=%{x}<br>count=%{y}<extra></extra>\",\"legendgroup\":\"\",\"marker\":{\"color\":\"#636efa\",\"pattern\":{\"shape\":\"\"}},\"name\":\"\",\"offsetgroup\":\"\",\"orientation\":\"v\",\"showlegend\":false,\"x\":[65.0,80.0,68.0,60.0,84.0,85.0,75.0,null,51.0,50.0,70.0,85.0,null,91.0,null,51.0,null,72.0,66.0,70.0,101.0,57.0,75.0,44.0,null,110.0,60.0,98.0,47.0,60.0,50.0,null,85.0,70.0,60.0,108.0,112.0,74.0,68.0,65.0,84.0,115.0,null,null,70.0,61.0,48.0,84.0,33.0,66.0,null,52.0,110.0,68.0,60.0,100.0,24.0,89.0,66.0,60.0,63.0,60.0,44.0,50.0,null,76.0,null,72.0,47.0,81.0,95.0,69.0,74.0,85.0,60.0,21.0,null,50.0,72.0,60.0,100.0,32.0,78.0,80.0,null,121.0,122.0,40.0,105.0,60.0,60.0,85.0,80.0,60.0,69.0,null,78.0,73.0,85.0,77.0,null,77.0,64.0,94.0,null,75.0,60.0,50.0,85.0,105.0,75.0,null,77.0,null,61.0,34.0,null,74.0,90.0,65.0,null,50.0,75.0,55.0,48.0,60.0,null,55.0,69.0,69.0,88.0,null,75.0,null,78.0,80.0,null,82.0,73.0,65.0,70.0,78.0,71.0,78.0,70.0,24.0,51.0,null,63.0,null,120.0,107.0,null,null,84.0,60.0,60.0,92.0,100.0,134.0,null,110.0,95.0,55.0,40.0,62.0,null,86.0,62.0,null,null,141.0,44.0,80.0,47.0,84.0,97.0,null,63.0,60.0,null,54.0,60.0,63.0,92.0,90.0,null,60.0,64.0,41.0,70.0,null,68.0,24.0,60.0,24.0,79.0,174.0,92.0,76.0,80.0,75.0,50.0,null,50.0,99.0,40.0,null,null,75.0,67.0,83.0,72.0,43.0,null,72.0,65.0,57.0,null,43.0,73.0,null,85.0,70.0,103.0,21.0,82.0,21.0,70.0,43.0,73.0,174.0,21.0,75.0,null,21.0,65.0,null,93.0,52.0,75.0,40.0,63.0,75.0,null,80.0,69.0,75.0,72.0,null,55.0,44.0,65.0,85.0,70.0,66.0,64.0,68.0,80.0,70.0,120.0,69.0,88.0,50.0,30.0,78.0,70.0,60.0,71.0,null,84.0,73.0,92.0,80.0,76.0,55.0,129.0,140.0,107.0,83.0,82.0,60.0,34.0,74.0,50.0,35.0,77.0,null,null,60.0,120.0,55.0,60.0,null,80.0,37.0,75.0,66.0,90.0,80.0,90.0,66.0,118.0,70.0,87.0,80.0,116.0,null,null,90.0,null,50.0,65.0,150.0,60.0,71.0,94.0,75.0,90.0,null,111.0,99.0,86.0,49.0,96.0,50.0,32.0,80.0,null,60.0,null,70.0,85.0,59.0,59.0,null,86.0,70.0,91.0,66.0,85.0,60.0,null,63.0,36.0,65.0,null,null,36.0,56.0,68.0,null,60.0,60.0,60.0,105.0,null,44.0,92.0,78.0,null,null,64.0,21.0,null,59.0,null,101.0,78.0,null,null,80.0,50.0,79.0,65.0,null,57.0,102.0,88.0,60.0,50.0,60.0,79.0,60.0,null,43.0,58.0,72.0,93.0,96.0,50.0,71.0,null,null,60.0,68.0,60.0,69.0,60.0,65.0,38.0,65.0,60.0,93.0,null,null,51.0,63.0,109.0,85.0,68.0,100.0,null,56.0,59.0,73.0,74.0,86.0,60.0,65.0,78.0,null,100.0,80.0,72.0,60.0,null,77.0,64.0,130.0,21.0,60.0,24.0,100.0,21.0,43.0,40.0,50.0,40.0,67.0,105.0,92.0,52.0,53.0,70.0,73.0,137.0,null,50.0,50.0,70.0,62.0,null,75.0,63.0,80.0,34.0,null,null,null,75.0,60.0,60.0,74.0,60.0,null,85.0,79.0,98.0,76.0,null,92.0,35.0,110.0,41.0,80.0,75.0,105.0,79.0,50.0,98.0,72.0,50.0,32.0,null,80.0,79.0,70.0,60.0,21.0,null,79.0,105.0,70.0,50.0,60.0,null,60.0,65.0,70.0,21.0,75.0,70.0,100.0,24.0,60.0,80.0,75.0,60.0,80.0,75.0,40.0,70.0,71.0,55.0,94.0,null,79.0,null,53.0,60.0,90.0,50.0,130.0,95.0,62.0,70.0,67.0,58.0,null,85.0,60.0,60.0,50.0,74.0,70.0,57.0,null,null,null,85.0,null,78.0,34.0,58.0,null,70.0,54.0,49.0,75.0,53.0,50.0,87.0,67.0,85.0,58.0,69.0,60.0,57.0,null,null,77.0,63.0,66.0,null,66.0,77.0,70.0,79.0,null,74.0,60.0,83.0,76.0,70.0,80.0,52.0,96.0,34.0,81.0,null,98.0,81.0,75.0,51.0,88.0,55.0,74.0,65.0,50.0,64.0,97.0,60.0,null,88.0,69.0,60.0,53.0,80.0,24.0,74.0,50.0,80.0,30.0,88.0,85.0,82.0,78.0,78.0,61.0,null,null,null,70.0,21.0,80.0,null,59.0,90.0,85.0,45.0,90.0,71.0,null,80.0,87.0,null,80.0,70.0,82.0,50.0,34.0,85.0,80.0,64.0,60.0,51.0,50.0,67.0,53.0,62.0,null,75.0,80.0,85.0,null,60.0,85.0,70.0,21.0,65.0,60.0,70.0,60.0,91.0,21.0,72.0,60.0,78.0,75.0,null,52.0,120.0,90.0,49.0,106.0,null,65.0,null,80.0,64.0,54.0,null,110.0,80.0,24.0,60.0,52.0,80.0,null,50.0,55.0,null,90.0,58.0,null,84.0,null,60.0,61.0,null,104.0,42.0,60.0,51.0,54.0,50.0,57.0,65.0,59.0,85.0,80.0,82.0,76.0,70.0,70.0,null,48.0,65.0,null,56.0,66.0,40.0,60.0,null,78.0,60.0,80.0,96.0,69.0,null,null,70.0,60.0,86.0,60.0,null,64.0,85.0,52.0,39.0,73.0,75.0,80.0,null,60.0,60.0,72.0,60.0,65.0,60.0,65.0,65.0,70.0,41.0,null,null,65.0,59.0,50.0,55.0,null,79.0,80.0,61.0,34.0,68.0,null,24.0,65.0,70.0,60.0,72.0,82.0,30.0,75.0,80.0,75.0,70.0,47.0,null,67.0,94.0,70.0,110.0,32.0,86.0,100.0,60.0,78.0,63.0,65.0,67.0,null,35.0,null,60.0,76.0,50.0,null,43.0,null,92.0,76.0,null,70.0,71.0,57.0,104.0,60.0,79.0,40.0,63.0,107.0,75.0,91.0,75.0,144.0,85.0,90.0,78.0,null,66.0,75.0,45.0,48.0,null,null,80.0,44.0,72.0,60.0,null,60.0,81.0,114.0,50.0,65.0,null,24.0,80.0,30.0,44.0,100.0,75.0,60.0,90.0,21.0,75.0,70.0,null,60.0,82.0,80.0,100.0,null,75.0,36.0,75.0,80.0,36.0,null,53.0,null,102.0,null,null,65.0,80.0,null,55.0,75.0,81.0,70.0,72.0,null,67.0,85.0,null,80.0,60.0,70.0,74.0,60.0,52.0,75.0,94.0,74.0,88.0,null,60.0,44.0,null,60.0,65.0,50.0,70.0,59.0,95.0,128.0,60.0,70.0,70.0,null,64.0,71.0,50.0,64.0,100.0,65.0,null,64.0,63.0,50.0,null,80.0,116.0,86.0,null,149.0,80.0,null,51.0,82.0,30.0,21.0,50.0,null,103.0,87.0,70.0,67.0,65.0,50.0,79.0,null,93.0,null,null,null,73.0,70.0,84.0,63.0,313.0,52.0,67.0,75.0,73.0,null,55.0,null,42.0,100.0,null,98.0,70.0,85.0,65.0,78.0,60.0,60.0,60.0,null,35.0,82.0,24.0,70.0,65.0,24.0,50.0,null,24.0,122.0,80.0,65.0,130.0,null,50.0,75.0,60.0,36.0,55.0,95.0,60.0,null,51.0,35.0,68.0,80.0,null,98.0,43.0,null,75.0,68.0,59.0,83.0,null,65.0,82.0,121.0,80.0,68.0,96.0,51.0,null,null,60.0,64.0,74.0,60.0,75.0,null,43.0,65.0,null,21.0,43.0,60.0,115.0,75.0,55.0,60.0,60.0,70.0,73.0,null,null,43.0,60.0,64.0,52.0,43.0,null,70.0,73.0,71.0,79.0,21.0,null,102.0,null,null,50.0,null,89.0,null,21.0,21.0,88.0,null,34.0,86.0,80.0,null,85.0,57.0,100.0,60.0,73.0,103.0,100.0,68.0,90.0,104.0,43.0,null,96.0,null,41.0,120.0,85.0,50.0,null,80.0,59.0,80.0,42.0,60.0,72.0,78.0,50.0,75.0,74.0,75.0,60.0,null,37.0,65.0,80.0,75.0,70.0,80.0,null,73.0,null,85.0,24.0,37.0,60.0,24.0,60.0,71.0,74.0,78.0,60.0,null,50.0,82.0,60.0,61.0,70.0,79.0,24.0,98.0,114.0,168.0,null,107.0,null,80.0,73.0,66.0,90.0,93.0,null,57.0,85.0,70.0,59.0,84.0,null,50.0,null,60.0,53.0,182.0,59.0,60.0,65.0,63.0,90.0,80.0,57.0,60.0,80.0,54.0,null,98.0,60.0,null,77.0,null,60.0,52.0,null,75.0,null,50.0,57.0,134.0,90.0,null,null,90.0,85.0,34.0,92.0,76.0,24.0,null,109.0,60.0,null,79.0,64.0,58.0,120.0,118.0,76.0,76.0,35.0,138.0,80.0,85.0,37.0,null,54.0,77.0,null,64.0,160.0,60.0,50.0,60.0,107.0,89.0,68.0,60.0,null,24.0,60.0,null,80.0,51.0,58.0,65.0,70.0,75.0,71.0,80.0,50.0,75.0,78.0,90.0,null,70.0,70.0,85.0,70.0,152.0,50.0,null,69.0,99.0,68.0,72.0,52.0,21.0,66.0,55.0,78.0,89.0,60.0,65.0,86.0,72.0,65.0,70.0,null,70.0,70.0,null,55.0,96.0,36.0,41.0,63.0,64.0,65.0,83.0,85.0,107.0,null,78.0,65.0,null,60.0,60.0,93.0,null,62.0,null,60.0,52.0,91.0,56.0,59.0,65.0,null,80.0,null,60.0,34.0,35.0,60.0,89.0,null,78.0,null,null,null,124.0,53.0,95.0,null,null,75.0,60.0,67.0,50.0,61.0,94.0,50.0,50.0,null,null,40.0,86.0,null,21.0,60.0,78.0,60.0,70.0,80.0,35.0,313.0,75.0,null,null,92.0,73.0,32.0,108.0,48.0,60.0,100.0,null,100.0,68.0,null,108.0,60.0,85.0,61.0,47.0,null,75.0,70.0,null,107.0,50.0,75.0,40.0,70.0,60.0,60.0,63.0,85.0,55.0,67.0,60.0,24.0,80.0,87.0,153.0,95.0,120.0,70.0,66.0,null,57.0,85.0,50.0,null,93.0,null,50.0,91.0,70.0,50.0,56.0,null,102.0,null,null,null,129.0,51.0,124.0,null,73.0,30.0,null,68.0,41.0,null,48.0,90.0,80.0,75.0,null,85.0,89.0,52.0,60.0,21.0,73.0,45.0,null,60.0,null,60.0,40.0,80.0,60.0,42.0,60.0,70.0,65.0,68.0,60.0,53.0,88.0,null,51.0,60.0,51.0,50.0,62.0,64.0,49.0,60.0,44.0,70.0,null,60.0,46.0,79.0,80.0,60.0,88.0,64.0,51.0,60.0,null,71.0,null,90.0,53.0,37.0,null,null,80.0,81.0,60.0,60.0,null,60.0,null,60.0,93.0,80.0,80.0,60.0,96.0,90.0,80.0,79.0,null,85.0,null,63.0,70.0,null,80.0,70.0,21.0,60.0,78.0,35.0,90.0,62.0,62.0,85.0,66.0,68.0,75.0],\"xaxis\":\"x\",\"yaxis\":\"y\",\"type\":\"histogram\"}],                        {\"template\":{\"data\":{\"histogram2dcontour\":[{\"type\":\"histogram2dcontour\",\"colorbar\":{\"outlinewidth\":0,\"ticks\":\"\"},\"colorscale\":[[0.0,\"#0d0887\"],[0.1111111111111111,\"#46039f\"],[0.2222222222222222,\"#7201a8\"],[0.3333333333333333,\"#9c179e\"],[0.4444444444444444,\"#bd3786\"],[0.5555555555555556,\"#d8576b\"],[0.6666666666666666,\"#ed7953\"],[0.7777777777777778,\"#fb9f3a\"],[0.8888888888888888,\"#fdca26\"],[1.0,\"#f0f921\"]]}],\"choropleth\":[{\"type\":\"choropleth\",\"colorbar\":{\"outlinewidth\":0,\"ticks\":\"\"}}],\"histogram2d\":[{\"type\":\"histogram2d\",\"colorbar\":{\"outlinewidth\":0,\"ticks\":\"\"},\"colorscale\":[[0.0,\"#0d0887\"],[0.1111111111111111,\"#46039f\"],[0.2222222222222222,\"#7201a8\"],[0.3333333333333333,\"#9c179e\"],[0.4444444444444444,\"#bd3786\"],[0.5555555555555556,\"#d8576b\"],[0.6666666666666666,\"#ed7953\"],[0.7777777777777778,\"#fb9f3a\"],[0.8888888888888888,\"#fdca26\"],[1.0,\"#f0f921\"]]}],\"heatmap\":[{\"type\":\"heatmap\",\"colorbar\":{\"outlinewidth\":0,\"ticks\":\"\"},\"colorscale\":[[0.0,\"#0d0887\"],[0.1111111111111111,\"#46039f\"],[0.2222222222222222,\"#7201a8\"],[0.3333333333333333,\"#9c179e\"],[0.4444444444444444,\"#bd3786\"],[0.5555555555555556,\"#d8576b\"],[0.6666666666666666,\"#ed7953\"],[0.7777777777777778,\"#fb9f3a\"],[0.8888888888888888,\"#fdca26\"],[1.0,\"#f0f921\"]]}],\"heatmapgl\":[{\"type\":\"heatmapgl\",\"colorbar\":{\"outlinewidth\":0,\"ticks\":\"\"},\"colorscale\":[[0.0,\"#0d0887\"],[0.1111111111111111,\"#46039f\"],[0.2222222222222222,\"#7201a8\"],[0.3333333333333333,\"#9c179e\"],[0.4444444444444444,\"#bd3786\"],[0.5555555555555556,\"#d8576b\"],[0.6666666666666666,\"#ed7953\"],[0.7777777777777778,\"#fb9f3a\"],[0.8888888888888888,\"#fdca26\"],[1.0,\"#f0f921\"]]}],\"contourcarpet\":[{\"type\":\"contourcarpet\",\"colorbar\":{\"outlinewidth\":0,\"ticks\":\"\"}}],\"contour\":[{\"type\":\"contour\",\"colorbar\":{\"outlinewidth\":0,\"ticks\":\"\"},\"colorscale\":[[0.0,\"#0d0887\"],[0.1111111111111111,\"#46039f\"],[0.2222222222222222,\"#7201a8\"],[0.3333333333333333,\"#9c179e\"],[0.4444444444444444,\"#bd3786\"],[0.5555555555555556,\"#d8576b\"],[0.6666666666666666,\"#ed7953\"],[0.7777777777777778,\"#fb9f3a\"],[0.8888888888888888,\"#fdca26\"],[1.0,\"#f0f921\"]]}],\"surface\":[{\"type\":\"surface\",\"colorbar\":{\"outlinewidth\":0,\"ticks\":\"\"},\"colorscale\":[[0.0,\"#0d0887\"],[0.1111111111111111,\"#46039f\"],[0.2222222222222222,\"#7201a8\"],[0.3333333333333333,\"#9c179e\"],[0.4444444444444444,\"#bd3786\"],[0.5555555555555556,\"#d8576b\"],[0.6666666666666666,\"#ed7953\"],[0.7777777777777778,\"#fb9f3a\"],[0.8888888888888888,\"#fdca26\"],[1.0,\"#f0f921\"]]}],\"mesh3d\":[{\"type\":\"mesh3d\",\"colorbar\":{\"outlinewidth\":0,\"ticks\":\"\"}}],\"scatter\":[{\"fillpattern\":{\"fillmode\":\"overlay\",\"size\":10,\"solidity\":0.2},\"type\":\"scatter\"}],\"parcoords\":[{\"type\":\"parcoords\",\"line\":{\"colorbar\":{\"outlinewidth\":0,\"ticks\":\"\"}}}],\"scatterpolargl\":[{\"type\":\"scatterpolargl\",\"marker\":{\"colorbar\":{\"outlinewidth\":0,\"ticks\":\"\"}}}],\"bar\":[{\"error_x\":{\"color\":\"#2a3f5f\"},\"error_y\":{\"color\":\"#2a3f5f\"},\"marker\":{\"line\":{\"color\":\"#E5ECF6\",\"width\":0.5},\"pattern\":{\"fillmode\":\"overlay\",\"size\":10,\"solidity\":0.2}},\"type\":\"bar\"}],\"scattergeo\":[{\"type\":\"scattergeo\",\"marker\":{\"colorbar\":{\"outlinewidth\":0,\"ticks\":\"\"}}}],\"scatterpolar\":[{\"type\":\"scatterpolar\",\"marker\":{\"colorbar\":{\"outlinewidth\":0,\"ticks\":\"\"}}}],\"histogram\":[{\"marker\":{\"pattern\":{\"fillmode\":\"overlay\",\"size\":10,\"solidity\":0.2}},\"type\":\"histogram\"}],\"scattergl\":[{\"type\":\"scattergl\",\"marker\":{\"colorbar\":{\"outlinewidth\":0,\"ticks\":\"\"}}}],\"scatter3d\":[{\"type\":\"scatter3d\",\"line\":{\"colorbar\":{\"outlinewidth\":0,\"ticks\":\"\"}},\"marker\":{\"colorbar\":{\"outlinewidth\":0,\"ticks\":\"\"}}}],\"scattermapbox\":[{\"type\":\"scattermapbox\",\"marker\":{\"colorbar\":{\"outlinewidth\":0,\"ticks\":\"\"}}}],\"scatterternary\":[{\"type\":\"scatterternary\",\"marker\":{\"colorbar\":{\"outlinewidth\":0,\"ticks\":\"\"}}}],\"scattercarpet\":[{\"type\":\"scattercarpet\",\"marker\":{\"colorbar\":{\"outlinewidth\":0,\"ticks\":\"\"}}}],\"carpet\":[{\"aaxis\":{\"endlinecolor\":\"#2a3f5f\",\"gridcolor\":\"white\",\"linecolor\":\"white\",\"minorgridcolor\":\"white\",\"startlinecolor\":\"#2a3f5f\"},\"baxis\":{\"endlinecolor\":\"#2a3f5f\",\"gridcolor\":\"white\",\"linecolor\":\"white\",\"minorgridcolor\":\"white\",\"startlinecolor\":\"#2a3f5f\"},\"type\":\"carpet\"}],\"table\":[{\"cells\":{\"fill\":{\"color\":\"#EBF0F8\"},\"line\":{\"color\":\"white\"}},\"header\":{\"fill\":{\"color\":\"#C8D4E3\"},\"line\":{\"color\":\"white\"}},\"type\":\"table\"}],\"barpolar\":[{\"marker\":{\"line\":{\"color\":\"#E5ECF6\",\"width\":0.5},\"pattern\":{\"fillmode\":\"overlay\",\"size\":10,\"solidity\":0.2}},\"type\":\"barpolar\"}],\"pie\":[{\"automargin\":true,\"type\":\"pie\"}]},\"layout\":{\"autotypenumbers\":\"strict\",\"colorway\":[\"#636efa\",\"#EF553B\",\"#00cc96\",\"#ab63fa\",\"#FFA15A\",\"#19d3f3\",\"#FF6692\",\"#B6E880\",\"#FF97FF\",\"#FECB52\"],\"font\":{\"color\":\"#2a3f5f\"},\"hovermode\":\"closest\",\"hoverlabel\":{\"align\":\"left\"},\"paper_bgcolor\":\"white\",\"plot_bgcolor\":\"#E5ECF6\",\"polar\":{\"bgcolor\":\"#E5ECF6\",\"angularaxis\":{\"gridcolor\":\"white\",\"linecolor\":\"white\",\"ticks\":\"\"},\"radialaxis\":{\"gridcolor\":\"white\",\"linecolor\":\"white\",\"ticks\":\"\"}},\"ternary\":{\"bgcolor\":\"#E5ECF6\",\"aaxis\":{\"gridcolor\":\"white\",\"linecolor\":\"white\",\"ticks\":\"\"},\"baxis\":{\"gridcolor\":\"white\",\"linecolor\":\"white\",\"ticks\":\"\"},\"caxis\":{\"gridcolor\":\"white\",\"linecolor\":\"white\",\"ticks\":\"\"}},\"coloraxis\":{\"colorbar\":{\"outlinewidth\":0,\"ticks\":\"\"}},\"colorscale\":{\"sequential\":[[0.0,\"#0d0887\"],[0.1111111111111111,\"#46039f\"],[0.2222222222222222,\"#7201a8\"],[0.3333333333333333,\"#9c179e\"],[0.4444444444444444,\"#bd3786\"],[0.5555555555555556,\"#d8576b\"],[0.6666666666666666,\"#ed7953\"],[0.7777777777777778,\"#fb9f3a\"],[0.8888888888888888,\"#fdca26\"],[1.0,\"#f0f921\"]],\"sequentialminus\":[[0.0,\"#0d0887\"],[0.1111111111111111,\"#46039f\"],[0.2222222222222222,\"#7201a8\"],[0.3333333333333333,\"#9c179e\"],[0.4444444444444444,\"#bd3786\"],[0.5555555555555556,\"#d8576b\"],[0.6666666666666666,\"#ed7953\"],[0.7777777777777778,\"#fb9f3a\"],[0.8888888888888888,\"#fdca26\"],[1.0,\"#f0f921\"]],\"diverging\":[[0,\"#8e0152\"],[0.1,\"#c51b7d\"],[0.2,\"#de77ae\"],[0.3,\"#f1b6da\"],[0.4,\"#fde0ef\"],[0.5,\"#f7f7f7\"],[0.6,\"#e6f5d0\"],[0.7,\"#b8e186\"],[0.8,\"#7fbc41\"],[0.9,\"#4d9221\"],[1,\"#276419\"]]},\"xaxis\":{\"gridcolor\":\"white\",\"linecolor\":\"white\",\"ticks\":\"\",\"title\":{\"standoff\":15},\"zerolinecolor\":\"white\",\"automargin\":true,\"zerolinewidth\":2},\"yaxis\":{\"gridcolor\":\"white\",\"linecolor\":\"white\",\"ticks\":\"\",\"title\":{\"standoff\":15},\"zerolinecolor\":\"white\",\"automargin\":true,\"zerolinewidth\":2},\"scene\":{\"xaxis\":{\"backgroundcolor\":\"#E5ECF6\",\"gridcolor\":\"white\",\"linecolor\":\"white\",\"showbackground\":true,\"ticks\":\"\",\"zerolinecolor\":\"white\",\"gridwidth\":2},\"yaxis\":{\"backgroundcolor\":\"#E5ECF6\",\"gridcolor\":\"white\",\"linecolor\":\"white\",\"showbackground\":true,\"ticks\":\"\",\"zerolinecolor\":\"white\",\"gridwidth\":2},\"zaxis\":{\"backgroundcolor\":\"#E5ECF6\",\"gridcolor\":\"white\",\"linecolor\":\"white\",\"showbackground\":true,\"ticks\":\"\",\"zerolinecolor\":\"white\",\"gridwidth\":2}},\"shapedefaults\":{\"line\":{\"color\":\"#2a3f5f\"}},\"annotationdefaults\":{\"arrowcolor\":\"#2a3f5f\",\"arrowhead\":0,\"arrowwidth\":1},\"geo\":{\"bgcolor\":\"white\",\"landcolor\":\"#E5ECF6\",\"subunitcolor\":\"white\",\"showland\":true,\"showlakes\":true,\"lakecolor\":\"white\"},\"title\":{\"x\":0.05},\"mapbox\":{\"style\":\"light\"}}},\"xaxis\":{\"anchor\":\"y\",\"domain\":[0.0,1.0],\"title\":{\"text\":\"LotFrontage\"}},\"yaxis\":{\"anchor\":\"x\",\"domain\":[0.0,1.0],\"title\":{\"text\":\"count\"}},\"legend\":{\"tracegroupgap\":0},\"margin\":{\"t\":60},\"barmode\":\"relative\"},                        {\"responsive\": true}                    ).then(function(){\n",
       "                            \n",
       "var gd = document.getElementById('c0f1fc3a-22d9-4479-849a-0db67735f2dd');\n",
       "var x = new MutationObserver(function (mutations, observer) {{\n",
       "        var display = window.getComputedStyle(gd).display;\n",
       "        if (!display || display === 'none') {{\n",
       "            console.log([gd, 'removed!']);\n",
       "            Plotly.purge(gd);\n",
       "            observer.disconnect();\n",
       "        }}\n",
       "}});\n",
       "\n",
       "// Listen for the removal of the full notebook cells\n",
       "var notebookContainer = gd.closest('#notebook-container');\n",
       "if (notebookContainer) {{\n",
       "    x.observe(notebookContainer, {childList: true});\n",
       "}}\n",
       "\n",
       "// Listen for the clearing of the current output cell\n",
       "var outputEl = gd.closest('.output');\n",
       "if (outputEl) {{\n",
       "    x.observe(outputEl, {childList: true});\n",
       "}}\n",
       "\n",
       "                        })                };                });            </script>        </div>"
      ]
     },
     "metadata": {},
     "output_type": "display_data"
    },
    {
     "data": {
      "application/vnd.plotly.v1+json": {
       "config": {
        "plotlyServerURL": "https://plot.ly"
       },
       "data": [
        {
         "alignmentgroup": "True",
         "bingroup": "x",
         "hovertemplate": "MasVnrArea=%{x}<br>count=%{y}<extra></extra>",
         "legendgroup": "",
         "marker": {
          "color": "#636efa",
          "pattern": {
           "shape": ""
          }
         },
         "name": "",
         "offsetgroup": "",
         "orientation": "v",
         "showlegend": false,
         "type": "histogram",
         "x": [
          196,
          0,
          162,
          0,
          350,
          0,
          186,
          240,
          0,
          0,
          0,
          286,
          0,
          306,
          212,
          0,
          180,
          0,
          0,
          0,
          380,
          0,
          281,
          0,
          0,
          640,
          0,
          200,
          0,
          0,
          0,
          0,
          0,
          0,
          246,
          132,
          0,
          650,
          0,
          0,
          101,
          0,
          0,
          0,
          0,
          412,
          0,
          0,
          0,
          0,
          0,
          0,
          0,
          0,
          0,
          272,
          456,
          0,
          1031,
          0,
          0,
          0,
          178,
          0,
          573,
          344,
          287,
          167,
          0,
          0,
          1115,
          0,
          40,
          104,
          0,
          0,
          0,
          0,
          0,
          0,
          576,
          443,
          468,
          66,
          22,
          284,
          0,
          76,
          0,
          0,
          0,
          203,
          0,
          0,
          0,
          68,
          183,
          48,
          0,
          0,
          28,
          336,
          0,
          0,
          600,
          768,
          0,
          0,
          0,
          480,
          0,
          0,
          220,
          184,
          0,
          1129,
          116,
          0,
          0,
          0,
          0,
          0,
          135,
          0,
          0,
          0,
          0,
          0,
          266,
          85,
          309,
          40,
          0,
          136,
          0,
          288,
          196,
          70,
          320,
          0,
          0,
          0,
          0,
          183,
          336,
          50,
          0,
          180,
          120,
          0,
          0,
          436,
          252,
          0,
          0,
          0,
          0,
          84,
          0,
          456,
          0,
          664,
          226,
          0,
          0,
          0,
          0,
          300,
          0,
          653,
          0,
          112,
          0,
          491,
          132,
          0,
          268,
          0,
          748,
          0,
          456,
          0,
          98,
          0,
          0,
          0,
          0,
          0,
          275,
          0,
          0,
          138,
          0,
          50,
          0,
          0,
          205,
          0,
          0,
          262,
          0,
          0,
          0,
          205,
          0,
          0,
          0,
          0,
          128,
          260,
          0,
          0,
          0,
          0,
          153,
          64,
          266,
          0,
          312,
          16,
          0,
          0,
          0,
          0,
          922,
          142,
          290,
          127,
          0,
          16,
          220,
          506,
          297,
          0,
          null,
          604,
          98,
          0,
          254,
          0,
          36,
          0,
          0,
          0,
          0,
          102,
          0,
          0,
          101,
          472,
          0,
          481,
          0,
          108,
          0,
          302,
          0,
          180,
          172,
          0,
          399,
          270,
          46,
          0,
          0,
          210,
          0,
          0,
          0,
          174,
          0,
          0,
          348,
          183,
          0,
          0,
          0,
          0,
          315,
          299,
          340,
          68,
          166,
          72,
          0,
          0,
          0,
          0,
          31,
          0,
          0,
          0,
          0,
          34,
          238,
          0,
          0,
          1600,
          365,
          0,
          56,
          0,
          150,
          0,
          0,
          246,
          246,
          0,
          0,
          0,
          112,
          0,
          0,
          0,
          0,
          0,
          278,
          0,
          256,
          225,
          370,
          388,
          172,
          0,
          300,
          0,
          0,
          175,
          0,
          0,
          84,
          0,
          296,
          146,
          0,
          0,
          200,
          113,
          0,
          176,
          0,
          0,
          340,
          616,
          0,
          0,
          0,
          30,
          106,
          870,
          362,
          0,
          0,
          0,
          0,
          0,
          106,
          0,
          120,
          530,
          0,
          0,
          500,
          510,
          120,
          0,
          247,
          305,
          200,
          0,
          0,
          0,
          0,
          0,
          0,
          0,
          0,
          0,
          350,
          16,
          0,
          0,
          0,
          0,
          0,
          16,
          0,
          255,
          125,
          272,
          0,
          0,
          0,
          0,
          0,
          0,
          0,
          288,
          0,
          100,
          0,
          0,
          0,
          650,
          0,
          0,
          0,
          0,
          350,
          100,
          0,
          0,
          432,
          0,
          0,
          0,
          203,
          0,
          0,
          0,
          200,
          126,
          0,
          473,
          74,
          0,
          145,
          0,
          108,
          0,
          232,
          0,
          376,
          0,
          0,
          0,
          0,
          0,
          0,
          0,
          200,
          270,
          0,
          72,
          0,
          0,
          0,
          0,
          0,
          0,
          0,
          0,
          42,
          0,
          0,
          320,
          0,
          0,
          0,
          161,
          110,
          0,
          0,
          0,
          136,
          18,
          0,
          224,
          248,
          120,
          0,
          0,
          80,
          304,
          0,
          0,
          215,
          772,
          336,
          435,
          378,
          562,
          0,
          116,
          0,
          0,
          168,
          0,
          0,
          0,
          0,
          0,
          0,
          0,
          0,
          0,
          0,
          0,
          89,
          0,
          285,
          0,
          0,
          0,
          0,
          360,
          125,
          0,
          0,
          132,
          70,
          94,
          0,
          0,
          0,
          305,
          333,
          921,
          0,
          0,
          0,
          0,
          0,
          762,
          594,
          0,
          0,
          268,
          0,
          null,
          219,
          0,
          0,
          0,
          0,
          0,
          0,
          0,
          188,
          479,
          584,
          72,
          0,
          182,
          0,
          178,
          0,
          0,
          0,
          0,
          0,
          0,
          250,
          0,
          292,
          0,
          0,
          0,
          0,
          18,
          180,
          0,
          0,
          0,
          0,
          0,
          245,
          168,
          0,
          0,
          108,
          207,
          0,
          0,
          82,
          0,
          0,
          97,
          0,
          335,
          85,
          306,
          104,
          0,
          0,
          208,
          0,
          0,
          0,
          0,
          0,
          420,
          0,
          170,
          0,
          238,
          0,
          72,
          459,
          0,
          280,
          0,
          0,
          0,
          99,
          176,
          0,
          0,
          0,
          192,
          204,
          233,
          108,
          0,
          0,
          156,
          0,
          0,
          452,
          226,
          0,
          0,
          153,
          513,
          288,
          261,
          0,
          164,
          192,
          259,
          0,
          108,
          209,
          0,
          0,
          0,
          0,
          0,
          0,
          0,
          472,
          0,
          0,
          263,
          162,
          0,
          0,
          216,
          351,
          0,
          null,
          0,
          0,
          0,
          660,
          381,
          54,
          0,
          0,
          0,
          233,
          528,
          216,
          0,
          0,
          40,
          113,
          258,
          0,
          0,
          0,
          0,
          0,
          106,
          0,
          0,
          0,
          0,
          464,
          57,
          0,
          0,
          0,
          215,
          30,
          0,
          0,
          0,
          0,
          256,
          147,
          1170,
          293,
          0,
          0,
          72,
          0,
          0,
          0,
          0,
          630,
          168,
          466,
          0,
          109,
          0,
          351,
          176,
          0,
          41,
          0,
          0,
          0,
          160,
          289,
          174,
          0,
          0,
          651,
          0,
          0,
          169,
          0,
          0,
          340,
          0,
          260,
          82,
          95,
          0,
          0,
          442,
          202,
          0,
          0,
          0,
          0,
          0,
          0,
          0,
          0,
          0,
          108,
          0,
          0,
          289,
          0,
          0,
          338,
          0,
          0,
          0,
          0,
          178,
          0,
          894,
          0,
          328,
          360,
          513,
          0,
          0,
          0,
          673,
          0,
          284,
          42,
          0,
          0,
          603,
          0,
          0,
          0,
          1,
          375,
          320,
          240,
          0,
          320,
          90,
          38,
          0,
          0,
          104,
          0,
          0,
          0,
          0,
          0,
          157,
          11,
          0,
          0,
          140,
          0,
          130,
          148,
          0,
          860,
          252,
          0,
          0,
          0,
          424,
          0,
          256,
          0,
          0,
          1047,
          0,
          99,
          169,
          0,
          243,
          0,
          442,
          0,
          148,
          80,
          128,
          0,
          0,
          0,
          0,
          0,
          816,
          0,
          0,
          0,
          0,
          387,
          0,
          223,
          180,
          136,
          0,
          0,
          158,
          0,
          0,
          0,
          0,
          183,
          0,
          0,
          0,
          137,
          0,
          0,
          360,
          170,
          40,
          0,
          115,
          0,
          0,
          0,
          0,
          189,
          220,
          0,
          0,
          0,
          0,
          0,
          76,
          274,
          0,
          0,
          246,
          0,
          116,
          0,
          0,
          0,
          0,
          0,
          216,
          0,
          90,
          0,
          117,
          0,
          0,
          60,
          60,
          122,
          0,
          0,
          90,
          0,
          92,
          0,
          0,
          0,
          415,
          0,
          0,
          760,
          0,
          0,
          0,
          0,
          27,
          75,
          110,
          208,
          0,
          0,
          0,
          361,
          0,
          0,
          0,
          76,
          80,
          0,
          0,
          0,
          0,
          105,
          0,
          0,
          0,
          157,
          0,
          340,
          342,
          0,
          285,
          0,
          0,
          302,
          210,
          0,
          108,
          null,
          0,
          0,
          0,
          0,
          298,
          0,
          0,
          541,
          0,
          128,
          236,
          144,
          0,
          0,
          0,
          0,
          232,
          250,
          423,
          0,
          0,
          0,
          0,
          0,
          424,
          0,
          0,
          44,
          0,
          0,
          151,
          0,
          105,
          0,
          106,
          0,
          null,
          0,
          0,
          0,
          null,
          0,
          0,
          210,
          975,
          16,
          0,
          0,
          0,
          0,
          450,
          298,
          0,
          423,
          0,
          340,
          0,
          230,
          0,
          0,
          571,
          0,
          24,
          0,
          0,
          53,
          164,
          16,
          220,
          0,
          0,
          108,
          0,
          0,
          0,
          0,
          0,
          206,
          0,
          196,
          0,
          76,
          145,
          0,
          84,
          0,
          14,
          0,
          0,
          324,
          338,
          0,
          281,
          0,
          0,
          0,
          295,
          0,
          0,
          70,
          396,
          0,
          0,
          67,
          252,
          135,
          99,
          0,
          0,
          208,
          0,
          75,
          0,
          0,
          0,
          272,
          145,
          210,
          160,
          240,
          0,
          154,
          480,
          0,
          0,
          0,
          0,
          200,
          0,
          0,
          360,
          0,
          0,
          120,
          0,
          0,
          140,
          0,
          0,
          0,
          0,
          169,
          0,
          144,
          0,
          100,
          425,
          0,
          0,
          0,
          0,
          50,
          0,
          0,
          212,
          0,
          166,
          0,
          0,
          0,
          0,
          0,
          206,
          0,
          0,
          45,
          0,
          304,
          362,
          0,
          0,
          0,
          42,
          0,
          660,
          0,
          0,
          0,
          328,
          0,
          0,
          0,
          0,
          0,
          196,
          0,
          0,
          170,
          0,
          130,
          0,
          0,
          180,
          0,
          0,
          0,
          0,
          0,
          0,
          0,
          0,
          0,
          0,
          0,
          44,
          340,
          0,
          0,
          0,
          85,
          0,
          0,
          0,
          0,
          132,
          0,
          0,
          288,
          0,
          0,
          166,
          186,
          270,
          0,
          72,
          0,
          0,
          0,
          268,
          72,
          0,
          0,
          1378,
          0,
          0,
          0,
          0,
          0,
          337,
          0,
          0,
          0,
          0,
          0,
          186,
          0,
          0,
          226,
          0,
          0,
          0,
          95,
          0,
          149,
          456,
          0,
          425,
          143,
          0,
          0,
          0,
          0,
          51,
          0,
          0,
          0,
          171,
          0,
          234,
          0,
          120,
          0,
          420,
          0,
          0,
          0,
          0,
          0,
          0,
          0,
          72,
          0,
          236,
          0,
          0,
          320,
          44,
          0,
          63,
          74,
          300,
          766,
          0,
          1,
          120,
          0,
          180,
          0,
          0,
          106,
          0,
          0,
          32,
          252,
          0,
          81,
          null,
          0,
          74,
          0,
          335,
          0,
          0,
          0,
          163,
          0,
          0,
          92,
          0,
          554,
          0,
          182,
          0,
          0,
          0,
          0,
          0,
          0,
          218,
          0,
          0,
          632,
          180,
          0,
          0,
          114,
          84,
          0,
          567,
          0,
          359,
          null,
          0,
          110,
          54,
          0,
          0,
          0,
          0,
          451,
          621,
          0,
          788,
          86,
          268,
          0,
          0,
          0,
          168,
          148,
          82,
          796,
          0,
          344,
          0,
          391,
          228,
          117,
          300,
          94,
          0,
          0,
          88,
          0,
          80,
          336,
          165,
          0,
          0,
          270,
          0,
          178,
          132,
          0,
          0,
          0,
          0,
          428,
          0,
          0,
          0,
          0,
          0,
          410,
          0,
          0,
          0,
          312,
          360,
          564,
          0,
          0,
          0,
          0,
          0,
          149,
          0,
          0,
          0,
          0,
          100,
          0,
          0,
          368,
          318,
          0,
          579,
          0,
          143,
          65,
          0,
          216,
          66,
          0,
          16,
          0,
          0,
          0,
          0,
          158,
          0,
          170,
          171,
          0,
          0,
          0,
          705,
          0,
          80,
          0,
          0,
          408,
          0,
          0,
          0,
          0,
          0,
          0,
          0,
          184,
          0,
          160,
          0,
          244,
          0,
          0,
          0,
          45,
          245,
          0,
          0,
          0,
          0,
          0,
          0,
          0,
          84,
          0,
          174,
          0,
          0,
          0,
          123,
          0,
          0,
          0,
          366,
          0,
          130,
          0,
          731,
          0,
          312,
          420,
          0,
          170,
          0,
          0,
          243,
          448,
          0,
          294,
          310,
          0,
          0,
          0,
          318,
          0,
          237,
          0,
          426,
          0,
          96,
          0,
          147,
          160,
          0,
          106,
          0,
          189,
          438,
          0,
          0,
          0,
          194,
          80,
          0,
          0,
          0,
          119,
          0,
          0,
          0
         ],
         "xaxis": "x",
         "yaxis": "y"
        }
       ],
       "layout": {
        "barmode": "relative",
        "legend": {
         "tracegroupgap": 0
        },
        "margin": {
         "t": 60
        },
        "template": {
         "data": {
          "bar": [
           {
            "error_x": {
             "color": "#2a3f5f"
            },
            "error_y": {
             "color": "#2a3f5f"
            },
            "marker": {
             "line": {
              "color": "#E5ECF6",
              "width": 0.5
             },
             "pattern": {
              "fillmode": "overlay",
              "size": 10,
              "solidity": 0.2
             }
            },
            "type": "bar"
           }
          ],
          "barpolar": [
           {
            "marker": {
             "line": {
              "color": "#E5ECF6",
              "width": 0.5
             },
             "pattern": {
              "fillmode": "overlay",
              "size": 10,
              "solidity": 0.2
             }
            },
            "type": "barpolar"
           }
          ],
          "carpet": [
           {
            "aaxis": {
             "endlinecolor": "#2a3f5f",
             "gridcolor": "white",
             "linecolor": "white",
             "minorgridcolor": "white",
             "startlinecolor": "#2a3f5f"
            },
            "baxis": {
             "endlinecolor": "#2a3f5f",
             "gridcolor": "white",
             "linecolor": "white",
             "minorgridcolor": "white",
             "startlinecolor": "#2a3f5f"
            },
            "type": "carpet"
           }
          ],
          "choropleth": [
           {
            "colorbar": {
             "outlinewidth": 0,
             "ticks": ""
            },
            "type": "choropleth"
           }
          ],
          "contour": [
           {
            "colorbar": {
             "outlinewidth": 0,
             "ticks": ""
            },
            "colorscale": [
             [
              0,
              "#0d0887"
             ],
             [
              0.1111111111111111,
              "#46039f"
             ],
             [
              0.2222222222222222,
              "#7201a8"
             ],
             [
              0.3333333333333333,
              "#9c179e"
             ],
             [
              0.4444444444444444,
              "#bd3786"
             ],
             [
              0.5555555555555556,
              "#d8576b"
             ],
             [
              0.6666666666666666,
              "#ed7953"
             ],
             [
              0.7777777777777778,
              "#fb9f3a"
             ],
             [
              0.8888888888888888,
              "#fdca26"
             ],
             [
              1,
              "#f0f921"
             ]
            ],
            "type": "contour"
           }
          ],
          "contourcarpet": [
           {
            "colorbar": {
             "outlinewidth": 0,
             "ticks": ""
            },
            "type": "contourcarpet"
           }
          ],
          "heatmap": [
           {
            "colorbar": {
             "outlinewidth": 0,
             "ticks": ""
            },
            "colorscale": [
             [
              0,
              "#0d0887"
             ],
             [
              0.1111111111111111,
              "#46039f"
             ],
             [
              0.2222222222222222,
              "#7201a8"
             ],
             [
              0.3333333333333333,
              "#9c179e"
             ],
             [
              0.4444444444444444,
              "#bd3786"
             ],
             [
              0.5555555555555556,
              "#d8576b"
             ],
             [
              0.6666666666666666,
              "#ed7953"
             ],
             [
              0.7777777777777778,
              "#fb9f3a"
             ],
             [
              0.8888888888888888,
              "#fdca26"
             ],
             [
              1,
              "#f0f921"
             ]
            ],
            "type": "heatmap"
           }
          ],
          "heatmapgl": [
           {
            "colorbar": {
             "outlinewidth": 0,
             "ticks": ""
            },
            "colorscale": [
             [
              0,
              "#0d0887"
             ],
             [
              0.1111111111111111,
              "#46039f"
             ],
             [
              0.2222222222222222,
              "#7201a8"
             ],
             [
              0.3333333333333333,
              "#9c179e"
             ],
             [
              0.4444444444444444,
              "#bd3786"
             ],
             [
              0.5555555555555556,
              "#d8576b"
             ],
             [
              0.6666666666666666,
              "#ed7953"
             ],
             [
              0.7777777777777778,
              "#fb9f3a"
             ],
             [
              0.8888888888888888,
              "#fdca26"
             ],
             [
              1,
              "#f0f921"
             ]
            ],
            "type": "heatmapgl"
           }
          ],
          "histogram": [
           {
            "marker": {
             "pattern": {
              "fillmode": "overlay",
              "size": 10,
              "solidity": 0.2
             }
            },
            "type": "histogram"
           }
          ],
          "histogram2d": [
           {
            "colorbar": {
             "outlinewidth": 0,
             "ticks": ""
            },
            "colorscale": [
             [
              0,
              "#0d0887"
             ],
             [
              0.1111111111111111,
              "#46039f"
             ],
             [
              0.2222222222222222,
              "#7201a8"
             ],
             [
              0.3333333333333333,
              "#9c179e"
             ],
             [
              0.4444444444444444,
              "#bd3786"
             ],
             [
              0.5555555555555556,
              "#d8576b"
             ],
             [
              0.6666666666666666,
              "#ed7953"
             ],
             [
              0.7777777777777778,
              "#fb9f3a"
             ],
             [
              0.8888888888888888,
              "#fdca26"
             ],
             [
              1,
              "#f0f921"
             ]
            ],
            "type": "histogram2d"
           }
          ],
          "histogram2dcontour": [
           {
            "colorbar": {
             "outlinewidth": 0,
             "ticks": ""
            },
            "colorscale": [
             [
              0,
              "#0d0887"
             ],
             [
              0.1111111111111111,
              "#46039f"
             ],
             [
              0.2222222222222222,
              "#7201a8"
             ],
             [
              0.3333333333333333,
              "#9c179e"
             ],
             [
              0.4444444444444444,
              "#bd3786"
             ],
             [
              0.5555555555555556,
              "#d8576b"
             ],
             [
              0.6666666666666666,
              "#ed7953"
             ],
             [
              0.7777777777777778,
              "#fb9f3a"
             ],
             [
              0.8888888888888888,
              "#fdca26"
             ],
             [
              1,
              "#f0f921"
             ]
            ],
            "type": "histogram2dcontour"
           }
          ],
          "mesh3d": [
           {
            "colorbar": {
             "outlinewidth": 0,
             "ticks": ""
            },
            "type": "mesh3d"
           }
          ],
          "parcoords": [
           {
            "line": {
             "colorbar": {
              "outlinewidth": 0,
              "ticks": ""
             }
            },
            "type": "parcoords"
           }
          ],
          "pie": [
           {
            "automargin": true,
            "type": "pie"
           }
          ],
          "scatter": [
           {
            "fillpattern": {
             "fillmode": "overlay",
             "size": 10,
             "solidity": 0.2
            },
            "type": "scatter"
           }
          ],
          "scatter3d": [
           {
            "line": {
             "colorbar": {
              "outlinewidth": 0,
              "ticks": ""
             }
            },
            "marker": {
             "colorbar": {
              "outlinewidth": 0,
              "ticks": ""
             }
            },
            "type": "scatter3d"
           }
          ],
          "scattercarpet": [
           {
            "marker": {
             "colorbar": {
              "outlinewidth": 0,
              "ticks": ""
             }
            },
            "type": "scattercarpet"
           }
          ],
          "scattergeo": [
           {
            "marker": {
             "colorbar": {
              "outlinewidth": 0,
              "ticks": ""
             }
            },
            "type": "scattergeo"
           }
          ],
          "scattergl": [
           {
            "marker": {
             "colorbar": {
              "outlinewidth": 0,
              "ticks": ""
             }
            },
            "type": "scattergl"
           }
          ],
          "scattermapbox": [
           {
            "marker": {
             "colorbar": {
              "outlinewidth": 0,
              "ticks": ""
             }
            },
            "type": "scattermapbox"
           }
          ],
          "scatterpolar": [
           {
            "marker": {
             "colorbar": {
              "outlinewidth": 0,
              "ticks": ""
             }
            },
            "type": "scatterpolar"
           }
          ],
          "scatterpolargl": [
           {
            "marker": {
             "colorbar": {
              "outlinewidth": 0,
              "ticks": ""
             }
            },
            "type": "scatterpolargl"
           }
          ],
          "scatterternary": [
           {
            "marker": {
             "colorbar": {
              "outlinewidth": 0,
              "ticks": ""
             }
            },
            "type": "scatterternary"
           }
          ],
          "surface": [
           {
            "colorbar": {
             "outlinewidth": 0,
             "ticks": ""
            },
            "colorscale": [
             [
              0,
              "#0d0887"
             ],
             [
              0.1111111111111111,
              "#46039f"
             ],
             [
              0.2222222222222222,
              "#7201a8"
             ],
             [
              0.3333333333333333,
              "#9c179e"
             ],
             [
              0.4444444444444444,
              "#bd3786"
             ],
             [
              0.5555555555555556,
              "#d8576b"
             ],
             [
              0.6666666666666666,
              "#ed7953"
             ],
             [
              0.7777777777777778,
              "#fb9f3a"
             ],
             [
              0.8888888888888888,
              "#fdca26"
             ],
             [
              1,
              "#f0f921"
             ]
            ],
            "type": "surface"
           }
          ],
          "table": [
           {
            "cells": {
             "fill": {
              "color": "#EBF0F8"
             },
             "line": {
              "color": "white"
             }
            },
            "header": {
             "fill": {
              "color": "#C8D4E3"
             },
             "line": {
              "color": "white"
             }
            },
            "type": "table"
           }
          ]
         },
         "layout": {
          "annotationdefaults": {
           "arrowcolor": "#2a3f5f",
           "arrowhead": 0,
           "arrowwidth": 1
          },
          "autotypenumbers": "strict",
          "coloraxis": {
           "colorbar": {
            "outlinewidth": 0,
            "ticks": ""
           }
          },
          "colorscale": {
           "diverging": [
            [
             0,
             "#8e0152"
            ],
            [
             0.1,
             "#c51b7d"
            ],
            [
             0.2,
             "#de77ae"
            ],
            [
             0.3,
             "#f1b6da"
            ],
            [
             0.4,
             "#fde0ef"
            ],
            [
             0.5,
             "#f7f7f7"
            ],
            [
             0.6,
             "#e6f5d0"
            ],
            [
             0.7,
             "#b8e186"
            ],
            [
             0.8,
             "#7fbc41"
            ],
            [
             0.9,
             "#4d9221"
            ],
            [
             1,
             "#276419"
            ]
           ],
           "sequential": [
            [
             0,
             "#0d0887"
            ],
            [
             0.1111111111111111,
             "#46039f"
            ],
            [
             0.2222222222222222,
             "#7201a8"
            ],
            [
             0.3333333333333333,
             "#9c179e"
            ],
            [
             0.4444444444444444,
             "#bd3786"
            ],
            [
             0.5555555555555556,
             "#d8576b"
            ],
            [
             0.6666666666666666,
             "#ed7953"
            ],
            [
             0.7777777777777778,
             "#fb9f3a"
            ],
            [
             0.8888888888888888,
             "#fdca26"
            ],
            [
             1,
             "#f0f921"
            ]
           ],
           "sequentialminus": [
            [
             0,
             "#0d0887"
            ],
            [
             0.1111111111111111,
             "#46039f"
            ],
            [
             0.2222222222222222,
             "#7201a8"
            ],
            [
             0.3333333333333333,
             "#9c179e"
            ],
            [
             0.4444444444444444,
             "#bd3786"
            ],
            [
             0.5555555555555556,
             "#d8576b"
            ],
            [
             0.6666666666666666,
             "#ed7953"
            ],
            [
             0.7777777777777778,
             "#fb9f3a"
            ],
            [
             0.8888888888888888,
             "#fdca26"
            ],
            [
             1,
             "#f0f921"
            ]
           ]
          },
          "colorway": [
           "#636efa",
           "#EF553B",
           "#00cc96",
           "#ab63fa",
           "#FFA15A",
           "#19d3f3",
           "#FF6692",
           "#B6E880",
           "#FF97FF",
           "#FECB52"
          ],
          "font": {
           "color": "#2a3f5f"
          },
          "geo": {
           "bgcolor": "white",
           "lakecolor": "white",
           "landcolor": "#E5ECF6",
           "showlakes": true,
           "showland": true,
           "subunitcolor": "white"
          },
          "hoverlabel": {
           "align": "left"
          },
          "hovermode": "closest",
          "mapbox": {
           "style": "light"
          },
          "paper_bgcolor": "white",
          "plot_bgcolor": "#E5ECF6",
          "polar": {
           "angularaxis": {
            "gridcolor": "white",
            "linecolor": "white",
            "ticks": ""
           },
           "bgcolor": "#E5ECF6",
           "radialaxis": {
            "gridcolor": "white",
            "linecolor": "white",
            "ticks": ""
           }
          },
          "scene": {
           "xaxis": {
            "backgroundcolor": "#E5ECF6",
            "gridcolor": "white",
            "gridwidth": 2,
            "linecolor": "white",
            "showbackground": true,
            "ticks": "",
            "zerolinecolor": "white"
           },
           "yaxis": {
            "backgroundcolor": "#E5ECF6",
            "gridcolor": "white",
            "gridwidth": 2,
            "linecolor": "white",
            "showbackground": true,
            "ticks": "",
            "zerolinecolor": "white"
           },
           "zaxis": {
            "backgroundcolor": "#E5ECF6",
            "gridcolor": "white",
            "gridwidth": 2,
            "linecolor": "white",
            "showbackground": true,
            "ticks": "",
            "zerolinecolor": "white"
           }
          },
          "shapedefaults": {
           "line": {
            "color": "#2a3f5f"
           }
          },
          "ternary": {
           "aaxis": {
            "gridcolor": "white",
            "linecolor": "white",
            "ticks": ""
           },
           "baxis": {
            "gridcolor": "white",
            "linecolor": "white",
            "ticks": ""
           },
           "bgcolor": "#E5ECF6",
           "caxis": {
            "gridcolor": "white",
            "linecolor": "white",
            "ticks": ""
           }
          },
          "title": {
           "x": 0.05
          },
          "xaxis": {
           "automargin": true,
           "gridcolor": "white",
           "linecolor": "white",
           "ticks": "",
           "title": {
            "standoff": 15
           },
           "zerolinecolor": "white",
           "zerolinewidth": 2
          },
          "yaxis": {
           "automargin": true,
           "gridcolor": "white",
           "linecolor": "white",
           "ticks": "",
           "title": {
            "standoff": 15
           },
           "zerolinecolor": "white",
           "zerolinewidth": 2
          }
         }
        },
        "xaxis": {
         "anchor": "y",
         "domain": [
          0,
          1
         ],
         "title": {
          "text": "MasVnrArea"
         }
        },
        "yaxis": {
         "anchor": "x",
         "domain": [
          0,
          1
         ],
         "title": {
          "text": "count"
         }
        }
       }
      },
      "text/html": [
       "<div>                            <div id=\"46c585c7-b281-4c8d-a238-36d2e1899852\" class=\"plotly-graph-div\" style=\"height:525px; width:100%;\"></div>            <script type=\"text/javascript\">                require([\"plotly\"], function(Plotly) {                    window.PLOTLYENV=window.PLOTLYENV || {};                                    if (document.getElementById(\"46c585c7-b281-4c8d-a238-36d2e1899852\")) {                    Plotly.newPlot(                        \"46c585c7-b281-4c8d-a238-36d2e1899852\",                        [{\"alignmentgroup\":\"True\",\"bingroup\":\"x\",\"hovertemplate\":\"MasVnrArea=%{x}<br>count=%{y}<extra></extra>\",\"legendgroup\":\"\",\"marker\":{\"color\":\"#636efa\",\"pattern\":{\"shape\":\"\"}},\"name\":\"\",\"offsetgroup\":\"\",\"orientation\":\"v\",\"showlegend\":false,\"x\":[196.0,0.0,162.0,0.0,350.0,0.0,186.0,240.0,0.0,0.0,0.0,286.0,0.0,306.0,212.0,0.0,180.0,0.0,0.0,0.0,380.0,0.0,281.0,0.0,0.0,640.0,0.0,200.0,0.0,0.0,0.0,0.0,0.0,0.0,246.0,132.0,0.0,650.0,0.0,0.0,101.0,0.0,0.0,0.0,0.0,412.0,0.0,0.0,0.0,0.0,0.0,0.0,0.0,0.0,0.0,272.0,456.0,0.0,1031.0,0.0,0.0,0.0,178.0,0.0,573.0,344.0,287.0,167.0,0.0,0.0,1115.0,0.0,40.0,104.0,0.0,0.0,0.0,0.0,0.0,0.0,576.0,443.0,468.0,66.0,22.0,284.0,0.0,76.0,0.0,0.0,0.0,203.0,0.0,0.0,0.0,68.0,183.0,48.0,0.0,0.0,28.0,336.0,0.0,0.0,600.0,768.0,0.0,0.0,0.0,480.0,0.0,0.0,220.0,184.0,0.0,1129.0,116.0,0.0,0.0,0.0,0.0,0.0,135.0,0.0,0.0,0.0,0.0,0.0,266.0,85.0,309.0,40.0,0.0,136.0,0.0,288.0,196.0,70.0,320.0,0.0,0.0,0.0,0.0,183.0,336.0,50.0,0.0,180.0,120.0,0.0,0.0,436.0,252.0,0.0,0.0,0.0,0.0,84.0,0.0,456.0,0.0,664.0,226.0,0.0,0.0,0.0,0.0,300.0,0.0,653.0,0.0,112.0,0.0,491.0,132.0,0.0,268.0,0.0,748.0,0.0,456.0,0.0,98.0,0.0,0.0,0.0,0.0,0.0,275.0,0.0,0.0,138.0,0.0,50.0,0.0,0.0,205.0,0.0,0.0,262.0,0.0,0.0,0.0,205.0,0.0,0.0,0.0,0.0,128.0,260.0,0.0,0.0,0.0,0.0,153.0,64.0,266.0,0.0,312.0,16.0,0.0,0.0,0.0,0.0,922.0,142.0,290.0,127.0,0.0,16.0,220.0,506.0,297.0,0.0,null,604.0,98.0,0.0,254.0,0.0,36.0,0.0,0.0,0.0,0.0,102.0,0.0,0.0,101.0,472.0,0.0,481.0,0.0,108.0,0.0,302.0,0.0,180.0,172.0,0.0,399.0,270.0,46.0,0.0,0.0,210.0,0.0,0.0,0.0,174.0,0.0,0.0,348.0,183.0,0.0,0.0,0.0,0.0,315.0,299.0,340.0,68.0,166.0,72.0,0.0,0.0,0.0,0.0,31.0,0.0,0.0,0.0,0.0,34.0,238.0,0.0,0.0,1600.0,365.0,0.0,56.0,0.0,150.0,0.0,0.0,246.0,246.0,0.0,0.0,0.0,112.0,0.0,0.0,0.0,0.0,0.0,278.0,0.0,256.0,225.0,370.0,388.0,172.0,0.0,300.0,0.0,0.0,175.0,0.0,0.0,84.0,0.0,296.0,146.0,0.0,0.0,200.0,113.0,0.0,176.0,0.0,0.0,340.0,616.0,0.0,0.0,0.0,30.0,106.0,870.0,362.0,0.0,0.0,0.0,0.0,0.0,106.0,0.0,120.0,530.0,0.0,0.0,500.0,510.0,120.0,0.0,247.0,305.0,200.0,0.0,0.0,0.0,0.0,0.0,0.0,0.0,0.0,0.0,350.0,16.0,0.0,0.0,0.0,0.0,0.0,16.0,0.0,255.0,125.0,272.0,0.0,0.0,0.0,0.0,0.0,0.0,0.0,288.0,0.0,100.0,0.0,0.0,0.0,650.0,0.0,0.0,0.0,0.0,350.0,100.0,0.0,0.0,432.0,0.0,0.0,0.0,203.0,0.0,0.0,0.0,200.0,126.0,0.0,473.0,74.0,0.0,145.0,0.0,108.0,0.0,232.0,0.0,376.0,0.0,0.0,0.0,0.0,0.0,0.0,0.0,200.0,270.0,0.0,72.0,0.0,0.0,0.0,0.0,0.0,0.0,0.0,0.0,42.0,0.0,0.0,320.0,0.0,0.0,0.0,161.0,110.0,0.0,0.0,0.0,136.0,18.0,0.0,224.0,248.0,120.0,0.0,0.0,80.0,304.0,0.0,0.0,215.0,772.0,336.0,435.0,378.0,562.0,0.0,116.0,0.0,0.0,168.0,0.0,0.0,0.0,0.0,0.0,0.0,0.0,0.0,0.0,0.0,0.0,89.0,0.0,285.0,0.0,0.0,0.0,0.0,360.0,125.0,0.0,0.0,132.0,70.0,94.0,0.0,0.0,0.0,305.0,333.0,921.0,0.0,0.0,0.0,0.0,0.0,762.0,594.0,0.0,0.0,268.0,0.0,null,219.0,0.0,0.0,0.0,0.0,0.0,0.0,0.0,188.0,479.0,584.0,72.0,0.0,182.0,0.0,178.0,0.0,0.0,0.0,0.0,0.0,0.0,250.0,0.0,292.0,0.0,0.0,0.0,0.0,18.0,180.0,0.0,0.0,0.0,0.0,0.0,245.0,168.0,0.0,0.0,108.0,207.0,0.0,0.0,82.0,0.0,0.0,97.0,0.0,335.0,85.0,306.0,104.0,0.0,0.0,208.0,0.0,0.0,0.0,0.0,0.0,420.0,0.0,170.0,0.0,238.0,0.0,72.0,459.0,0.0,280.0,0.0,0.0,0.0,99.0,176.0,0.0,0.0,0.0,192.0,204.0,233.0,108.0,0.0,0.0,156.0,0.0,0.0,452.0,226.0,0.0,0.0,153.0,513.0,288.0,261.0,0.0,164.0,192.0,259.0,0.0,108.0,209.0,0.0,0.0,0.0,0.0,0.0,0.0,0.0,472.0,0.0,0.0,263.0,162.0,0.0,0.0,216.0,351.0,0.0,null,0.0,0.0,0.0,660.0,381.0,54.0,0.0,0.0,0.0,233.0,528.0,216.0,0.0,0.0,40.0,113.0,258.0,0.0,0.0,0.0,0.0,0.0,106.0,0.0,0.0,0.0,0.0,464.0,57.0,0.0,0.0,0.0,215.0,30.0,0.0,0.0,0.0,0.0,256.0,147.0,1170.0,293.0,0.0,0.0,72.0,0.0,0.0,0.0,0.0,630.0,168.0,466.0,0.0,109.0,0.0,351.0,176.0,0.0,41.0,0.0,0.0,0.0,160.0,289.0,174.0,0.0,0.0,651.0,0.0,0.0,169.0,0.0,0.0,340.0,0.0,260.0,82.0,95.0,0.0,0.0,442.0,202.0,0.0,0.0,0.0,0.0,0.0,0.0,0.0,0.0,0.0,108.0,0.0,0.0,289.0,0.0,0.0,338.0,0.0,0.0,0.0,0.0,178.0,0.0,894.0,0.0,328.0,360.0,513.0,0.0,0.0,0.0,673.0,0.0,284.0,42.0,0.0,0.0,603.0,0.0,0.0,0.0,1.0,375.0,320.0,240.0,0.0,320.0,90.0,38.0,0.0,0.0,104.0,0.0,0.0,0.0,0.0,0.0,157.0,11.0,0.0,0.0,140.0,0.0,130.0,148.0,0.0,860.0,252.0,0.0,0.0,0.0,424.0,0.0,256.0,0.0,0.0,1047.0,0.0,99.0,169.0,0.0,243.0,0.0,442.0,0.0,148.0,80.0,128.0,0.0,0.0,0.0,0.0,0.0,816.0,0.0,0.0,0.0,0.0,387.0,0.0,223.0,180.0,136.0,0.0,0.0,158.0,0.0,0.0,0.0,0.0,183.0,0.0,0.0,0.0,137.0,0.0,0.0,360.0,170.0,40.0,0.0,115.0,0.0,0.0,0.0,0.0,189.0,220.0,0.0,0.0,0.0,0.0,0.0,76.0,274.0,0.0,0.0,246.0,0.0,116.0,0.0,0.0,0.0,0.0,0.0,216.0,0.0,90.0,0.0,117.0,0.0,0.0,60.0,60.0,122.0,0.0,0.0,90.0,0.0,92.0,0.0,0.0,0.0,415.0,0.0,0.0,760.0,0.0,0.0,0.0,0.0,27.0,75.0,110.0,208.0,0.0,0.0,0.0,361.0,0.0,0.0,0.0,76.0,80.0,0.0,0.0,0.0,0.0,105.0,0.0,0.0,0.0,157.0,0.0,340.0,342.0,0.0,285.0,0.0,0.0,302.0,210.0,0.0,108.0,null,0.0,0.0,0.0,0.0,298.0,0.0,0.0,541.0,0.0,128.0,236.0,144.0,0.0,0.0,0.0,0.0,232.0,250.0,423.0,0.0,0.0,0.0,0.0,0.0,424.0,0.0,0.0,44.0,0.0,0.0,151.0,0.0,105.0,0.0,106.0,0.0,null,0.0,0.0,0.0,null,0.0,0.0,210.0,975.0,16.0,0.0,0.0,0.0,0.0,450.0,298.0,0.0,423.0,0.0,340.0,0.0,230.0,0.0,0.0,571.0,0.0,24.0,0.0,0.0,53.0,164.0,16.0,220.0,0.0,0.0,108.0,0.0,0.0,0.0,0.0,0.0,206.0,0.0,196.0,0.0,76.0,145.0,0.0,84.0,0.0,14.0,0.0,0.0,324.0,338.0,0.0,281.0,0.0,0.0,0.0,295.0,0.0,0.0,70.0,396.0,0.0,0.0,67.0,252.0,135.0,99.0,0.0,0.0,208.0,0.0,75.0,0.0,0.0,0.0,272.0,145.0,210.0,160.0,240.0,0.0,154.0,480.0,0.0,0.0,0.0,0.0,200.0,0.0,0.0,360.0,0.0,0.0,120.0,0.0,0.0,140.0,0.0,0.0,0.0,0.0,169.0,0.0,144.0,0.0,100.0,425.0,0.0,0.0,0.0,0.0,50.0,0.0,0.0,212.0,0.0,166.0,0.0,0.0,0.0,0.0,0.0,206.0,0.0,0.0,45.0,0.0,304.0,362.0,0.0,0.0,0.0,42.0,0.0,660.0,0.0,0.0,0.0,328.0,0.0,0.0,0.0,0.0,0.0,196.0,0.0,0.0,170.0,0.0,130.0,0.0,0.0,180.0,0.0,0.0,0.0,0.0,0.0,0.0,0.0,0.0,0.0,0.0,0.0,44.0,340.0,0.0,0.0,0.0,85.0,0.0,0.0,0.0,0.0,132.0,0.0,0.0,288.0,0.0,0.0,166.0,186.0,270.0,0.0,72.0,0.0,0.0,0.0,268.0,72.0,0.0,0.0,1378.0,0.0,0.0,0.0,0.0,0.0,337.0,0.0,0.0,0.0,0.0,0.0,186.0,0.0,0.0,226.0,0.0,0.0,0.0,95.0,0.0,149.0,456.0,0.0,425.0,143.0,0.0,0.0,0.0,0.0,51.0,0.0,0.0,0.0,171.0,0.0,234.0,0.0,120.0,0.0,420.0,0.0,0.0,0.0,0.0,0.0,0.0,0.0,72.0,0.0,236.0,0.0,0.0,320.0,44.0,0.0,63.0,74.0,300.0,766.0,0.0,1.0,120.0,0.0,180.0,0.0,0.0,106.0,0.0,0.0,32.0,252.0,0.0,81.0,null,0.0,74.0,0.0,335.0,0.0,0.0,0.0,163.0,0.0,0.0,92.0,0.0,554.0,0.0,182.0,0.0,0.0,0.0,0.0,0.0,0.0,218.0,0.0,0.0,632.0,180.0,0.0,0.0,114.0,84.0,0.0,567.0,0.0,359.0,null,0.0,110.0,54.0,0.0,0.0,0.0,0.0,451.0,621.0,0.0,788.0,86.0,268.0,0.0,0.0,0.0,168.0,148.0,82.0,796.0,0.0,344.0,0.0,391.0,228.0,117.0,300.0,94.0,0.0,0.0,88.0,0.0,80.0,336.0,165.0,0.0,0.0,270.0,0.0,178.0,132.0,0.0,0.0,0.0,0.0,428.0,0.0,0.0,0.0,0.0,0.0,410.0,0.0,0.0,0.0,312.0,360.0,564.0,0.0,0.0,0.0,0.0,0.0,149.0,0.0,0.0,0.0,0.0,100.0,0.0,0.0,368.0,318.0,0.0,579.0,0.0,143.0,65.0,0.0,216.0,66.0,0.0,16.0,0.0,0.0,0.0,0.0,158.0,0.0,170.0,171.0,0.0,0.0,0.0,705.0,0.0,80.0,0.0,0.0,408.0,0.0,0.0,0.0,0.0,0.0,0.0,0.0,184.0,0.0,160.0,0.0,244.0,0.0,0.0,0.0,45.0,245.0,0.0,0.0,0.0,0.0,0.0,0.0,0.0,84.0,0.0,174.0,0.0,0.0,0.0,123.0,0.0,0.0,0.0,366.0,0.0,130.0,0.0,731.0,0.0,312.0,420.0,0.0,170.0,0.0,0.0,243.0,448.0,0.0,294.0,310.0,0.0,0.0,0.0,318.0,0.0,237.0,0.0,426.0,0.0,96.0,0.0,147.0,160.0,0.0,106.0,0.0,189.0,438.0,0.0,0.0,0.0,194.0,80.0,0.0,0.0,0.0,119.0,0.0,0.0,0.0],\"xaxis\":\"x\",\"yaxis\":\"y\",\"type\":\"histogram\"}],                        {\"template\":{\"data\":{\"histogram2dcontour\":[{\"type\":\"histogram2dcontour\",\"colorbar\":{\"outlinewidth\":0,\"ticks\":\"\"},\"colorscale\":[[0.0,\"#0d0887\"],[0.1111111111111111,\"#46039f\"],[0.2222222222222222,\"#7201a8\"],[0.3333333333333333,\"#9c179e\"],[0.4444444444444444,\"#bd3786\"],[0.5555555555555556,\"#d8576b\"],[0.6666666666666666,\"#ed7953\"],[0.7777777777777778,\"#fb9f3a\"],[0.8888888888888888,\"#fdca26\"],[1.0,\"#f0f921\"]]}],\"choropleth\":[{\"type\":\"choropleth\",\"colorbar\":{\"outlinewidth\":0,\"ticks\":\"\"}}],\"histogram2d\":[{\"type\":\"histogram2d\",\"colorbar\":{\"outlinewidth\":0,\"ticks\":\"\"},\"colorscale\":[[0.0,\"#0d0887\"],[0.1111111111111111,\"#46039f\"],[0.2222222222222222,\"#7201a8\"],[0.3333333333333333,\"#9c179e\"],[0.4444444444444444,\"#bd3786\"],[0.5555555555555556,\"#d8576b\"],[0.6666666666666666,\"#ed7953\"],[0.7777777777777778,\"#fb9f3a\"],[0.8888888888888888,\"#fdca26\"],[1.0,\"#f0f921\"]]}],\"heatmap\":[{\"type\":\"heatmap\",\"colorbar\":{\"outlinewidth\":0,\"ticks\":\"\"},\"colorscale\":[[0.0,\"#0d0887\"],[0.1111111111111111,\"#46039f\"],[0.2222222222222222,\"#7201a8\"],[0.3333333333333333,\"#9c179e\"],[0.4444444444444444,\"#bd3786\"],[0.5555555555555556,\"#d8576b\"],[0.6666666666666666,\"#ed7953\"],[0.7777777777777778,\"#fb9f3a\"],[0.8888888888888888,\"#fdca26\"],[1.0,\"#f0f921\"]]}],\"heatmapgl\":[{\"type\":\"heatmapgl\",\"colorbar\":{\"outlinewidth\":0,\"ticks\":\"\"},\"colorscale\":[[0.0,\"#0d0887\"],[0.1111111111111111,\"#46039f\"],[0.2222222222222222,\"#7201a8\"],[0.3333333333333333,\"#9c179e\"],[0.4444444444444444,\"#bd3786\"],[0.5555555555555556,\"#d8576b\"],[0.6666666666666666,\"#ed7953\"],[0.7777777777777778,\"#fb9f3a\"],[0.8888888888888888,\"#fdca26\"],[1.0,\"#f0f921\"]]}],\"contourcarpet\":[{\"type\":\"contourcarpet\",\"colorbar\":{\"outlinewidth\":0,\"ticks\":\"\"}}],\"contour\":[{\"type\":\"contour\",\"colorbar\":{\"outlinewidth\":0,\"ticks\":\"\"},\"colorscale\":[[0.0,\"#0d0887\"],[0.1111111111111111,\"#46039f\"],[0.2222222222222222,\"#7201a8\"],[0.3333333333333333,\"#9c179e\"],[0.4444444444444444,\"#bd3786\"],[0.5555555555555556,\"#d8576b\"],[0.6666666666666666,\"#ed7953\"],[0.7777777777777778,\"#fb9f3a\"],[0.8888888888888888,\"#fdca26\"],[1.0,\"#f0f921\"]]}],\"surface\":[{\"type\":\"surface\",\"colorbar\":{\"outlinewidth\":0,\"ticks\":\"\"},\"colorscale\":[[0.0,\"#0d0887\"],[0.1111111111111111,\"#46039f\"],[0.2222222222222222,\"#7201a8\"],[0.3333333333333333,\"#9c179e\"],[0.4444444444444444,\"#bd3786\"],[0.5555555555555556,\"#d8576b\"],[0.6666666666666666,\"#ed7953\"],[0.7777777777777778,\"#fb9f3a\"],[0.8888888888888888,\"#fdca26\"],[1.0,\"#f0f921\"]]}],\"mesh3d\":[{\"type\":\"mesh3d\",\"colorbar\":{\"outlinewidth\":0,\"ticks\":\"\"}}],\"scatter\":[{\"fillpattern\":{\"fillmode\":\"overlay\",\"size\":10,\"solidity\":0.2},\"type\":\"scatter\"}],\"parcoords\":[{\"type\":\"parcoords\",\"line\":{\"colorbar\":{\"outlinewidth\":0,\"ticks\":\"\"}}}],\"scatterpolargl\":[{\"type\":\"scatterpolargl\",\"marker\":{\"colorbar\":{\"outlinewidth\":0,\"ticks\":\"\"}}}],\"bar\":[{\"error_x\":{\"color\":\"#2a3f5f\"},\"error_y\":{\"color\":\"#2a3f5f\"},\"marker\":{\"line\":{\"color\":\"#E5ECF6\",\"width\":0.5},\"pattern\":{\"fillmode\":\"overlay\",\"size\":10,\"solidity\":0.2}},\"type\":\"bar\"}],\"scattergeo\":[{\"type\":\"scattergeo\",\"marker\":{\"colorbar\":{\"outlinewidth\":0,\"ticks\":\"\"}}}],\"scatterpolar\":[{\"type\":\"scatterpolar\",\"marker\":{\"colorbar\":{\"outlinewidth\":0,\"ticks\":\"\"}}}],\"histogram\":[{\"marker\":{\"pattern\":{\"fillmode\":\"overlay\",\"size\":10,\"solidity\":0.2}},\"type\":\"histogram\"}],\"scattergl\":[{\"type\":\"scattergl\",\"marker\":{\"colorbar\":{\"outlinewidth\":0,\"ticks\":\"\"}}}],\"scatter3d\":[{\"type\":\"scatter3d\",\"line\":{\"colorbar\":{\"outlinewidth\":0,\"ticks\":\"\"}},\"marker\":{\"colorbar\":{\"outlinewidth\":0,\"ticks\":\"\"}}}],\"scattermapbox\":[{\"type\":\"scattermapbox\",\"marker\":{\"colorbar\":{\"outlinewidth\":0,\"ticks\":\"\"}}}],\"scatterternary\":[{\"type\":\"scatterternary\",\"marker\":{\"colorbar\":{\"outlinewidth\":0,\"ticks\":\"\"}}}],\"scattercarpet\":[{\"type\":\"scattercarpet\",\"marker\":{\"colorbar\":{\"outlinewidth\":0,\"ticks\":\"\"}}}],\"carpet\":[{\"aaxis\":{\"endlinecolor\":\"#2a3f5f\",\"gridcolor\":\"white\",\"linecolor\":\"white\",\"minorgridcolor\":\"white\",\"startlinecolor\":\"#2a3f5f\"},\"baxis\":{\"endlinecolor\":\"#2a3f5f\",\"gridcolor\":\"white\",\"linecolor\":\"white\",\"minorgridcolor\":\"white\",\"startlinecolor\":\"#2a3f5f\"},\"type\":\"carpet\"}],\"table\":[{\"cells\":{\"fill\":{\"color\":\"#EBF0F8\"},\"line\":{\"color\":\"white\"}},\"header\":{\"fill\":{\"color\":\"#C8D4E3\"},\"line\":{\"color\":\"white\"}},\"type\":\"table\"}],\"barpolar\":[{\"marker\":{\"line\":{\"color\":\"#E5ECF6\",\"width\":0.5},\"pattern\":{\"fillmode\":\"overlay\",\"size\":10,\"solidity\":0.2}},\"type\":\"barpolar\"}],\"pie\":[{\"automargin\":true,\"type\":\"pie\"}]},\"layout\":{\"autotypenumbers\":\"strict\",\"colorway\":[\"#636efa\",\"#EF553B\",\"#00cc96\",\"#ab63fa\",\"#FFA15A\",\"#19d3f3\",\"#FF6692\",\"#B6E880\",\"#FF97FF\",\"#FECB52\"],\"font\":{\"color\":\"#2a3f5f\"},\"hovermode\":\"closest\",\"hoverlabel\":{\"align\":\"left\"},\"paper_bgcolor\":\"white\",\"plot_bgcolor\":\"#E5ECF6\",\"polar\":{\"bgcolor\":\"#E5ECF6\",\"angularaxis\":{\"gridcolor\":\"white\",\"linecolor\":\"white\",\"ticks\":\"\"},\"radialaxis\":{\"gridcolor\":\"white\",\"linecolor\":\"white\",\"ticks\":\"\"}},\"ternary\":{\"bgcolor\":\"#E5ECF6\",\"aaxis\":{\"gridcolor\":\"white\",\"linecolor\":\"white\",\"ticks\":\"\"},\"baxis\":{\"gridcolor\":\"white\",\"linecolor\":\"white\",\"ticks\":\"\"},\"caxis\":{\"gridcolor\":\"white\",\"linecolor\":\"white\",\"ticks\":\"\"}},\"coloraxis\":{\"colorbar\":{\"outlinewidth\":0,\"ticks\":\"\"}},\"colorscale\":{\"sequential\":[[0.0,\"#0d0887\"],[0.1111111111111111,\"#46039f\"],[0.2222222222222222,\"#7201a8\"],[0.3333333333333333,\"#9c179e\"],[0.4444444444444444,\"#bd3786\"],[0.5555555555555556,\"#d8576b\"],[0.6666666666666666,\"#ed7953\"],[0.7777777777777778,\"#fb9f3a\"],[0.8888888888888888,\"#fdca26\"],[1.0,\"#f0f921\"]],\"sequentialminus\":[[0.0,\"#0d0887\"],[0.1111111111111111,\"#46039f\"],[0.2222222222222222,\"#7201a8\"],[0.3333333333333333,\"#9c179e\"],[0.4444444444444444,\"#bd3786\"],[0.5555555555555556,\"#d8576b\"],[0.6666666666666666,\"#ed7953\"],[0.7777777777777778,\"#fb9f3a\"],[0.8888888888888888,\"#fdca26\"],[1.0,\"#f0f921\"]],\"diverging\":[[0,\"#8e0152\"],[0.1,\"#c51b7d\"],[0.2,\"#de77ae\"],[0.3,\"#f1b6da\"],[0.4,\"#fde0ef\"],[0.5,\"#f7f7f7\"],[0.6,\"#e6f5d0\"],[0.7,\"#b8e186\"],[0.8,\"#7fbc41\"],[0.9,\"#4d9221\"],[1,\"#276419\"]]},\"xaxis\":{\"gridcolor\":\"white\",\"linecolor\":\"white\",\"ticks\":\"\",\"title\":{\"standoff\":15},\"zerolinecolor\":\"white\",\"automargin\":true,\"zerolinewidth\":2},\"yaxis\":{\"gridcolor\":\"white\",\"linecolor\":\"white\",\"ticks\":\"\",\"title\":{\"standoff\":15},\"zerolinecolor\":\"white\",\"automargin\":true,\"zerolinewidth\":2},\"scene\":{\"xaxis\":{\"backgroundcolor\":\"#E5ECF6\",\"gridcolor\":\"white\",\"linecolor\":\"white\",\"showbackground\":true,\"ticks\":\"\",\"zerolinecolor\":\"white\",\"gridwidth\":2},\"yaxis\":{\"backgroundcolor\":\"#E5ECF6\",\"gridcolor\":\"white\",\"linecolor\":\"white\",\"showbackground\":true,\"ticks\":\"\",\"zerolinecolor\":\"white\",\"gridwidth\":2},\"zaxis\":{\"backgroundcolor\":\"#E5ECF6\",\"gridcolor\":\"white\",\"linecolor\":\"white\",\"showbackground\":true,\"ticks\":\"\",\"zerolinecolor\":\"white\",\"gridwidth\":2}},\"shapedefaults\":{\"line\":{\"color\":\"#2a3f5f\"}},\"annotationdefaults\":{\"arrowcolor\":\"#2a3f5f\",\"arrowhead\":0,\"arrowwidth\":1},\"geo\":{\"bgcolor\":\"white\",\"landcolor\":\"#E5ECF6\",\"subunitcolor\":\"white\",\"showland\":true,\"showlakes\":true,\"lakecolor\":\"white\"},\"title\":{\"x\":0.05},\"mapbox\":{\"style\":\"light\"}}},\"xaxis\":{\"anchor\":\"y\",\"domain\":[0.0,1.0],\"title\":{\"text\":\"MasVnrArea\"}},\"yaxis\":{\"anchor\":\"x\",\"domain\":[0.0,1.0],\"title\":{\"text\":\"count\"}},\"legend\":{\"tracegroupgap\":0},\"margin\":{\"t\":60},\"barmode\":\"relative\"},                        {\"responsive\": true}                    ).then(function(){\n",
       "                            \n",
       "var gd = document.getElementById('46c585c7-b281-4c8d-a238-36d2e1899852');\n",
       "var x = new MutationObserver(function (mutations, observer) {{\n",
       "        var display = window.getComputedStyle(gd).display;\n",
       "        if (!display || display === 'none') {{\n",
       "            console.log([gd, 'removed!']);\n",
       "            Plotly.purge(gd);\n",
       "            observer.disconnect();\n",
       "        }}\n",
       "}});\n",
       "\n",
       "// Listen for the removal of the full notebook cells\n",
       "var notebookContainer = gd.closest('#notebook-container');\n",
       "if (notebookContainer) {{\n",
       "    x.observe(notebookContainer, {childList: true});\n",
       "}}\n",
       "\n",
       "// Listen for the clearing of the current output cell\n",
       "var outputEl = gd.closest('.output');\n",
       "if (outputEl) {{\n",
       "    x.observe(outputEl, {childList: true});\n",
       "}}\n",
       "\n",
       "                        })                };                });            </script>        </div>"
      ]
     },
     "metadata": {},
     "output_type": "display_data"
    },
    {
     "data": {
      "application/vnd.plotly.v1+json": {
       "config": {
        "plotlyServerURL": "https://plot.ly"
       },
       "data": [
        {
         "alignmentgroup": "True",
         "bingroup": "x",
         "hovertemplate": "GarageYrBlt=%{x}<br>count=%{y}<extra></extra>",
         "legendgroup": "",
         "marker": {
          "color": "#636efa",
          "pattern": {
           "shape": ""
          }
         },
         "name": "",
         "offsetgroup": "",
         "orientation": "v",
         "showlegend": false,
         "type": "histogram",
         "x": [
          2003,
          1976,
          2001,
          1998,
          2000,
          1993,
          2004,
          1973,
          1931,
          1939,
          1965,
          2005,
          1962,
          2006,
          1960,
          1991,
          1970,
          1967,
          2004,
          1958,
          2005,
          1930,
          2002,
          1976,
          1968,
          2007,
          2005,
          2008,
          1957,
          1920,
          1920,
          1966,
          2007,
          1959,
          2005,
          2004,
          1995,
          1954,
          1953,
          null,
          1965,
          1959,
          1983,
          1977,
          1959,
          2005,
          2003,
          2006,
          null,
          1966,
          1997,
          1985,
          1963,
          1981,
          1962,
          1964,
          1999,
          2004,
          2006,
          1973,
          2006,
          1935,
          2006,
          1990,
          1998,
          2004,
          1970,
          2003,
          1945,
          1953,
          1973,
          1987,
          1998,
          1989,
          1915,
          1973,
          1956,
          1948,
          null,
          1966,
          1968,
          1998,
          2007,
          1974,
          1995,
          1991,
          2005,
          2009,
          null,
          null,
          1950,
          1961,
          1921,
          1900,
          1997,
          1993,
          1999,
          1965,
          1920,
          null,
          1977,
          1985,
          1979,
          2009,
          1951,
          2003,
          1954,
          1948,
          null,
          1977,
          1954,
          2000,
          2007,
          1953,
          1945,
          1999,
          1962,
          2007,
          1990,
          2005,
          1969,
          1979,
          1958,
          1993,
          1979,
          null,
          1977,
          null,
          1966,
          1998,
          1966,
          2000,
          1974,
          2001,
          1968,
          1970,
          1967,
          1989,
          1999,
          1997,
          null,
          2005,
          2000,
          1999,
          1963,
          2004,
          1931,
          2001,
          null,
          1936,
          1975,
          2007,
          1971,
          1960,
          1923,
          null,
          1950,
          2009,
          2004,
          2006,
          1984,
          2003,
          2005,
          null,
          1926,
          null,
          1955,
          2007,
          2004,
          1981,
          1991,
          1960,
          1987,
          1961,
          1986,
          1950,
          1988,
          1958,
          2009,
          1935,
          2000,
          1920,
          1957,
          2003,
          1986,
          1993,
          1990,
          1916,
          1979,
          2001,
          1932,
          1972,
          1999,
          2004,
          1989,
          1976,
          2007,
          1918,
          null,
          2004,
          2003,
          1980,
          1924,
          2004,
          1948,
          1990,
          1962,
          1960,
          1988,
          1964,
          null,
          2009,
          2009,
          1996,
          1977,
          1957,
          2004,
          1940,
          1939,
          2005,
          2006,
          2002,
          1975,
          1989,
          2003,
          1991,
          1995,
          1987,
          1974,
          2005,
          1959,
          1995,
          1972,
          1976,
          2002,
          1971,
          2004,
          1993,
          2007,
          1949,
          2008,
          null,
          1940,
          1980,
          1994,
          1988,
          1910,
          1954,
          2003,
          1958,
          null,
          2006,
          2004,
          1964,
          1957,
          1999,
          2003,
          2006,
          2001,
          1956,
          1991,
          2007,
          1978,
          1974,
          1965,
          1981,
          1997,
          1939,
          1966,
          1987,
          2006,
          1954,
          1999,
          1958,
          1982,
          1978,
          2003,
          1951,
          2007,
          1977,
          1989,
          2006,
          2008,
          2008,
          1992,
          2006,
          1962,
          null,
          1970,
          2003,
          2006,
          null,
          1949,
          1977,
          1953,
          1984,
          1950,
          1997,
          1968,
          1950,
          1953,
          1998,
          2001,
          1975,
          2003,
          2004,
          1990,
          null,
          1961,
          2003,
          1993,
          1948,
          1939,
          1965,
          1925,
          2004,
          1983,
          2006,
          1993,
          1980,
          2006,
          2004,
          1987,
          1955,
          1961,
          1941,
          1993,
          1960,
          1930,
          1920,
          2002,
          1958,
          2003,
          2004,
          1998,
          1965,
          2005,
          2002,
          1984,
          1958,
          2002,
          1950,
          1949,
          2005,
          1976,
          1939,
          1960,
          1960,
          2003,
          2006,
          2007,
          1986,
          1941,
          2005,
          1940,
          1995,
          1992,
          1976,
          1958,
          1998,
          1978,
          1940,
          2003,
          1972,
          1976,
          1964,
          1963,
          1962,
          1954,
          1997,
          2000,
          1991,
          1984,
          1953,
          2003,
          null,
          1998,
          2004,
          2010,
          2000,
          1924,
          2006,
          2006,
          1950,
          1992,
          2004,
          null,
          1977,
          1999,
          2008,
          1978,
          2001,
          1959,
          null,
          1940,
          1956,
          1985,
          1962,
          1920,
          2007,
          1996,
          2005,
          1940,
          1998,
          1995,
          1993,
          1936,
          1960,
          2006,
          2008,
          1958,
          1955,
          2009,
          1927,
          1993,
          2007,
          1978,
          1918,
          1940,
          1968,
          1997,
          1977,
          1954,
          1998,
          1956,
          1947,
          1989,
          1964,
          2007,
          1988,
          1971,
          null,
          1971,
          1997,
          null,
          1996,
          1990,
          1926,
          1990,
          2005,
          2008,
          null,
          1930,
          2007,
          1994,
          1956,
          1966,
          1998,
          1937,
          1981,
          1932,
          1975,
          1996,
          2008,
          1976,
          1973,
          1916,
          1954,
          1925,
          1950,
          2009,
          1971,
          1965,
          1939,
          null,
          2004,
          1970,
          1942,
          2006,
          1993,
          1985,
          1977,
          2005,
          2006,
          2000,
          1996,
          1997,
          2006,
          2007,
          1995,
          2004,
          2003,
          1915,
          1998,
          1963,
          1950,
          1965,
          1971,
          1970,
          1970,
          1976,
          1941,
          2006,
          1964,
          1938,
          null,
          1992,
          1925,
          1967,
          1958,
          1973,
          2005,
          1965,
          1959,
          1974,
          1952,
          1993,
          2009,
          1928,
          1959,
          1951,
          2005,
          1964,
          1983,
          1926,
          2009,
          1972,
          1996,
          1998,
          1926,
          null,
          1957,
          1950,
          2007,
          1996,
          2005,
          1956,
          2008,
          null,
          1975,
          1988,
          1920,
          1967,
          null,
          2004,
          null,
          1998,
          1980,
          1968,
          2001,
          2006,
          2000,
          1998,
          1998,
          2006,
          1988,
          1950,
          1987,
          1963,
          2003,
          1977,
          1957,
          2006,
          2002,
          2003,
          1922,
          1957,
          1994,
          1996,
          2003,
          1957,
          1975,
          null,
          1955,
          1992,
          1920,
          2005,
          2004,
          1983,
          1979,
          1987,
          1959,
          2009,
          2000,
          1971,
          1947,
          1928,
          1966,
          2007,
          1954,
          1960,
          2009,
          null,
          1988,
          1935,
          2005,
          1961,
          1996,
          1968,
          1988,
          2004,
          2008,
          1985,
          2003,
          1981,
          2005,
          1930,
          2006,
          1977,
          1980,
          2003,
          1979,
          1992,
          2004,
          2002,
          1965,
          2000,
          1948,
          1934,
          1961,
          2000,
          1978,
          2001,
          null,
          null,
          1963,
          2002,
          1962,
          2007,
          2003,
          null,
          1974,
          1986,
          2000,
          1972,
          1962,
          1960,
          1955,
          1969,
          1964,
          1937,
          2006,
          1977,
          1954,
          1980,
          null,
          null,
          1954,
          null,
          2006,
          2003,
          2001,
          1972,
          1969,
          2009,
          1979,
          1950,
          1953,
          1966,
          null,
          2007,
          1940,
          1996,
          1906,
          1995,
          1971,
          1959,
          1931,
          1948,
          1968,
          1976,
          1994,
          1968,
          1974,
          2005,
          2000,
          1965,
          1994,
          1999,
          1922,
          2005,
          1930,
          1977,
          1957,
          1965,
          1978,
          1920,
          1924,
          2008,
          1963,
          1980,
          1968,
          1996,
          2002,
          1998,
          1984,
          2007,
          2004,
          2007,
          2005,
          2004,
          1994,
          1989,
          1968,
          1995,
          1987,
          1921,
          1952,
          1973,
          2004,
          2002,
          1969,
          2006,
          1999,
          2004,
          null,
          1971,
          2006,
          2007,
          1966,
          null,
          1964,
          1988,
          1970,
          1976,
          1974,
          1996,
          1973,
          1993,
          1969,
          1985,
          2004,
          1994,
          1958,
          2007,
          1989,
          1988,
          2007,
          1968,
          1962,
          1995,
          2003,
          1998,
          1961,
          1968,
          1914,
          1949,
          2005,
          null,
          2004,
          1910,
          1962,
          2000,
          1997,
          1993,
          1994,
          2000,
          1950,
          1996,
          1945,
          null,
          2003,
          1997,
          2005,
          1969,
          1999,
          2007,
          1978,
          1999,
          1995,
          2008,
          1965,
          2009,
          1999,
          1995,
          2008,
          1988,
          1989,
          2004,
          2003,
          1983,
          1951,
          1976,
          1958,
          2006,
          1998,
          2005,
          1974,
          1977,
          1977,
          1995,
          1992,
          2001,
          1978,
          null,
          1967,
          1961,
          2004,
          1954,
          1966,
          2005,
          1976,
          1997,
          2007,
          1994,
          1980,
          1977,
          1953,
          2009,
          1939,
          1997,
          1957,
          2005,
          2009,
          1954,
          2008,
          1967,
          1923,
          1966,
          1910,
          1974,
          2004,
          1952,
          1958,
          1955,
          1998,
          1954,
          2002,
          1971,
          2010,
          2003,
          1974,
          2003,
          1940,
          2006,
          2007,
          null,
          2001,
          1967,
          2005,
          1957,
          2005,
          2003,
          1964,
          1961,
          1996,
          1948,
          1973,
          1999,
          1946,
          1934,
          1983,
          1966,
          null,
          1949,
          1975,
          1993,
          1972,
          1908,
          1976,
          2003,
          2003,
          1941,
          1964,
          1955,
          1962,
          1981,
          1994,
          1976,
          1968,
          1925,
          1965,
          1986,
          1959,
          2008,
          1973,
          2007,
          1961,
          1979,
          1993,
          1962,
          1998,
          1953,
          1949,
          1941,
          2007,
          1963,
          2004,
          1987,
          1978,
          2005,
          1990,
          1993,
          1997,
          1967,
          1999,
          2005,
          1955,
          1970,
          1953,
          2003,
          1978,
          1963,
          1954,
          1979,
          1963,
          1936,
          1979,
          2009,
          1961,
          1979,
          1968,
          2003,
          2006,
          1967,
          1954,
          2006,
          1936,
          1983,
          2005,
          1960,
          1978,
          1925,
          1949,
          2009,
          1970,
          1958,
          1956,
          1991,
          1990,
          1994,
          null,
          2005,
          1993,
          1980,
          1977,
          2003,
          1968,
          2001,
          1997,
          2007,
          1965,
          2006,
          2004,
          1960,
          1953,
          2003,
          2005,
          2006,
          1940,
          1976,
          1999,
          null,
          1967,
          1958,
          1963,
          1959,
          2002,
          2002,
          1972,
          1980,
          1979,
          1974,
          1969,
          null,
          1946,
          1980,
          1977,
          2003,
          1999,
          null,
          1977,
          1976,
          2007,
          2002,
          2005,
          1940,
          1955,
          null,
          1958,
          null,
          2003,
          1979,
          2007,
          1997,
          2000,
          null,
          2007,
          1999,
          1963,
          1961,
          1998,
          2007,
          2002,
          1977,
          1950,
          1950,
          2010,
          1976,
          2006,
          1997,
          1925,
          1964,
          2005,
          2008,
          1946,
          1961,
          1970,
          1922,
          2006,
          1956,
          1920,
          2006,
          1976,
          2005,
          1977,
          1970,
          1970,
          2004,
          null,
          1948,
          null,
          1923,
          1956,
          1948,
          2001,
          1996,
          1984,
          1991,
          2005,
          2005,
          2006,
          1957,
          2005,
          1976,
          1980,
          1960,
          2008,
          1941,
          1972,
          null,
          1970,
          1993,
          2002,
          1938,
          1957,
          2008,
          2001,
          null,
          1970,
          1957,
          1966,
          2005,
          1990,
          1981,
          1955,
          2005,
          1996,
          1960,
          1946,
          2007,
          2007,
          1964,
          1957,
          2002,
          1976,
          2005,
          1994,
          2008,
          1977,
          2001,
          1994,
          1945,
          1976,
          1966,
          1996,
          1993,
          1964,
          1973,
          1985,
          1956,
          1968,
          1954,
          1977,
          2006,
          1940,
          1950,
          1969,
          2004,
          1996,
          1971,
          1963,
          2002,
          1964,
          1995,
          1992,
          1973,
          2005,
          2004,
          2005,
          1987,
          1999,
          1925,
          1977,
          1956,
          2006,
          null,
          1987,
          1936,
          1978,
          1930,
          1981,
          1960,
          1954,
          1970,
          1994,
          1990,
          2006,
          2000,
          2004,
          1995,
          1976,
          1957,
          1953,
          1955,
          2007,
          2002,
          1967,
          1958,
          1959,
          1920,
          2005,
          1956,
          null,
          1992,
          1977,
          2007,
          2004,
          2004,
          1980,
          1981,
          null,
          1930,
          1995,
          1997,
          1926,
          1950,
          null,
          1977,
          1972,
          1988,
          1976,
          2006,
          null,
          1941,
          1928,
          1985,
          1941,
          1982,
          1930,
          1950,
          1959,
          1956,
          2002,
          1965,
          1976,
          1965,
          2008,
          2008,
          1974,
          1978,
          1993,
          1968,
          1969,
          1978,
          2009,
          2008,
          2000,
          1935,
          1995,
          1977,
          1958,
          2006,
          null,
          1932,
          1992,
          1984,
          1926,
          1921,
          null,
          1990,
          2008,
          1996,
          1970,
          1963,
          1965,
          1920,
          1994,
          2002,
          1999,
          1975,
          1999,
          1925,
          1999,
          1969,
          2005,
          2006,
          1916,
          2001,
          1974,
          1972,
          1998,
          1960,
          2000,
          1975,
          1990,
          1966,
          2003,
          1980,
          2006,
          1992,
          1988,
          1941,
          1965,
          1962,
          1966,
          1978,
          2009,
          null,
          null,
          1964,
          1968,
          1949,
          1951,
          2004,
          1958,
          2007,
          1992,
          2008,
          1960,
          1977,
          1962,
          1962,
          1959,
          null,
          1914,
          2003,
          2004,
          2005,
          2006,
          2003,
          2007,
          1974,
          2006,
          1931,
          1984,
          2005,
          1976,
          1950,
          1950,
          1968,
          2003,
          1968,
          1974,
          2003,
          1978,
          1994,
          null,
          2005,
          1969,
          1999,
          1956,
          1957,
          1940,
          1998,
          1999,
          1960,
          2009,
          1982,
          1958,
          1979,
          1968,
          1965,
          1959,
          1985,
          1948,
          1972,
          1967,
          2002,
          1980,
          2002,
          1990,
          1977,
          null,
          1969,
          1939,
          1963,
          1964,
          2000,
          2006,
          1964,
          1972,
          1985,
          1976,
          1957,
          1968,
          1963,
          2005,
          2008,
          1959,
          1999,
          1942,
          1994,
          2005,
          2004,
          2006,
          2005,
          2000,
          1948,
          1991,
          1959,
          2005,
          1990,
          1999,
          1956,
          1969,
          2008,
          2006,
          2001,
          1954,
          1957,
          1955,
          1992,
          null,
          2007,
          null,
          null,
          1982,
          1920,
          1998,
          2006,
          1976,
          1958,
          1951,
          1970,
          1977,
          1973,
          null,
          2002,
          1972,
          1974,
          2004,
          2002,
          1929,
          2006,
          1997,
          1968,
          2006,
          1998,
          null,
          1969,
          1962,
          1999,
          1996,
          2000,
          1968,
          1966,
          1971,
          2000,
          2004,
          1998,
          2005,
          1920,
          2007,
          2005,
          2000,
          1999,
          1977,
          2003,
          2003,
          1967,
          1955,
          1998,
          2001,
          2005,
          2007,
          1925,
          1977,
          1973,
          2007,
          1938,
          1970,
          1989,
          2007,
          1939,
          1922,
          1978,
          1916,
          2006,
          2003,
          2000,
          1967,
          1967,
          2003,
          2006,
          2005,
          1966,
          1933,
          1950,
          1925,
          1929,
          2004,
          2006,
          2007,
          1998,
          2004,
          1988,
          null,
          1966,
          1986,
          2001,
          1950,
          1956,
          2005,
          1922,
          2007,
          1971,
          1998,
          1962,
          1969,
          1968,
          1977,
          2003,
          1966,
          1970,
          1960,
          1994,
          1962,
          1940,
          1981,
          2005,
          1976,
          1928,
          2000,
          1977,
          1962,
          1974,
          2008,
          1957,
          1979,
          1993,
          2004,
          2008,
          1916,
          2004,
          1990,
          1962,
          1995,
          1950,
          null,
          null,
          2008,
          2005,
          null,
          2004,
          1999,
          1978,
          1941,
          1950,
          1965
         ],
         "xaxis": "x",
         "yaxis": "y"
        }
       ],
       "layout": {
        "barmode": "relative",
        "legend": {
         "tracegroupgap": 0
        },
        "margin": {
         "t": 60
        },
        "template": {
         "data": {
          "bar": [
           {
            "error_x": {
             "color": "#2a3f5f"
            },
            "error_y": {
             "color": "#2a3f5f"
            },
            "marker": {
             "line": {
              "color": "#E5ECF6",
              "width": 0.5
             },
             "pattern": {
              "fillmode": "overlay",
              "size": 10,
              "solidity": 0.2
             }
            },
            "type": "bar"
           }
          ],
          "barpolar": [
           {
            "marker": {
             "line": {
              "color": "#E5ECF6",
              "width": 0.5
             },
             "pattern": {
              "fillmode": "overlay",
              "size": 10,
              "solidity": 0.2
             }
            },
            "type": "barpolar"
           }
          ],
          "carpet": [
           {
            "aaxis": {
             "endlinecolor": "#2a3f5f",
             "gridcolor": "white",
             "linecolor": "white",
             "minorgridcolor": "white",
             "startlinecolor": "#2a3f5f"
            },
            "baxis": {
             "endlinecolor": "#2a3f5f",
             "gridcolor": "white",
             "linecolor": "white",
             "minorgridcolor": "white",
             "startlinecolor": "#2a3f5f"
            },
            "type": "carpet"
           }
          ],
          "choropleth": [
           {
            "colorbar": {
             "outlinewidth": 0,
             "ticks": ""
            },
            "type": "choropleth"
           }
          ],
          "contour": [
           {
            "colorbar": {
             "outlinewidth": 0,
             "ticks": ""
            },
            "colorscale": [
             [
              0,
              "#0d0887"
             ],
             [
              0.1111111111111111,
              "#46039f"
             ],
             [
              0.2222222222222222,
              "#7201a8"
             ],
             [
              0.3333333333333333,
              "#9c179e"
             ],
             [
              0.4444444444444444,
              "#bd3786"
             ],
             [
              0.5555555555555556,
              "#d8576b"
             ],
             [
              0.6666666666666666,
              "#ed7953"
             ],
             [
              0.7777777777777778,
              "#fb9f3a"
             ],
             [
              0.8888888888888888,
              "#fdca26"
             ],
             [
              1,
              "#f0f921"
             ]
            ],
            "type": "contour"
           }
          ],
          "contourcarpet": [
           {
            "colorbar": {
             "outlinewidth": 0,
             "ticks": ""
            },
            "type": "contourcarpet"
           }
          ],
          "heatmap": [
           {
            "colorbar": {
             "outlinewidth": 0,
             "ticks": ""
            },
            "colorscale": [
             [
              0,
              "#0d0887"
             ],
             [
              0.1111111111111111,
              "#46039f"
             ],
             [
              0.2222222222222222,
              "#7201a8"
             ],
             [
              0.3333333333333333,
              "#9c179e"
             ],
             [
              0.4444444444444444,
              "#bd3786"
             ],
             [
              0.5555555555555556,
              "#d8576b"
             ],
             [
              0.6666666666666666,
              "#ed7953"
             ],
             [
              0.7777777777777778,
              "#fb9f3a"
             ],
             [
              0.8888888888888888,
              "#fdca26"
             ],
             [
              1,
              "#f0f921"
             ]
            ],
            "type": "heatmap"
           }
          ],
          "heatmapgl": [
           {
            "colorbar": {
             "outlinewidth": 0,
             "ticks": ""
            },
            "colorscale": [
             [
              0,
              "#0d0887"
             ],
             [
              0.1111111111111111,
              "#46039f"
             ],
             [
              0.2222222222222222,
              "#7201a8"
             ],
             [
              0.3333333333333333,
              "#9c179e"
             ],
             [
              0.4444444444444444,
              "#bd3786"
             ],
             [
              0.5555555555555556,
              "#d8576b"
             ],
             [
              0.6666666666666666,
              "#ed7953"
             ],
             [
              0.7777777777777778,
              "#fb9f3a"
             ],
             [
              0.8888888888888888,
              "#fdca26"
             ],
             [
              1,
              "#f0f921"
             ]
            ],
            "type": "heatmapgl"
           }
          ],
          "histogram": [
           {
            "marker": {
             "pattern": {
              "fillmode": "overlay",
              "size": 10,
              "solidity": 0.2
             }
            },
            "type": "histogram"
           }
          ],
          "histogram2d": [
           {
            "colorbar": {
             "outlinewidth": 0,
             "ticks": ""
            },
            "colorscale": [
             [
              0,
              "#0d0887"
             ],
             [
              0.1111111111111111,
              "#46039f"
             ],
             [
              0.2222222222222222,
              "#7201a8"
             ],
             [
              0.3333333333333333,
              "#9c179e"
             ],
             [
              0.4444444444444444,
              "#bd3786"
             ],
             [
              0.5555555555555556,
              "#d8576b"
             ],
             [
              0.6666666666666666,
              "#ed7953"
             ],
             [
              0.7777777777777778,
              "#fb9f3a"
             ],
             [
              0.8888888888888888,
              "#fdca26"
             ],
             [
              1,
              "#f0f921"
             ]
            ],
            "type": "histogram2d"
           }
          ],
          "histogram2dcontour": [
           {
            "colorbar": {
             "outlinewidth": 0,
             "ticks": ""
            },
            "colorscale": [
             [
              0,
              "#0d0887"
             ],
             [
              0.1111111111111111,
              "#46039f"
             ],
             [
              0.2222222222222222,
              "#7201a8"
             ],
             [
              0.3333333333333333,
              "#9c179e"
             ],
             [
              0.4444444444444444,
              "#bd3786"
             ],
             [
              0.5555555555555556,
              "#d8576b"
             ],
             [
              0.6666666666666666,
              "#ed7953"
             ],
             [
              0.7777777777777778,
              "#fb9f3a"
             ],
             [
              0.8888888888888888,
              "#fdca26"
             ],
             [
              1,
              "#f0f921"
             ]
            ],
            "type": "histogram2dcontour"
           }
          ],
          "mesh3d": [
           {
            "colorbar": {
             "outlinewidth": 0,
             "ticks": ""
            },
            "type": "mesh3d"
           }
          ],
          "parcoords": [
           {
            "line": {
             "colorbar": {
              "outlinewidth": 0,
              "ticks": ""
             }
            },
            "type": "parcoords"
           }
          ],
          "pie": [
           {
            "automargin": true,
            "type": "pie"
           }
          ],
          "scatter": [
           {
            "fillpattern": {
             "fillmode": "overlay",
             "size": 10,
             "solidity": 0.2
            },
            "type": "scatter"
           }
          ],
          "scatter3d": [
           {
            "line": {
             "colorbar": {
              "outlinewidth": 0,
              "ticks": ""
             }
            },
            "marker": {
             "colorbar": {
              "outlinewidth": 0,
              "ticks": ""
             }
            },
            "type": "scatter3d"
           }
          ],
          "scattercarpet": [
           {
            "marker": {
             "colorbar": {
              "outlinewidth": 0,
              "ticks": ""
             }
            },
            "type": "scattercarpet"
           }
          ],
          "scattergeo": [
           {
            "marker": {
             "colorbar": {
              "outlinewidth": 0,
              "ticks": ""
             }
            },
            "type": "scattergeo"
           }
          ],
          "scattergl": [
           {
            "marker": {
             "colorbar": {
              "outlinewidth": 0,
              "ticks": ""
             }
            },
            "type": "scattergl"
           }
          ],
          "scattermapbox": [
           {
            "marker": {
             "colorbar": {
              "outlinewidth": 0,
              "ticks": ""
             }
            },
            "type": "scattermapbox"
           }
          ],
          "scatterpolar": [
           {
            "marker": {
             "colorbar": {
              "outlinewidth": 0,
              "ticks": ""
             }
            },
            "type": "scatterpolar"
           }
          ],
          "scatterpolargl": [
           {
            "marker": {
             "colorbar": {
              "outlinewidth": 0,
              "ticks": ""
             }
            },
            "type": "scatterpolargl"
           }
          ],
          "scatterternary": [
           {
            "marker": {
             "colorbar": {
              "outlinewidth": 0,
              "ticks": ""
             }
            },
            "type": "scatterternary"
           }
          ],
          "surface": [
           {
            "colorbar": {
             "outlinewidth": 0,
             "ticks": ""
            },
            "colorscale": [
             [
              0,
              "#0d0887"
             ],
             [
              0.1111111111111111,
              "#46039f"
             ],
             [
              0.2222222222222222,
              "#7201a8"
             ],
             [
              0.3333333333333333,
              "#9c179e"
             ],
             [
              0.4444444444444444,
              "#bd3786"
             ],
             [
              0.5555555555555556,
              "#d8576b"
             ],
             [
              0.6666666666666666,
              "#ed7953"
             ],
             [
              0.7777777777777778,
              "#fb9f3a"
             ],
             [
              0.8888888888888888,
              "#fdca26"
             ],
             [
              1,
              "#f0f921"
             ]
            ],
            "type": "surface"
           }
          ],
          "table": [
           {
            "cells": {
             "fill": {
              "color": "#EBF0F8"
             },
             "line": {
              "color": "white"
             }
            },
            "header": {
             "fill": {
              "color": "#C8D4E3"
             },
             "line": {
              "color": "white"
             }
            },
            "type": "table"
           }
          ]
         },
         "layout": {
          "annotationdefaults": {
           "arrowcolor": "#2a3f5f",
           "arrowhead": 0,
           "arrowwidth": 1
          },
          "autotypenumbers": "strict",
          "coloraxis": {
           "colorbar": {
            "outlinewidth": 0,
            "ticks": ""
           }
          },
          "colorscale": {
           "diverging": [
            [
             0,
             "#8e0152"
            ],
            [
             0.1,
             "#c51b7d"
            ],
            [
             0.2,
             "#de77ae"
            ],
            [
             0.3,
             "#f1b6da"
            ],
            [
             0.4,
             "#fde0ef"
            ],
            [
             0.5,
             "#f7f7f7"
            ],
            [
             0.6,
             "#e6f5d0"
            ],
            [
             0.7,
             "#b8e186"
            ],
            [
             0.8,
             "#7fbc41"
            ],
            [
             0.9,
             "#4d9221"
            ],
            [
             1,
             "#276419"
            ]
           ],
           "sequential": [
            [
             0,
             "#0d0887"
            ],
            [
             0.1111111111111111,
             "#46039f"
            ],
            [
             0.2222222222222222,
             "#7201a8"
            ],
            [
             0.3333333333333333,
             "#9c179e"
            ],
            [
             0.4444444444444444,
             "#bd3786"
            ],
            [
             0.5555555555555556,
             "#d8576b"
            ],
            [
             0.6666666666666666,
             "#ed7953"
            ],
            [
             0.7777777777777778,
             "#fb9f3a"
            ],
            [
             0.8888888888888888,
             "#fdca26"
            ],
            [
             1,
             "#f0f921"
            ]
           ],
           "sequentialminus": [
            [
             0,
             "#0d0887"
            ],
            [
             0.1111111111111111,
             "#46039f"
            ],
            [
             0.2222222222222222,
             "#7201a8"
            ],
            [
             0.3333333333333333,
             "#9c179e"
            ],
            [
             0.4444444444444444,
             "#bd3786"
            ],
            [
             0.5555555555555556,
             "#d8576b"
            ],
            [
             0.6666666666666666,
             "#ed7953"
            ],
            [
             0.7777777777777778,
             "#fb9f3a"
            ],
            [
             0.8888888888888888,
             "#fdca26"
            ],
            [
             1,
             "#f0f921"
            ]
           ]
          },
          "colorway": [
           "#636efa",
           "#EF553B",
           "#00cc96",
           "#ab63fa",
           "#FFA15A",
           "#19d3f3",
           "#FF6692",
           "#B6E880",
           "#FF97FF",
           "#FECB52"
          ],
          "font": {
           "color": "#2a3f5f"
          },
          "geo": {
           "bgcolor": "white",
           "lakecolor": "white",
           "landcolor": "#E5ECF6",
           "showlakes": true,
           "showland": true,
           "subunitcolor": "white"
          },
          "hoverlabel": {
           "align": "left"
          },
          "hovermode": "closest",
          "mapbox": {
           "style": "light"
          },
          "paper_bgcolor": "white",
          "plot_bgcolor": "#E5ECF6",
          "polar": {
           "angularaxis": {
            "gridcolor": "white",
            "linecolor": "white",
            "ticks": ""
           },
           "bgcolor": "#E5ECF6",
           "radialaxis": {
            "gridcolor": "white",
            "linecolor": "white",
            "ticks": ""
           }
          },
          "scene": {
           "xaxis": {
            "backgroundcolor": "#E5ECF6",
            "gridcolor": "white",
            "gridwidth": 2,
            "linecolor": "white",
            "showbackground": true,
            "ticks": "",
            "zerolinecolor": "white"
           },
           "yaxis": {
            "backgroundcolor": "#E5ECF6",
            "gridcolor": "white",
            "gridwidth": 2,
            "linecolor": "white",
            "showbackground": true,
            "ticks": "",
            "zerolinecolor": "white"
           },
           "zaxis": {
            "backgroundcolor": "#E5ECF6",
            "gridcolor": "white",
            "gridwidth": 2,
            "linecolor": "white",
            "showbackground": true,
            "ticks": "",
            "zerolinecolor": "white"
           }
          },
          "shapedefaults": {
           "line": {
            "color": "#2a3f5f"
           }
          },
          "ternary": {
           "aaxis": {
            "gridcolor": "white",
            "linecolor": "white",
            "ticks": ""
           },
           "baxis": {
            "gridcolor": "white",
            "linecolor": "white",
            "ticks": ""
           },
           "bgcolor": "#E5ECF6",
           "caxis": {
            "gridcolor": "white",
            "linecolor": "white",
            "ticks": ""
           }
          },
          "title": {
           "x": 0.05
          },
          "xaxis": {
           "automargin": true,
           "gridcolor": "white",
           "linecolor": "white",
           "ticks": "",
           "title": {
            "standoff": 15
           },
           "zerolinecolor": "white",
           "zerolinewidth": 2
          },
          "yaxis": {
           "automargin": true,
           "gridcolor": "white",
           "linecolor": "white",
           "ticks": "",
           "title": {
            "standoff": 15
           },
           "zerolinecolor": "white",
           "zerolinewidth": 2
          }
         }
        },
        "xaxis": {
         "anchor": "y",
         "domain": [
          0,
          1
         ],
         "title": {
          "text": "GarageYrBlt"
         }
        },
        "yaxis": {
         "anchor": "x",
         "domain": [
          0,
          1
         ],
         "title": {
          "text": "count"
         }
        }
       }
      },
      "text/html": [
       "<div>                            <div id=\"481012a5-c172-4658-960e-0d44b427f81c\" class=\"plotly-graph-div\" style=\"height:525px; width:100%;\"></div>            <script type=\"text/javascript\">                require([\"plotly\"], function(Plotly) {                    window.PLOTLYENV=window.PLOTLYENV || {};                                    if (document.getElementById(\"481012a5-c172-4658-960e-0d44b427f81c\")) {                    Plotly.newPlot(                        \"481012a5-c172-4658-960e-0d44b427f81c\",                        [{\"alignmentgroup\":\"True\",\"bingroup\":\"x\",\"hovertemplate\":\"GarageYrBlt=%{x}<br>count=%{y}<extra></extra>\",\"legendgroup\":\"\",\"marker\":{\"color\":\"#636efa\",\"pattern\":{\"shape\":\"\"}},\"name\":\"\",\"offsetgroup\":\"\",\"orientation\":\"v\",\"showlegend\":false,\"x\":[2003.0,1976.0,2001.0,1998.0,2000.0,1993.0,2004.0,1973.0,1931.0,1939.0,1965.0,2005.0,1962.0,2006.0,1960.0,1991.0,1970.0,1967.0,2004.0,1958.0,2005.0,1930.0,2002.0,1976.0,1968.0,2007.0,2005.0,2008.0,1957.0,1920.0,1920.0,1966.0,2007.0,1959.0,2005.0,2004.0,1995.0,1954.0,1953.0,null,1965.0,1959.0,1983.0,1977.0,1959.0,2005.0,2003.0,2006.0,null,1966.0,1997.0,1985.0,1963.0,1981.0,1962.0,1964.0,1999.0,2004.0,2006.0,1973.0,2006.0,1935.0,2006.0,1990.0,1998.0,2004.0,1970.0,2003.0,1945.0,1953.0,1973.0,1987.0,1998.0,1989.0,1915.0,1973.0,1956.0,1948.0,null,1966.0,1968.0,1998.0,2007.0,1974.0,1995.0,1991.0,2005.0,2009.0,null,null,1950.0,1961.0,1921.0,1900.0,1997.0,1993.0,1999.0,1965.0,1920.0,null,1977.0,1985.0,1979.0,2009.0,1951.0,2003.0,1954.0,1948.0,null,1977.0,1954.0,2000.0,2007.0,1953.0,1945.0,1999.0,1962.0,2007.0,1990.0,2005.0,1969.0,1979.0,1958.0,1993.0,1979.0,null,1977.0,null,1966.0,1998.0,1966.0,2000.0,1974.0,2001.0,1968.0,1970.0,1967.0,1989.0,1999.0,1997.0,null,2005.0,2000.0,1999.0,1963.0,2004.0,1931.0,2001.0,null,1936.0,1975.0,2007.0,1971.0,1960.0,1923.0,null,1950.0,2009.0,2004.0,2006.0,1984.0,2003.0,2005.0,null,1926.0,null,1955.0,2007.0,2004.0,1981.0,1991.0,1960.0,1987.0,1961.0,1986.0,1950.0,1988.0,1958.0,2009.0,1935.0,2000.0,1920.0,1957.0,2003.0,1986.0,1993.0,1990.0,1916.0,1979.0,2001.0,1932.0,1972.0,1999.0,2004.0,1989.0,1976.0,2007.0,1918.0,null,2004.0,2003.0,1980.0,1924.0,2004.0,1948.0,1990.0,1962.0,1960.0,1988.0,1964.0,null,2009.0,2009.0,1996.0,1977.0,1957.0,2004.0,1940.0,1939.0,2005.0,2006.0,2002.0,1975.0,1989.0,2003.0,1991.0,1995.0,1987.0,1974.0,2005.0,1959.0,1995.0,1972.0,1976.0,2002.0,1971.0,2004.0,1993.0,2007.0,1949.0,2008.0,null,1940.0,1980.0,1994.0,1988.0,1910.0,1954.0,2003.0,1958.0,null,2006.0,2004.0,1964.0,1957.0,1999.0,2003.0,2006.0,2001.0,1956.0,1991.0,2007.0,1978.0,1974.0,1965.0,1981.0,1997.0,1939.0,1966.0,1987.0,2006.0,1954.0,1999.0,1958.0,1982.0,1978.0,2003.0,1951.0,2007.0,1977.0,1989.0,2006.0,2008.0,2008.0,1992.0,2006.0,1962.0,null,1970.0,2003.0,2006.0,null,1949.0,1977.0,1953.0,1984.0,1950.0,1997.0,1968.0,1950.0,1953.0,1998.0,2001.0,1975.0,2003.0,2004.0,1990.0,null,1961.0,2003.0,1993.0,1948.0,1939.0,1965.0,1925.0,2004.0,1983.0,2006.0,1993.0,1980.0,2006.0,2004.0,1987.0,1955.0,1961.0,1941.0,1993.0,1960.0,1930.0,1920.0,2002.0,1958.0,2003.0,2004.0,1998.0,1965.0,2005.0,2002.0,1984.0,1958.0,2002.0,1950.0,1949.0,2005.0,1976.0,1939.0,1960.0,1960.0,2003.0,2006.0,2007.0,1986.0,1941.0,2005.0,1940.0,1995.0,1992.0,1976.0,1958.0,1998.0,1978.0,1940.0,2003.0,1972.0,1976.0,1964.0,1963.0,1962.0,1954.0,1997.0,2000.0,1991.0,1984.0,1953.0,2003.0,null,1998.0,2004.0,2010.0,2000.0,1924.0,2006.0,2006.0,1950.0,1992.0,2004.0,null,1977.0,1999.0,2008.0,1978.0,2001.0,1959.0,null,1940.0,1956.0,1985.0,1962.0,1920.0,2007.0,1996.0,2005.0,1940.0,1998.0,1995.0,1993.0,1936.0,1960.0,2006.0,2008.0,1958.0,1955.0,2009.0,1927.0,1993.0,2007.0,1978.0,1918.0,1940.0,1968.0,1997.0,1977.0,1954.0,1998.0,1956.0,1947.0,1989.0,1964.0,2007.0,1988.0,1971.0,null,1971.0,1997.0,null,1996.0,1990.0,1926.0,1990.0,2005.0,2008.0,null,1930.0,2007.0,1994.0,1956.0,1966.0,1998.0,1937.0,1981.0,1932.0,1975.0,1996.0,2008.0,1976.0,1973.0,1916.0,1954.0,1925.0,1950.0,2009.0,1971.0,1965.0,1939.0,null,2004.0,1970.0,1942.0,2006.0,1993.0,1985.0,1977.0,2005.0,2006.0,2000.0,1996.0,1997.0,2006.0,2007.0,1995.0,2004.0,2003.0,1915.0,1998.0,1963.0,1950.0,1965.0,1971.0,1970.0,1970.0,1976.0,1941.0,2006.0,1964.0,1938.0,null,1992.0,1925.0,1967.0,1958.0,1973.0,2005.0,1965.0,1959.0,1974.0,1952.0,1993.0,2009.0,1928.0,1959.0,1951.0,2005.0,1964.0,1983.0,1926.0,2009.0,1972.0,1996.0,1998.0,1926.0,null,1957.0,1950.0,2007.0,1996.0,2005.0,1956.0,2008.0,null,1975.0,1988.0,1920.0,1967.0,null,2004.0,null,1998.0,1980.0,1968.0,2001.0,2006.0,2000.0,1998.0,1998.0,2006.0,1988.0,1950.0,1987.0,1963.0,2003.0,1977.0,1957.0,2006.0,2002.0,2003.0,1922.0,1957.0,1994.0,1996.0,2003.0,1957.0,1975.0,null,1955.0,1992.0,1920.0,2005.0,2004.0,1983.0,1979.0,1987.0,1959.0,2009.0,2000.0,1971.0,1947.0,1928.0,1966.0,2007.0,1954.0,1960.0,2009.0,null,1988.0,1935.0,2005.0,1961.0,1996.0,1968.0,1988.0,2004.0,2008.0,1985.0,2003.0,1981.0,2005.0,1930.0,2006.0,1977.0,1980.0,2003.0,1979.0,1992.0,2004.0,2002.0,1965.0,2000.0,1948.0,1934.0,1961.0,2000.0,1978.0,2001.0,null,null,1963.0,2002.0,1962.0,2007.0,2003.0,null,1974.0,1986.0,2000.0,1972.0,1962.0,1960.0,1955.0,1969.0,1964.0,1937.0,2006.0,1977.0,1954.0,1980.0,null,null,1954.0,null,2006.0,2003.0,2001.0,1972.0,1969.0,2009.0,1979.0,1950.0,1953.0,1966.0,null,2007.0,1940.0,1996.0,1906.0,1995.0,1971.0,1959.0,1931.0,1948.0,1968.0,1976.0,1994.0,1968.0,1974.0,2005.0,2000.0,1965.0,1994.0,1999.0,1922.0,2005.0,1930.0,1977.0,1957.0,1965.0,1978.0,1920.0,1924.0,2008.0,1963.0,1980.0,1968.0,1996.0,2002.0,1998.0,1984.0,2007.0,2004.0,2007.0,2005.0,2004.0,1994.0,1989.0,1968.0,1995.0,1987.0,1921.0,1952.0,1973.0,2004.0,2002.0,1969.0,2006.0,1999.0,2004.0,null,1971.0,2006.0,2007.0,1966.0,null,1964.0,1988.0,1970.0,1976.0,1974.0,1996.0,1973.0,1993.0,1969.0,1985.0,2004.0,1994.0,1958.0,2007.0,1989.0,1988.0,2007.0,1968.0,1962.0,1995.0,2003.0,1998.0,1961.0,1968.0,1914.0,1949.0,2005.0,null,2004.0,1910.0,1962.0,2000.0,1997.0,1993.0,1994.0,2000.0,1950.0,1996.0,1945.0,null,2003.0,1997.0,2005.0,1969.0,1999.0,2007.0,1978.0,1999.0,1995.0,2008.0,1965.0,2009.0,1999.0,1995.0,2008.0,1988.0,1989.0,2004.0,2003.0,1983.0,1951.0,1976.0,1958.0,2006.0,1998.0,2005.0,1974.0,1977.0,1977.0,1995.0,1992.0,2001.0,1978.0,null,1967.0,1961.0,2004.0,1954.0,1966.0,2005.0,1976.0,1997.0,2007.0,1994.0,1980.0,1977.0,1953.0,2009.0,1939.0,1997.0,1957.0,2005.0,2009.0,1954.0,2008.0,1967.0,1923.0,1966.0,1910.0,1974.0,2004.0,1952.0,1958.0,1955.0,1998.0,1954.0,2002.0,1971.0,2010.0,2003.0,1974.0,2003.0,1940.0,2006.0,2007.0,null,2001.0,1967.0,2005.0,1957.0,2005.0,2003.0,1964.0,1961.0,1996.0,1948.0,1973.0,1999.0,1946.0,1934.0,1983.0,1966.0,null,1949.0,1975.0,1993.0,1972.0,1908.0,1976.0,2003.0,2003.0,1941.0,1964.0,1955.0,1962.0,1981.0,1994.0,1976.0,1968.0,1925.0,1965.0,1986.0,1959.0,2008.0,1973.0,2007.0,1961.0,1979.0,1993.0,1962.0,1998.0,1953.0,1949.0,1941.0,2007.0,1963.0,2004.0,1987.0,1978.0,2005.0,1990.0,1993.0,1997.0,1967.0,1999.0,2005.0,1955.0,1970.0,1953.0,2003.0,1978.0,1963.0,1954.0,1979.0,1963.0,1936.0,1979.0,2009.0,1961.0,1979.0,1968.0,2003.0,2006.0,1967.0,1954.0,2006.0,1936.0,1983.0,2005.0,1960.0,1978.0,1925.0,1949.0,2009.0,1970.0,1958.0,1956.0,1991.0,1990.0,1994.0,null,2005.0,1993.0,1980.0,1977.0,2003.0,1968.0,2001.0,1997.0,2007.0,1965.0,2006.0,2004.0,1960.0,1953.0,2003.0,2005.0,2006.0,1940.0,1976.0,1999.0,null,1967.0,1958.0,1963.0,1959.0,2002.0,2002.0,1972.0,1980.0,1979.0,1974.0,1969.0,null,1946.0,1980.0,1977.0,2003.0,1999.0,null,1977.0,1976.0,2007.0,2002.0,2005.0,1940.0,1955.0,null,1958.0,null,2003.0,1979.0,2007.0,1997.0,2000.0,null,2007.0,1999.0,1963.0,1961.0,1998.0,2007.0,2002.0,1977.0,1950.0,1950.0,2010.0,1976.0,2006.0,1997.0,1925.0,1964.0,2005.0,2008.0,1946.0,1961.0,1970.0,1922.0,2006.0,1956.0,1920.0,2006.0,1976.0,2005.0,1977.0,1970.0,1970.0,2004.0,null,1948.0,null,1923.0,1956.0,1948.0,2001.0,1996.0,1984.0,1991.0,2005.0,2005.0,2006.0,1957.0,2005.0,1976.0,1980.0,1960.0,2008.0,1941.0,1972.0,null,1970.0,1993.0,2002.0,1938.0,1957.0,2008.0,2001.0,null,1970.0,1957.0,1966.0,2005.0,1990.0,1981.0,1955.0,2005.0,1996.0,1960.0,1946.0,2007.0,2007.0,1964.0,1957.0,2002.0,1976.0,2005.0,1994.0,2008.0,1977.0,2001.0,1994.0,1945.0,1976.0,1966.0,1996.0,1993.0,1964.0,1973.0,1985.0,1956.0,1968.0,1954.0,1977.0,2006.0,1940.0,1950.0,1969.0,2004.0,1996.0,1971.0,1963.0,2002.0,1964.0,1995.0,1992.0,1973.0,2005.0,2004.0,2005.0,1987.0,1999.0,1925.0,1977.0,1956.0,2006.0,null,1987.0,1936.0,1978.0,1930.0,1981.0,1960.0,1954.0,1970.0,1994.0,1990.0,2006.0,2000.0,2004.0,1995.0,1976.0,1957.0,1953.0,1955.0,2007.0,2002.0,1967.0,1958.0,1959.0,1920.0,2005.0,1956.0,null,1992.0,1977.0,2007.0,2004.0,2004.0,1980.0,1981.0,null,1930.0,1995.0,1997.0,1926.0,1950.0,null,1977.0,1972.0,1988.0,1976.0,2006.0,null,1941.0,1928.0,1985.0,1941.0,1982.0,1930.0,1950.0,1959.0,1956.0,2002.0,1965.0,1976.0,1965.0,2008.0,2008.0,1974.0,1978.0,1993.0,1968.0,1969.0,1978.0,2009.0,2008.0,2000.0,1935.0,1995.0,1977.0,1958.0,2006.0,null,1932.0,1992.0,1984.0,1926.0,1921.0,null,1990.0,2008.0,1996.0,1970.0,1963.0,1965.0,1920.0,1994.0,2002.0,1999.0,1975.0,1999.0,1925.0,1999.0,1969.0,2005.0,2006.0,1916.0,2001.0,1974.0,1972.0,1998.0,1960.0,2000.0,1975.0,1990.0,1966.0,2003.0,1980.0,2006.0,1992.0,1988.0,1941.0,1965.0,1962.0,1966.0,1978.0,2009.0,null,null,1964.0,1968.0,1949.0,1951.0,2004.0,1958.0,2007.0,1992.0,2008.0,1960.0,1977.0,1962.0,1962.0,1959.0,null,1914.0,2003.0,2004.0,2005.0,2006.0,2003.0,2007.0,1974.0,2006.0,1931.0,1984.0,2005.0,1976.0,1950.0,1950.0,1968.0,2003.0,1968.0,1974.0,2003.0,1978.0,1994.0,null,2005.0,1969.0,1999.0,1956.0,1957.0,1940.0,1998.0,1999.0,1960.0,2009.0,1982.0,1958.0,1979.0,1968.0,1965.0,1959.0,1985.0,1948.0,1972.0,1967.0,2002.0,1980.0,2002.0,1990.0,1977.0,null,1969.0,1939.0,1963.0,1964.0,2000.0,2006.0,1964.0,1972.0,1985.0,1976.0,1957.0,1968.0,1963.0,2005.0,2008.0,1959.0,1999.0,1942.0,1994.0,2005.0,2004.0,2006.0,2005.0,2000.0,1948.0,1991.0,1959.0,2005.0,1990.0,1999.0,1956.0,1969.0,2008.0,2006.0,2001.0,1954.0,1957.0,1955.0,1992.0,null,2007.0,null,null,1982.0,1920.0,1998.0,2006.0,1976.0,1958.0,1951.0,1970.0,1977.0,1973.0,null,2002.0,1972.0,1974.0,2004.0,2002.0,1929.0,2006.0,1997.0,1968.0,2006.0,1998.0,null,1969.0,1962.0,1999.0,1996.0,2000.0,1968.0,1966.0,1971.0,2000.0,2004.0,1998.0,2005.0,1920.0,2007.0,2005.0,2000.0,1999.0,1977.0,2003.0,2003.0,1967.0,1955.0,1998.0,2001.0,2005.0,2007.0,1925.0,1977.0,1973.0,2007.0,1938.0,1970.0,1989.0,2007.0,1939.0,1922.0,1978.0,1916.0,2006.0,2003.0,2000.0,1967.0,1967.0,2003.0,2006.0,2005.0,1966.0,1933.0,1950.0,1925.0,1929.0,2004.0,2006.0,2007.0,1998.0,2004.0,1988.0,null,1966.0,1986.0,2001.0,1950.0,1956.0,2005.0,1922.0,2007.0,1971.0,1998.0,1962.0,1969.0,1968.0,1977.0,2003.0,1966.0,1970.0,1960.0,1994.0,1962.0,1940.0,1981.0,2005.0,1976.0,1928.0,2000.0,1977.0,1962.0,1974.0,2008.0,1957.0,1979.0,1993.0,2004.0,2008.0,1916.0,2004.0,1990.0,1962.0,1995.0,1950.0,null,null,2008.0,2005.0,null,2004.0,1999.0,1978.0,1941.0,1950.0,1965.0],\"xaxis\":\"x\",\"yaxis\":\"y\",\"type\":\"histogram\"}],                        {\"template\":{\"data\":{\"histogram2dcontour\":[{\"type\":\"histogram2dcontour\",\"colorbar\":{\"outlinewidth\":0,\"ticks\":\"\"},\"colorscale\":[[0.0,\"#0d0887\"],[0.1111111111111111,\"#46039f\"],[0.2222222222222222,\"#7201a8\"],[0.3333333333333333,\"#9c179e\"],[0.4444444444444444,\"#bd3786\"],[0.5555555555555556,\"#d8576b\"],[0.6666666666666666,\"#ed7953\"],[0.7777777777777778,\"#fb9f3a\"],[0.8888888888888888,\"#fdca26\"],[1.0,\"#f0f921\"]]}],\"choropleth\":[{\"type\":\"choropleth\",\"colorbar\":{\"outlinewidth\":0,\"ticks\":\"\"}}],\"histogram2d\":[{\"type\":\"histogram2d\",\"colorbar\":{\"outlinewidth\":0,\"ticks\":\"\"},\"colorscale\":[[0.0,\"#0d0887\"],[0.1111111111111111,\"#46039f\"],[0.2222222222222222,\"#7201a8\"],[0.3333333333333333,\"#9c179e\"],[0.4444444444444444,\"#bd3786\"],[0.5555555555555556,\"#d8576b\"],[0.6666666666666666,\"#ed7953\"],[0.7777777777777778,\"#fb9f3a\"],[0.8888888888888888,\"#fdca26\"],[1.0,\"#f0f921\"]]}],\"heatmap\":[{\"type\":\"heatmap\",\"colorbar\":{\"outlinewidth\":0,\"ticks\":\"\"},\"colorscale\":[[0.0,\"#0d0887\"],[0.1111111111111111,\"#46039f\"],[0.2222222222222222,\"#7201a8\"],[0.3333333333333333,\"#9c179e\"],[0.4444444444444444,\"#bd3786\"],[0.5555555555555556,\"#d8576b\"],[0.6666666666666666,\"#ed7953\"],[0.7777777777777778,\"#fb9f3a\"],[0.8888888888888888,\"#fdca26\"],[1.0,\"#f0f921\"]]}],\"heatmapgl\":[{\"type\":\"heatmapgl\",\"colorbar\":{\"outlinewidth\":0,\"ticks\":\"\"},\"colorscale\":[[0.0,\"#0d0887\"],[0.1111111111111111,\"#46039f\"],[0.2222222222222222,\"#7201a8\"],[0.3333333333333333,\"#9c179e\"],[0.4444444444444444,\"#bd3786\"],[0.5555555555555556,\"#d8576b\"],[0.6666666666666666,\"#ed7953\"],[0.7777777777777778,\"#fb9f3a\"],[0.8888888888888888,\"#fdca26\"],[1.0,\"#f0f921\"]]}],\"contourcarpet\":[{\"type\":\"contourcarpet\",\"colorbar\":{\"outlinewidth\":0,\"ticks\":\"\"}}],\"contour\":[{\"type\":\"contour\",\"colorbar\":{\"outlinewidth\":0,\"ticks\":\"\"},\"colorscale\":[[0.0,\"#0d0887\"],[0.1111111111111111,\"#46039f\"],[0.2222222222222222,\"#7201a8\"],[0.3333333333333333,\"#9c179e\"],[0.4444444444444444,\"#bd3786\"],[0.5555555555555556,\"#d8576b\"],[0.6666666666666666,\"#ed7953\"],[0.7777777777777778,\"#fb9f3a\"],[0.8888888888888888,\"#fdca26\"],[1.0,\"#f0f921\"]]}],\"surface\":[{\"type\":\"surface\",\"colorbar\":{\"outlinewidth\":0,\"ticks\":\"\"},\"colorscale\":[[0.0,\"#0d0887\"],[0.1111111111111111,\"#46039f\"],[0.2222222222222222,\"#7201a8\"],[0.3333333333333333,\"#9c179e\"],[0.4444444444444444,\"#bd3786\"],[0.5555555555555556,\"#d8576b\"],[0.6666666666666666,\"#ed7953\"],[0.7777777777777778,\"#fb9f3a\"],[0.8888888888888888,\"#fdca26\"],[1.0,\"#f0f921\"]]}],\"mesh3d\":[{\"type\":\"mesh3d\",\"colorbar\":{\"outlinewidth\":0,\"ticks\":\"\"}}],\"scatter\":[{\"fillpattern\":{\"fillmode\":\"overlay\",\"size\":10,\"solidity\":0.2},\"type\":\"scatter\"}],\"parcoords\":[{\"type\":\"parcoords\",\"line\":{\"colorbar\":{\"outlinewidth\":0,\"ticks\":\"\"}}}],\"scatterpolargl\":[{\"type\":\"scatterpolargl\",\"marker\":{\"colorbar\":{\"outlinewidth\":0,\"ticks\":\"\"}}}],\"bar\":[{\"error_x\":{\"color\":\"#2a3f5f\"},\"error_y\":{\"color\":\"#2a3f5f\"},\"marker\":{\"line\":{\"color\":\"#E5ECF6\",\"width\":0.5},\"pattern\":{\"fillmode\":\"overlay\",\"size\":10,\"solidity\":0.2}},\"type\":\"bar\"}],\"scattergeo\":[{\"type\":\"scattergeo\",\"marker\":{\"colorbar\":{\"outlinewidth\":0,\"ticks\":\"\"}}}],\"scatterpolar\":[{\"type\":\"scatterpolar\",\"marker\":{\"colorbar\":{\"outlinewidth\":0,\"ticks\":\"\"}}}],\"histogram\":[{\"marker\":{\"pattern\":{\"fillmode\":\"overlay\",\"size\":10,\"solidity\":0.2}},\"type\":\"histogram\"}],\"scattergl\":[{\"type\":\"scattergl\",\"marker\":{\"colorbar\":{\"outlinewidth\":0,\"ticks\":\"\"}}}],\"scatter3d\":[{\"type\":\"scatter3d\",\"line\":{\"colorbar\":{\"outlinewidth\":0,\"ticks\":\"\"}},\"marker\":{\"colorbar\":{\"outlinewidth\":0,\"ticks\":\"\"}}}],\"scattermapbox\":[{\"type\":\"scattermapbox\",\"marker\":{\"colorbar\":{\"outlinewidth\":0,\"ticks\":\"\"}}}],\"scatterternary\":[{\"type\":\"scatterternary\",\"marker\":{\"colorbar\":{\"outlinewidth\":0,\"ticks\":\"\"}}}],\"scattercarpet\":[{\"type\":\"scattercarpet\",\"marker\":{\"colorbar\":{\"outlinewidth\":0,\"ticks\":\"\"}}}],\"carpet\":[{\"aaxis\":{\"endlinecolor\":\"#2a3f5f\",\"gridcolor\":\"white\",\"linecolor\":\"white\",\"minorgridcolor\":\"white\",\"startlinecolor\":\"#2a3f5f\"},\"baxis\":{\"endlinecolor\":\"#2a3f5f\",\"gridcolor\":\"white\",\"linecolor\":\"white\",\"minorgridcolor\":\"white\",\"startlinecolor\":\"#2a3f5f\"},\"type\":\"carpet\"}],\"table\":[{\"cells\":{\"fill\":{\"color\":\"#EBF0F8\"},\"line\":{\"color\":\"white\"}},\"header\":{\"fill\":{\"color\":\"#C8D4E3\"},\"line\":{\"color\":\"white\"}},\"type\":\"table\"}],\"barpolar\":[{\"marker\":{\"line\":{\"color\":\"#E5ECF6\",\"width\":0.5},\"pattern\":{\"fillmode\":\"overlay\",\"size\":10,\"solidity\":0.2}},\"type\":\"barpolar\"}],\"pie\":[{\"automargin\":true,\"type\":\"pie\"}]},\"layout\":{\"autotypenumbers\":\"strict\",\"colorway\":[\"#636efa\",\"#EF553B\",\"#00cc96\",\"#ab63fa\",\"#FFA15A\",\"#19d3f3\",\"#FF6692\",\"#B6E880\",\"#FF97FF\",\"#FECB52\"],\"font\":{\"color\":\"#2a3f5f\"},\"hovermode\":\"closest\",\"hoverlabel\":{\"align\":\"left\"},\"paper_bgcolor\":\"white\",\"plot_bgcolor\":\"#E5ECF6\",\"polar\":{\"bgcolor\":\"#E5ECF6\",\"angularaxis\":{\"gridcolor\":\"white\",\"linecolor\":\"white\",\"ticks\":\"\"},\"radialaxis\":{\"gridcolor\":\"white\",\"linecolor\":\"white\",\"ticks\":\"\"}},\"ternary\":{\"bgcolor\":\"#E5ECF6\",\"aaxis\":{\"gridcolor\":\"white\",\"linecolor\":\"white\",\"ticks\":\"\"},\"baxis\":{\"gridcolor\":\"white\",\"linecolor\":\"white\",\"ticks\":\"\"},\"caxis\":{\"gridcolor\":\"white\",\"linecolor\":\"white\",\"ticks\":\"\"}},\"coloraxis\":{\"colorbar\":{\"outlinewidth\":0,\"ticks\":\"\"}},\"colorscale\":{\"sequential\":[[0.0,\"#0d0887\"],[0.1111111111111111,\"#46039f\"],[0.2222222222222222,\"#7201a8\"],[0.3333333333333333,\"#9c179e\"],[0.4444444444444444,\"#bd3786\"],[0.5555555555555556,\"#d8576b\"],[0.6666666666666666,\"#ed7953\"],[0.7777777777777778,\"#fb9f3a\"],[0.8888888888888888,\"#fdca26\"],[1.0,\"#f0f921\"]],\"sequentialminus\":[[0.0,\"#0d0887\"],[0.1111111111111111,\"#46039f\"],[0.2222222222222222,\"#7201a8\"],[0.3333333333333333,\"#9c179e\"],[0.4444444444444444,\"#bd3786\"],[0.5555555555555556,\"#d8576b\"],[0.6666666666666666,\"#ed7953\"],[0.7777777777777778,\"#fb9f3a\"],[0.8888888888888888,\"#fdca26\"],[1.0,\"#f0f921\"]],\"diverging\":[[0,\"#8e0152\"],[0.1,\"#c51b7d\"],[0.2,\"#de77ae\"],[0.3,\"#f1b6da\"],[0.4,\"#fde0ef\"],[0.5,\"#f7f7f7\"],[0.6,\"#e6f5d0\"],[0.7,\"#b8e186\"],[0.8,\"#7fbc41\"],[0.9,\"#4d9221\"],[1,\"#276419\"]]},\"xaxis\":{\"gridcolor\":\"white\",\"linecolor\":\"white\",\"ticks\":\"\",\"title\":{\"standoff\":15},\"zerolinecolor\":\"white\",\"automargin\":true,\"zerolinewidth\":2},\"yaxis\":{\"gridcolor\":\"white\",\"linecolor\":\"white\",\"ticks\":\"\",\"title\":{\"standoff\":15},\"zerolinecolor\":\"white\",\"automargin\":true,\"zerolinewidth\":2},\"scene\":{\"xaxis\":{\"backgroundcolor\":\"#E5ECF6\",\"gridcolor\":\"white\",\"linecolor\":\"white\",\"showbackground\":true,\"ticks\":\"\",\"zerolinecolor\":\"white\",\"gridwidth\":2},\"yaxis\":{\"backgroundcolor\":\"#E5ECF6\",\"gridcolor\":\"white\",\"linecolor\":\"white\",\"showbackground\":true,\"ticks\":\"\",\"zerolinecolor\":\"white\",\"gridwidth\":2},\"zaxis\":{\"backgroundcolor\":\"#E5ECF6\",\"gridcolor\":\"white\",\"linecolor\":\"white\",\"showbackground\":true,\"ticks\":\"\",\"zerolinecolor\":\"white\",\"gridwidth\":2}},\"shapedefaults\":{\"line\":{\"color\":\"#2a3f5f\"}},\"annotationdefaults\":{\"arrowcolor\":\"#2a3f5f\",\"arrowhead\":0,\"arrowwidth\":1},\"geo\":{\"bgcolor\":\"white\",\"landcolor\":\"#E5ECF6\",\"subunitcolor\":\"white\",\"showland\":true,\"showlakes\":true,\"lakecolor\":\"white\"},\"title\":{\"x\":0.05},\"mapbox\":{\"style\":\"light\"}}},\"xaxis\":{\"anchor\":\"y\",\"domain\":[0.0,1.0],\"title\":{\"text\":\"GarageYrBlt\"}},\"yaxis\":{\"anchor\":\"x\",\"domain\":[0.0,1.0],\"title\":{\"text\":\"count\"}},\"legend\":{\"tracegroupgap\":0},\"margin\":{\"t\":60},\"barmode\":\"relative\"},                        {\"responsive\": true}                    ).then(function(){\n",
       "                            \n",
       "var gd = document.getElementById('481012a5-c172-4658-960e-0d44b427f81c');\n",
       "var x = new MutationObserver(function (mutations, observer) {{\n",
       "        var display = window.getComputedStyle(gd).display;\n",
       "        if (!display || display === 'none') {{\n",
       "            console.log([gd, 'removed!']);\n",
       "            Plotly.purge(gd);\n",
       "            observer.disconnect();\n",
       "        }}\n",
       "}});\n",
       "\n",
       "// Listen for the removal of the full notebook cells\n",
       "var notebookContainer = gd.closest('#notebook-container');\n",
       "if (notebookContainer) {{\n",
       "    x.observe(notebookContainer, {childList: true});\n",
       "}}\n",
       "\n",
       "// Listen for the clearing of the current output cell\n",
       "var outputEl = gd.closest('.output');\n",
       "if (outputEl) {{\n",
       "    x.observe(outputEl, {childList: true});\n",
       "}}\n",
       "\n",
       "                        })                };                });            </script>        </div>"
      ]
     },
     "metadata": {},
     "output_type": "display_data"
    }
   ],
   "source": [
    "# A graph in nans columns\n",
    "for i in range(len(nanColumns)):\n",
    "    fig = px.histogram(dataSet, x = nanColumns[i])\n",
    "    fig.show()"
   ]
  },
  {
   "cell_type": "code",
   "execution_count": 177,
   "id": "0491c110",
   "metadata": {},
   "outputs": [
    {
     "data": {
      "application/vnd.plotly.v1+json": {
       "config": {
        "plotlyServerURL": "https://plot.ly"
       },
       "data": [
        {
         "coloraxis": "coloraxis",
         "hovertemplate": "LotFrontage=%{x}<br>YearBuilt=%{y}<br>count=%{z}<extra></extra>",
         "name": "",
         "type": "histogram2d",
         "x": [
          65,
          80,
          68,
          60,
          84,
          85,
          75,
          null,
          51,
          50,
          70,
          85,
          null,
          91,
          null,
          51,
          null,
          72,
          66,
          70,
          101,
          57,
          75,
          44,
          null,
          110,
          60,
          98,
          47,
          60,
          50,
          null,
          85,
          70,
          60,
          108,
          112,
          74,
          68,
          65,
          84,
          115,
          null,
          null,
          70,
          61,
          48,
          84,
          33,
          66,
          null,
          52,
          110,
          68,
          60,
          100,
          24,
          89,
          66,
          60,
          63,
          60,
          44,
          50,
          null,
          76,
          null,
          72,
          47,
          81,
          95,
          69,
          74,
          85,
          60,
          21,
          null,
          50,
          72,
          60,
          100,
          32,
          78,
          80,
          null,
          121,
          122,
          40,
          105,
          60,
          60,
          85,
          80,
          60,
          69,
          null,
          78,
          73,
          85,
          77,
          null,
          77,
          64,
          94,
          null,
          75,
          60,
          50,
          85,
          105,
          75,
          null,
          77,
          null,
          61,
          34,
          null,
          74,
          90,
          65,
          null,
          50,
          75,
          55,
          48,
          60,
          null,
          55,
          69,
          69,
          88,
          null,
          75,
          null,
          78,
          80,
          null,
          82,
          73,
          65,
          70,
          78,
          71,
          78,
          70,
          24,
          51,
          null,
          63,
          null,
          120,
          107,
          null,
          null,
          84,
          60,
          60,
          92,
          100,
          134,
          null,
          110,
          95,
          55,
          40,
          62,
          null,
          86,
          62,
          null,
          null,
          141,
          44,
          80,
          47,
          84,
          97,
          null,
          63,
          60,
          null,
          54,
          60,
          63,
          92,
          90,
          null,
          60,
          64,
          41,
          70,
          null,
          68,
          24,
          60,
          24,
          79,
          174,
          92,
          76,
          80,
          75,
          50,
          null,
          50,
          99,
          40,
          null,
          null,
          75,
          67,
          83,
          72,
          43,
          null,
          72,
          65,
          57,
          null,
          43,
          73,
          null,
          85,
          70,
          103,
          21,
          82,
          21,
          70,
          43,
          73,
          174,
          21,
          75,
          null,
          21,
          65,
          null,
          93,
          52,
          75,
          40,
          63,
          75,
          null,
          80,
          69,
          75,
          72,
          null,
          55,
          44,
          65,
          85,
          70,
          66,
          64,
          68,
          80,
          70,
          120,
          69,
          88,
          50,
          30,
          78,
          70,
          60,
          71,
          null,
          84,
          73,
          92,
          80,
          76,
          55,
          129,
          140,
          107,
          83,
          82,
          60,
          34,
          74,
          50,
          35,
          77,
          null,
          null,
          60,
          120,
          55,
          60,
          null,
          80,
          37,
          75,
          66,
          90,
          80,
          90,
          66,
          118,
          70,
          87,
          80,
          116,
          null,
          null,
          90,
          null,
          50,
          65,
          150,
          60,
          71,
          94,
          75,
          90,
          null,
          111,
          99,
          86,
          49,
          96,
          50,
          32,
          80,
          null,
          60,
          null,
          70,
          85,
          59,
          59,
          null,
          86,
          70,
          91,
          66,
          85,
          60,
          null,
          63,
          36,
          65,
          null,
          null,
          36,
          56,
          68,
          null,
          60,
          60,
          60,
          105,
          null,
          44,
          92,
          78,
          null,
          null,
          64,
          21,
          null,
          59,
          null,
          101,
          78,
          null,
          null,
          80,
          50,
          79,
          65,
          null,
          57,
          102,
          88,
          60,
          50,
          60,
          79,
          60,
          null,
          43,
          58,
          72,
          93,
          96,
          50,
          71,
          null,
          null,
          60,
          68,
          60,
          69,
          60,
          65,
          38,
          65,
          60,
          93,
          null,
          null,
          51,
          63,
          109,
          85,
          68,
          100,
          null,
          56,
          59,
          73,
          74,
          86,
          60,
          65,
          78,
          null,
          100,
          80,
          72,
          60,
          null,
          77,
          64,
          130,
          21,
          60,
          24,
          100,
          21,
          43,
          40,
          50,
          40,
          67,
          105,
          92,
          52,
          53,
          70,
          73,
          137,
          null,
          50,
          50,
          70,
          62,
          null,
          75,
          63,
          80,
          34,
          null,
          null,
          null,
          75,
          60,
          60,
          74,
          60,
          null,
          85,
          79,
          98,
          76,
          null,
          92,
          35,
          110,
          41,
          80,
          75,
          105,
          79,
          50,
          98,
          72,
          50,
          32,
          null,
          80,
          79,
          70,
          60,
          21,
          null,
          79,
          105,
          70,
          50,
          60,
          null,
          60,
          65,
          70,
          21,
          75,
          70,
          100,
          24,
          60,
          80,
          75,
          60,
          80,
          75,
          40,
          70,
          71,
          55,
          94,
          null,
          79,
          null,
          53,
          60,
          90,
          50,
          130,
          95,
          62,
          70,
          67,
          58,
          null,
          85,
          60,
          60,
          50,
          74,
          70,
          57,
          null,
          null,
          null,
          85,
          null,
          78,
          34,
          58,
          null,
          70,
          54,
          49,
          75,
          53,
          50,
          87,
          67,
          85,
          58,
          69,
          60,
          57,
          null,
          null,
          77,
          63,
          66,
          null,
          66,
          77,
          70,
          79,
          null,
          74,
          60,
          83,
          76,
          70,
          80,
          52,
          96,
          34,
          81,
          null,
          98,
          81,
          75,
          51,
          88,
          55,
          74,
          65,
          50,
          64,
          97,
          60,
          null,
          88,
          69,
          60,
          53,
          80,
          24,
          74,
          50,
          80,
          30,
          88,
          85,
          82,
          78,
          78,
          61,
          null,
          null,
          null,
          70,
          21,
          80,
          null,
          59,
          90,
          85,
          45,
          90,
          71,
          null,
          80,
          87,
          null,
          80,
          70,
          82,
          50,
          34,
          85,
          80,
          64,
          60,
          51,
          50,
          67,
          53,
          62,
          null,
          75,
          80,
          85,
          null,
          60,
          85,
          70,
          21,
          65,
          60,
          70,
          60,
          91,
          21,
          72,
          60,
          78,
          75,
          null,
          52,
          120,
          90,
          49,
          106,
          null,
          65,
          null,
          80,
          64,
          54,
          null,
          110,
          80,
          24,
          60,
          52,
          80,
          null,
          50,
          55,
          null,
          90,
          58,
          null,
          84,
          null,
          60,
          61,
          null,
          104,
          42,
          60,
          51,
          54,
          50,
          57,
          65,
          59,
          85,
          80,
          82,
          76,
          70,
          70,
          null,
          48,
          65,
          null,
          56,
          66,
          40,
          60,
          null,
          78,
          60,
          80,
          96,
          69,
          null,
          null,
          70,
          60,
          86,
          60,
          null,
          64,
          85,
          52,
          39,
          73,
          75,
          80,
          null,
          60,
          60,
          72,
          60,
          65,
          60,
          65,
          65,
          70,
          41,
          null,
          null,
          65,
          59,
          50,
          55,
          null,
          79,
          80,
          61,
          34,
          68,
          null,
          24,
          65,
          70,
          60,
          72,
          82,
          30,
          75,
          80,
          75,
          70,
          47,
          null,
          67,
          94,
          70,
          110,
          32,
          86,
          100,
          60,
          78,
          63,
          65,
          67,
          null,
          35,
          null,
          60,
          76,
          50,
          null,
          43,
          null,
          92,
          76,
          null,
          70,
          71,
          57,
          104,
          60,
          79,
          40,
          63,
          107,
          75,
          91,
          75,
          144,
          85,
          90,
          78,
          null,
          66,
          75,
          45,
          48,
          null,
          null,
          80,
          44,
          72,
          60,
          null,
          60,
          81,
          114,
          50,
          65,
          null,
          24,
          80,
          30,
          44,
          100,
          75,
          60,
          90,
          21,
          75,
          70,
          null,
          60,
          82,
          80,
          100,
          null,
          75,
          36,
          75,
          80,
          36,
          null,
          53,
          null,
          102,
          null,
          null,
          65,
          80,
          null,
          55,
          75,
          81,
          70,
          72,
          null,
          67,
          85,
          null,
          80,
          60,
          70,
          74,
          60,
          52,
          75,
          94,
          74,
          88,
          null,
          60,
          44,
          null,
          60,
          65,
          50,
          70,
          59,
          95,
          128,
          60,
          70,
          70,
          null,
          64,
          71,
          50,
          64,
          100,
          65,
          null,
          64,
          63,
          50,
          null,
          80,
          116,
          86,
          null,
          149,
          80,
          null,
          51,
          82,
          30,
          21,
          50,
          null,
          103,
          87,
          70,
          67,
          65,
          50,
          79,
          null,
          93,
          null,
          null,
          null,
          73,
          70,
          84,
          63,
          313,
          52,
          67,
          75,
          73,
          null,
          55,
          null,
          42,
          100,
          null,
          98,
          70,
          85,
          65,
          78,
          60,
          60,
          60,
          null,
          35,
          82,
          24,
          70,
          65,
          24,
          50,
          null,
          24,
          122,
          80,
          65,
          130,
          null,
          50,
          75,
          60,
          36,
          55,
          95,
          60,
          null,
          51,
          35,
          68,
          80,
          null,
          98,
          43,
          null,
          75,
          68,
          59,
          83,
          null,
          65,
          82,
          121,
          80,
          68,
          96,
          51,
          null,
          null,
          60,
          64,
          74,
          60,
          75,
          null,
          43,
          65,
          null,
          21,
          43,
          60,
          115,
          75,
          55,
          60,
          60,
          70,
          73,
          null,
          null,
          43,
          60,
          64,
          52,
          43,
          null,
          70,
          73,
          71,
          79,
          21,
          null,
          102,
          null,
          null,
          50,
          null,
          89,
          null,
          21,
          21,
          88,
          null,
          34,
          86,
          80,
          null,
          85,
          57,
          100,
          60,
          73,
          103,
          100,
          68,
          90,
          104,
          43,
          null,
          96,
          null,
          41,
          120,
          85,
          50,
          null,
          80,
          59,
          80,
          42,
          60,
          72,
          78,
          50,
          75,
          74,
          75,
          60,
          null,
          37,
          65,
          80,
          75,
          70,
          80,
          null,
          73,
          null,
          85,
          24,
          37,
          60,
          24,
          60,
          71,
          74,
          78,
          60,
          null,
          50,
          82,
          60,
          61,
          70,
          79,
          24,
          98,
          114,
          168,
          null,
          107,
          null,
          80,
          73,
          66,
          90,
          93,
          null,
          57,
          85,
          70,
          59,
          84,
          null,
          50,
          null,
          60,
          53,
          182,
          59,
          60,
          65,
          63,
          90,
          80,
          57,
          60,
          80,
          54,
          null,
          98,
          60,
          null,
          77,
          null,
          60,
          52,
          null,
          75,
          null,
          50,
          57,
          134,
          90,
          null,
          null,
          90,
          85,
          34,
          92,
          76,
          24,
          null,
          109,
          60,
          null,
          79,
          64,
          58,
          120,
          118,
          76,
          76,
          35,
          138,
          80,
          85,
          37,
          null,
          54,
          77,
          null,
          64,
          160,
          60,
          50,
          60,
          107,
          89,
          68,
          60,
          null,
          24,
          60,
          null,
          80,
          51,
          58,
          65,
          70,
          75,
          71,
          80,
          50,
          75,
          78,
          90,
          null,
          70,
          70,
          85,
          70,
          152,
          50,
          null,
          69,
          99,
          68,
          72,
          52,
          21,
          66,
          55,
          78,
          89,
          60,
          65,
          86,
          72,
          65,
          70,
          null,
          70,
          70,
          null,
          55,
          96,
          36,
          41,
          63,
          64,
          65,
          83,
          85,
          107,
          null,
          78,
          65,
          null,
          60,
          60,
          93,
          null,
          62,
          null,
          60,
          52,
          91,
          56,
          59,
          65,
          null,
          80,
          null,
          60,
          34,
          35,
          60,
          89,
          null,
          78,
          null,
          null,
          null,
          124,
          53,
          95,
          null,
          null,
          75,
          60,
          67,
          50,
          61,
          94,
          50,
          50,
          null,
          null,
          40,
          86,
          null,
          21,
          60,
          78,
          60,
          70,
          80,
          35,
          313,
          75,
          null,
          null,
          92,
          73,
          32,
          108,
          48,
          60,
          100,
          null,
          100,
          68,
          null,
          108,
          60,
          85,
          61,
          47,
          null,
          75,
          70,
          null,
          107,
          50,
          75,
          40,
          70,
          60,
          60,
          63,
          85,
          55,
          67,
          60,
          24,
          80,
          87,
          153,
          95,
          120,
          70,
          66,
          null,
          57,
          85,
          50,
          null,
          93,
          null,
          50,
          91,
          70,
          50,
          56,
          null,
          102,
          null,
          null,
          null,
          129,
          51,
          124,
          null,
          73,
          30,
          null,
          68,
          41,
          null,
          48,
          90,
          80,
          75,
          null,
          85,
          89,
          52,
          60,
          21,
          73,
          45,
          null,
          60,
          null,
          60,
          40,
          80,
          60,
          42,
          60,
          70,
          65,
          68,
          60,
          53,
          88,
          null,
          51,
          60,
          51,
          50,
          62,
          64,
          49,
          60,
          44,
          70,
          null,
          60,
          46,
          79,
          80,
          60,
          88,
          64,
          51,
          60,
          null,
          71,
          null,
          90,
          53,
          37,
          null,
          null,
          80,
          81,
          60,
          60,
          null,
          60,
          null,
          60,
          93,
          80,
          80,
          60,
          96,
          90,
          80,
          79,
          null,
          85,
          null,
          63,
          70,
          null,
          80,
          70,
          21,
          60,
          78,
          35,
          90,
          62,
          62,
          85,
          66,
          68,
          75
         ],
         "xaxis": "x",
         "xbingroup": "x",
         "y": [
          2003,
          1976,
          2001,
          1915,
          2000,
          1993,
          2004,
          1973,
          1931,
          1939,
          1965,
          2005,
          1962,
          2006,
          1960,
          1929,
          1970,
          1967,
          2004,
          1958,
          2005,
          1930,
          2002,
          1976,
          1968,
          2007,
          1951,
          2007,
          1957,
          1927,
          1920,
          1966,
          2007,
          1959,
          2005,
          2004,
          1994,
          1954,
          1953,
          1955,
          1965,
          1959,
          1983,
          1975,
          1959,
          2005,
          2003,
          2006,
          1920,
          1966,
          1997,
          1934,
          1963,
          1981,
          1955,
          1964,
          1999,
          2004,
          2006,
          1972,
          2004,
          1920,
          2006,
          1921,
          1997,
          2004,
          1970,
          2003,
          1945,
          1953,
          1973,
          1982,
          1998,
          1954,
          1915,
          1973,
          1956,
          1948,
          1968,
          1910,
          1968,
          1998,
          2007,
          1960,
          1995,
          1991,
          2005,
          2009,
          1915,
          1994,
          1950,
          1961,
          1921,
          1910,
          1997,
          1993,
          1999,
          1965,
          1920,
          1959,
          1977,
          1985,
          1979,
          2009,
          1931,
          2003,
          1885,
          1948,
          1919,
          1977,
          1954,
          2000,
          2007,
          1953,
          1945,
          1999,
          1962,
          2006,
          1990,
          2005,
          1969,
          1939,
          1958,
          1993,
          1979,
          1935,
          1976,
          1930,
          1966,
          1958,
          1966,
          2000,
          1959,
          2001,
          1968,
          1970,
          1967,
          1988,
          1999,
          1997,
          1971,
          2005,
          1952,
          1999,
          1963,
          2004,
          1931,
          2001,
          2004,
          1936,
          1975,
          2007,
          1971,
          1960,
          1923,
          1924,
          1950,
          2009,
          2004,
          2005,
          1984,
          2003,
          2005,
          1956,
          1926,
          1940,
          1955,
          2007,
          2004,
          1981,
          1941,
          1960,
          1987,
          1961,
          1986,
          1950,
          1988,
          1958,
          2008,
          1923,
          2000,
          1920,
          1957,
          2003,
          1908,
          1892,
          1990,
          1916,
          1979,
          2001,
          1932,
          1972,
          1999,
          2004,
          1972,
          1976,
          2007,
          1918,
          1912,
          2004,
          2003,
          1977,
          1924,
          2004,
          1947,
          1990,
          1962,
          1960,
          1988,
          1964,
          1925,
          2009,
          2009,
          1995,
          1977,
          1957,
          2004,
          1925,
          1939,
          2005,
          2006,
          2002,
          1975,
          1971,
          2003,
          1971,
          1995,
          1970,
          1967,
          2005,
          1959,
          1995,
          1972,
          1976,
          2002,
          1971,
          2004,
          1993,
          2007,
          1945,
          2008,
          1945,
          1900,
          1980,
          1994,
          1988,
          1910,
          1954,
          2003,
          1958,
          1940,
          2006,
          2004,
          1964,
          1957,
          1999,
          2003,
          2006,
          2001,
          1956,
          1962,
          2007,
          1977,
          1929,
          1925,
          1981,
          1997,
          1939,
          1940,
          1976,
          2006,
          1954,
          1999,
          1958,
          1982,
          1925,
          2003,
          1951,
          2006,
          1977,
          1989,
          2006,
          2007,
          2008,
          1992,
          2006,
          1962,
          1971,
          1967,
          1915,
          2006,
          1912,
          1949,
          1977,
          1953,
          1984,
          1950,
          1997,
          1968,
          1950,
          1953,
          1998,
          2001,
          1972,
          1880,
          2004,
          1990,
          1920,
          1940,
          2003,
          1993,
          1948,
          1939,
          1965,
          1925,
          2004,
          1980,
          2006,
          1993,
          1980,
          2006,
          2004,
          1986,
          1955,
          1967,
          1941,
          1993,
          1960,
          1916,
          1920,
          1964,
          1958,
          2003,
          2004,
          1998,
          1965,
          2005,
          2002,
          1984,
          1958,
          2002,
          1950,
          1949,
          2005,
          1976,
          1939,
          1960,
          1960,
          2003,
          2005,
          2007,
          1986,
          1941,
          1928,
          1940,
          1995,
          1992,
          1976,
          1958,
          1998,
          1978,
          1940,
          2003,
          1972,
          1976,
          1920,
          1963,
          1962,
          1954,
          1959,
          2000,
          1959,
          1984,
          1953,
          2003,
          1922,
          1996,
          2004,
          2010,
          2000,
          1924,
          2006,
          2006,
          1928,
          1992,
          2004,
          1910,
          1976,
          1999,
          2007,
          1900,
          2001,
          1959,
          1941,
          1940,
          1956,
          1972,
          1962,
          1920,
          2006,
          1996,
          2005,
          1940,
          1998,
          1995,
          1976,
          1936,
          1915,
          2006,
          2007,
          1958,
          1955,
          2009,
          1927,
          1993,
          2007,
          1978,
          1918,
          1940,
          1968,
          1997,
          1977,
          1954,
          1998,
          1956,
          1946,
          1989,
          1957,
          2007,
          1988,
          1971,
          1920,
          1971,
          1997,
          1972,
          1996,
          1920,
          1926,
          1913,
          1920,
          2008,
          1955,
          1930,
          2006,
          1994,
          1956,
          1966,
          1998,
          1937,
          1948,
          1930,
          1975,
          1996,
          2008,
          1976,
          1973,
          1916,
          1954,
          1925,
          1950,
          2009,
          1936,
          1965,
          1934,
          1978,
          2004,
          1970,
          1942,
          2006,
          1993,
          1985,
          1977,
          2005,
          2006,
          2000,
          1963,
          1997,
          2006,
          2007,
          1937,
          2004,
          2003,
          1915,
          1998,
          1962,
          1950,
          1965,
          1971,
          1900,
          1970,
          1976,
          1941,
          2006,
          1960,
          1938,
          1920,
          1992,
          1925,
          1967,
          1958,
          1973,
          2005,
          1965,
          1959,
          1974,
          1952,
          1993,
          2009,
          1928,
          1959,
          1951,
          2005,
          1958,
          1983,
          1926,
          2009,
          1972,
          1996,
          1998,
          1926,
          1900,
          1957,
          1947,
          2007,
          1996,
          2005,
          1956,
          2008,
          1920,
          1957,
          1988,
          1920,
          1955,
          1946,
          2004,
          1910,
          1998,
          1972,
          1968,
          2001,
          2006,
          2000,
          1998,
          1998,
          2006,
          1988,
          1923,
          1970,
          1955,
          2003,
          1977,
          1957,
          2006,
          1949,
          2003,
          1922,
          1957,
          1920,
          1996,
          2003,
          1957,
          1974,
          1940,
          1918,
          1992,
          1915,
          2005,
          2004,
          1983,
          1979,
          1965,
          1959,
          2009,
          2000,
          1971,
          1947,
          1928,
          1966,
          2007,
          1954,
          1960,
          2008,
          1990,
          1893,
          1935,
          2005,
          1918,
          1982,
          1968,
          1930,
          2004,
          2008,
          1982,
          2003,
          1975,
          2005,
          1910,
          2006,
          1977,
          1980,
          2005,
          1937,
          1992,
          2004,
          2002,
          1965,
          1996,
          1948,
          1934,
          1961,
          2000,
          1978,
          2001,
          2007,
          1972,
          1963,
          2002,
          1954,
          2007,
          2003,
          1914,
          1974,
          1977,
          2000,
          1972,
          1962,
          1960,
          1955,
          1969,
          1964,
          1880,
          2006,
          1977,
          1954,
          1980,
          1914,
          1936,
          1954,
          1910,
          2006,
          2003,
          2001,
          1972,
          1969,
          2009,
          1971,
          1950,
          1953,
          1966,
          1970,
          2007,
          1940,
          1996,
          1906,
          1995,
          1971,
          1959,
          1931,
          1948,
          1964,
          1976,
          1994,
          1968,
          1972,
          2005,
          2000,
          1965,
          1994,
          1956,
          1922,
          2005,
          1925,
          1977,
          1957,
          1965,
          1978,
          1900,
          1924,
          2008,
          1961,
          1980,
          1932,
          1996,
          2002,
          1998,
          1984,
          2007,
          2004,
          2007,
          2005,
          2004,
          1994,
          1989,
          1921,
          1936,
          1987,
          1921,
          1952,
          1965,
          2004,
          2002,
          1969,
          2006,
          1900,
          2004,
          1930,
          1971,
          2006,
          2007,
          1966,
          1935,
          1900,
          1988,
          1970,
          1976,
          1974,
          1890,
          1973,
          1993,
          1969,
          1985,
          2004,
          1970,
          1954,
          2007,
          1970,
          1988,
          2007,
          1958,
          1925,
          1995,
          2003,
          1998,
          1961,
          1968,
          1914,
          1950,
          2005,
          1987,
          2004,
          1910,
          1961,
          2000,
          1963,
          1993,
          1976,
          2000,
          1880,
          1996,
          1945,
          1910,
          2003,
          1997,
          2005,
          1969,
          1999,
          2007,
          1978,
          1999,
          1995,
          1959,
          1924,
          2009,
          1999,
          1995,
          2008,
          1988,
          1940,
          2004,
          2003,
          1982,
          1951,
          1976,
          1958,
          2006,
          1998,
          2005,
          1974,
          1977,
          1977,
          1995,
          1992,
          2001,
          1978,
          1914,
          1967,
          1915,
          2004,
          1954,
          1966,
          2005,
          1976,
          1996,
          2007,
          1994,
          1980,
          1977,
          1953,
          2008,
          1937,
          1997,
          1916,
          2005,
          2008,
          1954,
          2008,
          1967,
          1923,
          1966,
          1898,
          1974,
          2004,
          1952,
          1958,
          1918,
          1998,
          1954,
          2002,
          1971,
          2009,
          2003,
          1953,
          2003,
          1940,
          2006,
          2007,
          1924,
          2001,
          1967,
          2005,
          1957,
          2005,
          2003,
          1964,
          1961,
          1950,
          1948,
          1973,
          1995,
          1946,
          1925,
          1904,
          1966,
          1961,
          1915,
          1975,
          1993,
          1972,
          1908,
          1976,
          2003,
          2003,
          1941,
          1964,
          1955,
          1962,
          1978,
          1994,
          1976,
          1968,
          1918,
          1965,
          1984,
          1959,
          2007,
          1970,
          2006,
          1961,
          1948,
          1993,
          1962,
          1998,
          1953,
          1949,
          1941,
          2007,
          1963,
          2004,
          1961,
          1978,
          2005,
          1990,
          1992,
          1912,
          1967,
          1999,
          1959,
          1955,
          1970,
          1953,
          1949,
          1978,
          1963,
          1954,
          1979,
          1963,
          1936,
          1979,
          2009,
          1961,
          1971,
          1957,
          2003,
          2006,
          1967,
          1954,
          2006,
          1936,
          1983,
          2005,
          1960,
          1977,
          1925,
          1949,
          2009,
          1970,
          1949,
          1956,
          1991,
          1958,
          1994,
          1900,
          2005,
          1993,
          1980,
          1977,
          2003,
          1968,
          2001,
          1997,
          2007,
          1965,
          2006,
          2004,
          1960,
          1926,
          2003,
          2005,
          2006,
          1940,
          1976,
          1999,
          1977,
          1967,
          1958,
          1890,
          1959,
          2002,
          2002,
          1972,
          1950,
          1965,
          1972,
          1969,
          1975,
          1946,
          1980,
          1962,
          2003,
          1999,
          1958,
          1977,
          1976,
          2007,
          2002,
          2005,
          1940,
          1955,
          1910,
          1958,
          1949,
          2003,
          1979,
          2007,
          1910,
          2000,
          1923,
          2006,
          1954,
          1963,
          1961,
          1998,
          2007,
          2002,
          1977,
          1950,
          1910,
          2009,
          1976,
          2006,
          1997,
          1882,
          1964,
          2005,
          2006,
          1946,
          1961,
          1970,
          1922,
          2006,
          1952,
          1920,
          2006,
          1976,
          2005,
          1977,
          1970,
          1970,
          2004,
          1926,
          1948,
          1965,
          1923,
          1910,
          1948,
          2001,
          1996,
          1984,
          1991,
          2005,
          2005,
          2006,
          1930,
          2005,
          1976,
          1972,
          1960,
          2007,
          1941,
          1972,
          1916,
          1920,
          1993,
          2002,
          1938,
          1957,
          2007,
          2001,
          1970,
          1970,
          1957,
          1966,
          2005,
          1990,
          1981,
          1955,
          2005,
          1994,
          1960,
          1946,
          2007,
          2007,
          1964,
          1957,
          2002,
          1976,
          2005,
          1994,
          2008,
          1932,
          2001,
          1935,
          1900,
          1925,
          1966,
          1996,
          1993,
          1964,
          1973,
          1949,
          1956,
          1968,
          1948,
          1977,
          2006,
          1940,
          1936,
          1969,
          2004,
          1994,
          1971,
          1963,
          2002,
          1964,
          1995,
          1992,
          1973,
          2005,
          2004,
          2005,
          1950,
          1999,
          1925,
          1965,
          1956,
          2006,
          1914,
          1986,
          1936,
          1978,
          1920,
          1971,
          1960,
          1959,
          1970,
          1994,
          1990,
          2006,
          2000,
          2004,
          1995,
          1976,
          1957,
          1953,
          1954,
          2007,
          2002,
          1967,
          1958,
          1959,
          1920,
          2005,
          1956,
          1947,
          1992,
          1955,
          2007,
          2004,
          2004,
          1980,
          1928,
          1991,
          1880,
          1995,
          1997,
          1926,
          1950,
          1875,
          1977,
          1920,
          1951,
          1976,
          2006,
          1959,
          1941,
          1928,
          1985,
          1941,
          1926,
          1920,
          1950,
          1959,
          1956,
          1930,
          1965,
          1976,
          1965,
          2007,
          2007,
          1974,
          1978,
          1954,
          1968,
          1969,
          1978,
          2009,
          2008,
          2000,
          1935,
          1995,
          1977,
          1958,
          2006,
          1946,
          1932,
          1992,
          1984,
          1926,
          1921,
          1954,
          1990,
          2008,
          1996,
          1920,
          1963,
          1924,
          1900,
          1994,
          2002,
          1999,
          1961,
          1999,
          1925,
          1999,
          1969,
          2005,
          2006,
          1916,
          2001,
          1963,
          1970,
          1998,
          1925,
          2000,
          1975,
          1990,
          1966,
          2003,
          1962,
          2006,
          1992,
          1988,
          1941,
          1965,
          1962,
          1966,
          1978,
          2009,
          1947,
          1971,
          1964,
          1968,
          1949,
          1951,
          2004,
          1958,
          2007,
          1965,
          2008,
          1960,
          1977,
          1962,
          1962,
          1959,
          1911,
          1914,
          2003,
          2004,
          2005,
          2006,
          2003,
          2007,
          1974,
          2006,
          1929,
          1984,
          2005,
          1976,
          1917,
          1950,
          1968,
          2003,
          1968,
          1974,
          2003,
          1931,
          1994,
          1922,
          2005,
          1969,
          1999,
          1956,
          1957,
          1919,
          1998,
          1999,
          1910,
          2008,
          1935,
          1958,
          1979,
          1968,
          1965,
          1959,
          1910,
          1948,
          1972,
          1967,
          2002,
          1920,
          2002,
          1990,
          1977,
          1971,
          1919,
          1939,
          1963,
          1964,
          2000,
          2006,
          1964,
          1972,
          1892,
          1976,
          1955,
          1968,
          1963,
          2005,
          2008,
          1959,
          1999,
          1942,
          1994,
          2005,
          2004,
          2006,
          2005,
          1994,
          1948,
          1991,
          1959,
          2005,
          1990,
          1999,
          1954,
          1969,
          2008,
          2006,
          2001,
          1954,
          1957,
          1949,
          1992,
          1940,
          2006,
          1922,
          1931,
          1982,
          1920,
          1998,
          2006,
          1976,
          1938,
          1938,
          1970,
          1977,
          1973,
          1941,
          2002,
          1972,
          1971,
          2003,
          2002,
          1928,
          2006,
          1920,
          1968,
          2006,
          1998,
          1872,
          1969,
          1962,
          1937,
          1995,
          2000,
          1968,
          1966,
          1971,
          2000,
          2004,
          1921,
          2005,
          1920,
          2006,
          2005,
          2000,
          1999,
          1977,
          2003,
          2003,
          1920,
          1955,
          1998,
          2001,
          2005,
          2007,
          1930,
          1941,
          1973,
          2006,
          1914,
          1970,
          1920,
          1918,
          1939,
          1922,
          1978,
          1916,
          2006,
          1941,
          2000,
          1967,
          1967,
          1905,
          2006,
          2005,
          1948,
          1920,
          1950,
          1925,
          1929,
          2004,
          2006,
          2007,
          1915,
          2004,
          1972,
          1985,
          1910,
          1986,
          2001,
          1950,
          1949,
          2005,
          1923,
          2007,
          1885,
          1998,
          1963,
          1969,
          1968,
          1977,
          2003,
          1966,
          1958,
          1959,
          1994,
          1945,
          1940,
          1981,
          2005,
          1976,
          1927,
          2000,
          1977,
          1962,
          1971,
          2008,
          1957,
          1979,
          1922,
          2004,
          2008,
          1916,
          2004,
          1966,
          1962,
          1995,
          1910,
          1970,
          1974,
          2008,
          2005,
          2006,
          2004,
          1999,
          1978,
          1941,
          1950,
          1965
         ],
         "yaxis": "y",
         "ybingroup": "y"
        }
       ],
       "layout": {
        "coloraxis": {
         "colorbar": {
          "title": {
           "text": "count"
          }
         },
         "colorscale": [
          [
           0,
           "#0d0887"
          ],
          [
           0.1111111111111111,
           "#46039f"
          ],
          [
           0.2222222222222222,
           "#7201a8"
          ],
          [
           0.3333333333333333,
           "#9c179e"
          ],
          [
           0.4444444444444444,
           "#bd3786"
          ],
          [
           0.5555555555555556,
           "#d8576b"
          ],
          [
           0.6666666666666666,
           "#ed7953"
          ],
          [
           0.7777777777777778,
           "#fb9f3a"
          ],
          [
           0.8888888888888888,
           "#fdca26"
          ],
          [
           1,
           "#f0f921"
          ]
         ]
        },
        "legend": {
         "tracegroupgap": 0
        },
        "margin": {
         "t": 60
        },
        "template": {
         "data": {
          "bar": [
           {
            "error_x": {
             "color": "#2a3f5f"
            },
            "error_y": {
             "color": "#2a3f5f"
            },
            "marker": {
             "line": {
              "color": "#E5ECF6",
              "width": 0.5
             },
             "pattern": {
              "fillmode": "overlay",
              "size": 10,
              "solidity": 0.2
             }
            },
            "type": "bar"
           }
          ],
          "barpolar": [
           {
            "marker": {
             "line": {
              "color": "#E5ECF6",
              "width": 0.5
             },
             "pattern": {
              "fillmode": "overlay",
              "size": 10,
              "solidity": 0.2
             }
            },
            "type": "barpolar"
           }
          ],
          "carpet": [
           {
            "aaxis": {
             "endlinecolor": "#2a3f5f",
             "gridcolor": "white",
             "linecolor": "white",
             "minorgridcolor": "white",
             "startlinecolor": "#2a3f5f"
            },
            "baxis": {
             "endlinecolor": "#2a3f5f",
             "gridcolor": "white",
             "linecolor": "white",
             "minorgridcolor": "white",
             "startlinecolor": "#2a3f5f"
            },
            "type": "carpet"
           }
          ],
          "choropleth": [
           {
            "colorbar": {
             "outlinewidth": 0,
             "ticks": ""
            },
            "type": "choropleth"
           }
          ],
          "contour": [
           {
            "colorbar": {
             "outlinewidth": 0,
             "ticks": ""
            },
            "colorscale": [
             [
              0,
              "#0d0887"
             ],
             [
              0.1111111111111111,
              "#46039f"
             ],
             [
              0.2222222222222222,
              "#7201a8"
             ],
             [
              0.3333333333333333,
              "#9c179e"
             ],
             [
              0.4444444444444444,
              "#bd3786"
             ],
             [
              0.5555555555555556,
              "#d8576b"
             ],
             [
              0.6666666666666666,
              "#ed7953"
             ],
             [
              0.7777777777777778,
              "#fb9f3a"
             ],
             [
              0.8888888888888888,
              "#fdca26"
             ],
             [
              1,
              "#f0f921"
             ]
            ],
            "type": "contour"
           }
          ],
          "contourcarpet": [
           {
            "colorbar": {
             "outlinewidth": 0,
             "ticks": ""
            },
            "type": "contourcarpet"
           }
          ],
          "heatmap": [
           {
            "colorbar": {
             "outlinewidth": 0,
             "ticks": ""
            },
            "colorscale": [
             [
              0,
              "#0d0887"
             ],
             [
              0.1111111111111111,
              "#46039f"
             ],
             [
              0.2222222222222222,
              "#7201a8"
             ],
             [
              0.3333333333333333,
              "#9c179e"
             ],
             [
              0.4444444444444444,
              "#bd3786"
             ],
             [
              0.5555555555555556,
              "#d8576b"
             ],
             [
              0.6666666666666666,
              "#ed7953"
             ],
             [
              0.7777777777777778,
              "#fb9f3a"
             ],
             [
              0.8888888888888888,
              "#fdca26"
             ],
             [
              1,
              "#f0f921"
             ]
            ],
            "type": "heatmap"
           }
          ],
          "heatmapgl": [
           {
            "colorbar": {
             "outlinewidth": 0,
             "ticks": ""
            },
            "colorscale": [
             [
              0,
              "#0d0887"
             ],
             [
              0.1111111111111111,
              "#46039f"
             ],
             [
              0.2222222222222222,
              "#7201a8"
             ],
             [
              0.3333333333333333,
              "#9c179e"
             ],
             [
              0.4444444444444444,
              "#bd3786"
             ],
             [
              0.5555555555555556,
              "#d8576b"
             ],
             [
              0.6666666666666666,
              "#ed7953"
             ],
             [
              0.7777777777777778,
              "#fb9f3a"
             ],
             [
              0.8888888888888888,
              "#fdca26"
             ],
             [
              1,
              "#f0f921"
             ]
            ],
            "type": "heatmapgl"
           }
          ],
          "histogram": [
           {
            "marker": {
             "pattern": {
              "fillmode": "overlay",
              "size": 10,
              "solidity": 0.2
             }
            },
            "type": "histogram"
           }
          ],
          "histogram2d": [
           {
            "colorbar": {
             "outlinewidth": 0,
             "ticks": ""
            },
            "colorscale": [
             [
              0,
              "#0d0887"
             ],
             [
              0.1111111111111111,
              "#46039f"
             ],
             [
              0.2222222222222222,
              "#7201a8"
             ],
             [
              0.3333333333333333,
              "#9c179e"
             ],
             [
              0.4444444444444444,
              "#bd3786"
             ],
             [
              0.5555555555555556,
              "#d8576b"
             ],
             [
              0.6666666666666666,
              "#ed7953"
             ],
             [
              0.7777777777777778,
              "#fb9f3a"
             ],
             [
              0.8888888888888888,
              "#fdca26"
             ],
             [
              1,
              "#f0f921"
             ]
            ],
            "type": "histogram2d"
           }
          ],
          "histogram2dcontour": [
           {
            "colorbar": {
             "outlinewidth": 0,
             "ticks": ""
            },
            "colorscale": [
             [
              0,
              "#0d0887"
             ],
             [
              0.1111111111111111,
              "#46039f"
             ],
             [
              0.2222222222222222,
              "#7201a8"
             ],
             [
              0.3333333333333333,
              "#9c179e"
             ],
             [
              0.4444444444444444,
              "#bd3786"
             ],
             [
              0.5555555555555556,
              "#d8576b"
             ],
             [
              0.6666666666666666,
              "#ed7953"
             ],
             [
              0.7777777777777778,
              "#fb9f3a"
             ],
             [
              0.8888888888888888,
              "#fdca26"
             ],
             [
              1,
              "#f0f921"
             ]
            ],
            "type": "histogram2dcontour"
           }
          ],
          "mesh3d": [
           {
            "colorbar": {
             "outlinewidth": 0,
             "ticks": ""
            },
            "type": "mesh3d"
           }
          ],
          "parcoords": [
           {
            "line": {
             "colorbar": {
              "outlinewidth": 0,
              "ticks": ""
             }
            },
            "type": "parcoords"
           }
          ],
          "pie": [
           {
            "automargin": true,
            "type": "pie"
           }
          ],
          "scatter": [
           {
            "fillpattern": {
             "fillmode": "overlay",
             "size": 10,
             "solidity": 0.2
            },
            "type": "scatter"
           }
          ],
          "scatter3d": [
           {
            "line": {
             "colorbar": {
              "outlinewidth": 0,
              "ticks": ""
             }
            },
            "marker": {
             "colorbar": {
              "outlinewidth": 0,
              "ticks": ""
             }
            },
            "type": "scatter3d"
           }
          ],
          "scattercarpet": [
           {
            "marker": {
             "colorbar": {
              "outlinewidth": 0,
              "ticks": ""
             }
            },
            "type": "scattercarpet"
           }
          ],
          "scattergeo": [
           {
            "marker": {
             "colorbar": {
              "outlinewidth": 0,
              "ticks": ""
             }
            },
            "type": "scattergeo"
           }
          ],
          "scattergl": [
           {
            "marker": {
             "colorbar": {
              "outlinewidth": 0,
              "ticks": ""
             }
            },
            "type": "scattergl"
           }
          ],
          "scattermapbox": [
           {
            "marker": {
             "colorbar": {
              "outlinewidth": 0,
              "ticks": ""
             }
            },
            "type": "scattermapbox"
           }
          ],
          "scatterpolar": [
           {
            "marker": {
             "colorbar": {
              "outlinewidth": 0,
              "ticks": ""
             }
            },
            "type": "scatterpolar"
           }
          ],
          "scatterpolargl": [
           {
            "marker": {
             "colorbar": {
              "outlinewidth": 0,
              "ticks": ""
             }
            },
            "type": "scatterpolargl"
           }
          ],
          "scatterternary": [
           {
            "marker": {
             "colorbar": {
              "outlinewidth": 0,
              "ticks": ""
             }
            },
            "type": "scatterternary"
           }
          ],
          "surface": [
           {
            "colorbar": {
             "outlinewidth": 0,
             "ticks": ""
            },
            "colorscale": [
             [
              0,
              "#0d0887"
             ],
             [
              0.1111111111111111,
              "#46039f"
             ],
             [
              0.2222222222222222,
              "#7201a8"
             ],
             [
              0.3333333333333333,
              "#9c179e"
             ],
             [
              0.4444444444444444,
              "#bd3786"
             ],
             [
              0.5555555555555556,
              "#d8576b"
             ],
             [
              0.6666666666666666,
              "#ed7953"
             ],
             [
              0.7777777777777778,
              "#fb9f3a"
             ],
             [
              0.8888888888888888,
              "#fdca26"
             ],
             [
              1,
              "#f0f921"
             ]
            ],
            "type": "surface"
           }
          ],
          "table": [
           {
            "cells": {
             "fill": {
              "color": "#EBF0F8"
             },
             "line": {
              "color": "white"
             }
            },
            "header": {
             "fill": {
              "color": "#C8D4E3"
             },
             "line": {
              "color": "white"
             }
            },
            "type": "table"
           }
          ]
         },
         "layout": {
          "annotationdefaults": {
           "arrowcolor": "#2a3f5f",
           "arrowhead": 0,
           "arrowwidth": 1
          },
          "autotypenumbers": "strict",
          "coloraxis": {
           "colorbar": {
            "outlinewidth": 0,
            "ticks": ""
           }
          },
          "colorscale": {
           "diverging": [
            [
             0,
             "#8e0152"
            ],
            [
             0.1,
             "#c51b7d"
            ],
            [
             0.2,
             "#de77ae"
            ],
            [
             0.3,
             "#f1b6da"
            ],
            [
             0.4,
             "#fde0ef"
            ],
            [
             0.5,
             "#f7f7f7"
            ],
            [
             0.6,
             "#e6f5d0"
            ],
            [
             0.7,
             "#b8e186"
            ],
            [
             0.8,
             "#7fbc41"
            ],
            [
             0.9,
             "#4d9221"
            ],
            [
             1,
             "#276419"
            ]
           ],
           "sequential": [
            [
             0,
             "#0d0887"
            ],
            [
             0.1111111111111111,
             "#46039f"
            ],
            [
             0.2222222222222222,
             "#7201a8"
            ],
            [
             0.3333333333333333,
             "#9c179e"
            ],
            [
             0.4444444444444444,
             "#bd3786"
            ],
            [
             0.5555555555555556,
             "#d8576b"
            ],
            [
             0.6666666666666666,
             "#ed7953"
            ],
            [
             0.7777777777777778,
             "#fb9f3a"
            ],
            [
             0.8888888888888888,
             "#fdca26"
            ],
            [
             1,
             "#f0f921"
            ]
           ],
           "sequentialminus": [
            [
             0,
             "#0d0887"
            ],
            [
             0.1111111111111111,
             "#46039f"
            ],
            [
             0.2222222222222222,
             "#7201a8"
            ],
            [
             0.3333333333333333,
             "#9c179e"
            ],
            [
             0.4444444444444444,
             "#bd3786"
            ],
            [
             0.5555555555555556,
             "#d8576b"
            ],
            [
             0.6666666666666666,
             "#ed7953"
            ],
            [
             0.7777777777777778,
             "#fb9f3a"
            ],
            [
             0.8888888888888888,
             "#fdca26"
            ],
            [
             1,
             "#f0f921"
            ]
           ]
          },
          "colorway": [
           "#636efa",
           "#EF553B",
           "#00cc96",
           "#ab63fa",
           "#FFA15A",
           "#19d3f3",
           "#FF6692",
           "#B6E880",
           "#FF97FF",
           "#FECB52"
          ],
          "font": {
           "color": "#2a3f5f"
          },
          "geo": {
           "bgcolor": "white",
           "lakecolor": "white",
           "landcolor": "#E5ECF6",
           "showlakes": true,
           "showland": true,
           "subunitcolor": "white"
          },
          "hoverlabel": {
           "align": "left"
          },
          "hovermode": "closest",
          "mapbox": {
           "style": "light"
          },
          "paper_bgcolor": "white",
          "plot_bgcolor": "#E5ECF6",
          "polar": {
           "angularaxis": {
            "gridcolor": "white",
            "linecolor": "white",
            "ticks": ""
           },
           "bgcolor": "#E5ECF6",
           "radialaxis": {
            "gridcolor": "white",
            "linecolor": "white",
            "ticks": ""
           }
          },
          "scene": {
           "xaxis": {
            "backgroundcolor": "#E5ECF6",
            "gridcolor": "white",
            "gridwidth": 2,
            "linecolor": "white",
            "showbackground": true,
            "ticks": "",
            "zerolinecolor": "white"
           },
           "yaxis": {
            "backgroundcolor": "#E5ECF6",
            "gridcolor": "white",
            "gridwidth": 2,
            "linecolor": "white",
            "showbackground": true,
            "ticks": "",
            "zerolinecolor": "white"
           },
           "zaxis": {
            "backgroundcolor": "#E5ECF6",
            "gridcolor": "white",
            "gridwidth": 2,
            "linecolor": "white",
            "showbackground": true,
            "ticks": "",
            "zerolinecolor": "white"
           }
          },
          "shapedefaults": {
           "line": {
            "color": "#2a3f5f"
           }
          },
          "ternary": {
           "aaxis": {
            "gridcolor": "white",
            "linecolor": "white",
            "ticks": ""
           },
           "baxis": {
            "gridcolor": "white",
            "linecolor": "white",
            "ticks": ""
           },
           "bgcolor": "#E5ECF6",
           "caxis": {
            "gridcolor": "white",
            "linecolor": "white",
            "ticks": ""
           }
          },
          "title": {
           "x": 0.05
          },
          "xaxis": {
           "automargin": true,
           "gridcolor": "white",
           "linecolor": "white",
           "ticks": "",
           "title": {
            "standoff": 15
           },
           "zerolinecolor": "white",
           "zerolinewidth": 2
          },
          "yaxis": {
           "automargin": true,
           "gridcolor": "white",
           "linecolor": "white",
           "ticks": "",
           "title": {
            "standoff": 15
           },
           "zerolinecolor": "white",
           "zerolinewidth": 2
          }
         }
        },
        "xaxis": {
         "anchor": "y",
         "domain": [
          0,
          1
         ],
         "title": {
          "text": "LotFrontage"
         }
        },
        "yaxis": {
         "anchor": "x",
         "domain": [
          0,
          1
         ],
         "title": {
          "text": "YearBuilt"
         }
        }
       }
      },
      "text/html": [
       "<div>                            <div id=\"e6882433-9765-4caa-bd37-b05922f31c89\" class=\"plotly-graph-div\" style=\"height:525px; width:100%;\"></div>            <script type=\"text/javascript\">                require([\"plotly\"], function(Plotly) {                    window.PLOTLYENV=window.PLOTLYENV || {};                                    if (document.getElementById(\"e6882433-9765-4caa-bd37-b05922f31c89\")) {                    Plotly.newPlot(                        \"e6882433-9765-4caa-bd37-b05922f31c89\",                        [{\"coloraxis\":\"coloraxis\",\"hovertemplate\":\"LotFrontage=%{x}<br>YearBuilt=%{y}<br>count=%{z}<extra></extra>\",\"name\":\"\",\"x\":[65.0,80.0,68.0,60.0,84.0,85.0,75.0,null,51.0,50.0,70.0,85.0,null,91.0,null,51.0,null,72.0,66.0,70.0,101.0,57.0,75.0,44.0,null,110.0,60.0,98.0,47.0,60.0,50.0,null,85.0,70.0,60.0,108.0,112.0,74.0,68.0,65.0,84.0,115.0,null,null,70.0,61.0,48.0,84.0,33.0,66.0,null,52.0,110.0,68.0,60.0,100.0,24.0,89.0,66.0,60.0,63.0,60.0,44.0,50.0,null,76.0,null,72.0,47.0,81.0,95.0,69.0,74.0,85.0,60.0,21.0,null,50.0,72.0,60.0,100.0,32.0,78.0,80.0,null,121.0,122.0,40.0,105.0,60.0,60.0,85.0,80.0,60.0,69.0,null,78.0,73.0,85.0,77.0,null,77.0,64.0,94.0,null,75.0,60.0,50.0,85.0,105.0,75.0,null,77.0,null,61.0,34.0,null,74.0,90.0,65.0,null,50.0,75.0,55.0,48.0,60.0,null,55.0,69.0,69.0,88.0,null,75.0,null,78.0,80.0,null,82.0,73.0,65.0,70.0,78.0,71.0,78.0,70.0,24.0,51.0,null,63.0,null,120.0,107.0,null,null,84.0,60.0,60.0,92.0,100.0,134.0,null,110.0,95.0,55.0,40.0,62.0,null,86.0,62.0,null,null,141.0,44.0,80.0,47.0,84.0,97.0,null,63.0,60.0,null,54.0,60.0,63.0,92.0,90.0,null,60.0,64.0,41.0,70.0,null,68.0,24.0,60.0,24.0,79.0,174.0,92.0,76.0,80.0,75.0,50.0,null,50.0,99.0,40.0,null,null,75.0,67.0,83.0,72.0,43.0,null,72.0,65.0,57.0,null,43.0,73.0,null,85.0,70.0,103.0,21.0,82.0,21.0,70.0,43.0,73.0,174.0,21.0,75.0,null,21.0,65.0,null,93.0,52.0,75.0,40.0,63.0,75.0,null,80.0,69.0,75.0,72.0,null,55.0,44.0,65.0,85.0,70.0,66.0,64.0,68.0,80.0,70.0,120.0,69.0,88.0,50.0,30.0,78.0,70.0,60.0,71.0,null,84.0,73.0,92.0,80.0,76.0,55.0,129.0,140.0,107.0,83.0,82.0,60.0,34.0,74.0,50.0,35.0,77.0,null,null,60.0,120.0,55.0,60.0,null,80.0,37.0,75.0,66.0,90.0,80.0,90.0,66.0,118.0,70.0,87.0,80.0,116.0,null,null,90.0,null,50.0,65.0,150.0,60.0,71.0,94.0,75.0,90.0,null,111.0,99.0,86.0,49.0,96.0,50.0,32.0,80.0,null,60.0,null,70.0,85.0,59.0,59.0,null,86.0,70.0,91.0,66.0,85.0,60.0,null,63.0,36.0,65.0,null,null,36.0,56.0,68.0,null,60.0,60.0,60.0,105.0,null,44.0,92.0,78.0,null,null,64.0,21.0,null,59.0,null,101.0,78.0,null,null,80.0,50.0,79.0,65.0,null,57.0,102.0,88.0,60.0,50.0,60.0,79.0,60.0,null,43.0,58.0,72.0,93.0,96.0,50.0,71.0,null,null,60.0,68.0,60.0,69.0,60.0,65.0,38.0,65.0,60.0,93.0,null,null,51.0,63.0,109.0,85.0,68.0,100.0,null,56.0,59.0,73.0,74.0,86.0,60.0,65.0,78.0,null,100.0,80.0,72.0,60.0,null,77.0,64.0,130.0,21.0,60.0,24.0,100.0,21.0,43.0,40.0,50.0,40.0,67.0,105.0,92.0,52.0,53.0,70.0,73.0,137.0,null,50.0,50.0,70.0,62.0,null,75.0,63.0,80.0,34.0,null,null,null,75.0,60.0,60.0,74.0,60.0,null,85.0,79.0,98.0,76.0,null,92.0,35.0,110.0,41.0,80.0,75.0,105.0,79.0,50.0,98.0,72.0,50.0,32.0,null,80.0,79.0,70.0,60.0,21.0,null,79.0,105.0,70.0,50.0,60.0,null,60.0,65.0,70.0,21.0,75.0,70.0,100.0,24.0,60.0,80.0,75.0,60.0,80.0,75.0,40.0,70.0,71.0,55.0,94.0,null,79.0,null,53.0,60.0,90.0,50.0,130.0,95.0,62.0,70.0,67.0,58.0,null,85.0,60.0,60.0,50.0,74.0,70.0,57.0,null,null,null,85.0,null,78.0,34.0,58.0,null,70.0,54.0,49.0,75.0,53.0,50.0,87.0,67.0,85.0,58.0,69.0,60.0,57.0,null,null,77.0,63.0,66.0,null,66.0,77.0,70.0,79.0,null,74.0,60.0,83.0,76.0,70.0,80.0,52.0,96.0,34.0,81.0,null,98.0,81.0,75.0,51.0,88.0,55.0,74.0,65.0,50.0,64.0,97.0,60.0,null,88.0,69.0,60.0,53.0,80.0,24.0,74.0,50.0,80.0,30.0,88.0,85.0,82.0,78.0,78.0,61.0,null,null,null,70.0,21.0,80.0,null,59.0,90.0,85.0,45.0,90.0,71.0,null,80.0,87.0,null,80.0,70.0,82.0,50.0,34.0,85.0,80.0,64.0,60.0,51.0,50.0,67.0,53.0,62.0,null,75.0,80.0,85.0,null,60.0,85.0,70.0,21.0,65.0,60.0,70.0,60.0,91.0,21.0,72.0,60.0,78.0,75.0,null,52.0,120.0,90.0,49.0,106.0,null,65.0,null,80.0,64.0,54.0,null,110.0,80.0,24.0,60.0,52.0,80.0,null,50.0,55.0,null,90.0,58.0,null,84.0,null,60.0,61.0,null,104.0,42.0,60.0,51.0,54.0,50.0,57.0,65.0,59.0,85.0,80.0,82.0,76.0,70.0,70.0,null,48.0,65.0,null,56.0,66.0,40.0,60.0,null,78.0,60.0,80.0,96.0,69.0,null,null,70.0,60.0,86.0,60.0,null,64.0,85.0,52.0,39.0,73.0,75.0,80.0,null,60.0,60.0,72.0,60.0,65.0,60.0,65.0,65.0,70.0,41.0,null,null,65.0,59.0,50.0,55.0,null,79.0,80.0,61.0,34.0,68.0,null,24.0,65.0,70.0,60.0,72.0,82.0,30.0,75.0,80.0,75.0,70.0,47.0,null,67.0,94.0,70.0,110.0,32.0,86.0,100.0,60.0,78.0,63.0,65.0,67.0,null,35.0,null,60.0,76.0,50.0,null,43.0,null,92.0,76.0,null,70.0,71.0,57.0,104.0,60.0,79.0,40.0,63.0,107.0,75.0,91.0,75.0,144.0,85.0,90.0,78.0,null,66.0,75.0,45.0,48.0,null,null,80.0,44.0,72.0,60.0,null,60.0,81.0,114.0,50.0,65.0,null,24.0,80.0,30.0,44.0,100.0,75.0,60.0,90.0,21.0,75.0,70.0,null,60.0,82.0,80.0,100.0,null,75.0,36.0,75.0,80.0,36.0,null,53.0,null,102.0,null,null,65.0,80.0,null,55.0,75.0,81.0,70.0,72.0,null,67.0,85.0,null,80.0,60.0,70.0,74.0,60.0,52.0,75.0,94.0,74.0,88.0,null,60.0,44.0,null,60.0,65.0,50.0,70.0,59.0,95.0,128.0,60.0,70.0,70.0,null,64.0,71.0,50.0,64.0,100.0,65.0,null,64.0,63.0,50.0,null,80.0,116.0,86.0,null,149.0,80.0,null,51.0,82.0,30.0,21.0,50.0,null,103.0,87.0,70.0,67.0,65.0,50.0,79.0,null,93.0,null,null,null,73.0,70.0,84.0,63.0,313.0,52.0,67.0,75.0,73.0,null,55.0,null,42.0,100.0,null,98.0,70.0,85.0,65.0,78.0,60.0,60.0,60.0,null,35.0,82.0,24.0,70.0,65.0,24.0,50.0,null,24.0,122.0,80.0,65.0,130.0,null,50.0,75.0,60.0,36.0,55.0,95.0,60.0,null,51.0,35.0,68.0,80.0,null,98.0,43.0,null,75.0,68.0,59.0,83.0,null,65.0,82.0,121.0,80.0,68.0,96.0,51.0,null,null,60.0,64.0,74.0,60.0,75.0,null,43.0,65.0,null,21.0,43.0,60.0,115.0,75.0,55.0,60.0,60.0,70.0,73.0,null,null,43.0,60.0,64.0,52.0,43.0,null,70.0,73.0,71.0,79.0,21.0,null,102.0,null,null,50.0,null,89.0,null,21.0,21.0,88.0,null,34.0,86.0,80.0,null,85.0,57.0,100.0,60.0,73.0,103.0,100.0,68.0,90.0,104.0,43.0,null,96.0,null,41.0,120.0,85.0,50.0,null,80.0,59.0,80.0,42.0,60.0,72.0,78.0,50.0,75.0,74.0,75.0,60.0,null,37.0,65.0,80.0,75.0,70.0,80.0,null,73.0,null,85.0,24.0,37.0,60.0,24.0,60.0,71.0,74.0,78.0,60.0,null,50.0,82.0,60.0,61.0,70.0,79.0,24.0,98.0,114.0,168.0,null,107.0,null,80.0,73.0,66.0,90.0,93.0,null,57.0,85.0,70.0,59.0,84.0,null,50.0,null,60.0,53.0,182.0,59.0,60.0,65.0,63.0,90.0,80.0,57.0,60.0,80.0,54.0,null,98.0,60.0,null,77.0,null,60.0,52.0,null,75.0,null,50.0,57.0,134.0,90.0,null,null,90.0,85.0,34.0,92.0,76.0,24.0,null,109.0,60.0,null,79.0,64.0,58.0,120.0,118.0,76.0,76.0,35.0,138.0,80.0,85.0,37.0,null,54.0,77.0,null,64.0,160.0,60.0,50.0,60.0,107.0,89.0,68.0,60.0,null,24.0,60.0,null,80.0,51.0,58.0,65.0,70.0,75.0,71.0,80.0,50.0,75.0,78.0,90.0,null,70.0,70.0,85.0,70.0,152.0,50.0,null,69.0,99.0,68.0,72.0,52.0,21.0,66.0,55.0,78.0,89.0,60.0,65.0,86.0,72.0,65.0,70.0,null,70.0,70.0,null,55.0,96.0,36.0,41.0,63.0,64.0,65.0,83.0,85.0,107.0,null,78.0,65.0,null,60.0,60.0,93.0,null,62.0,null,60.0,52.0,91.0,56.0,59.0,65.0,null,80.0,null,60.0,34.0,35.0,60.0,89.0,null,78.0,null,null,null,124.0,53.0,95.0,null,null,75.0,60.0,67.0,50.0,61.0,94.0,50.0,50.0,null,null,40.0,86.0,null,21.0,60.0,78.0,60.0,70.0,80.0,35.0,313.0,75.0,null,null,92.0,73.0,32.0,108.0,48.0,60.0,100.0,null,100.0,68.0,null,108.0,60.0,85.0,61.0,47.0,null,75.0,70.0,null,107.0,50.0,75.0,40.0,70.0,60.0,60.0,63.0,85.0,55.0,67.0,60.0,24.0,80.0,87.0,153.0,95.0,120.0,70.0,66.0,null,57.0,85.0,50.0,null,93.0,null,50.0,91.0,70.0,50.0,56.0,null,102.0,null,null,null,129.0,51.0,124.0,null,73.0,30.0,null,68.0,41.0,null,48.0,90.0,80.0,75.0,null,85.0,89.0,52.0,60.0,21.0,73.0,45.0,null,60.0,null,60.0,40.0,80.0,60.0,42.0,60.0,70.0,65.0,68.0,60.0,53.0,88.0,null,51.0,60.0,51.0,50.0,62.0,64.0,49.0,60.0,44.0,70.0,null,60.0,46.0,79.0,80.0,60.0,88.0,64.0,51.0,60.0,null,71.0,null,90.0,53.0,37.0,null,null,80.0,81.0,60.0,60.0,null,60.0,null,60.0,93.0,80.0,80.0,60.0,96.0,90.0,80.0,79.0,null,85.0,null,63.0,70.0,null,80.0,70.0,21.0,60.0,78.0,35.0,90.0,62.0,62.0,85.0,66.0,68.0,75.0],\"xaxis\":\"x\",\"xbingroup\":\"x\",\"y\":[2003,1976,2001,1915,2000,1993,2004,1973,1931,1939,1965,2005,1962,2006,1960,1929,1970,1967,2004,1958,2005,1930,2002,1976,1968,2007,1951,2007,1957,1927,1920,1966,2007,1959,2005,2004,1994,1954,1953,1955,1965,1959,1983,1975,1959,2005,2003,2006,1920,1966,1997,1934,1963,1981,1955,1964,1999,2004,2006,1972,2004,1920,2006,1921,1997,2004,1970,2003,1945,1953,1973,1982,1998,1954,1915,1973,1956,1948,1968,1910,1968,1998,2007,1960,1995,1991,2005,2009,1915,1994,1950,1961,1921,1910,1997,1993,1999,1965,1920,1959,1977,1985,1979,2009,1931,2003,1885,1948,1919,1977,1954,2000,2007,1953,1945,1999,1962,2006,1990,2005,1969,1939,1958,1993,1979,1935,1976,1930,1966,1958,1966,2000,1959,2001,1968,1970,1967,1988,1999,1997,1971,2005,1952,1999,1963,2004,1931,2001,2004,1936,1975,2007,1971,1960,1923,1924,1950,2009,2004,2005,1984,2003,2005,1956,1926,1940,1955,2007,2004,1981,1941,1960,1987,1961,1986,1950,1988,1958,2008,1923,2000,1920,1957,2003,1908,1892,1990,1916,1979,2001,1932,1972,1999,2004,1972,1976,2007,1918,1912,2004,2003,1977,1924,2004,1947,1990,1962,1960,1988,1964,1925,2009,2009,1995,1977,1957,2004,1925,1939,2005,2006,2002,1975,1971,2003,1971,1995,1970,1967,2005,1959,1995,1972,1976,2002,1971,2004,1993,2007,1945,2008,1945,1900,1980,1994,1988,1910,1954,2003,1958,1940,2006,2004,1964,1957,1999,2003,2006,2001,1956,1962,2007,1977,1929,1925,1981,1997,1939,1940,1976,2006,1954,1999,1958,1982,1925,2003,1951,2006,1977,1989,2006,2007,2008,1992,2006,1962,1971,1967,1915,2006,1912,1949,1977,1953,1984,1950,1997,1968,1950,1953,1998,2001,1972,1880,2004,1990,1920,1940,2003,1993,1948,1939,1965,1925,2004,1980,2006,1993,1980,2006,2004,1986,1955,1967,1941,1993,1960,1916,1920,1964,1958,2003,2004,1998,1965,2005,2002,1984,1958,2002,1950,1949,2005,1976,1939,1960,1960,2003,2005,2007,1986,1941,1928,1940,1995,1992,1976,1958,1998,1978,1940,2003,1972,1976,1920,1963,1962,1954,1959,2000,1959,1984,1953,2003,1922,1996,2004,2010,2000,1924,2006,2006,1928,1992,2004,1910,1976,1999,2007,1900,2001,1959,1941,1940,1956,1972,1962,1920,2006,1996,2005,1940,1998,1995,1976,1936,1915,2006,2007,1958,1955,2009,1927,1993,2007,1978,1918,1940,1968,1997,1977,1954,1998,1956,1946,1989,1957,2007,1988,1971,1920,1971,1997,1972,1996,1920,1926,1913,1920,2008,1955,1930,2006,1994,1956,1966,1998,1937,1948,1930,1975,1996,2008,1976,1973,1916,1954,1925,1950,2009,1936,1965,1934,1978,2004,1970,1942,2006,1993,1985,1977,2005,2006,2000,1963,1997,2006,2007,1937,2004,2003,1915,1998,1962,1950,1965,1971,1900,1970,1976,1941,2006,1960,1938,1920,1992,1925,1967,1958,1973,2005,1965,1959,1974,1952,1993,2009,1928,1959,1951,2005,1958,1983,1926,2009,1972,1996,1998,1926,1900,1957,1947,2007,1996,2005,1956,2008,1920,1957,1988,1920,1955,1946,2004,1910,1998,1972,1968,2001,2006,2000,1998,1998,2006,1988,1923,1970,1955,2003,1977,1957,2006,1949,2003,1922,1957,1920,1996,2003,1957,1974,1940,1918,1992,1915,2005,2004,1983,1979,1965,1959,2009,2000,1971,1947,1928,1966,2007,1954,1960,2008,1990,1893,1935,2005,1918,1982,1968,1930,2004,2008,1982,2003,1975,2005,1910,2006,1977,1980,2005,1937,1992,2004,2002,1965,1996,1948,1934,1961,2000,1978,2001,2007,1972,1963,2002,1954,2007,2003,1914,1974,1977,2000,1972,1962,1960,1955,1969,1964,1880,2006,1977,1954,1980,1914,1936,1954,1910,2006,2003,2001,1972,1969,2009,1971,1950,1953,1966,1970,2007,1940,1996,1906,1995,1971,1959,1931,1948,1964,1976,1994,1968,1972,2005,2000,1965,1994,1956,1922,2005,1925,1977,1957,1965,1978,1900,1924,2008,1961,1980,1932,1996,2002,1998,1984,2007,2004,2007,2005,2004,1994,1989,1921,1936,1987,1921,1952,1965,2004,2002,1969,2006,1900,2004,1930,1971,2006,2007,1966,1935,1900,1988,1970,1976,1974,1890,1973,1993,1969,1985,2004,1970,1954,2007,1970,1988,2007,1958,1925,1995,2003,1998,1961,1968,1914,1950,2005,1987,2004,1910,1961,2000,1963,1993,1976,2000,1880,1996,1945,1910,2003,1997,2005,1969,1999,2007,1978,1999,1995,1959,1924,2009,1999,1995,2008,1988,1940,2004,2003,1982,1951,1976,1958,2006,1998,2005,1974,1977,1977,1995,1992,2001,1978,1914,1967,1915,2004,1954,1966,2005,1976,1996,2007,1994,1980,1977,1953,2008,1937,1997,1916,2005,2008,1954,2008,1967,1923,1966,1898,1974,2004,1952,1958,1918,1998,1954,2002,1971,2009,2003,1953,2003,1940,2006,2007,1924,2001,1967,2005,1957,2005,2003,1964,1961,1950,1948,1973,1995,1946,1925,1904,1966,1961,1915,1975,1993,1972,1908,1976,2003,2003,1941,1964,1955,1962,1978,1994,1976,1968,1918,1965,1984,1959,2007,1970,2006,1961,1948,1993,1962,1998,1953,1949,1941,2007,1963,2004,1961,1978,2005,1990,1992,1912,1967,1999,1959,1955,1970,1953,1949,1978,1963,1954,1979,1963,1936,1979,2009,1961,1971,1957,2003,2006,1967,1954,2006,1936,1983,2005,1960,1977,1925,1949,2009,1970,1949,1956,1991,1958,1994,1900,2005,1993,1980,1977,2003,1968,2001,1997,2007,1965,2006,2004,1960,1926,2003,2005,2006,1940,1976,1999,1977,1967,1958,1890,1959,2002,2002,1972,1950,1965,1972,1969,1975,1946,1980,1962,2003,1999,1958,1977,1976,2007,2002,2005,1940,1955,1910,1958,1949,2003,1979,2007,1910,2000,1923,2006,1954,1963,1961,1998,2007,2002,1977,1950,1910,2009,1976,2006,1997,1882,1964,2005,2006,1946,1961,1970,1922,2006,1952,1920,2006,1976,2005,1977,1970,1970,2004,1926,1948,1965,1923,1910,1948,2001,1996,1984,1991,2005,2005,2006,1930,2005,1976,1972,1960,2007,1941,1972,1916,1920,1993,2002,1938,1957,2007,2001,1970,1970,1957,1966,2005,1990,1981,1955,2005,1994,1960,1946,2007,2007,1964,1957,2002,1976,2005,1994,2008,1932,2001,1935,1900,1925,1966,1996,1993,1964,1973,1949,1956,1968,1948,1977,2006,1940,1936,1969,2004,1994,1971,1963,2002,1964,1995,1992,1973,2005,2004,2005,1950,1999,1925,1965,1956,2006,1914,1986,1936,1978,1920,1971,1960,1959,1970,1994,1990,2006,2000,2004,1995,1976,1957,1953,1954,2007,2002,1967,1958,1959,1920,2005,1956,1947,1992,1955,2007,2004,2004,1980,1928,1991,1880,1995,1997,1926,1950,1875,1977,1920,1951,1976,2006,1959,1941,1928,1985,1941,1926,1920,1950,1959,1956,1930,1965,1976,1965,2007,2007,1974,1978,1954,1968,1969,1978,2009,2008,2000,1935,1995,1977,1958,2006,1946,1932,1992,1984,1926,1921,1954,1990,2008,1996,1920,1963,1924,1900,1994,2002,1999,1961,1999,1925,1999,1969,2005,2006,1916,2001,1963,1970,1998,1925,2000,1975,1990,1966,2003,1962,2006,1992,1988,1941,1965,1962,1966,1978,2009,1947,1971,1964,1968,1949,1951,2004,1958,2007,1965,2008,1960,1977,1962,1962,1959,1911,1914,2003,2004,2005,2006,2003,2007,1974,2006,1929,1984,2005,1976,1917,1950,1968,2003,1968,1974,2003,1931,1994,1922,2005,1969,1999,1956,1957,1919,1998,1999,1910,2008,1935,1958,1979,1968,1965,1959,1910,1948,1972,1967,2002,1920,2002,1990,1977,1971,1919,1939,1963,1964,2000,2006,1964,1972,1892,1976,1955,1968,1963,2005,2008,1959,1999,1942,1994,2005,2004,2006,2005,1994,1948,1991,1959,2005,1990,1999,1954,1969,2008,2006,2001,1954,1957,1949,1992,1940,2006,1922,1931,1982,1920,1998,2006,1976,1938,1938,1970,1977,1973,1941,2002,1972,1971,2003,2002,1928,2006,1920,1968,2006,1998,1872,1969,1962,1937,1995,2000,1968,1966,1971,2000,2004,1921,2005,1920,2006,2005,2000,1999,1977,2003,2003,1920,1955,1998,2001,2005,2007,1930,1941,1973,2006,1914,1970,1920,1918,1939,1922,1978,1916,2006,1941,2000,1967,1967,1905,2006,2005,1948,1920,1950,1925,1929,2004,2006,2007,1915,2004,1972,1985,1910,1986,2001,1950,1949,2005,1923,2007,1885,1998,1963,1969,1968,1977,2003,1966,1958,1959,1994,1945,1940,1981,2005,1976,1927,2000,1977,1962,1971,2008,1957,1979,1922,2004,2008,1916,2004,1966,1962,1995,1910,1970,1974,2008,2005,2006,2004,1999,1978,1941,1950,1965],\"yaxis\":\"y\",\"ybingroup\":\"y\",\"type\":\"histogram2d\"}],                        {\"template\":{\"data\":{\"histogram2dcontour\":[{\"type\":\"histogram2dcontour\",\"colorbar\":{\"outlinewidth\":0,\"ticks\":\"\"},\"colorscale\":[[0.0,\"#0d0887\"],[0.1111111111111111,\"#46039f\"],[0.2222222222222222,\"#7201a8\"],[0.3333333333333333,\"#9c179e\"],[0.4444444444444444,\"#bd3786\"],[0.5555555555555556,\"#d8576b\"],[0.6666666666666666,\"#ed7953\"],[0.7777777777777778,\"#fb9f3a\"],[0.8888888888888888,\"#fdca26\"],[1.0,\"#f0f921\"]]}],\"choropleth\":[{\"type\":\"choropleth\",\"colorbar\":{\"outlinewidth\":0,\"ticks\":\"\"}}],\"histogram2d\":[{\"type\":\"histogram2d\",\"colorbar\":{\"outlinewidth\":0,\"ticks\":\"\"},\"colorscale\":[[0.0,\"#0d0887\"],[0.1111111111111111,\"#46039f\"],[0.2222222222222222,\"#7201a8\"],[0.3333333333333333,\"#9c179e\"],[0.4444444444444444,\"#bd3786\"],[0.5555555555555556,\"#d8576b\"],[0.6666666666666666,\"#ed7953\"],[0.7777777777777778,\"#fb9f3a\"],[0.8888888888888888,\"#fdca26\"],[1.0,\"#f0f921\"]]}],\"heatmap\":[{\"type\":\"heatmap\",\"colorbar\":{\"outlinewidth\":0,\"ticks\":\"\"},\"colorscale\":[[0.0,\"#0d0887\"],[0.1111111111111111,\"#46039f\"],[0.2222222222222222,\"#7201a8\"],[0.3333333333333333,\"#9c179e\"],[0.4444444444444444,\"#bd3786\"],[0.5555555555555556,\"#d8576b\"],[0.6666666666666666,\"#ed7953\"],[0.7777777777777778,\"#fb9f3a\"],[0.8888888888888888,\"#fdca26\"],[1.0,\"#f0f921\"]]}],\"heatmapgl\":[{\"type\":\"heatmapgl\",\"colorbar\":{\"outlinewidth\":0,\"ticks\":\"\"},\"colorscale\":[[0.0,\"#0d0887\"],[0.1111111111111111,\"#46039f\"],[0.2222222222222222,\"#7201a8\"],[0.3333333333333333,\"#9c179e\"],[0.4444444444444444,\"#bd3786\"],[0.5555555555555556,\"#d8576b\"],[0.6666666666666666,\"#ed7953\"],[0.7777777777777778,\"#fb9f3a\"],[0.8888888888888888,\"#fdca26\"],[1.0,\"#f0f921\"]]}],\"contourcarpet\":[{\"type\":\"contourcarpet\",\"colorbar\":{\"outlinewidth\":0,\"ticks\":\"\"}}],\"contour\":[{\"type\":\"contour\",\"colorbar\":{\"outlinewidth\":0,\"ticks\":\"\"},\"colorscale\":[[0.0,\"#0d0887\"],[0.1111111111111111,\"#46039f\"],[0.2222222222222222,\"#7201a8\"],[0.3333333333333333,\"#9c179e\"],[0.4444444444444444,\"#bd3786\"],[0.5555555555555556,\"#d8576b\"],[0.6666666666666666,\"#ed7953\"],[0.7777777777777778,\"#fb9f3a\"],[0.8888888888888888,\"#fdca26\"],[1.0,\"#f0f921\"]]}],\"surface\":[{\"type\":\"surface\",\"colorbar\":{\"outlinewidth\":0,\"ticks\":\"\"},\"colorscale\":[[0.0,\"#0d0887\"],[0.1111111111111111,\"#46039f\"],[0.2222222222222222,\"#7201a8\"],[0.3333333333333333,\"#9c179e\"],[0.4444444444444444,\"#bd3786\"],[0.5555555555555556,\"#d8576b\"],[0.6666666666666666,\"#ed7953\"],[0.7777777777777778,\"#fb9f3a\"],[0.8888888888888888,\"#fdca26\"],[1.0,\"#f0f921\"]]}],\"mesh3d\":[{\"type\":\"mesh3d\",\"colorbar\":{\"outlinewidth\":0,\"ticks\":\"\"}}],\"scatter\":[{\"fillpattern\":{\"fillmode\":\"overlay\",\"size\":10,\"solidity\":0.2},\"type\":\"scatter\"}],\"parcoords\":[{\"type\":\"parcoords\",\"line\":{\"colorbar\":{\"outlinewidth\":0,\"ticks\":\"\"}}}],\"scatterpolargl\":[{\"type\":\"scatterpolargl\",\"marker\":{\"colorbar\":{\"outlinewidth\":0,\"ticks\":\"\"}}}],\"bar\":[{\"error_x\":{\"color\":\"#2a3f5f\"},\"error_y\":{\"color\":\"#2a3f5f\"},\"marker\":{\"line\":{\"color\":\"#E5ECF6\",\"width\":0.5},\"pattern\":{\"fillmode\":\"overlay\",\"size\":10,\"solidity\":0.2}},\"type\":\"bar\"}],\"scattergeo\":[{\"type\":\"scattergeo\",\"marker\":{\"colorbar\":{\"outlinewidth\":0,\"ticks\":\"\"}}}],\"scatterpolar\":[{\"type\":\"scatterpolar\",\"marker\":{\"colorbar\":{\"outlinewidth\":0,\"ticks\":\"\"}}}],\"histogram\":[{\"marker\":{\"pattern\":{\"fillmode\":\"overlay\",\"size\":10,\"solidity\":0.2}},\"type\":\"histogram\"}],\"scattergl\":[{\"type\":\"scattergl\",\"marker\":{\"colorbar\":{\"outlinewidth\":0,\"ticks\":\"\"}}}],\"scatter3d\":[{\"type\":\"scatter3d\",\"line\":{\"colorbar\":{\"outlinewidth\":0,\"ticks\":\"\"}},\"marker\":{\"colorbar\":{\"outlinewidth\":0,\"ticks\":\"\"}}}],\"scattermapbox\":[{\"type\":\"scattermapbox\",\"marker\":{\"colorbar\":{\"outlinewidth\":0,\"ticks\":\"\"}}}],\"scatterternary\":[{\"type\":\"scatterternary\",\"marker\":{\"colorbar\":{\"outlinewidth\":0,\"ticks\":\"\"}}}],\"scattercarpet\":[{\"type\":\"scattercarpet\",\"marker\":{\"colorbar\":{\"outlinewidth\":0,\"ticks\":\"\"}}}],\"carpet\":[{\"aaxis\":{\"endlinecolor\":\"#2a3f5f\",\"gridcolor\":\"white\",\"linecolor\":\"white\",\"minorgridcolor\":\"white\",\"startlinecolor\":\"#2a3f5f\"},\"baxis\":{\"endlinecolor\":\"#2a3f5f\",\"gridcolor\":\"white\",\"linecolor\":\"white\",\"minorgridcolor\":\"white\",\"startlinecolor\":\"#2a3f5f\"},\"type\":\"carpet\"}],\"table\":[{\"cells\":{\"fill\":{\"color\":\"#EBF0F8\"},\"line\":{\"color\":\"white\"}},\"header\":{\"fill\":{\"color\":\"#C8D4E3\"},\"line\":{\"color\":\"white\"}},\"type\":\"table\"}],\"barpolar\":[{\"marker\":{\"line\":{\"color\":\"#E5ECF6\",\"width\":0.5},\"pattern\":{\"fillmode\":\"overlay\",\"size\":10,\"solidity\":0.2}},\"type\":\"barpolar\"}],\"pie\":[{\"automargin\":true,\"type\":\"pie\"}]},\"layout\":{\"autotypenumbers\":\"strict\",\"colorway\":[\"#636efa\",\"#EF553B\",\"#00cc96\",\"#ab63fa\",\"#FFA15A\",\"#19d3f3\",\"#FF6692\",\"#B6E880\",\"#FF97FF\",\"#FECB52\"],\"font\":{\"color\":\"#2a3f5f\"},\"hovermode\":\"closest\",\"hoverlabel\":{\"align\":\"left\"},\"paper_bgcolor\":\"white\",\"plot_bgcolor\":\"#E5ECF6\",\"polar\":{\"bgcolor\":\"#E5ECF6\",\"angularaxis\":{\"gridcolor\":\"white\",\"linecolor\":\"white\",\"ticks\":\"\"},\"radialaxis\":{\"gridcolor\":\"white\",\"linecolor\":\"white\",\"ticks\":\"\"}},\"ternary\":{\"bgcolor\":\"#E5ECF6\",\"aaxis\":{\"gridcolor\":\"white\",\"linecolor\":\"white\",\"ticks\":\"\"},\"baxis\":{\"gridcolor\":\"white\",\"linecolor\":\"white\",\"ticks\":\"\"},\"caxis\":{\"gridcolor\":\"white\",\"linecolor\":\"white\",\"ticks\":\"\"}},\"coloraxis\":{\"colorbar\":{\"outlinewidth\":0,\"ticks\":\"\"}},\"colorscale\":{\"sequential\":[[0.0,\"#0d0887\"],[0.1111111111111111,\"#46039f\"],[0.2222222222222222,\"#7201a8\"],[0.3333333333333333,\"#9c179e\"],[0.4444444444444444,\"#bd3786\"],[0.5555555555555556,\"#d8576b\"],[0.6666666666666666,\"#ed7953\"],[0.7777777777777778,\"#fb9f3a\"],[0.8888888888888888,\"#fdca26\"],[1.0,\"#f0f921\"]],\"sequentialminus\":[[0.0,\"#0d0887\"],[0.1111111111111111,\"#46039f\"],[0.2222222222222222,\"#7201a8\"],[0.3333333333333333,\"#9c179e\"],[0.4444444444444444,\"#bd3786\"],[0.5555555555555556,\"#d8576b\"],[0.6666666666666666,\"#ed7953\"],[0.7777777777777778,\"#fb9f3a\"],[0.8888888888888888,\"#fdca26\"],[1.0,\"#f0f921\"]],\"diverging\":[[0,\"#8e0152\"],[0.1,\"#c51b7d\"],[0.2,\"#de77ae\"],[0.3,\"#f1b6da\"],[0.4,\"#fde0ef\"],[0.5,\"#f7f7f7\"],[0.6,\"#e6f5d0\"],[0.7,\"#b8e186\"],[0.8,\"#7fbc41\"],[0.9,\"#4d9221\"],[1,\"#276419\"]]},\"xaxis\":{\"gridcolor\":\"white\",\"linecolor\":\"white\",\"ticks\":\"\",\"title\":{\"standoff\":15},\"zerolinecolor\":\"white\",\"automargin\":true,\"zerolinewidth\":2},\"yaxis\":{\"gridcolor\":\"white\",\"linecolor\":\"white\",\"ticks\":\"\",\"title\":{\"standoff\":15},\"zerolinecolor\":\"white\",\"automargin\":true,\"zerolinewidth\":2},\"scene\":{\"xaxis\":{\"backgroundcolor\":\"#E5ECF6\",\"gridcolor\":\"white\",\"linecolor\":\"white\",\"showbackground\":true,\"ticks\":\"\",\"zerolinecolor\":\"white\",\"gridwidth\":2},\"yaxis\":{\"backgroundcolor\":\"#E5ECF6\",\"gridcolor\":\"white\",\"linecolor\":\"white\",\"showbackground\":true,\"ticks\":\"\",\"zerolinecolor\":\"white\",\"gridwidth\":2},\"zaxis\":{\"backgroundcolor\":\"#E5ECF6\",\"gridcolor\":\"white\",\"linecolor\":\"white\",\"showbackground\":true,\"ticks\":\"\",\"zerolinecolor\":\"white\",\"gridwidth\":2}},\"shapedefaults\":{\"line\":{\"color\":\"#2a3f5f\"}},\"annotationdefaults\":{\"arrowcolor\":\"#2a3f5f\",\"arrowhead\":0,\"arrowwidth\":1},\"geo\":{\"bgcolor\":\"white\",\"landcolor\":\"#E5ECF6\",\"subunitcolor\":\"white\",\"showland\":true,\"showlakes\":true,\"lakecolor\":\"white\"},\"title\":{\"x\":0.05},\"mapbox\":{\"style\":\"light\"}}},\"xaxis\":{\"anchor\":\"y\",\"domain\":[0.0,1.0],\"title\":{\"text\":\"LotFrontage\"}},\"yaxis\":{\"anchor\":\"x\",\"domain\":[0.0,1.0],\"title\":{\"text\":\"YearBuilt\"}},\"coloraxis\":{\"colorbar\":{\"title\":{\"text\":\"count\"}},\"colorscale\":[[0.0,\"#0d0887\"],[0.1111111111111111,\"#46039f\"],[0.2222222222222222,\"#7201a8\"],[0.3333333333333333,\"#9c179e\"],[0.4444444444444444,\"#bd3786\"],[0.5555555555555556,\"#d8576b\"],[0.6666666666666666,\"#ed7953\"],[0.7777777777777778,\"#fb9f3a\"],[0.8888888888888888,\"#fdca26\"],[1.0,\"#f0f921\"]]},\"legend\":{\"tracegroupgap\":0},\"margin\":{\"t\":60}},                        {\"responsive\": true}                    ).then(function(){\n",
       "                            \n",
       "var gd = document.getElementById('e6882433-9765-4caa-bd37-b05922f31c89');\n",
       "var x = new MutationObserver(function (mutations, observer) {{\n",
       "        var display = window.getComputedStyle(gd).display;\n",
       "        if (!display || display === 'none') {{\n",
       "            console.log([gd, 'removed!']);\n",
       "            Plotly.purge(gd);\n",
       "            observer.disconnect();\n",
       "        }}\n",
       "}});\n",
       "\n",
       "// Listen for the removal of the full notebook cells\n",
       "var notebookContainer = gd.closest('#notebook-container');\n",
       "if (notebookContainer) {{\n",
       "    x.observe(notebookContainer, {childList: true});\n",
       "}}\n",
       "\n",
       "// Listen for the clearing of the current output cell\n",
       "var outputEl = gd.closest('.output');\n",
       "if (outputEl) {{\n",
       "    x.observe(outputEl, {childList: true});\n",
       "}}\n",
       "\n",
       "                        })                };                });            </script>        </div>"
      ]
     },
     "metadata": {},
     "output_type": "display_data"
    }
   ],
   "source": [
    "# Heatmap using px for Pclass and Survived\n",
    "fig = px.density_heatmap(dataSet, x = \"LotFrontage\", y = \"YearBuilt\")\n",
    "fig.show()\n"
   ]
  },
  {
   "cell_type": "code",
   "execution_count": 178,
   "id": "4e03c635",
   "metadata": {},
   "outputs": [
    {
     "data": {
      "text/plain": [
       "pandas.core.frame.DataFrame"
      ]
     },
     "execution_count": 178,
     "metadata": {},
     "output_type": "execute_result"
    }
   ],
   "source": [
    "type(dataSet)"
   ]
  },
  {
   "cell_type": "code",
   "execution_count": 265,
   "id": "6b47ab3a",
   "metadata": {},
   "outputs": [],
   "source": [
    "def housesSplitedBy20Years(amountHousesPerYear):\n",
    "    quantity = []\n",
    "    year = 1900\n",
    "    for year in range(1900,2021,20):\n",
    "        amount=(dataSet.YearBuilt < year).sum()\n",
    "        quantity.append((year,amount))\n",
    "    return quantity\n",
    "\n",
    "amountHousesPerYear = dataSet.YearBuilt\n",
    "yearAmount = housesSplitedBy20Years(amountHousesPerYear)"
   ]
  },
  {
   "cell_type": "code",
   "execution_count": 266,
   "id": "d24a4a4c",
   "metadata": {},
   "outputs": [
    {
     "data": {
      "text/plain": [
       "list"
      ]
     },
     "execution_count": 266,
     "metadata": {},
     "output_type": "execute_result"
    }
   ],
   "source": [
    "type(yearAmount)"
   ]
  },
  {
   "cell_type": "code",
   "execution_count": null,
   "id": "6c07a421",
   "metadata": {},
   "outputs": [],
   "source": []
  },
  {
   "cell_type": "code",
   "execution_count": 267,
   "id": "df33e350",
   "metadata": {},
   "outputs": [
    {
     "name": "stdout",
     "output_type": "stream",
     "text": [
      "      0     1\n",
      "0  1900    15\n",
      "1  1920    88\n",
      "2  1940   239\n",
      "3  1960   485\n",
      "4  1980   848\n",
      "5  2000  1072\n",
      "6  2020  1460\n"
     ]
    }
   ],
   "source": [
    "yearAmount = pandas.DataFrame(numpy.array(yearAmount).reshape(7,2))\n",
    "print(yearAmount)"
   ]
  },
  {
   "cell_type": "code",
   "execution_count": 268,
   "id": "212aee1f",
   "metadata": {},
   "outputs": [
    {
     "data": {
      "application/vnd.plotly.v1+json": {
       "config": {
        "plotlyServerURL": "https://plot.ly"
       },
       "data": [
        {
         "type": "bar",
         "x": [
          1900,
          1920,
          1940,
          1960,
          1980,
          2000,
          2020
         ],
         "y": [
          15,
          88,
          239,
          485,
          848,
          1072,
          1460
         ]
        }
       ],
       "layout": {
        "template": {
         "data": {
          "bar": [
           {
            "error_x": {
             "color": "#2a3f5f"
            },
            "error_y": {
             "color": "#2a3f5f"
            },
            "marker": {
             "line": {
              "color": "#E5ECF6",
              "width": 0.5
             },
             "pattern": {
              "fillmode": "overlay",
              "size": 10,
              "solidity": 0.2
             }
            },
            "type": "bar"
           }
          ],
          "barpolar": [
           {
            "marker": {
             "line": {
              "color": "#E5ECF6",
              "width": 0.5
             },
             "pattern": {
              "fillmode": "overlay",
              "size": 10,
              "solidity": 0.2
             }
            },
            "type": "barpolar"
           }
          ],
          "carpet": [
           {
            "aaxis": {
             "endlinecolor": "#2a3f5f",
             "gridcolor": "white",
             "linecolor": "white",
             "minorgridcolor": "white",
             "startlinecolor": "#2a3f5f"
            },
            "baxis": {
             "endlinecolor": "#2a3f5f",
             "gridcolor": "white",
             "linecolor": "white",
             "minorgridcolor": "white",
             "startlinecolor": "#2a3f5f"
            },
            "type": "carpet"
           }
          ],
          "choropleth": [
           {
            "colorbar": {
             "outlinewidth": 0,
             "ticks": ""
            },
            "type": "choropleth"
           }
          ],
          "contour": [
           {
            "colorbar": {
             "outlinewidth": 0,
             "ticks": ""
            },
            "colorscale": [
             [
              0,
              "#0d0887"
             ],
             [
              0.1111111111111111,
              "#46039f"
             ],
             [
              0.2222222222222222,
              "#7201a8"
             ],
             [
              0.3333333333333333,
              "#9c179e"
             ],
             [
              0.4444444444444444,
              "#bd3786"
             ],
             [
              0.5555555555555556,
              "#d8576b"
             ],
             [
              0.6666666666666666,
              "#ed7953"
             ],
             [
              0.7777777777777778,
              "#fb9f3a"
             ],
             [
              0.8888888888888888,
              "#fdca26"
             ],
             [
              1,
              "#f0f921"
             ]
            ],
            "type": "contour"
           }
          ],
          "contourcarpet": [
           {
            "colorbar": {
             "outlinewidth": 0,
             "ticks": ""
            },
            "type": "contourcarpet"
           }
          ],
          "heatmap": [
           {
            "colorbar": {
             "outlinewidth": 0,
             "ticks": ""
            },
            "colorscale": [
             [
              0,
              "#0d0887"
             ],
             [
              0.1111111111111111,
              "#46039f"
             ],
             [
              0.2222222222222222,
              "#7201a8"
             ],
             [
              0.3333333333333333,
              "#9c179e"
             ],
             [
              0.4444444444444444,
              "#bd3786"
             ],
             [
              0.5555555555555556,
              "#d8576b"
             ],
             [
              0.6666666666666666,
              "#ed7953"
             ],
             [
              0.7777777777777778,
              "#fb9f3a"
             ],
             [
              0.8888888888888888,
              "#fdca26"
             ],
             [
              1,
              "#f0f921"
             ]
            ],
            "type": "heatmap"
           }
          ],
          "heatmapgl": [
           {
            "colorbar": {
             "outlinewidth": 0,
             "ticks": ""
            },
            "colorscale": [
             [
              0,
              "#0d0887"
             ],
             [
              0.1111111111111111,
              "#46039f"
             ],
             [
              0.2222222222222222,
              "#7201a8"
             ],
             [
              0.3333333333333333,
              "#9c179e"
             ],
             [
              0.4444444444444444,
              "#bd3786"
             ],
             [
              0.5555555555555556,
              "#d8576b"
             ],
             [
              0.6666666666666666,
              "#ed7953"
             ],
             [
              0.7777777777777778,
              "#fb9f3a"
             ],
             [
              0.8888888888888888,
              "#fdca26"
             ],
             [
              1,
              "#f0f921"
             ]
            ],
            "type": "heatmapgl"
           }
          ],
          "histogram": [
           {
            "marker": {
             "pattern": {
              "fillmode": "overlay",
              "size": 10,
              "solidity": 0.2
             }
            },
            "type": "histogram"
           }
          ],
          "histogram2d": [
           {
            "colorbar": {
             "outlinewidth": 0,
             "ticks": ""
            },
            "colorscale": [
             [
              0,
              "#0d0887"
             ],
             [
              0.1111111111111111,
              "#46039f"
             ],
             [
              0.2222222222222222,
              "#7201a8"
             ],
             [
              0.3333333333333333,
              "#9c179e"
             ],
             [
              0.4444444444444444,
              "#bd3786"
             ],
             [
              0.5555555555555556,
              "#d8576b"
             ],
             [
              0.6666666666666666,
              "#ed7953"
             ],
             [
              0.7777777777777778,
              "#fb9f3a"
             ],
             [
              0.8888888888888888,
              "#fdca26"
             ],
             [
              1,
              "#f0f921"
             ]
            ],
            "type": "histogram2d"
           }
          ],
          "histogram2dcontour": [
           {
            "colorbar": {
             "outlinewidth": 0,
             "ticks": ""
            },
            "colorscale": [
             [
              0,
              "#0d0887"
             ],
             [
              0.1111111111111111,
              "#46039f"
             ],
             [
              0.2222222222222222,
              "#7201a8"
             ],
             [
              0.3333333333333333,
              "#9c179e"
             ],
             [
              0.4444444444444444,
              "#bd3786"
             ],
             [
              0.5555555555555556,
              "#d8576b"
             ],
             [
              0.6666666666666666,
              "#ed7953"
             ],
             [
              0.7777777777777778,
              "#fb9f3a"
             ],
             [
              0.8888888888888888,
              "#fdca26"
             ],
             [
              1,
              "#f0f921"
             ]
            ],
            "type": "histogram2dcontour"
           }
          ],
          "mesh3d": [
           {
            "colorbar": {
             "outlinewidth": 0,
             "ticks": ""
            },
            "type": "mesh3d"
           }
          ],
          "parcoords": [
           {
            "line": {
             "colorbar": {
              "outlinewidth": 0,
              "ticks": ""
             }
            },
            "type": "parcoords"
           }
          ],
          "pie": [
           {
            "automargin": true,
            "type": "pie"
           }
          ],
          "scatter": [
           {
            "fillpattern": {
             "fillmode": "overlay",
             "size": 10,
             "solidity": 0.2
            },
            "type": "scatter"
           }
          ],
          "scatter3d": [
           {
            "line": {
             "colorbar": {
              "outlinewidth": 0,
              "ticks": ""
             }
            },
            "marker": {
             "colorbar": {
              "outlinewidth": 0,
              "ticks": ""
             }
            },
            "type": "scatter3d"
           }
          ],
          "scattercarpet": [
           {
            "marker": {
             "colorbar": {
              "outlinewidth": 0,
              "ticks": ""
             }
            },
            "type": "scattercarpet"
           }
          ],
          "scattergeo": [
           {
            "marker": {
             "colorbar": {
              "outlinewidth": 0,
              "ticks": ""
             }
            },
            "type": "scattergeo"
           }
          ],
          "scattergl": [
           {
            "marker": {
             "colorbar": {
              "outlinewidth": 0,
              "ticks": ""
             }
            },
            "type": "scattergl"
           }
          ],
          "scattermapbox": [
           {
            "marker": {
             "colorbar": {
              "outlinewidth": 0,
              "ticks": ""
             }
            },
            "type": "scattermapbox"
           }
          ],
          "scatterpolar": [
           {
            "marker": {
             "colorbar": {
              "outlinewidth": 0,
              "ticks": ""
             }
            },
            "type": "scatterpolar"
           }
          ],
          "scatterpolargl": [
           {
            "marker": {
             "colorbar": {
              "outlinewidth": 0,
              "ticks": ""
             }
            },
            "type": "scatterpolargl"
           }
          ],
          "scatterternary": [
           {
            "marker": {
             "colorbar": {
              "outlinewidth": 0,
              "ticks": ""
             }
            },
            "type": "scatterternary"
           }
          ],
          "surface": [
           {
            "colorbar": {
             "outlinewidth": 0,
             "ticks": ""
            },
            "colorscale": [
             [
              0,
              "#0d0887"
             ],
             [
              0.1111111111111111,
              "#46039f"
             ],
             [
              0.2222222222222222,
              "#7201a8"
             ],
             [
              0.3333333333333333,
              "#9c179e"
             ],
             [
              0.4444444444444444,
              "#bd3786"
             ],
             [
              0.5555555555555556,
              "#d8576b"
             ],
             [
              0.6666666666666666,
              "#ed7953"
             ],
             [
              0.7777777777777778,
              "#fb9f3a"
             ],
             [
              0.8888888888888888,
              "#fdca26"
             ],
             [
              1,
              "#f0f921"
             ]
            ],
            "type": "surface"
           }
          ],
          "table": [
           {
            "cells": {
             "fill": {
              "color": "#EBF0F8"
             },
             "line": {
              "color": "white"
             }
            },
            "header": {
             "fill": {
              "color": "#C8D4E3"
             },
             "line": {
              "color": "white"
             }
            },
            "type": "table"
           }
          ]
         },
         "layout": {
          "annotationdefaults": {
           "arrowcolor": "#2a3f5f",
           "arrowhead": 0,
           "arrowwidth": 1
          },
          "autotypenumbers": "strict",
          "coloraxis": {
           "colorbar": {
            "outlinewidth": 0,
            "ticks": ""
           }
          },
          "colorscale": {
           "diverging": [
            [
             0,
             "#8e0152"
            ],
            [
             0.1,
             "#c51b7d"
            ],
            [
             0.2,
             "#de77ae"
            ],
            [
             0.3,
             "#f1b6da"
            ],
            [
             0.4,
             "#fde0ef"
            ],
            [
             0.5,
             "#f7f7f7"
            ],
            [
             0.6,
             "#e6f5d0"
            ],
            [
             0.7,
             "#b8e186"
            ],
            [
             0.8,
             "#7fbc41"
            ],
            [
             0.9,
             "#4d9221"
            ],
            [
             1,
             "#276419"
            ]
           ],
           "sequential": [
            [
             0,
             "#0d0887"
            ],
            [
             0.1111111111111111,
             "#46039f"
            ],
            [
             0.2222222222222222,
             "#7201a8"
            ],
            [
             0.3333333333333333,
             "#9c179e"
            ],
            [
             0.4444444444444444,
             "#bd3786"
            ],
            [
             0.5555555555555556,
             "#d8576b"
            ],
            [
             0.6666666666666666,
             "#ed7953"
            ],
            [
             0.7777777777777778,
             "#fb9f3a"
            ],
            [
             0.8888888888888888,
             "#fdca26"
            ],
            [
             1,
             "#f0f921"
            ]
           ],
           "sequentialminus": [
            [
             0,
             "#0d0887"
            ],
            [
             0.1111111111111111,
             "#46039f"
            ],
            [
             0.2222222222222222,
             "#7201a8"
            ],
            [
             0.3333333333333333,
             "#9c179e"
            ],
            [
             0.4444444444444444,
             "#bd3786"
            ],
            [
             0.5555555555555556,
             "#d8576b"
            ],
            [
             0.6666666666666666,
             "#ed7953"
            ],
            [
             0.7777777777777778,
             "#fb9f3a"
            ],
            [
             0.8888888888888888,
             "#fdca26"
            ],
            [
             1,
             "#f0f921"
            ]
           ]
          },
          "colorway": [
           "#636efa",
           "#EF553B",
           "#00cc96",
           "#ab63fa",
           "#FFA15A",
           "#19d3f3",
           "#FF6692",
           "#B6E880",
           "#FF97FF",
           "#FECB52"
          ],
          "font": {
           "color": "#2a3f5f"
          },
          "geo": {
           "bgcolor": "white",
           "lakecolor": "white",
           "landcolor": "#E5ECF6",
           "showlakes": true,
           "showland": true,
           "subunitcolor": "white"
          },
          "hoverlabel": {
           "align": "left"
          },
          "hovermode": "closest",
          "mapbox": {
           "style": "light"
          },
          "paper_bgcolor": "white",
          "plot_bgcolor": "#E5ECF6",
          "polar": {
           "angularaxis": {
            "gridcolor": "white",
            "linecolor": "white",
            "ticks": ""
           },
           "bgcolor": "#E5ECF6",
           "radialaxis": {
            "gridcolor": "white",
            "linecolor": "white",
            "ticks": ""
           }
          },
          "scene": {
           "xaxis": {
            "backgroundcolor": "#E5ECF6",
            "gridcolor": "white",
            "gridwidth": 2,
            "linecolor": "white",
            "showbackground": true,
            "ticks": "",
            "zerolinecolor": "white"
           },
           "yaxis": {
            "backgroundcolor": "#E5ECF6",
            "gridcolor": "white",
            "gridwidth": 2,
            "linecolor": "white",
            "showbackground": true,
            "ticks": "",
            "zerolinecolor": "white"
           },
           "zaxis": {
            "backgroundcolor": "#E5ECF6",
            "gridcolor": "white",
            "gridwidth": 2,
            "linecolor": "white",
            "showbackground": true,
            "ticks": "",
            "zerolinecolor": "white"
           }
          },
          "shapedefaults": {
           "line": {
            "color": "#2a3f5f"
           }
          },
          "ternary": {
           "aaxis": {
            "gridcolor": "white",
            "linecolor": "white",
            "ticks": ""
           },
           "baxis": {
            "gridcolor": "white",
            "linecolor": "white",
            "ticks": ""
           },
           "bgcolor": "#E5ECF6",
           "caxis": {
            "gridcolor": "white",
            "linecolor": "white",
            "ticks": ""
           }
          },
          "title": {
           "x": 0.05
          },
          "xaxis": {
           "automargin": true,
           "gridcolor": "white",
           "linecolor": "white",
           "ticks": "",
           "title": {
            "standoff": 15
           },
           "zerolinecolor": "white",
           "zerolinewidth": 2
          },
          "yaxis": {
           "automargin": true,
           "gridcolor": "white",
           "linecolor": "white",
           "ticks": "",
           "title": {
            "standoff": 15
           },
           "zerolinecolor": "white",
           "zerolinewidth": 2
          }
         }
        }
       }
      },
      "text/html": [
       "<div>                            <div id=\"29938d51-d6f3-4c1e-bd56-56f86b4464a2\" class=\"plotly-graph-div\" style=\"height:525px; width:100%;\"></div>            <script type=\"text/javascript\">                require([\"plotly\"], function(Plotly) {                    window.PLOTLYENV=window.PLOTLYENV || {};                                    if (document.getElementById(\"29938d51-d6f3-4c1e-bd56-56f86b4464a2\")) {                    Plotly.newPlot(                        \"29938d51-d6f3-4c1e-bd56-56f86b4464a2\",                        [{\"x\":[1900,1920,1940,1960,1980,2000,2020],\"y\":[15,88,239,485,848,1072,1460],\"type\":\"bar\"}],                        {\"template\":{\"data\":{\"histogram2dcontour\":[{\"type\":\"histogram2dcontour\",\"colorbar\":{\"outlinewidth\":0,\"ticks\":\"\"},\"colorscale\":[[0.0,\"#0d0887\"],[0.1111111111111111,\"#46039f\"],[0.2222222222222222,\"#7201a8\"],[0.3333333333333333,\"#9c179e\"],[0.4444444444444444,\"#bd3786\"],[0.5555555555555556,\"#d8576b\"],[0.6666666666666666,\"#ed7953\"],[0.7777777777777778,\"#fb9f3a\"],[0.8888888888888888,\"#fdca26\"],[1.0,\"#f0f921\"]]}],\"choropleth\":[{\"type\":\"choropleth\",\"colorbar\":{\"outlinewidth\":0,\"ticks\":\"\"}}],\"histogram2d\":[{\"type\":\"histogram2d\",\"colorbar\":{\"outlinewidth\":0,\"ticks\":\"\"},\"colorscale\":[[0.0,\"#0d0887\"],[0.1111111111111111,\"#46039f\"],[0.2222222222222222,\"#7201a8\"],[0.3333333333333333,\"#9c179e\"],[0.4444444444444444,\"#bd3786\"],[0.5555555555555556,\"#d8576b\"],[0.6666666666666666,\"#ed7953\"],[0.7777777777777778,\"#fb9f3a\"],[0.8888888888888888,\"#fdca26\"],[1.0,\"#f0f921\"]]}],\"heatmap\":[{\"type\":\"heatmap\",\"colorbar\":{\"outlinewidth\":0,\"ticks\":\"\"},\"colorscale\":[[0.0,\"#0d0887\"],[0.1111111111111111,\"#46039f\"],[0.2222222222222222,\"#7201a8\"],[0.3333333333333333,\"#9c179e\"],[0.4444444444444444,\"#bd3786\"],[0.5555555555555556,\"#d8576b\"],[0.6666666666666666,\"#ed7953\"],[0.7777777777777778,\"#fb9f3a\"],[0.8888888888888888,\"#fdca26\"],[1.0,\"#f0f921\"]]}],\"heatmapgl\":[{\"type\":\"heatmapgl\",\"colorbar\":{\"outlinewidth\":0,\"ticks\":\"\"},\"colorscale\":[[0.0,\"#0d0887\"],[0.1111111111111111,\"#46039f\"],[0.2222222222222222,\"#7201a8\"],[0.3333333333333333,\"#9c179e\"],[0.4444444444444444,\"#bd3786\"],[0.5555555555555556,\"#d8576b\"],[0.6666666666666666,\"#ed7953\"],[0.7777777777777778,\"#fb9f3a\"],[0.8888888888888888,\"#fdca26\"],[1.0,\"#f0f921\"]]}],\"contourcarpet\":[{\"type\":\"contourcarpet\",\"colorbar\":{\"outlinewidth\":0,\"ticks\":\"\"}}],\"contour\":[{\"type\":\"contour\",\"colorbar\":{\"outlinewidth\":0,\"ticks\":\"\"},\"colorscale\":[[0.0,\"#0d0887\"],[0.1111111111111111,\"#46039f\"],[0.2222222222222222,\"#7201a8\"],[0.3333333333333333,\"#9c179e\"],[0.4444444444444444,\"#bd3786\"],[0.5555555555555556,\"#d8576b\"],[0.6666666666666666,\"#ed7953\"],[0.7777777777777778,\"#fb9f3a\"],[0.8888888888888888,\"#fdca26\"],[1.0,\"#f0f921\"]]}],\"surface\":[{\"type\":\"surface\",\"colorbar\":{\"outlinewidth\":0,\"ticks\":\"\"},\"colorscale\":[[0.0,\"#0d0887\"],[0.1111111111111111,\"#46039f\"],[0.2222222222222222,\"#7201a8\"],[0.3333333333333333,\"#9c179e\"],[0.4444444444444444,\"#bd3786\"],[0.5555555555555556,\"#d8576b\"],[0.6666666666666666,\"#ed7953\"],[0.7777777777777778,\"#fb9f3a\"],[0.8888888888888888,\"#fdca26\"],[1.0,\"#f0f921\"]]}],\"mesh3d\":[{\"type\":\"mesh3d\",\"colorbar\":{\"outlinewidth\":0,\"ticks\":\"\"}}],\"scatter\":[{\"fillpattern\":{\"fillmode\":\"overlay\",\"size\":10,\"solidity\":0.2},\"type\":\"scatter\"}],\"parcoords\":[{\"type\":\"parcoords\",\"line\":{\"colorbar\":{\"outlinewidth\":0,\"ticks\":\"\"}}}],\"scatterpolargl\":[{\"type\":\"scatterpolargl\",\"marker\":{\"colorbar\":{\"outlinewidth\":0,\"ticks\":\"\"}}}],\"bar\":[{\"error_x\":{\"color\":\"#2a3f5f\"},\"error_y\":{\"color\":\"#2a3f5f\"},\"marker\":{\"line\":{\"color\":\"#E5ECF6\",\"width\":0.5},\"pattern\":{\"fillmode\":\"overlay\",\"size\":10,\"solidity\":0.2}},\"type\":\"bar\"}],\"scattergeo\":[{\"type\":\"scattergeo\",\"marker\":{\"colorbar\":{\"outlinewidth\":0,\"ticks\":\"\"}}}],\"scatterpolar\":[{\"type\":\"scatterpolar\",\"marker\":{\"colorbar\":{\"outlinewidth\":0,\"ticks\":\"\"}}}],\"histogram\":[{\"marker\":{\"pattern\":{\"fillmode\":\"overlay\",\"size\":10,\"solidity\":0.2}},\"type\":\"histogram\"}],\"scattergl\":[{\"type\":\"scattergl\",\"marker\":{\"colorbar\":{\"outlinewidth\":0,\"ticks\":\"\"}}}],\"scatter3d\":[{\"type\":\"scatter3d\",\"line\":{\"colorbar\":{\"outlinewidth\":0,\"ticks\":\"\"}},\"marker\":{\"colorbar\":{\"outlinewidth\":0,\"ticks\":\"\"}}}],\"scattermapbox\":[{\"type\":\"scattermapbox\",\"marker\":{\"colorbar\":{\"outlinewidth\":0,\"ticks\":\"\"}}}],\"scatterternary\":[{\"type\":\"scatterternary\",\"marker\":{\"colorbar\":{\"outlinewidth\":0,\"ticks\":\"\"}}}],\"scattercarpet\":[{\"type\":\"scattercarpet\",\"marker\":{\"colorbar\":{\"outlinewidth\":0,\"ticks\":\"\"}}}],\"carpet\":[{\"aaxis\":{\"endlinecolor\":\"#2a3f5f\",\"gridcolor\":\"white\",\"linecolor\":\"white\",\"minorgridcolor\":\"white\",\"startlinecolor\":\"#2a3f5f\"},\"baxis\":{\"endlinecolor\":\"#2a3f5f\",\"gridcolor\":\"white\",\"linecolor\":\"white\",\"minorgridcolor\":\"white\",\"startlinecolor\":\"#2a3f5f\"},\"type\":\"carpet\"}],\"table\":[{\"cells\":{\"fill\":{\"color\":\"#EBF0F8\"},\"line\":{\"color\":\"white\"}},\"header\":{\"fill\":{\"color\":\"#C8D4E3\"},\"line\":{\"color\":\"white\"}},\"type\":\"table\"}],\"barpolar\":[{\"marker\":{\"line\":{\"color\":\"#E5ECF6\",\"width\":0.5},\"pattern\":{\"fillmode\":\"overlay\",\"size\":10,\"solidity\":0.2}},\"type\":\"barpolar\"}],\"pie\":[{\"automargin\":true,\"type\":\"pie\"}]},\"layout\":{\"autotypenumbers\":\"strict\",\"colorway\":[\"#636efa\",\"#EF553B\",\"#00cc96\",\"#ab63fa\",\"#FFA15A\",\"#19d3f3\",\"#FF6692\",\"#B6E880\",\"#FF97FF\",\"#FECB52\"],\"font\":{\"color\":\"#2a3f5f\"},\"hovermode\":\"closest\",\"hoverlabel\":{\"align\":\"left\"},\"paper_bgcolor\":\"white\",\"plot_bgcolor\":\"#E5ECF6\",\"polar\":{\"bgcolor\":\"#E5ECF6\",\"angularaxis\":{\"gridcolor\":\"white\",\"linecolor\":\"white\",\"ticks\":\"\"},\"radialaxis\":{\"gridcolor\":\"white\",\"linecolor\":\"white\",\"ticks\":\"\"}},\"ternary\":{\"bgcolor\":\"#E5ECF6\",\"aaxis\":{\"gridcolor\":\"white\",\"linecolor\":\"white\",\"ticks\":\"\"},\"baxis\":{\"gridcolor\":\"white\",\"linecolor\":\"white\",\"ticks\":\"\"},\"caxis\":{\"gridcolor\":\"white\",\"linecolor\":\"white\",\"ticks\":\"\"}},\"coloraxis\":{\"colorbar\":{\"outlinewidth\":0,\"ticks\":\"\"}},\"colorscale\":{\"sequential\":[[0.0,\"#0d0887\"],[0.1111111111111111,\"#46039f\"],[0.2222222222222222,\"#7201a8\"],[0.3333333333333333,\"#9c179e\"],[0.4444444444444444,\"#bd3786\"],[0.5555555555555556,\"#d8576b\"],[0.6666666666666666,\"#ed7953\"],[0.7777777777777778,\"#fb9f3a\"],[0.8888888888888888,\"#fdca26\"],[1.0,\"#f0f921\"]],\"sequentialminus\":[[0.0,\"#0d0887\"],[0.1111111111111111,\"#46039f\"],[0.2222222222222222,\"#7201a8\"],[0.3333333333333333,\"#9c179e\"],[0.4444444444444444,\"#bd3786\"],[0.5555555555555556,\"#d8576b\"],[0.6666666666666666,\"#ed7953\"],[0.7777777777777778,\"#fb9f3a\"],[0.8888888888888888,\"#fdca26\"],[1.0,\"#f0f921\"]],\"diverging\":[[0,\"#8e0152\"],[0.1,\"#c51b7d\"],[0.2,\"#de77ae\"],[0.3,\"#f1b6da\"],[0.4,\"#fde0ef\"],[0.5,\"#f7f7f7\"],[0.6,\"#e6f5d0\"],[0.7,\"#b8e186\"],[0.8,\"#7fbc41\"],[0.9,\"#4d9221\"],[1,\"#276419\"]]},\"xaxis\":{\"gridcolor\":\"white\",\"linecolor\":\"white\",\"ticks\":\"\",\"title\":{\"standoff\":15},\"zerolinecolor\":\"white\",\"automargin\":true,\"zerolinewidth\":2},\"yaxis\":{\"gridcolor\":\"white\",\"linecolor\":\"white\",\"ticks\":\"\",\"title\":{\"standoff\":15},\"zerolinecolor\":\"white\",\"automargin\":true,\"zerolinewidth\":2},\"scene\":{\"xaxis\":{\"backgroundcolor\":\"#E5ECF6\",\"gridcolor\":\"white\",\"linecolor\":\"white\",\"showbackground\":true,\"ticks\":\"\",\"zerolinecolor\":\"white\",\"gridwidth\":2},\"yaxis\":{\"backgroundcolor\":\"#E5ECF6\",\"gridcolor\":\"white\",\"linecolor\":\"white\",\"showbackground\":true,\"ticks\":\"\",\"zerolinecolor\":\"white\",\"gridwidth\":2},\"zaxis\":{\"backgroundcolor\":\"#E5ECF6\",\"gridcolor\":\"white\",\"linecolor\":\"white\",\"showbackground\":true,\"ticks\":\"\",\"zerolinecolor\":\"white\",\"gridwidth\":2}},\"shapedefaults\":{\"line\":{\"color\":\"#2a3f5f\"}},\"annotationdefaults\":{\"arrowcolor\":\"#2a3f5f\",\"arrowhead\":0,\"arrowwidth\":1},\"geo\":{\"bgcolor\":\"white\",\"landcolor\":\"#E5ECF6\",\"subunitcolor\":\"white\",\"showland\":true,\"showlakes\":true,\"lakecolor\":\"white\"},\"title\":{\"x\":0.05},\"mapbox\":{\"style\":\"light\"}}}},                        {\"responsive\": true}                    ).then(function(){\n",
       "                            \n",
       "var gd = document.getElementById('29938d51-d6f3-4c1e-bd56-56f86b4464a2');\n",
       "var x = new MutationObserver(function (mutations, observer) {{\n",
       "        var display = window.getComputedStyle(gd).display;\n",
       "        if (!display || display === 'none') {{\n",
       "            console.log([gd, 'removed!']);\n",
       "            Plotly.purge(gd);\n",
       "            observer.disconnect();\n",
       "        }}\n",
       "}});\n",
       "\n",
       "// Listen for the removal of the full notebook cells\n",
       "var notebookContainer = gd.closest('#notebook-container');\n",
       "if (notebookContainer) {{\n",
       "    x.observe(notebookContainer, {childList: true});\n",
       "}}\n",
       "\n",
       "// Listen for the clearing of the current output cell\n",
       "var outputEl = gd.closest('.output');\n",
       "if (outputEl) {{\n",
       "    x.observe(outputEl, {childList: true});\n",
       "}}\n",
       "\n",
       "                        })                };                });            </script>        </div>"
      ]
     },
     "metadata": {},
     "output_type": "display_data"
    }
   ],
   "source": [
    "fig = go.Figure([go.Bar(x=yearAmount[0], y = yearAmount[1].values)])\n",
    "fig.show()"
   ]
  },
  {
   "cell_type": "code",
   "execution_count": 269,
   "id": "4660d395",
   "metadata": {},
   "outputs": [
    {
     "data": {
      "image/png": "[encoded data removed]",
      "text/plain": [
       "<Figure size 640x480 with 1 Axes>"
      ]
     },
     "metadata": {},
     "output_type": "display_data"
    }
   ],
   "source": [
    "seaborn.barplot(data=n, x=yearAmount[0], y=yearAmount[1].values);"
   ]
  },
  {
   "cell_type": "code",
   "execution_count": null,
   "id": "ce4c2410",
   "metadata": {},
   "outputs": [],
   "source": []
  }
 ],
 "metadata": {
  "kernelspec": {
   "display_name": "Python 3 (ipykernel)",
   "language": "python",
   "name": "python3"
  },
  "language_info": {
   "codemirror_mode": {
    "name": "ipython",
    "version": 3
   },
   "file_extension": ".py",
   "mimetype": "text/x-python",
   "name": "python",
   "nbconvert_exporter": "python",
   "pygments_lexer": "ipython3",
   "version": "3.9.13"
  }
 },
 "nbformat": 4,
 "nbformat_minor": 5
}
