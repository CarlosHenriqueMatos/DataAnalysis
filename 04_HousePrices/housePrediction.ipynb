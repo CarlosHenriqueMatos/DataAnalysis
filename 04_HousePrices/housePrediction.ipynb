{
 "cells": [
  {
   "cell_type": "code",
   "execution_count": 24,
   "id": "d0432e49",
   "metadata": {},
   "outputs": [],
   "source": [
    "#The data in graphs\n",
    "import seaborn\n",
    "import datetime\n",
    "import numpy as np \n",
    "import polars as pl\n",
    "import matplotlib.pyplot as plt\n",
    "import seaborn as sns\n",
    "import warnings\n",
    "import re\n",
    "warnings.filterwarnings('ignore')"
   ]
  },
  {
   "cell_type": "code",
   "execution_count": 3,
   "id": "b171ed2d",
   "metadata": {},
   "outputs": [],
   "source": [
    "import plotly.graph_objects as go\n",
    "import plotly.express as px"
   ]
  },
  {
   "cell_type": "code",
   "execution_count": 4,
   "id": "7edd0757",
   "metadata": {},
   "outputs": [],
   "source": [
    "directory = '/run/media/carlos/ea8ff4ea-c5fd-4b9d-bf66-15507c1d2037/Documentos/Banco_de_dados/Codes/03_HousePrediction/'\n",
    "dataFrame = pl.read_csv(directory+\"kc_house_data.csv\")"
   ]
  },
  {
   "cell_type": "code",
   "execution_count": 5,
   "id": "7d8fa7cf",
   "metadata": {},
   "outputs": [
    {
     "data": {
      "text/html": [
       "<div><style>\n",
       ".dataframe > thead > tr > th,\n",
       ".dataframe > tbody > tr > td {\n",
       "  text-align: right;\n",
       "}\n",
       "</style>\n",
       "<small>shape: (5, 21)</small><table border=\"1\" class=\"dataframe\"><thead><tr><th>id</th><th>date</th><th>price</th><th>bedrooms</th><th>bathrooms</th><th>sqft_living</th><th>sqft_lot</th><th>floors</th><th>waterfront</th><th>view</th><th>condition</th><th>grade</th><th>sqft_above</th><th>sqft_basement</th><th>yr_built</th><th>yr_renovated</th><th>zipcode</th><th>lat</th><th>long</th><th>sqft_living15</th><th>sqft_lot15</th></tr><tr><td>i64</td><td>str</td><td>f64</td><td>i64</td><td>f64</td><td>i64</td><td>i64</td><td>f64</td><td>i64</td><td>i64</td><td>i64</td><td>i64</td><td>i64</td><td>i64</td><td>i64</td><td>i64</td><td>i64</td><td>f64</td><td>f64</td><td>i64</td><td>i64</td></tr></thead><tbody><tr><td>7129300520</td><td>&quot;20141013T00000…</td><td>221900.0</td><td>3</td><td>1.0</td><td>1180</td><td>5650</td><td>1.0</td><td>0</td><td>0</td><td>3</td><td>7</td><td>1180</td><td>0</td><td>1955</td><td>0</td><td>98178</td><td>47.5112</td><td>-122.257</td><td>1340</td><td>5650</td></tr><tr><td>6414100192</td><td>&quot;20141209T00000…</td><td>538000.0</td><td>3</td><td>2.25</td><td>2570</td><td>7242</td><td>2.0</td><td>0</td><td>0</td><td>3</td><td>7</td><td>2170</td><td>400</td><td>1951</td><td>1991</td><td>98125</td><td>47.721</td><td>-122.319</td><td>1690</td><td>7639</td></tr><tr><td>5631500400</td><td>&quot;20150225T00000…</td><td>180000.0</td><td>2</td><td>1.0</td><td>770</td><td>10000</td><td>1.0</td><td>0</td><td>0</td><td>3</td><td>6</td><td>770</td><td>0</td><td>1933</td><td>0</td><td>98028</td><td>47.7379</td><td>-122.233</td><td>2720</td><td>8062</td></tr><tr><td>2487200875</td><td>&quot;20141209T00000…</td><td>604000.0</td><td>4</td><td>3.0</td><td>1960</td><td>5000</td><td>1.0</td><td>0</td><td>0</td><td>5</td><td>7</td><td>1050</td><td>910</td><td>1965</td><td>0</td><td>98136</td><td>47.5208</td><td>-122.393</td><td>1360</td><td>5000</td></tr><tr><td>1954400510</td><td>&quot;20150218T00000…</td><td>510000.0</td><td>3</td><td>2.0</td><td>1680</td><td>8080</td><td>1.0</td><td>0</td><td>0</td><td>3</td><td>8</td><td>1680</td><td>0</td><td>1987</td><td>0</td><td>98074</td><td>47.6168</td><td>-122.045</td><td>1800</td><td>7503</td></tr></tbody></table></div>"
      ],
      "text/plain": [
       "shape: (5, 21)\n",
       "┌────────────┬────────────┬──────────┬──────────┬───┬─────────┬──────────┬────────────┬────────────┐\n",
       "│ id         ┆ date       ┆ price    ┆ bedrooms ┆ … ┆ lat     ┆ long     ┆ sqft_livin ┆ sqft_lot15 │\n",
       "│ ---        ┆ ---        ┆ ---      ┆ ---      ┆   ┆ ---     ┆ ---      ┆ g15        ┆ ---        │\n",
       "│ i64        ┆ str        ┆ f64      ┆ i64      ┆   ┆ f64     ┆ f64      ┆ ---        ┆ i64        │\n",
       "│            ┆            ┆          ┆          ┆   ┆         ┆          ┆ i64        ┆            │\n",
       "╞════════════╪════════════╪══════════╪══════════╪═══╪═════════╪══════════╪════════════╪════════════╡\n",
       "│ 7129300520 ┆ 20141013T0 ┆ 221900.0 ┆ 3        ┆ … ┆ 47.5112 ┆ -122.257 ┆ 1340       ┆ 5650       │\n",
       "│            ┆ 00000      ┆          ┆          ┆   ┆         ┆          ┆            ┆            │\n",
       "│ 6414100192 ┆ 20141209T0 ┆ 538000.0 ┆ 3        ┆ … ┆ 47.721  ┆ -122.319 ┆ 1690       ┆ 7639       │\n",
       "│            ┆ 00000      ┆          ┆          ┆   ┆         ┆          ┆            ┆            │\n",
       "│ 5631500400 ┆ 20150225T0 ┆ 180000.0 ┆ 2        ┆ … ┆ 47.7379 ┆ -122.233 ┆ 2720       ┆ 8062       │\n",
       "│            ┆ 00000      ┆          ┆          ┆   ┆         ┆          ┆            ┆            │\n",
       "│ 2487200875 ┆ 20141209T0 ┆ 604000.0 ┆ 4        ┆ … ┆ 47.5208 ┆ -122.393 ┆ 1360       ┆ 5000       │\n",
       "│            ┆ 00000      ┆          ┆          ┆   ┆         ┆          ┆            ┆            │\n",
       "│ 1954400510 ┆ 20150218T0 ┆ 510000.0 ┆ 3        ┆ … ┆ 47.6168 ┆ -122.045 ┆ 1800       ┆ 7503       │\n",
       "│            ┆ 00000      ┆          ┆          ┆   ┆         ┆          ┆            ┆            │\n",
       "└────────────┴────────────┴──────────┴──────────┴───┴─────────┴──────────┴────────────┴────────────┘"
      ]
     },
     "execution_count": 5,
     "metadata": {},
     "output_type": "execute_result"
    }
   ],
   "source": [
    "dataFrame.head()#first five lines"
   ]
  },
  {
   "cell_type": "code",
   "execution_count": 29,
   "id": "58e5b1a3",
   "metadata": {},
   "outputs": [
    {
     "name": "stdout",
     "output_type": "stream",
     "text": [
      "shape: (3, 21)\n",
      "┌────────────┬────────────┬──────────┬──────────┬───┬─────────┬──────────┬────────────┬────────────┐\n",
      "│ id         ┆ date       ┆ price    ┆ bedrooms ┆ … ┆ lat     ┆ long     ┆ sqft_livin ┆ sqft_lot15 │\n",
      "│ ---        ┆ ---        ┆ ---      ┆ ---      ┆   ┆ ---     ┆ ---      ┆ g15        ┆ ---        │\n",
      "│ i64        ┆ str        ┆ f64      ┆ i64      ┆   ┆ f64     ┆ f64      ┆ ---        ┆ i64        │\n",
      "│            ┆            ┆          ┆          ┆   ┆         ┆          ┆ i64        ┆            │\n",
      "╞════════════╪════════════╪══════════╪══════════╪═══╪═════════╪══════════╪════════════╪════════════╡\n",
      "│ 1523300141 ┆ 20140623T0 ┆ 402101.0 ┆ 2        ┆ … ┆ 47.5944 ┆ -122.299 ┆ 1020       ┆ 2007       │\n",
      "│            ┆ 00000      ┆          ┆          ┆   ┆         ┆          ┆            ┆            │\n",
      "│ 291310100  ┆ 20150116T0 ┆ 400000.0 ┆ 3        ┆ … ┆ 47.5345 ┆ -122.069 ┆ 1410       ┆ 1287       │\n",
      "│            ┆ 00000      ┆          ┆          ┆   ┆         ┆          ┆            ┆            │\n",
      "│ 1523300157 ┆ 20141015T0 ┆ 325000.0 ┆ 2        ┆ … ┆ 47.5941 ┆ -122.299 ┆ 1020       ┆ 1357       │\n",
      "│            ┆ 00000      ┆          ┆          ┆   ┆         ┆          ┆            ┆            │\n",
      "└────────────┴────────────┴──────────┴──────────┴───┴─────────┴──────────┴────────────┴────────────┘\n"
     ]
    }
   ],
   "source": [
    "print(dataFrame.tail(3))#last 3 lines"
   ]
  },
  {
   "cell_type": "code",
   "execution_count": 31,
   "id": "dc8a5621",
   "metadata": {},
   "outputs": [
    {
     "data": {
      "text/html": [
       "<div><style>\n",
       ".dataframe > thead > tr > th,\n",
       ".dataframe > tbody > tr > td {\n",
       "  text-align: right;\n",
       "}\n",
       "</style>\n",
       "<small>shape: (9, 22)</small><table border=\"1\" class=\"dataframe\"><thead><tr><th>describe</th><th>id</th><th>date</th><th>price</th><th>bedrooms</th><th>bathrooms</th><th>sqft_living</th><th>sqft_lot</th><th>floors</th><th>waterfront</th><th>view</th><th>condition</th><th>grade</th><th>sqft_above</th><th>sqft_basement</th><th>yr_built</th><th>yr_renovated</th><th>zipcode</th><th>lat</th><th>long</th><th>sqft_living15</th><th>sqft_lot15</th></tr><tr><td>str</td><td>f64</td><td>str</td><td>f64</td><td>f64</td><td>f64</td><td>f64</td><td>f64</td><td>f64</td><td>f64</td><td>f64</td><td>f64</td><td>f64</td><td>f64</td><td>f64</td><td>f64</td><td>f64</td><td>f64</td><td>f64</td><td>f64</td><td>f64</td><td>f64</td></tr></thead><tbody><tr><td>&quot;count&quot;</td><td>21613.0</td><td>&quot;21613&quot;</td><td>21613.0</td><td>21613.0</td><td>21613.0</td><td>21613.0</td><td>21613.0</td><td>21613.0</td><td>21613.0</td><td>21613.0</td><td>21613.0</td><td>21613.0</td><td>21613.0</td><td>21613.0</td><td>21613.0</td><td>21613.0</td><td>21613.0</td><td>21613.0</td><td>21613.0</td><td>21613.0</td><td>21613.0</td></tr><tr><td>&quot;null_count&quot;</td><td>0.0</td><td>&quot;0&quot;</td><td>0.0</td><td>0.0</td><td>0.0</td><td>0.0</td><td>0.0</td><td>0.0</td><td>0.0</td><td>0.0</td><td>0.0</td><td>0.0</td><td>0.0</td><td>0.0</td><td>0.0</td><td>0.0</td><td>0.0</td><td>0.0</td><td>0.0</td><td>0.0</td><td>0.0</td></tr><tr><td>&quot;mean&quot;</td><td>4.5803e9</td><td>null</td><td>540088.141767</td><td>3.370842</td><td>2.114757</td><td>2079.899736</td><td>15106.967566</td><td>1.494309</td><td>0.007542</td><td>0.234303</td><td>3.40943</td><td>7.656873</td><td>1788.390691</td><td>291.509045</td><td>1971.005136</td><td>84.402258</td><td>98077.939805</td><td>47.560053</td><td>-122.213896</td><td>1986.552492</td><td>12768.455652</td></tr><tr><td>&quot;std&quot;</td><td>2.8766e9</td><td>null</td><td>367127.196483</td><td>0.930062</td><td>0.770163</td><td>918.440897</td><td>41420.511515</td><td>0.539989</td><td>0.086517</td><td>0.766318</td><td>0.650743</td><td>1.175459</td><td>828.090978</td><td>442.575043</td><td>29.373411</td><td>401.67924</td><td>53.505026</td><td>0.138564</td><td>0.140828</td><td>685.391304</td><td>27304.179631</td></tr><tr><td>&quot;min&quot;</td><td>1.000102e6</td><td>&quot;20140502T00000…</td><td>75000.0</td><td>0.0</td><td>0.0</td><td>290.0</td><td>520.0</td><td>1.0</td><td>0.0</td><td>0.0</td><td>1.0</td><td>1.0</td><td>290.0</td><td>0.0</td><td>1900.0</td><td>0.0</td><td>98001.0</td><td>47.1559</td><td>-122.519</td><td>399.0</td><td>651.0</td></tr><tr><td>&quot;max&quot;</td><td>9.9000e9</td><td>&quot;20150527T00000…</td><td>7.7e6</td><td>33.0</td><td>8.0</td><td>13540.0</td><td>1.651359e6</td><td>3.5</td><td>1.0</td><td>4.0</td><td>5.0</td><td>13.0</td><td>9410.0</td><td>4820.0</td><td>2015.0</td><td>2015.0</td><td>98199.0</td><td>47.7776</td><td>-121.315</td><td>6210.0</td><td>871200.0</td></tr><tr><td>&quot;median&quot;</td><td>3.9049e9</td><td>null</td><td>450000.0</td><td>3.0</td><td>2.25</td><td>1910.0</td><td>7618.0</td><td>1.5</td><td>0.0</td><td>0.0</td><td>3.0</td><td>7.0</td><td>1560.0</td><td>0.0</td><td>1975.0</td><td>0.0</td><td>98065.0</td><td>47.5718</td><td>-122.23</td><td>1840.0</td><td>7620.0</td></tr><tr><td>&quot;25%&quot;</td><td>2.1230e9</td><td>null</td><td>321950.0</td><td>3.0</td><td>1.75</td><td>1427.0</td><td>5040.0</td><td>1.0</td><td>0.0</td><td>0.0</td><td>3.0</td><td>7.0</td><td>1190.0</td><td>0.0</td><td>1951.0</td><td>0.0</td><td>98033.0</td><td>47.471</td><td>-122.328</td><td>1490.0</td><td>5100.0</td></tr><tr><td>&quot;75%&quot;</td><td>7.3089e9</td><td>null</td><td>645000.0</td><td>4.0</td><td>2.5</td><td>2550.0</td><td>10688.0</td><td>2.0</td><td>0.0</td><td>0.0</td><td>4.0</td><td>8.0</td><td>2210.0</td><td>560.0</td><td>1997.0</td><td>0.0</td><td>98118.0</td><td>47.678</td><td>-122.125</td><td>2360.0</td><td>10083.0</td></tr></tbody></table></div>"
      ],
      "text/plain": [
       "shape: (9, 22)\n",
       "┌───────────┬───────────┬───────────┬───────────┬───┬───────────┬──────────┬────────────┬──────────┐\n",
       "│ describe  ┆ id        ┆ date      ┆ price     ┆ … ┆ lat       ┆ long     ┆ sqft_livin ┆ sqft_lot │\n",
       "│ ---       ┆ ---       ┆ ---       ┆ ---       ┆   ┆ ---       ┆ ---      ┆ g15        ┆ 15       │\n",
       "│ str       ┆ f64       ┆ str       ┆ f64       ┆   ┆ f64       ┆ f64      ┆ ---        ┆ ---      │\n",
       "│           ┆           ┆           ┆           ┆   ┆           ┆          ┆ f64        ┆ f64      │\n",
       "╞═══════════╪═══════════╪═══════════╪═══════════╪═══╪═══════════╪══════════╪════════════╪══════════╡\n",
       "│ count     ┆ 21613.0   ┆ 21613     ┆ 21613.0   ┆ … ┆ 21613.0   ┆ 21613.0  ┆ 21613.0    ┆ 21613.0  │\n",
       "│ null_coun ┆ 0.0       ┆ 0         ┆ 0.0       ┆ … ┆ 0.0       ┆ 0.0      ┆ 0.0        ┆ 0.0      │\n",
       "│ t         ┆           ┆           ┆           ┆   ┆           ┆          ┆            ┆          │\n",
       "│ mean      ┆ 4.5803e9  ┆ null      ┆ 540088.14 ┆ … ┆ 47.560053 ┆ -122.213 ┆ 1986.55249 ┆ 12768.45 │\n",
       "│           ┆           ┆           ┆ 1767      ┆   ┆           ┆ 896      ┆ 2          ┆ 5652     │\n",
       "│ std       ┆ 2.8766e9  ┆ null      ┆ 367127.19 ┆ … ┆ 0.138564  ┆ 0.140828 ┆ 685.391304 ┆ 27304.17 │\n",
       "│           ┆           ┆           ┆ 6483      ┆   ┆           ┆          ┆            ┆ 9631     │\n",
       "│ min       ┆ 1.000102e ┆ 20140502T ┆ 75000.0   ┆ … ┆ 47.1559   ┆ -122.519 ┆ 399.0      ┆ 651.0    │\n",
       "│           ┆ 6         ┆ 000000    ┆           ┆   ┆           ┆          ┆            ┆          │\n",
       "│ max       ┆ 9.9000e9  ┆ 20150527T ┆ 7.7e6     ┆ … ┆ 47.7776   ┆ -121.315 ┆ 6210.0     ┆ 871200.0 │\n",
       "│           ┆           ┆ 000000    ┆           ┆   ┆           ┆          ┆            ┆          │\n",
       "│ median    ┆ 3.9049e9  ┆ null      ┆ 450000.0  ┆ … ┆ 47.5718   ┆ -122.23  ┆ 1840.0     ┆ 7620.0   │\n",
       "│ 25%       ┆ 2.1230e9  ┆ null      ┆ 321950.0  ┆ … ┆ 47.471    ┆ -122.328 ┆ 1490.0     ┆ 5100.0   │\n",
       "│ 75%       ┆ 7.3089e9  ┆ null      ┆ 645000.0  ┆ … ┆ 47.678    ┆ -122.125 ┆ 2360.0     ┆ 10083.0  │\n",
       "└───────────┴───────────┴───────────┴───────────┴───┴───────────┴──────────┴────────────┴──────────┘"
      ]
     },
     "execution_count": 31,
     "metadata": {},
     "output_type": "execute_result"
    }
   ],
   "source": [
    "dataFrame.describe()"
   ]
  },
  {
   "cell_type": "code",
   "execution_count": 39,
   "id": "e9275633",
   "metadata": {
    "scrolled": true
   },
   "outputs": [
    {
     "data": {
      "text/html": [
       "<div><style>\n",
       ".dataframe > thead > tr > th,\n",
       ".dataframe > tbody > tr > td {\n",
       "  text-align: right;\n",
       "}\n",
       "</style>\n",
       "<small>shape: (21_613, 1)</small><table border=\"1\" class=\"dataframe\"><thead><tr><th>price</th></tr><tr><td>f64</td></tr></thead><tbody><tr><td>75000.0</td></tr><tr><td>78000.0</td></tr><tr><td>80000.0</td></tr><tr><td>81000.0</td></tr><tr><td>82000.0</td></tr><tr><td>82500.0</td></tr><tr><td>83000.0</td></tr><tr><td>84000.0</td></tr><tr><td>85000.0</td></tr><tr><td>85000.0</td></tr><tr><td>86500.0</td></tr><tr><td>89000.0</td></tr><tr><td>&hellip;</td></tr><tr><td>4e6</td></tr><tr><td>4.208e6</td></tr><tr><td>4.489e6</td></tr><tr><td>4.5e6</td></tr><tr><td>4.668e6</td></tr><tr><td>5.1108e6</td></tr><tr><td>5.3e6</td></tr><tr><td>5.35e6</td></tr><tr><td>5.57e6</td></tr><tr><td>6.885e6</td></tr><tr><td>7.0625e6</td></tr><tr><td>7.7e6</td></tr></tbody></table></div>"
      ],
      "text/plain": [
       "shape: (21_613, 1)\n",
       "┌──────────┐\n",
       "│ price    │\n",
       "│ ---      │\n",
       "│ f64      │\n",
       "╞══════════╡\n",
       "│ 75000.0  │\n",
       "│ 78000.0  │\n",
       "│ 80000.0  │\n",
       "│ 81000.0  │\n",
       "│ …        │\n",
       "│ 5.57e6   │\n",
       "│ 6.885e6  │\n",
       "│ 7.0625e6 │\n",
       "│ 7.7e6    │\n",
       "└──────────┘"
      ]
     },
     "execution_count": 39,
     "metadata": {},
     "output_type": "execute_result"
    }
   ],
   "source": [
    "out = dataFrame.select(\n",
    "    [\n",
    "        pl.col(\"price\").sort(),\n",
    "    ]\n",
    ")\n",
    "out"
   ]
  },
  {
   "cell_type": "code",
   "execution_count": 8,
   "id": "10e6bfdd",
   "metadata": {},
   "outputs": [
    {
     "data": {
      "text/html": [
       "<div><style>\n",
       ".dataframe > thead > tr > th,\n",
       ".dataframe > tbody > tr > td {\n",
       "  text-align: right;\n",
       "}\n",
       "</style>\n",
       "<small>shape: (7, 21)</small><table border=\"1\" class=\"dataframe\"><thead><tr><th>id</th><th>date</th><th>price</th><th>bedrooms</th><th>bathrooms</th><th>sqft_living</th><th>sqft_lot</th><th>floors</th><th>waterfront</th><th>view</th><th>condition</th><th>grade</th><th>sqft_above</th><th>sqft_basement</th><th>yr_built</th><th>yr_renovated</th><th>zipcode</th><th>lat</th><th>long</th><th>sqft_living15</th><th>sqft_lot15</th></tr><tr><td>i64</td><td>str</td><td>f64</td><td>i64</td><td>f64</td><td>i64</td><td>i64</td><td>f64</td><td>i64</td><td>i64</td><td>i64</td><td>i64</td><td>i64</td><td>i64</td><td>i64</td><td>i64</td><td>i64</td><td>f64</td><td>f64</td><td>i64</td><td>i64</td></tr></thead><tbody><tr><td>1247600105</td><td>&quot;20141020T00000…</td><td>5.1108e6</td><td>5</td><td>5.25</td><td>8010</td><td>45517</td><td>2.0</td><td>1</td><td>4</td><td>3</td><td>12</td><td>5990</td><td>2020</td><td>1999</td><td>0</td><td>98033</td><td>47.6767</td><td>-122.211</td><td>3430</td><td>26788</td></tr><tr><td>7558700030</td><td>&quot;20150413T00000…</td><td>5.3e6</td><td>6</td><td>6.0</td><td>7390</td><td>24829</td><td>2.0</td><td>1</td><td>4</td><td>4</td><td>12</td><td>5000</td><td>2390</td><td>1991</td><td>0</td><td>98040</td><td>47.5631</td><td>-122.21</td><td>4320</td><td>24619</td></tr><tr><td>8907500070</td><td>&quot;20150413T00000…</td><td>5.35e6</td><td>5</td><td>5.0</td><td>8000</td><td>23985</td><td>2.0</td><td>0</td><td>4</td><td>3</td><td>12</td><td>6720</td><td>1280</td><td>2009</td><td>0</td><td>98004</td><td>47.6232</td><td>-122.22</td><td>4600</td><td>21750</td></tr><tr><td>9808700762</td><td>&quot;20140611T00000…</td><td>7.0625e6</td><td>5</td><td>4.5</td><td>10040</td><td>37325</td><td>2.0</td><td>1</td><td>2</td><td>3</td><td>11</td><td>7680</td><td>2360</td><td>1940</td><td>2001</td><td>98004</td><td>47.65</td><td>-122.214</td><td>3930</td><td>25449</td></tr><tr><td>2470100110</td><td>&quot;20140804T00000…</td><td>5.57e6</td><td>5</td><td>5.75</td><td>9200</td><td>35069</td><td>2.0</td><td>0</td><td>0</td><td>3</td><td>13</td><td>6200</td><td>3000</td><td>2001</td><td>0</td><td>98039</td><td>47.6289</td><td>-122.233</td><td>3560</td><td>24345</td></tr><tr><td>6762700020</td><td>&quot;20141013T00000…</td><td>7.7e6</td><td>6</td><td>8.0</td><td>12050</td><td>27600</td><td>2.5</td><td>0</td><td>3</td><td>4</td><td>13</td><td>8570</td><td>3480</td><td>1910</td><td>1987</td><td>98102</td><td>47.6298</td><td>-122.323</td><td>3940</td><td>8800</td></tr><tr><td>9208900037</td><td>&quot;20140919T00000…</td><td>6.885e6</td><td>6</td><td>7.75</td><td>9890</td><td>31374</td><td>2.0</td><td>0</td><td>4</td><td>3</td><td>13</td><td>8860</td><td>1030</td><td>2001</td><td>0</td><td>98039</td><td>47.6305</td><td>-122.24</td><td>4540</td><td>42730</td></tr></tbody></table></div>"
      ],
      "text/plain": [
       "shape: (7, 21)\n",
       "┌────────────┬────────────┬──────────┬──────────┬───┬─────────┬──────────┬────────────┬────────────┐\n",
       "│ id         ┆ date       ┆ price    ┆ bedrooms ┆ … ┆ lat     ┆ long     ┆ sqft_livin ┆ sqft_lot15 │\n",
       "│ ---        ┆ ---        ┆ ---      ┆ ---      ┆   ┆ ---     ┆ ---      ┆ g15        ┆ ---        │\n",
       "│ i64        ┆ str        ┆ f64      ┆ i64      ┆   ┆ f64     ┆ f64      ┆ ---        ┆ i64        │\n",
       "│            ┆            ┆          ┆          ┆   ┆         ┆          ┆ i64        ┆            │\n",
       "╞════════════╪════════════╪══════════╪══════════╪═══╪═════════╪══════════╪════════════╪════════════╡\n",
       "│ 1247600105 ┆ 20141020T0 ┆ 5.1108e6 ┆ 5        ┆ … ┆ 47.6767 ┆ -122.211 ┆ 3430       ┆ 26788      │\n",
       "│            ┆ 00000      ┆          ┆          ┆   ┆         ┆          ┆            ┆            │\n",
       "│ 7558700030 ┆ 20150413T0 ┆ 5.3e6    ┆ 6        ┆ … ┆ 47.5631 ┆ -122.21  ┆ 4320       ┆ 24619      │\n",
       "│            ┆ 00000      ┆          ┆          ┆   ┆         ┆          ┆            ┆            │\n",
       "│ 8907500070 ┆ 20150413T0 ┆ 5.35e6   ┆ 5        ┆ … ┆ 47.6232 ┆ -122.22  ┆ 4600       ┆ 21750      │\n",
       "│            ┆ 00000      ┆          ┆          ┆   ┆         ┆          ┆            ┆            │\n",
       "│ 9808700762 ┆ 20140611T0 ┆ 7.0625e6 ┆ 5        ┆ … ┆ 47.65   ┆ -122.214 ┆ 3930       ┆ 25449      │\n",
       "│            ┆ 00000      ┆          ┆          ┆   ┆         ┆          ┆            ┆            │\n",
       "│ 2470100110 ┆ 20140804T0 ┆ 5.57e6   ┆ 5        ┆ … ┆ 47.6289 ┆ -122.233 ┆ 3560       ┆ 24345      │\n",
       "│            ┆ 00000      ┆          ┆          ┆   ┆         ┆          ┆            ┆            │\n",
       "│ 6762700020 ┆ 20141013T0 ┆ 7.7e6    ┆ 6        ┆ … ┆ 47.6298 ┆ -122.323 ┆ 3940       ┆ 8800       │\n",
       "│            ┆ 00000      ┆          ┆          ┆   ┆         ┆          ┆            ┆            │\n",
       "│ 9208900037 ┆ 20140919T0 ┆ 6.885e6  ┆ 6        ┆ … ┆ 47.6305 ┆ -122.24  ┆ 4540       ┆ 42730      │\n",
       "│            ┆ 00000      ┆          ┆          ┆   ┆         ┆          ┆            ┆            │\n",
       "└────────────┴────────────┴──────────┴──────────┴───┴─────────┴──────────┴────────────┴────────────┘"
      ]
     },
     "execution_count": 8,
     "metadata": {},
     "output_type": "execute_result"
    }
   ],
   "source": [
    "dataFrame.filter(pl.col(\"price\")>5000000)"
   ]
  },
  {
   "cell_type": "code",
   "execution_count": 12,
   "id": "f2bc6440",
   "metadata": {},
   "outputs": [
    {
     "name": "stdout",
     "output_type": "stream",
     "text": [
      "shape: (6, 21)\n",
      "┌────────────┬────────────┬──────────┬──────────┬───┬─────────┬──────────┬────────────┬────────────┐\n",
      "│ date       ┆ id         ┆ price    ┆ bedrooms ┆ … ┆ lat     ┆ long     ┆ sqft_livin ┆ sqft_lot15 │\n",
      "│ ---        ┆ ---        ┆ ---      ┆ ---      ┆   ┆ ---     ┆ ---      ┆ g15        ┆ ---        │\n",
      "│ str        ┆ i64        ┆ f64      ┆ i64      ┆   ┆ f64     ┆ f64      ┆ ---        ┆ i64        │\n",
      "│            ┆            ┆          ┆          ┆   ┆         ┆          ┆ i64        ┆            │\n",
      "╞════════════╪════════════╪══════════╪══════════╪═══╪═════════╪══════════╪════════════╪════════════╡\n",
      "│ 20141020T0 ┆ 1247600105 ┆ 5.1108e6 ┆ 5        ┆ … ┆ 47.6767 ┆ -122.211 ┆ 3430       ┆ 26788      │\n",
      "│ 00000      ┆            ┆          ┆          ┆   ┆         ┆          ┆            ┆            │\n",
      "│ 20150413T0 ┆ 1646620010 ┆ 1.065e7  ┆ 11       ┆ … ┆ 95.1863 ┆ -244.43  ┆ 8920       ┆ 46369      │\n",
      "│ 00000      ┆ 0          ┆          ┆          ┆   ┆         ┆          ┆            ┆            │\n",
      "│ 20140611T0 ┆ 9808700762 ┆ 7.0625e6 ┆ 5        ┆ … ┆ 47.65   ┆ -122.214 ┆ 3930       ┆ 25449      │\n",
      "│ 00000      ┆            ┆          ┆          ┆   ┆         ┆          ┆            ┆            │\n",
      "│ 20140804T0 ┆ 2470100110 ┆ 5.57e6   ┆ 5        ┆ … ┆ 47.6289 ┆ -122.233 ┆ 3560       ┆ 24345      │\n",
      "│ 00000      ┆            ┆          ┆          ┆   ┆         ┆          ┆            ┆            │\n",
      "│ 20141013T0 ┆ 6762700020 ┆ 7.7e6    ┆ 6        ┆ … ┆ 47.6298 ┆ -122.323 ┆ 3940       ┆ 8800       │\n",
      "│ 00000      ┆            ┆          ┆          ┆   ┆         ┆          ┆            ┆            │\n",
      "│ 20140919T0 ┆ 9208900037 ┆ 6.885e6  ┆ 6        ┆ … ┆ 47.6305 ┆ -122.24  ┆ 4540       ┆ 42730      │\n",
      "│ 00000      ┆            ┆          ┆          ┆   ┆         ┆          ┆            ┆            │\n",
      "└────────────┴────────────┴──────────┴──────────┴───┴─────────┴──────────┴────────────┴────────────┘\n"
     ]
    }
   ],
   "source": [
    "filtered = (dataFrame.filter(pl.col(\"price\") > 5000000)\n",
    "            .groupby(\"date\", maintain_order=True)\n",
    "            .agg(pl.all().sum())\n",
    "           )\n",
    "print(filtered)"
   ]
  },
  {
   "cell_type": "code",
   "execution_count": 19,
   "id": "b39128ec",
   "metadata": {},
   "outputs": [
    {
     "data": {
      "text/html": [
       "<div><style>\n",
       ".dataframe > thead > tr > th,\n",
       ".dataframe > tbody > tr > td {\n",
       "  text-align: right;\n",
       "}\n",
       "</style>\n",
       "<small>shape: (9, 21)</small><table border=\"1\" class=\"dataframe\"><thead><tr><th>grade</th><th>id</th><th>date</th><th>price</th><th>bedrooms</th><th>bathrooms</th><th>sqft_living</th><th>sqft_lot</th><th>floors</th><th>waterfront</th><th>view</th><th>condition</th><th>sqft_above</th><th>sqft_basement</th><th>yr_built</th><th>yr_renovated</th><th>zipcode</th><th>lat</th><th>long</th><th>sqft_living15</th><th>sqft_lot15</th></tr><tr><td>i64</td><td>i64</td><td>str</td><td>f64</td><td>i64</td><td>f64</td><td>i64</td><td>i64</td><td>f64</td><td>i64</td><td>i64</td><td>i64</td><td>i64</td><td>i64</td><td>i64</td><td>i64</td><td>i64</td><td>f64</td><td>f64</td><td>i64</td><td>i64</td></tr></thead><tbody><tr><td>7</td><td>557103841435</td><td>null</td><td>6.2555493e7</td><td>813</td><td>342.75</td><td>327470</td><td>1457261</td><td>185.0</td><td>1</td><td>18</td><td>420</td><td>251750</td><td>75720</td><td>240758</td><td>17912</td><td>12065241</td><td>5852.2686</td><td>-15039.113</td><td>222321</td><td>1065314</td></tr><tr><td>8</td><td>458906293607</td><td>null</td><td>7.3016837e7</td><td>665</td><td>333.5</td><td>334366</td><td>1661289</td><td>165.5</td><td>1</td><td>29</td><td>372</td><td>253518</td><td>80848</td><td>210072</td><td>13963</td><td>10494374</td><td>5092.9066</td><td>-13079.01</td><td>233684</td><td>1522186</td></tr><tr><td>9</td><td>161415996502</td><td>null</td><td>3.8658799e7</td><td>244</td><td>132.75</td><td>146992</td><td>896033</td><td>68.5</td><td>0</td><td>48</td><td>141</td><td>108252</td><td>38740</td><td>76655</td><td>15979</td><td>3825109</td><td>1855.9068</td><td>-4767.481</td><td>100280</td><td>745426</td></tr><tr><td>11</td><td>76251951185</td><td>null</td><td>3.1972e7</td><td>115</td><td>80.75</td><td>96400</td><td>684372</td><td>39.0</td><td>1</td><td>22</td><td>61</td><td>75590</td><td>20810</td><td>35401</td><td>2003</td><td>1765272</td><td>856.8095</td><td>-2199.648</td><td>60705</td><td>459963</td></tr><tr><td>12</td><td>16693618657</td><td>null</td><td>1.566e7</td><td>33</td><td>27.0</td><td>41390</td><td>376760</td><td>13.5</td><td>1</td><td>15</td><td>19</td><td>30330</td><td>11060</td><td>9891</td><td>0</td><td>490251</td><td>237.9633</td><td>-610.851</td><td>21780</td><td>283682</td></tr><tr><td>10</td><td>119233418882</td><td>null</td><td>3.994901e7</td><td>175</td><td>101.0</td><td>133273</td><td>577584</td><td>53.5</td><td>0</td><td>33</td><td>98</td><td>100403</td><td>32870</td><td>55390</td><td>2015</td><td>2745644</td><td>1332.2194</td><td>-3421.637</td><td>93990</td><td>343091</td></tr><tr><td>6</td><td>32124381364</td><td>null</td><td>3.59249e6</td><td>49</td><td>17.0</td><td>17620</td><td>270828</td><td>10.0</td><td>0</td><td>0</td><td>25</td><td>14220</td><td>3400</td><td>15498</td><td>2005</td><td>784529</td><td>380.7219</td><td>-978.017</td><td>11416</td><td>270457</td></tr><tr><td>5</td><td>21679601220</td><td>null</td><td>845000.0</td><td>18</td><td>5.5</td><td>5600</td><td>33335</td><td>3.5</td><td>0</td><td>0</td><td>12</td><td>4840</td><td>760</td><td>5791</td><td>0</td><td>294167</td><td>142.4889</td><td>-366.561</td><td>4490</td><td>24247</td></tr><tr><td>13</td><td>17039600432</td><td>null</td><td>1.7785e7</td><td>18</td><td>20.75</td><td>29040</td><td>77174</td><td>7.0</td><td>0</td><td>7</td><td>10</td><td>22670</td><td>6370</td><td>5844</td><td>3989</td><td>294340</td><td>142.903</td><td>-366.971</td><td>11610</td><td>58007</td></tr></tbody></table></div>"
      ],
      "text/plain": [
       "shape: (9, 21)\n",
       "┌───────┬──────────────┬──────┬─────────────┬───┬───────────┬────────────┬────────────┬────────────┐\n",
       "│ grade ┆ id           ┆ date ┆ price       ┆ … ┆ lat       ┆ long       ┆ sqft_livin ┆ sqft_lot15 │\n",
       "│ ---   ┆ ---          ┆ ---  ┆ ---         ┆   ┆ ---       ┆ ---        ┆ g15        ┆ ---        │\n",
       "│ i64   ┆ i64          ┆ str  ┆ f64         ┆   ┆ f64       ┆ f64        ┆ ---        ┆ i64        │\n",
       "│       ┆              ┆      ┆             ┆   ┆           ┆            ┆ i64        ┆            │\n",
       "╞═══════╪══════════════╪══════╪═════════════╪═══╪═══════════╪════════════╪════════════╪════════════╡\n",
       "│ 7     ┆ 557103841435 ┆ null ┆ 6.2555493e7 ┆ … ┆ 5852.2686 ┆ -15039.113 ┆ 222321     ┆ 1065314    │\n",
       "│ 8     ┆ 458906293607 ┆ null ┆ 7.3016837e7 ┆ … ┆ 5092.9066 ┆ -13079.01  ┆ 233684     ┆ 1522186    │\n",
       "│ 9     ┆ 161415996502 ┆ null ┆ 3.8658799e7 ┆ … ┆ 1855.9068 ┆ -4767.481  ┆ 100280     ┆ 745426     │\n",
       "│ 11    ┆ 76251951185  ┆ null ┆ 3.1972e7    ┆ … ┆ 856.8095  ┆ -2199.648  ┆ 60705      ┆ 459963     │\n",
       "│ 12    ┆ 16693618657  ┆ null ┆ 1.566e7     ┆ … ┆ 237.9633  ┆ -610.851   ┆ 21780      ┆ 283682     │\n",
       "│ 10    ┆ 119233418882 ┆ null ┆ 3.994901e7  ┆ … ┆ 1332.2194 ┆ -3421.637  ┆ 93990      ┆ 343091     │\n",
       "│ 6     ┆ 32124381364  ┆ null ┆ 3.59249e6   ┆ … ┆ 380.7219  ┆ -978.017   ┆ 11416      ┆ 270457     │\n",
       "│ 5     ┆ 21679601220  ┆ null ┆ 845000.0    ┆ … ┆ 142.4889  ┆ -366.561   ┆ 4490       ┆ 24247      │\n",
       "│ 13    ┆ 17039600432  ┆ null ┆ 1.7785e7    ┆ … ┆ 142.903   ┆ -366.971   ┆ 11610      ┆ 58007      │\n",
       "└───────┴──────────────┴──────┴─────────────┴───┴───────────┴────────────┴────────────┴────────────┘"
      ]
     },
     "execution_count": 19,
     "metadata": {},
     "output_type": "execute_result"
    }
   ],
   "source": [
    "(dataFrame).lazy().filter(pl.col(\"bedrooms\")>5).groupby(\"grade\", maintain_order=True).agg(pl.all().sum()).collect()"
   ]
  },
  {
   "cell_type": "code",
   "execution_count": 25,
   "id": "febdc646",
   "metadata": {},
   "outputs": [
    {
     "ename": "TypeError",
     "evalue": "'module' object is not callable",
     "output_type": "error",
     "traceback": [
      "\u001b[0;31m---------------------------------------------------------------------------\u001b[0m",
      "\u001b[0;31mTypeError\u001b[0m                                 Traceback (most recent call last)",
      "\u001b[0;32m/tmp/ipykernel_20865/2790275124.py\u001b[0m in \u001b[0;36m<module>\u001b[0;34m\u001b[0m\n\u001b[1;32m      1\u001b[0m dataFrame.filter(\n\u001b[0;32m----> 2\u001b[0;31m     \u001b[0mpl\u001b[0m\u001b[0;34m.\u001b[0m\u001b[0mcol\u001b[0m\u001b[0;34m(\u001b[0m\u001b[0;34m\"date\"\u001b[0m\u001b[0;34m)\u001b[0m\u001b[0;34m.\u001b[0m\u001b[0mis_between\u001b[0m\u001b[0;34m(\u001b[0m\u001b[0mdatetime\u001b[0m\u001b[0;34m(\u001b[0m\u001b[0;36m2014\u001b[0m\u001b[0;34m,\u001b[0m\u001b[0;36m1\u001b[0m\u001b[0;34m,\u001b[0m\u001b[0;36m2\u001b[0m\u001b[0;34m)\u001b[0m\u001b[0;34m,\u001b[0m\u001b[0mdatetime\u001b[0m\u001b[0;34m(\u001b[0m\u001b[0;36m2019\u001b[0m\u001b[0;34m,\u001b[0m\u001b[0;36m1\u001b[0m\u001b[0;34m,\u001b[0m\u001b[0;36m2\u001b[0m\u001b[0;34m)\u001b[0m\u001b[0;34m)\u001b[0m\u001b[0;34m\u001b[0m\u001b[0;34m\u001b[0m\u001b[0m\n\u001b[0m\u001b[1;32m      3\u001b[0m )\n",
      "\u001b[0;31mTypeError\u001b[0m: 'module' object is not callable"
     ]
    }
   ],
   "source": [
    "dataFrame.filter(\n",
    "    pl.col(\"date\").is_between(datetime(2014,1,2),datetime(2019,1,2))\n",
    ")"
   ]
  },
  {
   "cell_type": "code",
   "execution_count": 26,
   "id": "28b04667",
   "metadata": {},
   "outputs": [
    {
     "ename": "ComputeError",
     "evalue": "filter predicate must be of type `Boolean`, got `str`",
     "output_type": "error",
     "traceback": [
      "\u001b[0;31m---------------------------------------------------------------------------\u001b[0m",
      "\u001b[0;31mComputeError\u001b[0m                              Traceback (most recent call last)",
      "\u001b[0;32m/tmp/ipykernel_20865/811466536.py\u001b[0m in \u001b[0;36m<module>\u001b[0;34m\u001b[0m\n\u001b[0;32m----> 1\u001b[0;31m \u001b[0mdataFrame\u001b[0m\u001b[0;34m.\u001b[0m\u001b[0mfilter\u001b[0m\u001b[0;34m(\u001b[0m\u001b[0mpl\u001b[0m\u001b[0;34m.\u001b[0m\u001b[0mcol\u001b[0m\u001b[0;34m(\u001b[0m\u001b[0;34m\"date\"\u001b[0m\u001b[0;34m)\u001b[0m\u001b[0;34m)\u001b[0m\u001b[0;34m\u001b[0m\u001b[0;34m\u001b[0m\u001b[0m\n\u001b[0m",
      "\u001b[0;32m~/Apps/Anaconda/lib/python3.9/site-packages/polars/dataframe/frame.py\u001b[0m in \u001b[0;36mfilter\u001b[0;34m(self, predicate)\u001b[0m\n\u001b[1;32m   3702\u001b[0m \u001b[0;34m\u001b[0m\u001b[0m\n\u001b[1;32m   3703\u001b[0m         return (\n\u001b[0;32m-> 3704\u001b[0;31m             \u001b[0mself\u001b[0m\u001b[0;34m.\u001b[0m\u001b[0mlazy\u001b[0m\u001b[0;34m(\u001b[0m\u001b[0;34m)\u001b[0m\u001b[0;34m\u001b[0m\u001b[0;34m\u001b[0m\u001b[0m\n\u001b[0m\u001b[1;32m   3705\u001b[0m             \u001b[0;34m.\u001b[0m\u001b[0mfilter\u001b[0m\u001b[0;34m(\u001b[0m\u001b[0mpredicate\u001b[0m\u001b[0;34m)\u001b[0m  \u001b[0;31m# type: ignore[arg-type]\u001b[0m\u001b[0;34m\u001b[0m\u001b[0;34m\u001b[0m\u001b[0m\n\u001b[1;32m   3706\u001b[0m             \u001b[0;34m.\u001b[0m\u001b[0mcollect\u001b[0m\u001b[0;34m(\u001b[0m\u001b[0mno_optimization\u001b[0m\u001b[0;34m=\u001b[0m\u001b[0;32mTrue\u001b[0m\u001b[0;34m)\u001b[0m\u001b[0;34m\u001b[0m\u001b[0;34m\u001b[0m\u001b[0m\n",
      "\u001b[0;32m~/Apps/Anaconda/lib/python3.9/site-packages/polars/lazyframe/frame.py\u001b[0m in \u001b[0;36mcollect\u001b[0;34m(self, type_coercion, predicate_pushdown, projection_pushdown, simplify_expression, no_optimization, slice_pushdown, common_subplan_elimination, streaming)\u001b[0m\n\u001b[1;32m   1501\u001b[0m             \u001b[0mstreaming\u001b[0m\u001b[0;34m,\u001b[0m\u001b[0;34m\u001b[0m\u001b[0;34m\u001b[0m\u001b[0m\n\u001b[1;32m   1502\u001b[0m         )\n\u001b[0;32m-> 1503\u001b[0;31m         \u001b[0;32mreturn\u001b[0m \u001b[0mwrap_df\u001b[0m\u001b[0;34m(\u001b[0m\u001b[0mldf\u001b[0m\u001b[0;34m.\u001b[0m\u001b[0mcollect\u001b[0m\u001b[0;34m(\u001b[0m\u001b[0;34m)\u001b[0m\u001b[0;34m)\u001b[0m\u001b[0;34m\u001b[0m\u001b[0;34m\u001b[0m\u001b[0m\n\u001b[0m\u001b[1;32m   1504\u001b[0m \u001b[0;34m\u001b[0m\u001b[0m\n\u001b[1;32m   1505\u001b[0m     def sink_parquet(\n",
      "\u001b[0;31mComputeError\u001b[0m: filter predicate must be of type `Boolean`, got `str`"
     ]
    }
   ],
   "source": [
    "dataFrame.filter(pl.col(\"date\"))"
   ]
  },
  {
   "cell_type": "code",
   "execution_count": null,
   "id": "77f82384",
   "metadata": {},
   "outputs": [],
   "source": []
  }
 ],
 "metadata": {
  "kernelspec": {
   "display_name": "Python 3 (ipykernel)",
   "language": "python",
   "name": "python3"
  },
  "language_info": {
   "codemirror_mode": {
    "name": "ipython",
    "version": 3
   },
   "file_extension": ".py",
   "mimetype": "text/x-python",
   "name": "python",
   "nbconvert_exporter": "python",
   "pygments_lexer": "ipython3",
   "version": "3.9.13"
  }
 },
 "nbformat": 4,
 "nbformat_minor": 5
}
